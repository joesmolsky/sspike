{
 "cells": [
  {
   "cell_type": "markdown",
   "metadata": {},
   "source": [
    "# Process models by Nakazato et al."
   ]
  },
  {
   "cell_type": "code",
   "execution_count": 1,
   "metadata": {},
   "outputs": [],
   "source": [
    "from sspike import pnut, beer\n",
    "from sspike.snowball import Snowball\n",
    "from sspike.targets import Target"
   ]
  },
  {
   "cell_type": "code",
   "execution_count": 2,
   "metadata": {},
   "outputs": [],
   "source": [
    "model = 'Nakazato_2013'\n",
    "progenitor = {'mass': 20,\n",
    "              'metal': 0.02,\n",
    "              't_rev': 300}\n",
    "transformation = 'NoTransformation'\n",
    "distance = 10"
   ]
  },
  {
   "cell_type": "markdown",
   "metadata": {},
   "source": []
  },
  {
   "cell_type": "code",
   "execution_count": 3,
   "metadata": {},
   "outputs": [
    {
     "name": "stderr",
     "output_type": "stream",
     "text": [
      "/Users/joe/opt/anaconda3/envs/KLSN/lib/python3.8/site-packages/astropy/table/row.py:76: FutureWarning: elementwise == comparison failed and returning scalar instead; this will raise an error or perform elementwise comparison in the future.\n",
      "  return self.as_void() == other\n"
     ]
    },
    {
     "name": "stdout",
     "output_type": "stream",
     "text": [
      "Nak-20-20-300/10kpc-NoTransformation/\n"
     ]
    }
   ],
   "source": [
    "sb = Snowball(model, progenitor, transformation, distance)\n",
    "target = Target('kamland')\n",
    "snowflakes = pnut.snowglobes_events(sb, target)\n",
    "sspikes = pnut.sspike_events(sb, target)"
   ]
  },
  {
   "cell_type": "code",
   "execution_count": 4,
   "metadata": {},
   "outputs": [],
   "source": []
  },
  {
   "cell_type": "code",
   "execution_count": 5,
   "metadata": {},
   "outputs": [],
   "source": [
    "# beer.draft(snowflakes, channels=['ibd', 'e'])"
   ]
  },
  {
   "cell_type": "code",
   "execution_count": 6,
   "metadata": {},
   "outputs": [],
   "source": [
    "# beer.draft(sspikes, channels=['nc'])"
   ]
  },
  {
   "cell_type": "code",
   "execution_count": 7,
   "metadata": {},
   "outputs": [],
   "source": [
    "# beer.draft([snowflakes, sspikes], channels=[['ibd', 'e', 'C'],['nc']])"
   ]
  },
  {
   "cell_type": "code",
   "execution_count": 8,
   "metadata": {},
   "outputs": [],
   "source": [
    "# beer.tab([snowflakes, sspikes], channels=[['ibd', 'e', 'C'],['nc']])"
   ]
  }
 ],
 "metadata": {
  "interpreter": {
   "hash": "55e99dcf35939e854eab4749770e8fc8e199e03bd8c38f7a338e657ceb93f2cb"
  },
  "kernelspec": {
   "display_name": "Python 3.8.11 ('KLSN')",
   "language": "python",
   "name": "python3"
  },
  "language_info": {
   "codemirror_mode": {
    "name": "ipython",
    "version": 3
   },
   "file_extension": ".py",
   "mimetype": "text/x-python",
   "name": "python",
   "nbconvert_exporter": "python",
   "pygments_lexer": "ipython3",
   "version": "3.8.11"
  },
  "orig_nbformat": 4
 },
 "nbformat": 4,
 "nbformat_minor": 2
}
