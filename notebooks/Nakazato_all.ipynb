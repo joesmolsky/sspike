{
 "cells": [
  {
   "cell_type": "markdown",
   "metadata": {},
   "source": [
    "# Plot all Nakazato 2013 models together"
   ]
  },
  {
   "cell_type": "code",
   "execution_count": 1,
   "metadata": {},
   "outputs": [],
   "source": [
    "from os import listdir\n",
    "from os.path import isfile\n",
    "\n",
    "import pandas as pd\n",
    "import plotly.express as px\n",
    "\n",
    "from sspike.targets import Target\n",
    "from sspike.beer import sort_channels"
   ]
  },
  {
   "cell_type": "markdown",
   "metadata": {},
   "source": [
    "### Get file paths to tabulated results"
   ]
  },
  {
   "cell_type": "code",
   "execution_count": 2,
   "metadata": {},
   "outputs": [],
   "source": [
    "# Path to sspike snowball directory.\n",
    "snowball_dir = '/Users/joe/src/gitjoe/sspike/snowballs/'\n",
    "\n",
    "# Simulation list and plot labels.\n",
    "sn_names = ['N13-13-04-100',\n",
    "             'N13-13-04-200',\n",
    "             'N13-13-04-300',\n",
    "             'N13-13-20-100',\n",
    "             'N13-13-20-200',\n",
    "             'N13-13-20-300',\n",
    "             'N13-20-04-100',\n",
    "             'N13-20-04-200',\n",
    "             'N13-20-04-300',\n",
    "             'N13-20-20-100',\n",
    "             'N13-20-20-200',\n",
    "             'N13-20-20-300',\n",
    "             'N13-30-20-100',\n",
    "             'N13-30-20-200',\n",
    "             'N13-30-20-300',\n",
    "             'N13-50-04-100',\n",
    "             'N13-50-04-200',\n",
    "             'N13-50-04-300',\n",
    "             'N13-50-20-100',\n",
    "             'N13-50-20-200',\n",
    "             'N13-50-20-300']\n",
    "\n",
    "distance = 10.\n",
    "\n",
    "# List for filepaths to totals files tabulated using sspike.beer.tab()\n",
    "beer_tabs = []\n",
    "\n",
    "# Folder containing simulation results for each model.\n",
    "for name in sn_names:\n",
    "    sn_dir = f\"{snowball_dir}{name}/\"\n",
    "    # Results for distance of interest.\n",
    "    for d in listdir(sn_dir):\n",
    "        if f\"{distance}kpc\" in d:\n",
    "            file_name = f\"{sn_dir}{d}/totals.txt\"\n",
    "            if isfile(file_name):\n",
    "                beer_tabs.append(file_name)\n",
    "            else:\n",
    "                print(f'File not found!\\n{file_name}')"
   ]
  },
  {
   "cell_type": "markdown",
   "metadata": {},
   "source": [
    "### Set target for channel lists."
   ]
  },
  {
   "cell_type": "code",
   "execution_count": 3,
   "metadata": {},
   "outputs": [],
   "source": [
    "target = Target('kamland')\n",
    "combos = {**sort_channels(target.snow_channels),\n",
    "          **sort_channels(target.nc_channels)}"
   ]
  },
  {
   "cell_type": "markdown",
   "metadata": {},
   "source": [
    "### Read each file into a data frame"
   ]
  },
  {
   "cell_type": "code",
   "execution_count": 4,
   "metadata": {},
   "outputs": [],
   "source": [
    "# Columns for simulation type and events per channel.\n",
    "# TODO: add other simulation properties for sorting.\n",
    "column_names = ['sn_name', 'Channel', 'Mass',\n",
    "                'Metal', 'Revival [ms]', 'Counts']\n",
    "\n",
    "events = pd.DataFrame(columns=column_names)\n",
    "for i, sn in enumerate(sn_names):\n",
    "    # One row for each simulation file.\n",
    "    'N13-20-20-300'\n",
    "    vals = sn.split('-')\n",
    "    mass = vals[1]\n",
    "    z = vals[2]\n",
    "    t = vals[3]\n",
    "\n",
    "    if z == '20':\n",
    "        Z = 'Solar'\n",
    "    else:\n",
    "        Z = 'SMC'\n",
    "\n",
    "    row = {'sn_name': sn, 'Mass': mass, 'Metal': Z, 'Revival [ms]': t}\n",
    "\n",
    "    # Counters for combining flavors by target.\n",
    "    counts = {}\n",
    "    for channel in combos:\n",
    "        counts[channel] = 0.\n",
    "\n",
    "    # Get results from sspike.beer.tab() for each file.\n",
    "    with open(beer_tabs[i], 'r') as f:\n",
    "        lines = f.readlines()\n",
    "\n",
    "    # Sort by data type/processing method.\n",
    "    skip = 0\n",
    "    data_type = None\n",
    "    nc_flav_count = 0\n",
    "\n",
    "    # Check each line in file.\n",
    "    for line in lines:\n",
    "        # Skip blank line separators.\n",
    "        if not line.strip():\n",
    "            continue\n",
    "\n",
    "        # Skip lines that are for checking, but not really of interest here.\n",
    "        if skip:\n",
    "            skip -= 1\n",
    "            continue\n",
    "\n",
    "        # Data types of interest: snow-smeared, sspike-nc.\n",
    "        if len(line.split('-')) == 2:\n",
    "            data_type = line.strip()\n",
    "\n",
    "            # TODO: make this check target channel lengths.\n",
    "            if data_type == 'snow-smeared':\n",
    "                skip = 1\n",
    "            if data_type == 'snow-unsmeared':\n",
    "                skip = 23\n",
    "            if data_type == 'sspike-basic':\n",
    "                skip = 5\n",
    "            if data_type == 'sspike-nc':\n",
    "                skip = 21\n",
    "            continue\n",
    "        \n",
    "        # Get channel name and number of events.\n",
    "        try:\n",
    "            channel, count = line.split(':')\n",
    "        except:\n",
    "            print(f\"ERROR: {line}\")\n",
    "            continue\n",
    "\n",
    "        # Add into counts dictionary for this file.\n",
    "        for column in combos.keys():\n",
    "            if channel in combos[column]:\n",
    "                counts[column] += float(count)\n",
    "                if column == 'p-nc':\n",
    "                    nc_flav_count += 1\n",
    "                break\n",
    "        \n",
    "        # Only looking at 200 keV energy cut for now (skipping 300 keV cut).\n",
    "        if nc_flav_count == 4:\n",
    "            break\n",
    "\n",
    "    for channel in counts:\n",
    "        row['Channel'] = channel\n",
    "        row['Counts'] = counts[channel]\n",
    "        events = events.append(row, ignore_index=True)"
   ]
  },
  {
   "cell_type": "code",
   "execution_count": 5,
   "metadata": {},
   "outputs": [
    {
     "data": {
      "application/vnd.plotly.v1+json": {
       "config": {
        "plotlyServerURL": "https://plot.ly"
       },
       "data": [
        {
         "alignmentgroup": "True",
         "hovertemplate": "Channel=ibd<br>Metal=Solar<br>Mass=13<br>Revival [ms]=%{x}<br>Counts=%{y}<extra></extra>",
         "legendgroup": "ibd",
         "marker": {
          "color": "#636efa",
          "pattern": {
           "shape": ""
          }
         },
         "name": "ibd",
         "offsetgroup": "ibd",
         "orientation": "v",
         "showlegend": true,
         "textposition": "auto",
         "type": "bar",
         "x": [
          "100",
          "200",
          "300"
         ],
         "xaxis": "x5",
         "y": [
          74.87401241930898,
          90.61542169221,
          105.61950825510002
         ],
         "yaxis": "y5"
        },
        {
         "alignmentgroup": "True",
         "hovertemplate": "Channel=ibd<br>Metal=Solar<br>Mass=20<br>Revival [ms]=%{x}<br>Counts=%{y}<extra></extra>",
         "legendgroup": "ibd",
         "marker": {
          "color": "#636efa",
          "pattern": {
           "shape": ""
          }
         },
         "name": "ibd",
         "offsetgroup": "ibd",
         "orientation": "v",
         "showlegend": false,
         "textposition": "auto",
         "type": "bar",
         "x": [
          "100",
          "200",
          "300"
         ],
         "xaxis": "x6",
         "y": [
          70.370666990176,
          81.93045187049199,
          90.4005108441
         ],
         "yaxis": "y6"
        },
        {
         "alignmentgroup": "True",
         "hovertemplate": "Channel=ibd<br>Metal=Solar<br>Mass=30<br>Revival [ms]=%{x}<br>Counts=%{y}<extra></extra>",
         "legendgroup": "ibd",
         "marker": {
          "color": "#636efa",
          "pattern": {
           "shape": ""
          }
         },
         "name": "ibd",
         "offsetgroup": "ibd",
         "orientation": "v",
         "showlegend": false,
         "textposition": "auto",
         "type": "bar",
         "x": [
          "100",
          "200",
          "300"
         ],
         "xaxis": "x7",
         "y": [
          93.94134810057001,
          140.2252441618,
          188.485071928
         ],
         "yaxis": "y7"
        },
        {
         "alignmentgroup": "True",
         "hovertemplate": "Channel=ibd<br>Metal=Solar<br>Mass=50<br>Revival [ms]=%{x}<br>Counts=%{y}<extra></extra>",
         "legendgroup": "ibd",
         "marker": {
          "color": "#636efa",
          "pattern": {
           "shape": ""
          }
         },
         "name": "ibd",
         "offsetgroup": "ibd",
         "orientation": "v",
         "showlegend": false,
         "textposition": "auto",
         "type": "bar",
         "x": [
          "100",
          "200",
          "300"
         ],
         "xaxis": "x8",
         "y": [
          93.00398295357199,
          121.7920384313,
          150.734966624
         ],
         "yaxis": "y8"
        },
        {
         "alignmentgroup": "True",
         "hovertemplate": "Channel=ibd<br>Metal=SMC<br>Mass=13<br>Revival [ms]=%{x}<br>Counts=%{y}<extra></extra>",
         "legendgroup": "ibd",
         "marker": {
          "color": "#636efa",
          "pattern": {
           "shape": ""
          }
         },
         "name": "ibd",
         "offsetgroup": "ibd",
         "orientation": "v",
         "showlegend": false,
         "textposition": "auto",
         "type": "bar",
         "x": [
          "100",
          "200",
          "300"
         ],
         "xaxis": "x",
         "y": [
          74.73315520561101,
          89.99200759750998,
          100.83860839360001
         ],
         "yaxis": "y"
        },
        {
         "alignmentgroup": "True",
         "hovertemplate": "Channel=ibd<br>Metal=SMC<br>Mass=20<br>Revival [ms]=%{x}<br>Counts=%{y}<extra></extra>",
         "legendgroup": "ibd",
         "marker": {
          "color": "#636efa",
          "pattern": {
           "shape": ""
          }
         },
         "name": "ibd",
         "offsetgroup": "ibd",
         "orientation": "v",
         "showlegend": false,
         "textposition": "auto",
         "type": "bar",
         "x": [
          "100",
          "200",
          "300"
         ],
         "xaxis": "x2",
         "y": [
          88.84686440349199,
          108.07109892266,
          123.59267953720001
         ],
         "yaxis": "y2"
        },
        {
         "alignmentgroup": "True",
         "hovertemplate": "Channel=ibd<br>Metal=SMC<br>Mass=50<br>Revival [ms]=%{x}<br>Counts=%{y}<extra></extra>",
         "legendgroup": "ibd",
         "marker": {
          "color": "#636efa",
          "pattern": {
           "shape": ""
          }
         },
         "name": "ibd",
         "offsetgroup": "ibd",
         "orientation": "v",
         "showlegend": false,
         "textposition": "auto",
         "type": "bar",
         "x": [
          "100",
          "200",
          "300"
         ],
         "xaxis": "x4",
         "y": [
          90.11970331435,
          122.244403363,
          155.38736550900003
         ],
         "yaxis": "y4"
        },
        {
         "alignmentgroup": "True",
         "hovertemplate": "Channel=e<br>Metal=Solar<br>Mass=13<br>Revival [ms]=%{x}<br>Counts=%{y}<extra></extra>",
         "legendgroup": "e",
         "marker": {
          "color": "#EF553B",
          "pattern": {
           "shape": ""
          }
         },
         "name": "e",
         "offsetgroup": "e",
         "orientation": "v",
         "showlegend": true,
         "textposition": "auto",
         "type": "bar",
         "x": [
          "100",
          "200",
          "300"
         ],
         "xaxis": "x5",
         "y": [
          7.085882523150028,
          7.85843068598244,
          8.45849582119184
         ],
         "yaxis": "y5"
        },
        {
         "alignmentgroup": "True",
         "hovertemplate": "Channel=e<br>Metal=Solar<br>Mass=20<br>Revival [ms]=%{x}<br>Counts=%{y}<extra></extra>",
         "legendgroup": "e",
         "marker": {
          "color": "#EF553B",
          "pattern": {
           "shape": ""
          }
         },
         "name": "e",
         "offsetgroup": "e",
         "orientation": "v",
         "showlegend": false,
         "textposition": "auto",
         "type": "bar",
         "x": [
          "100",
          "200",
          "300"
         ],
         "xaxis": "x6",
         "y": [
          6.807878422377347,
          7.396754945721491,
          7.759577081951422
         ],
         "yaxis": "y6"
        },
        {
         "alignmentgroup": "True",
         "hovertemplate": "Channel=e<br>Metal=Solar<br>Mass=30<br>Revival [ms]=%{x}<br>Counts=%{y}<extra></extra>",
         "legendgroup": "e",
         "marker": {
          "color": "#EF553B",
          "pattern": {
           "shape": ""
          }
         },
         "name": "e",
         "offsetgroup": "e",
         "orientation": "v",
         "showlegend": false,
         "textposition": "auto",
         "type": "bar",
         "x": [
          "100",
          "200",
          "300"
         ],
         "xaxis": "x7",
         "y": [
          8.395876775172189,
          10.625027502116842,
          12.48762786755373
         ],
         "yaxis": "y7"
        },
        {
         "alignmentgroup": "True",
         "hovertemplate": "Channel=e<br>Metal=Solar<br>Mass=50<br>Revival [ms]=%{x}<br>Counts=%{y}<extra></extra>",
         "legendgroup": "e",
         "marker": {
          "color": "#EF553B",
          "pattern": {
           "shape": ""
          }
         },
         "name": "e",
         "offsetgroup": "e",
         "orientation": "v",
         "showlegend": false,
         "textposition": "auto",
         "type": "bar",
         "x": [
          "100",
          "200",
          "300"
         ],
         "xaxis": "x8",
         "y": [
          8.51074683012457,
          9.830351251705482,
          10.884416886801795
         ],
         "yaxis": "y8"
        },
        {
         "alignmentgroup": "True",
         "hovertemplate": "Channel=e<br>Metal=SMC<br>Mass=13<br>Revival [ms]=%{x}<br>Counts=%{y}<extra></extra>",
         "legendgroup": "e",
         "marker": {
          "color": "#EF553B",
          "pattern": {
           "shape": ""
          }
         },
         "name": "e",
         "offsetgroup": "e",
         "orientation": "v",
         "showlegend": false,
         "textposition": "auto",
         "type": "bar",
         "x": [
          "100",
          "200",
          "300"
         ],
         "xaxis": "x",
         "y": [
          7.093000413030062,
          7.853240942725028,
          8.322411411806343
         ],
         "yaxis": "y"
        },
        {
         "alignmentgroup": "True",
         "hovertemplate": "Channel=e<br>Metal=SMC<br>Mass=20<br>Revival [ms]=%{x}<br>Counts=%{y}<extra></extra>",
         "legendgroup": "e",
         "marker": {
          "color": "#EF553B",
          "pattern": {
           "shape": ""
          }
         },
         "name": "e",
         "offsetgroup": "e",
         "orientation": "v",
         "showlegend": false,
         "textposition": "auto",
         "type": "bar",
         "x": [
          "100",
          "200",
          "300"
         ],
         "xaxis": "x2",
         "y": [
          8.240955898957054,
          9.172681932722085,
          9.78012868905079
         ],
         "yaxis": "y2"
        },
        {
         "alignmentgroup": "True",
         "hovertemplate": "Channel=e<br>Metal=SMC<br>Mass=50<br>Revival [ms]=%{x}<br>Counts=%{y}<extra></extra>",
         "legendgroup": "e",
         "marker": {
          "color": "#EF553B",
          "pattern": {
           "shape": ""
          }
         },
         "name": "e",
         "offsetgroup": "e",
         "orientation": "v",
         "showlegend": false,
         "textposition": "auto",
         "type": "bar",
         "x": [
          "100",
          "200",
          "300"
         ],
         "xaxis": "x4",
         "y": [
          8.459681284519409,
          9.952011346656048,
          11.21662048906162
         ],
         "yaxis": "y4"
        },
        {
         "alignmentgroup": "True",
         "hovertemplate": "Channel=C12-nue<br>Metal=Solar<br>Mass=13<br>Revival [ms]=%{x}<br>Counts=%{y}<extra></extra>",
         "legendgroup": "C12-nue",
         "marker": {
          "color": "#00cc96",
          "pattern": {
           "shape": ""
          }
         },
         "name": "C12-nue",
         "offsetgroup": "C12-nue",
         "orientation": "v",
         "showlegend": true,
         "textposition": "auto",
         "type": "bar",
         "x": [
          "100",
          "200",
          "300"
         ],
         "xaxis": "x5",
         "y": [
          0.6214501247404228,
          1.213656297813967,
          2.250581158969909
         ],
         "yaxis": "y5"
        },
        {
         "alignmentgroup": "True",
         "hovertemplate": "Channel=C12-nue<br>Metal=Solar<br>Mass=20<br>Revival [ms]=%{x}<br>Counts=%{y}<extra></extra>",
         "legendgroup": "C12-nue",
         "marker": {
          "color": "#00cc96",
          "pattern": {
           "shape": ""
          }
         },
         "name": "C12-nue",
         "offsetgroup": "C12-nue",
         "orientation": "v",
         "showlegend": false,
         "textposition": "auto",
         "type": "bar",
         "x": [
          "100",
          "200",
          "300"
         ],
         "xaxis": "x6",
         "y": [
          0.5311133362183033,
          0.8770543790268658,
          1.2798163533948919
         ],
         "yaxis": "y6"
        },
        {
         "alignmentgroup": "True",
         "hovertemplate": "Channel=C12-nue<br>Metal=Solar<br>Mass=30<br>Revival [ms]=%{x}<br>Counts=%{y}<extra></extra>",
         "legendgroup": "C12-nue",
         "marker": {
          "color": "#00cc96",
          "pattern": {
           "shape": ""
          }
         },
         "name": "C12-nue",
         "offsetgroup": "C12-nue",
         "orientation": "v",
         "showlegend": false,
         "textposition": "auto",
         "type": "bar",
         "x": [
          "100",
          "200",
          "300"
         ],
         "xaxis": "x7",
         "y": [
          1.0267855469546618,
          3.5533999111270584,
          7.826551532387964
         ],
         "yaxis": "y7"
        },
        {
         "alignmentgroup": "True",
         "hovertemplate": "Channel=C12-nue<br>Metal=Solar<br>Mass=50<br>Revival [ms]=%{x}<br>Counts=%{y}<extra></extra>",
         "legendgroup": "C12-nue",
         "marker": {
          "color": "#00cc96",
          "pattern": {
           "shape": ""
          }
         },
         "name": "C12-nue",
         "offsetgroup": "C12-nue",
         "orientation": "v",
         "showlegend": false,
         "textposition": "auto",
         "type": "bar",
         "x": [
          "100",
          "200",
          "300"
         ],
         "xaxis": "x8",
         "y": [
          1.0839061734896067,
          2.5545255383933028,
          5.290461547216732
         ],
         "yaxis": "y8"
        },
        {
         "alignmentgroup": "True",
         "hovertemplate": "Channel=C12-nue<br>Metal=SMC<br>Mass=13<br>Revival [ms]=%{x}<br>Counts=%{y}<extra></extra>",
         "legendgroup": "C12-nue",
         "marker": {
          "color": "#00cc96",
          "pattern": {
           "shape": ""
          }
         },
         "name": "C12-nue",
         "offsetgroup": "C12-nue",
         "orientation": "v",
         "showlegend": false,
         "textposition": "auto",
         "type": "bar",
         "x": [
          "100",
          "200",
          "300"
         ],
         "xaxis": "x",
         "y": [
          0.599775655841235,
          1.1341363199746115,
          1.6879345546915054
         ],
         "yaxis": "y"
        },
        {
         "alignmentgroup": "True",
         "hovertemplate": "Channel=C12-nue<br>Metal=SMC<br>Mass=20<br>Revival [ms]=%{x}<br>Counts=%{y}<extra></extra>",
         "legendgroup": "C12-nue",
         "marker": {
          "color": "#00cc96",
          "pattern": {
           "shape": ""
          }
         },
         "name": "C12-nue",
         "offsetgroup": "C12-nue",
         "orientation": "v",
         "showlegend": false,
         "textposition": "auto",
         "type": "bar",
         "x": [
          "100",
          "200",
          "300"
         ],
         "xaxis": "x2",
         "y": [
          0.9898802659586532,
          1.7054334701326719,
          2.7040134963707607
         ],
         "yaxis": "y2"
        },
        {
         "alignmentgroup": "True",
         "hovertemplate": "Channel=C12-nue<br>Metal=SMC<br>Mass=50<br>Revival [ms]=%{x}<br>Counts=%{y}<extra></extra>",
         "legendgroup": "C12-nue",
         "marker": {
          "color": "#00cc96",
          "pattern": {
           "shape": ""
          }
         },
         "name": "C12-nue",
         "offsetgroup": "C12-nue",
         "orientation": "v",
         "showlegend": false,
         "textposition": "auto",
         "type": "bar",
         "x": [
          "100",
          "200",
          "300"
         ],
         "xaxis": "x4",
         "y": [
          0.7981193388145552,
          2.3622678994730224,
          5.310511171076258
         ],
         "yaxis": "y4"
        },
        {
         "alignmentgroup": "True",
         "hovertemplate": "Channel=C12-nuebar<br>Metal=Solar<br>Mass=13<br>Revival [ms]=%{x}<br>Counts=%{y}<extra></extra>",
         "legendgroup": "C12-nuebar",
         "marker": {
          "color": "#ab63fa",
          "pattern": {
           "shape": ""
          }
         },
         "name": "C12-nuebar",
         "offsetgroup": "C12-nuebar",
         "orientation": "v",
         "showlegend": true,
         "textposition": "auto",
         "type": "bar",
         "x": [
          "100",
          "200",
          "300"
         ],
         "xaxis": "x5",
         "y": [
          1.285532974877253,
          2.0616533754886084,
          3.064447134325929
         ],
         "yaxis": "y5"
        },
        {
         "alignmentgroup": "True",
         "hovertemplate": "Channel=C12-nuebar<br>Metal=Solar<br>Mass=20<br>Revival [ms]=%{x}<br>Counts=%{y}<extra></extra>",
         "legendgroup": "C12-nuebar",
         "marker": {
          "color": "#ab63fa",
          "pattern": {
           "shape": ""
          }
         },
         "name": "C12-nuebar",
         "offsetgroup": "C12-nuebar",
         "orientation": "v",
         "showlegend": false,
         "textposition": "auto",
         "type": "bar",
         "x": [
          "100",
          "200",
          "300"
         ],
         "xaxis": "x6",
         "y": [
          1.1388427239084247,
          1.6525828494146566,
          2.118525304051743
         ],
         "yaxis": "y6"
        },
        {
         "alignmentgroup": "True",
         "hovertemplate": "Channel=C12-nuebar<br>Metal=Solar<br>Mass=30<br>Revival [ms]=%{x}<br>Counts=%{y}<extra></extra>",
         "legendgroup": "C12-nuebar",
         "marker": {
          "color": "#ab63fa",
          "pattern": {
           "shape": ""
          }
         },
         "name": "C12-nuebar",
         "offsetgroup": "C12-nuebar",
         "orientation": "v",
         "showlegend": false,
         "textposition": "auto",
         "type": "bar",
         "x": [
          "100",
          "200",
          "300"
         ],
         "xaxis": "x7",
         "y": [
          1.9588542964721083,
          4.738802394198912,
          8.513566922556967
         ],
         "yaxis": "y7"
        },
        {
         "alignmentgroup": "True",
         "hovertemplate": "Channel=C12-nuebar<br>Metal=Solar<br>Mass=50<br>Revival [ms]=%{x}<br>Counts=%{y}<extra></extra>",
         "legendgroup": "C12-nuebar",
         "marker": {
          "color": "#ab63fa",
          "pattern": {
           "shape": ""
          }
         },
         "name": "C12-nuebar",
         "offsetgroup": "C12-nuebar",
         "orientation": "v",
         "showlegend": false,
         "textposition": "auto",
         "type": "bar",
         "x": [
          "100",
          "200",
          "300"
         ],
         "xaxis": "x8",
         "y": [
          1.8173761829973403,
          3.4944129463436084,
          5.845531497363497
         ],
         "yaxis": "y8"
        },
        {
         "alignmentgroup": "True",
         "hovertemplate": "Channel=C12-nuebar<br>Metal=SMC<br>Mass=13<br>Revival [ms]=%{x}<br>Counts=%{y}<extra></extra>",
         "legendgroup": "C12-nuebar",
         "marker": {
          "color": "#ab63fa",
          "pattern": {
           "shape": ""
          }
         },
         "name": "C12-nuebar",
         "offsetgroup": "C12-nuebar",
         "orientation": "v",
         "showlegend": false,
         "textposition": "auto",
         "type": "bar",
         "x": [
          "100",
          "200",
          "300"
         ],
         "xaxis": "x",
         "y": [
          1.2780028207818876,
          2.0077263108262344,
          2.625256326467921
         ],
         "yaxis": "y"
        },
        {
         "alignmentgroup": "True",
         "hovertemplate": "Channel=C12-nuebar<br>Metal=SMC<br>Mass=20<br>Revival [ms]=%{x}<br>Counts=%{y}<extra></extra>",
         "legendgroup": "C12-nuebar",
         "marker": {
          "color": "#ab63fa",
          "pattern": {
           "shape": ""
          }
         },
         "name": "C12-nuebar",
         "offsetgroup": "C12-nuebar",
         "orientation": "v",
         "showlegend": false,
         "textposition": "auto",
         "type": "bar",
         "x": [
          "100",
          "200",
          "300"
         ],
         "xaxis": "x2",
         "y": [
          1.6843105158612184,
          2.640857291834861,
          3.6616818180552233
         ],
         "yaxis": "y2"
        },
        {
         "alignmentgroup": "True",
         "hovertemplate": "Channel=C12-nuebar<br>Metal=SMC<br>Mass=50<br>Revival [ms]=%{x}<br>Counts=%{y}<extra></extra>",
         "legendgroup": "C12-nuebar",
         "marker": {
          "color": "#ab63fa",
          "pattern": {
           "shape": ""
          }
         },
         "name": "C12-nuebar",
         "offsetgroup": "C12-nuebar",
         "orientation": "v",
         "showlegend": false,
         "textposition": "auto",
         "type": "bar",
         "x": [
          "100",
          "200",
          "300"
         ],
         "xaxis": "x4",
         "y": [
          1.6012525560921667,
          3.4351265229589365,
          6.007059123115311
         ],
         "yaxis": "y4"
        },
        {
         "alignmentgroup": "True",
         "hovertemplate": "Channel=C12-nc<br>Metal=Solar<br>Mass=13<br>Revival [ms]=%{x}<br>Counts=%{y}<extra></extra>",
         "legendgroup": "C12-nc",
         "marker": {
          "color": "#FFA15A",
          "pattern": {
           "shape": ""
          }
         },
         "name": "C12-nc",
         "offsetgroup": "C12-nc",
         "orientation": "v",
         "showlegend": true,
         "textposition": "auto",
         "type": "bar",
         "x": [
          "100",
          "200",
          "300"
         ],
         "xaxis": "x5",
         "y": [
          8.80641498726552,
          10.659965997977531,
          12.385710549156162
         ],
         "yaxis": "y5"
        },
        {
         "alignmentgroup": "True",
         "hovertemplate": "Channel=C12-nc<br>Metal=Solar<br>Mass=20<br>Revival [ms]=%{x}<br>Counts=%{y}<extra></extra>",
         "legendgroup": "C12-nc",
         "marker": {
          "color": "#FFA15A",
          "pattern": {
           "shape": ""
          }
         },
         "name": "C12-nc",
         "offsetgroup": "C12-nc",
         "orientation": "v",
         "showlegend": false,
         "textposition": "auto",
         "type": "bar",
         "x": [
          "100",
          "200",
          "300"
         ],
         "xaxis": "x6",
         "y": [
          8.19185931630863,
          9.514164846189656,
          10.411020148262583
         ],
         "yaxis": "y6"
        },
        {
         "alignmentgroup": "True",
         "hovertemplate": "Channel=C12-nc<br>Metal=Solar<br>Mass=30<br>Revival [ms]=%{x}<br>Counts=%{y}<extra></extra>",
         "legendgroup": "C12-nc",
         "marker": {
          "color": "#FFA15A",
          "pattern": {
           "shape": ""
          }
         },
         "name": "C12-nc",
         "offsetgroup": "C12-nc",
         "orientation": "v",
         "showlegend": false,
         "textposition": "auto",
         "type": "bar",
         "x": [
          "100",
          "200",
          "300"
         ],
         "xaxis": "x7",
         "y": [
          11.75101110034575,
          19.30986832252895,
          26.6417529426113
         ],
         "yaxis": "y7"
        },
        {
         "alignmentgroup": "True",
         "hovertemplate": "Channel=C12-nc<br>Metal=Solar<br>Mass=50<br>Revival [ms]=%{x}<br>Counts=%{y}<extra></extra>",
         "legendgroup": "C12-nc",
         "marker": {
          "color": "#FFA15A",
          "pattern": {
           "shape": ""
          }
         },
         "name": "C12-nc",
         "offsetgroup": "C12-nc",
         "orientation": "v",
         "showlegend": false,
         "textposition": "auto",
         "type": "bar",
         "x": [
          "100",
          "200",
          "300"
         ],
         "xaxis": "x8",
         "y": [
          12.05336351106808,
          15.979709495565594,
          19.82307543708315
         ],
         "yaxis": "y8"
        },
        {
         "alignmentgroup": "True",
         "hovertemplate": "Channel=C12-nc<br>Metal=SMC<br>Mass=13<br>Revival [ms]=%{x}<br>Counts=%{y}<extra></extra>",
         "legendgroup": "C12-nc",
         "marker": {
          "color": "#FFA15A",
          "pattern": {
           "shape": ""
          }
         },
         "name": "C12-nc",
         "offsetgroup": "C12-nc",
         "orientation": "v",
         "showlegend": false,
         "textposition": "auto",
         "type": "bar",
         "x": [
          "100",
          "200",
          "300"
         ],
         "xaxis": "x",
         "y": [
          8.805740634595201,
          10.617290330268336,
          11.795879304752109
         ],
         "yaxis": "y"
        },
        {
         "alignmentgroup": "True",
         "hovertemplate": "Channel=C12-nc<br>Metal=SMC<br>Mass=20<br>Revival [ms]=%{x}<br>Counts=%{y}<extra></extra>",
         "legendgroup": "C12-nc",
         "marker": {
          "color": "#FFA15A",
          "pattern": {
           "shape": ""
          }
         },
         "name": "C12-nc",
         "offsetgroup": "C12-nc",
         "orientation": "v",
         "showlegend": false,
         "textposition": "auto",
         "type": "bar",
         "x": [
          "100",
          "200",
          "300"
         ],
         "xaxis": "x2",
         "y": [
          11.490973292610034,
          13.914379434342607,
          15.80744457839144
         ],
         "yaxis": "y2"
        },
        {
         "alignmentgroup": "True",
         "hovertemplate": "Channel=C12-nc<br>Metal=SMC<br>Mass=50<br>Revival [ms]=%{x}<br>Counts=%{y}<extra></extra>",
         "legendgroup": "C12-nc",
         "marker": {
          "color": "#FFA15A",
          "pattern": {
           "shape": ""
          }
         },
         "name": "C12-nc",
         "offsetgroup": "C12-nc",
         "orientation": "v",
         "showlegend": false,
         "textposition": "auto",
         "type": "bar",
         "x": [
          "100",
          "200",
          "300"
         ],
         "xaxis": "x4",
         "y": [
          10.627936216193131,
          15.470551943181004,
          20.026971279191358
         ],
         "yaxis": "y4"
        },
        {
         "alignmentgroup": "True",
         "hovertemplate": "Channel=C13-nue<br>Metal=Solar<br>Mass=13<br>Revival [ms]=%{x}<br>Counts=%{y}<extra></extra>",
         "legendgroup": "C13-nue",
         "marker": {
          "color": "#19d3f3",
          "pattern": {
           "shape": ""
          }
         },
         "name": "C13-nue",
         "offsetgroup": "C13-nue",
         "orientation": "v",
         "showlegend": true,
         "textposition": "auto",
         "type": "bar",
         "x": [
          "100",
          "200",
          "300"
         ],
         "xaxis": "x5",
         "y": [
          0.13118805588302387,
          0.16197743510033208,
          0.19385967831814993
         ],
         "yaxis": "y5"
        },
        {
         "alignmentgroup": "True",
         "hovertemplate": "Channel=C13-nue<br>Metal=Solar<br>Mass=20<br>Revival [ms]=%{x}<br>Counts=%{y}<extra></extra>",
         "legendgroup": "C13-nue",
         "marker": {
          "color": "#19d3f3",
          "pattern": {
           "shape": ""
          }
         },
         "name": "C13-nue",
         "offsetgroup": "C13-nue",
         "orientation": "v",
         "showlegend": false,
         "textposition": "auto",
         "type": "bar",
         "x": [
          "100",
          "200",
          "300"
         ],
         "xaxis": "x6",
         "y": [
          0.12360319595597134,
          0.1457955956435102,
          0.1635392654948288
         ],
         "yaxis": "y6"
        },
        {
         "alignmentgroup": "True",
         "hovertemplate": "Channel=C13-nue<br>Metal=Solar<br>Mass=30<br>Revival [ms]=%{x}<br>Counts=%{y}<extra></extra>",
         "legendgroup": "C13-nue",
         "marker": {
          "color": "#19d3f3",
          "pattern": {
           "shape": ""
          }
         },
         "name": "C13-nue",
         "offsetgroup": "C13-nue",
         "orientation": "v",
         "showlegend": false,
         "textposition": "auto",
         "type": "bar",
         "x": [
          "100",
          "200",
          "300"
         ],
         "xaxis": "x7",
         "y": [
          0.1654257635278355,
          0.2556184387532139,
          0.3567145176683174
         ],
         "yaxis": "y7"
        },
        {
         "alignmentgroup": "True",
         "hovertemplate": "Channel=C13-nue<br>Metal=Solar<br>Mass=50<br>Revival [ms]=%{x}<br>Counts=%{y}<extra></extra>",
         "legendgroup": "C13-nue",
         "marker": {
          "color": "#19d3f3",
          "pattern": {
           "shape": ""
          }
         },
         "name": "C13-nue",
         "offsetgroup": "C13-nue",
         "orientation": "v",
         "showlegend": false,
         "textposition": "auto",
         "type": "bar",
         "x": [
          "100",
          "200",
          "300"
         ],
         "xaxis": "x8",
         "y": [
          0.1673789655518502,
          0.224418108923118,
          0.2864650498897583
         ],
         "yaxis": "y8"
        },
        {
         "alignmentgroup": "True",
         "hovertemplate": "Channel=C13-nue<br>Metal=SMC<br>Mass=13<br>Revival [ms]=%{x}<br>Counts=%{y}<extra></extra>",
         "legendgroup": "C13-nue",
         "marker": {
          "color": "#19d3f3",
          "pattern": {
           "shape": ""
          }
         },
         "name": "C13-nue",
         "offsetgroup": "C13-nue",
         "orientation": "v",
         "showlegend": false,
         "textposition": "auto",
         "type": "bar",
         "x": [
          "100",
          "200",
          "300"
         ],
         "xaxis": "x",
         "y": [
          0.13063330898846115,
          0.1600613011543701,
          0.18258051430305
         ],
         "yaxis": "y"
        },
        {
         "alignmentgroup": "True",
         "hovertemplate": "Channel=C13-nue<br>Metal=SMC<br>Mass=20<br>Revival [ms]=%{x}<br>Counts=%{y}<extra></extra>",
         "legendgroup": "C13-nue",
         "marker": {
          "color": "#19d3f3",
          "pattern": {
           "shape": ""
          }
         },
         "name": "C13-nue",
         "offsetgroup": "C13-nue",
         "orientation": "v",
         "showlegend": false,
         "textposition": "auto",
         "type": "bar",
         "x": [
          "100",
          "200",
          "300"
         ],
         "xaxis": "x2",
         "y": [
          0.1604403456835229,
          0.19736313140616082,
          0.2303299115505344
         ],
         "yaxis": "y2"
        },
        {
         "alignmentgroup": "True",
         "hovertemplate": "Channel=C13-nue<br>Metal=SMC<br>Mass=50<br>Revival [ms]=%{x}<br>Counts=%{y}<extra></extra>",
         "legendgroup": "C13-nue",
         "marker": {
          "color": "#19d3f3",
          "pattern": {
           "shape": ""
          }
         },
         "name": "C13-nue",
         "offsetgroup": "C13-nue",
         "orientation": "v",
         "showlegend": false,
         "textposition": "auto",
         "type": "bar",
         "x": [
          "100",
          "200",
          "300"
         ],
         "xaxis": "x4",
         "y": [
          0.15911301501788966,
          0.22224584526560517,
          0.29337729081135816
         ],
         "yaxis": "y4"
        },
        {
         "alignmentgroup": "True",
         "hovertemplate": "Channel=C13-nc<br>Metal=Solar<br>Mass=13<br>Revival [ms]=%{x}<br>Counts=%{y}<extra></extra>",
         "legendgroup": "C13-nc",
         "marker": {
          "color": "#FF6692",
          "pattern": {
           "shape": ""
          }
         },
         "name": "C13-nc",
         "offsetgroup": "C13-nc",
         "orientation": "v",
         "showlegend": true,
         "textposition": "auto",
         "type": "bar",
         "x": [
          "100",
          "200",
          "300"
         ],
         "xaxis": "x5",
         "y": [
          0.40692366231999993,
          0.4658964015999996,
          0.5129254272799999
         ],
         "yaxis": "y5"
        },
        {
         "alignmentgroup": "True",
         "hovertemplate": "Channel=C13-nc<br>Metal=Solar<br>Mass=20<br>Revival [ms]=%{x}<br>Counts=%{y}<extra></extra>",
         "legendgroup": "C13-nc",
         "marker": {
          "color": "#FF6692",
          "pattern": {
           "shape": ""
          }
         },
         "name": "C13-nc",
         "offsetgroup": "C13-nc",
         "orientation": "v",
         "showlegend": false,
         "textposition": "auto",
         "type": "bar",
         "x": [
          "100",
          "200",
          "300"
         ],
         "xaxis": "x6",
         "y": [
          0.38507667127999906,
          0.42926818614399986,
          0.45619306823999944
         ],
         "yaxis": "y6"
        },
        {
         "alignmentgroup": "True",
         "hovertemplate": "Channel=C13-nc<br>Metal=Solar<br>Mass=30<br>Revival [ms]=%{x}<br>Counts=%{y}<extra></extra>",
         "legendgroup": "C13-nc",
         "marker": {
          "color": "#FF6692",
          "pattern": {
           "shape": ""
          }
         },
         "name": "C13-nc",
         "offsetgroup": "C13-nc",
         "orientation": "v",
         "showlegend": false,
         "textposition": "auto",
         "type": "bar",
         "x": [
          "100",
          "200",
          "300"
         ],
         "xaxis": "x7",
         "y": [
          0.50303205512,
          0.7030881659199995,
          0.8762112581599997
         ],
         "yaxis": "y7"
        },
        {
         "alignmentgroup": "True",
         "hovertemplate": "Channel=C13-nc<br>Metal=Solar<br>Mass=50<br>Revival [ms]=%{x}<br>Counts=%{y}<extra></extra>",
         "legendgroup": "C13-nc",
         "marker": {
          "color": "#FF6692",
          "pattern": {
           "shape": ""
          }
         },
         "name": "C13-nc",
         "offsetgroup": "C13-nc",
         "orientation": "v",
         "showlegend": false,
         "textposition": "auto",
         "type": "bar",
         "x": [
          "100",
          "200",
          "300"
         ],
         "xaxis": "x8",
         "y": [
          0.5139236121599992,
          0.6245716416799995,
          0.7180261586399999
         ],
         "yaxis": "y8"
        },
        {
         "alignmentgroup": "True",
         "hovertemplate": "Channel=C13-nc<br>Metal=SMC<br>Mass=13<br>Revival [ms]=%{x}<br>Counts=%{y}<extra></extra>",
         "legendgroup": "C13-nc",
         "marker": {
          "color": "#FF6692",
          "pattern": {
           "shape": ""
          }
         },
         "name": "C13-nc",
         "offsetgroup": "C13-nc",
         "orientation": "v",
         "showlegend": false,
         "textposition": "auto",
         "type": "bar",
         "x": [
          "100",
          "200",
          "300"
         ],
         "xaxis": "x",
         "y": [
          0.40632518119199934,
          0.46446803480000004,
          0.4997123023199995
         ],
         "yaxis": "y"
        },
        {
         "alignmentgroup": "True",
         "hovertemplate": "Channel=C13-nc<br>Metal=SMC<br>Mass=20<br>Revival [ms]=%{x}<br>Counts=%{y}<extra></extra>",
         "legendgroup": "C13-nc",
         "marker": {
          "color": "#FF6692",
          "pattern": {
           "shape": ""
          }
         },
         "name": "C13-nc",
         "offsetgroup": "C13-nc",
         "orientation": "v",
         "showlegend": false,
         "textposition": "auto",
         "type": "bar",
         "x": [
          "100",
          "200",
          "300"
         ],
         "xaxis": "x2",
         "y": [
          0.4934696149599995,
          0.5684302892799998,
          0.6207413195199994
         ],
         "yaxis": "y2"
        },
        {
         "alignmentgroup": "True",
         "hovertemplate": "Channel=C13-nc<br>Metal=SMC<br>Mass=50<br>Revival [ms]=%{x}<br>Counts=%{y}<extra></extra>",
         "legendgroup": "C13-nc",
         "marker": {
          "color": "#FF6692",
          "pattern": {
           "shape": ""
          }
         },
         "name": "C13-nc",
         "offsetgroup": "C13-nc",
         "orientation": "v",
         "showlegend": false,
         "textposition": "auto",
         "type": "bar",
         "x": [
          "100",
          "200",
          "300"
         ],
         "xaxis": "x4",
         "y": [
          0.4906353564,
          0.6214332549599997,
          0.73349120208
         ],
         "yaxis": "y4"
        },
        {
         "alignmentgroup": "True",
         "hovertemplate": "Channel=p-nc<br>Metal=Solar<br>Mass=13<br>Revival [ms]=%{x}<br>Counts=%{y}<extra></extra>",
         "legendgroup": "p-nc",
         "marker": {
          "color": "#B6E880",
          "pattern": {
           "shape": ""
          }
         },
         "name": "p-nc",
         "offsetgroup": "p-nc",
         "orientation": "v",
         "showlegend": true,
         "textposition": "auto",
         "type": "bar",
         "x": [
          "100",
          "200",
          "300"
         ],
         "xaxis": "x5",
         "y": [
          1.9242386853123208,
          2.3970997273191323,
          3.0313713627282928
         ],
         "yaxis": "y5"
        },
        {
         "alignmentgroup": "True",
         "hovertemplate": "Channel=p-nc<br>Metal=Solar<br>Mass=20<br>Revival [ms]=%{x}<br>Counts=%{y}<extra></extra>",
         "legendgroup": "p-nc",
         "marker": {
          "color": "#B6E880",
          "pattern": {
           "shape": ""
          }
         },
         "name": "p-nc",
         "offsetgroup": "p-nc",
         "orientation": "v",
         "showlegend": false,
         "textposition": "auto",
         "type": "bar",
         "x": [
          "100",
          "200",
          "300"
         ],
         "xaxis": "x6",
         "y": [
          1.7689160200390939,
          2.0563646108404177,
          2.2765659943716283
         ],
         "yaxis": "y6"
        },
        {
         "alignmentgroup": "True",
         "hovertemplate": "Channel=p-nc<br>Metal=Solar<br>Mass=30<br>Revival [ms]=%{x}<br>Counts=%{y}<extra></extra>",
         "legendgroup": "p-nc",
         "marker": {
          "color": "#B6E880",
          "pattern": {
           "shape": ""
          }
         },
         "name": "p-nc",
         "offsetgroup": "p-nc",
         "orientation": "v",
         "showlegend": false,
         "textposition": "auto",
         "type": "bar",
         "x": [
          "100",
          "200",
          "300"
         ],
         "xaxis": "x7",
         "y": [
          2.8982774000332023,
          6.318441117863261,
          10.398259484736872
         ],
         "yaxis": "y7"
        },
        {
         "alignmentgroup": "True",
         "hovertemplate": "Channel=p-nc<br>Metal=Solar<br>Mass=50<br>Revival [ms]=%{x}<br>Counts=%{y}<extra></extra>",
         "legendgroup": "p-nc",
         "marker": {
          "color": "#B6E880",
          "pattern": {
           "shape": ""
          }
         },
         "name": "p-nc",
         "offsetgroup": "p-nc",
         "orientation": "v",
         "showlegend": false,
         "textposition": "auto",
         "type": "bar",
         "x": [
          "100",
          "200",
          "300"
         ],
         "xaxis": "x8",
         "y": [
          3.3355752316320486,
          4.748631352420153,
          6.726253323846485
         ],
         "yaxis": "y8"
        },
        {
         "alignmentgroup": "True",
         "hovertemplate": "Channel=p-nc<br>Metal=SMC<br>Mass=13<br>Revival [ms]=%{x}<br>Counts=%{y}<extra></extra>",
         "legendgroup": "p-nc",
         "marker": {
          "color": "#B6E880",
          "pattern": {
           "shape": ""
          }
         },
         "name": "p-nc",
         "offsetgroup": "p-nc",
         "orientation": "v",
         "showlegend": false,
         "textposition": "auto",
         "type": "bar",
         "x": [
          "100",
          "200",
          "300"
         ],
         "xaxis": "x",
         "y": [
          1.9441435976453427,
          2.396766644262584,
          2.7173658367517244
         ],
         "yaxis": "y"
        },
        {
         "alignmentgroup": "True",
         "hovertemplate": "Channel=p-nc<br>Metal=SMC<br>Mass=20<br>Revival [ms]=%{x}<br>Counts=%{y}<extra></extra>",
         "legendgroup": "p-nc",
         "marker": {
          "color": "#B6E880",
          "pattern": {
           "shape": ""
          }
         },
         "name": "p-nc",
         "offsetgroup": "p-nc",
         "orientation": "v",
         "showlegend": false,
         "textposition": "auto",
         "type": "bar",
         "x": [
          "100",
          "200",
          "300"
         ],
         "xaxis": "x2",
         "y": [
          3.1684558834468426,
          3.820058765869647,
          4.431233651478066
         ],
         "yaxis": "y2"
        },
        {
         "alignmentgroup": "True",
         "hovertemplate": "Channel=p-nc<br>Metal=SMC<br>Mass=50<br>Revival [ms]=%{x}<br>Counts=%{y}<extra></extra>",
         "legendgroup": "p-nc",
         "marker": {
          "color": "#B6E880",
          "pattern": {
           "shape": ""
          }
         },
         "name": "p-nc",
         "offsetgroup": "p-nc",
         "orientation": "v",
         "showlegend": false,
         "textposition": "auto",
         "type": "bar",
         "x": [
          "100",
          "200",
          "300"
         ],
         "xaxis": "x4",
         "y": [
          2.2375515202517238,
          4.11367338867494,
          6.403542886834684
         ],
         "yaxis": "y4"
        }
       ],
       "layout": {
        "annotations": [
         {
          "font": {},
          "showarrow": false,
          "text": "Mass=13",
          "x": 0.11499999999999999,
          "xanchor": "center",
          "xref": "paper",
          "y": 1,
          "yanchor": "bottom",
          "yref": "paper"
         },
         {
          "font": {},
          "showarrow": false,
          "text": "Mass=20",
          "x": 0.365,
          "xanchor": "center",
          "xref": "paper",
          "y": 1,
          "yanchor": "bottom",
          "yref": "paper"
         },
         {
          "font": {},
          "showarrow": false,
          "text": "Mass=30",
          "x": 0.615,
          "xanchor": "center",
          "xref": "paper",
          "y": 1,
          "yanchor": "bottom",
          "yref": "paper"
         },
         {
          "font": {},
          "showarrow": false,
          "text": "Mass=50",
          "x": 0.865,
          "xanchor": "center",
          "xref": "paper",
          "y": 1,
          "yanchor": "bottom",
          "yref": "paper"
         },
         {
          "font": {},
          "showarrow": false,
          "text": "Metal=SMC",
          "textangle": 90,
          "x": 0.98,
          "xanchor": "left",
          "xref": "paper",
          "y": 0.2425,
          "yanchor": "middle",
          "yref": "paper"
         },
         {
          "font": {},
          "showarrow": false,
          "text": "Metal=Solar",
          "textangle": 90,
          "x": 0.98,
          "xanchor": "left",
          "xref": "paper",
          "y": 0.7575000000000001,
          "yanchor": "middle",
          "yref": "paper"
         }
        ],
        "bargroupgap": 0.2,
        "barmode": "group",
        "font": {
         "family": "Times New Roman",
         "size": 18
        },
        "legend": {
         "title": {
          "text": "Channel"
         },
         "tracegroupgap": 0
        },
        "margin": {
         "t": 60
        },
        "template": {
         "data": {
          "bar": [
           {
            "error_x": {
             "color": "#2a3f5f"
            },
            "error_y": {
             "color": "#2a3f5f"
            },
            "marker": {
             "line": {
              "color": "#E5ECF6",
              "width": 0.5
             },
             "pattern": {
              "fillmode": "overlay",
              "size": 10,
              "solidity": 0.2
             }
            },
            "type": "bar"
           }
          ],
          "barpolar": [
           {
            "marker": {
             "line": {
              "color": "#E5ECF6",
              "width": 0.5
             },
             "pattern": {
              "fillmode": "overlay",
              "size": 10,
              "solidity": 0.2
             }
            },
            "type": "barpolar"
           }
          ],
          "carpet": [
           {
            "aaxis": {
             "endlinecolor": "#2a3f5f",
             "gridcolor": "white",
             "linecolor": "white",
             "minorgridcolor": "white",
             "startlinecolor": "#2a3f5f"
            },
            "baxis": {
             "endlinecolor": "#2a3f5f",
             "gridcolor": "white",
             "linecolor": "white",
             "minorgridcolor": "white",
             "startlinecolor": "#2a3f5f"
            },
            "type": "carpet"
           }
          ],
          "choropleth": [
           {
            "colorbar": {
             "outlinewidth": 0,
             "ticks": ""
            },
            "type": "choropleth"
           }
          ],
          "contour": [
           {
            "colorbar": {
             "outlinewidth": 0,
             "ticks": ""
            },
            "colorscale": [
             [
              0,
              "#0d0887"
             ],
             [
              0.1111111111111111,
              "#46039f"
             ],
             [
              0.2222222222222222,
              "#7201a8"
             ],
             [
              0.3333333333333333,
              "#9c179e"
             ],
             [
              0.4444444444444444,
              "#bd3786"
             ],
             [
              0.5555555555555556,
              "#d8576b"
             ],
             [
              0.6666666666666666,
              "#ed7953"
             ],
             [
              0.7777777777777778,
              "#fb9f3a"
             ],
             [
              0.8888888888888888,
              "#fdca26"
             ],
             [
              1,
              "#f0f921"
             ]
            ],
            "type": "contour"
           }
          ],
          "contourcarpet": [
           {
            "colorbar": {
             "outlinewidth": 0,
             "ticks": ""
            },
            "type": "contourcarpet"
           }
          ],
          "heatmap": [
           {
            "colorbar": {
             "outlinewidth": 0,
             "ticks": ""
            },
            "colorscale": [
             [
              0,
              "#0d0887"
             ],
             [
              0.1111111111111111,
              "#46039f"
             ],
             [
              0.2222222222222222,
              "#7201a8"
             ],
             [
              0.3333333333333333,
              "#9c179e"
             ],
             [
              0.4444444444444444,
              "#bd3786"
             ],
             [
              0.5555555555555556,
              "#d8576b"
             ],
             [
              0.6666666666666666,
              "#ed7953"
             ],
             [
              0.7777777777777778,
              "#fb9f3a"
             ],
             [
              0.8888888888888888,
              "#fdca26"
             ],
             [
              1,
              "#f0f921"
             ]
            ],
            "type": "heatmap"
           }
          ],
          "heatmapgl": [
           {
            "colorbar": {
             "outlinewidth": 0,
             "ticks": ""
            },
            "colorscale": [
             [
              0,
              "#0d0887"
             ],
             [
              0.1111111111111111,
              "#46039f"
             ],
             [
              0.2222222222222222,
              "#7201a8"
             ],
             [
              0.3333333333333333,
              "#9c179e"
             ],
             [
              0.4444444444444444,
              "#bd3786"
             ],
             [
              0.5555555555555556,
              "#d8576b"
             ],
             [
              0.6666666666666666,
              "#ed7953"
             ],
             [
              0.7777777777777778,
              "#fb9f3a"
             ],
             [
              0.8888888888888888,
              "#fdca26"
             ],
             [
              1,
              "#f0f921"
             ]
            ],
            "type": "heatmapgl"
           }
          ],
          "histogram": [
           {
            "marker": {
             "pattern": {
              "fillmode": "overlay",
              "size": 10,
              "solidity": 0.2
             }
            },
            "type": "histogram"
           }
          ],
          "histogram2d": [
           {
            "colorbar": {
             "outlinewidth": 0,
             "ticks": ""
            },
            "colorscale": [
             [
              0,
              "#0d0887"
             ],
             [
              0.1111111111111111,
              "#46039f"
             ],
             [
              0.2222222222222222,
              "#7201a8"
             ],
             [
              0.3333333333333333,
              "#9c179e"
             ],
             [
              0.4444444444444444,
              "#bd3786"
             ],
             [
              0.5555555555555556,
              "#d8576b"
             ],
             [
              0.6666666666666666,
              "#ed7953"
             ],
             [
              0.7777777777777778,
              "#fb9f3a"
             ],
             [
              0.8888888888888888,
              "#fdca26"
             ],
             [
              1,
              "#f0f921"
             ]
            ],
            "type": "histogram2d"
           }
          ],
          "histogram2dcontour": [
           {
            "colorbar": {
             "outlinewidth": 0,
             "ticks": ""
            },
            "colorscale": [
             [
              0,
              "#0d0887"
             ],
             [
              0.1111111111111111,
              "#46039f"
             ],
             [
              0.2222222222222222,
              "#7201a8"
             ],
             [
              0.3333333333333333,
              "#9c179e"
             ],
             [
              0.4444444444444444,
              "#bd3786"
             ],
             [
              0.5555555555555556,
              "#d8576b"
             ],
             [
              0.6666666666666666,
              "#ed7953"
             ],
             [
              0.7777777777777778,
              "#fb9f3a"
             ],
             [
              0.8888888888888888,
              "#fdca26"
             ],
             [
              1,
              "#f0f921"
             ]
            ],
            "type": "histogram2dcontour"
           }
          ],
          "mesh3d": [
           {
            "colorbar": {
             "outlinewidth": 0,
             "ticks": ""
            },
            "type": "mesh3d"
           }
          ],
          "parcoords": [
           {
            "line": {
             "colorbar": {
              "outlinewidth": 0,
              "ticks": ""
             }
            },
            "type": "parcoords"
           }
          ],
          "pie": [
           {
            "automargin": true,
            "type": "pie"
           }
          ],
          "scatter": [
           {
            "marker": {
             "colorbar": {
              "outlinewidth": 0,
              "ticks": ""
             }
            },
            "type": "scatter"
           }
          ],
          "scatter3d": [
           {
            "line": {
             "colorbar": {
              "outlinewidth": 0,
              "ticks": ""
             }
            },
            "marker": {
             "colorbar": {
              "outlinewidth": 0,
              "ticks": ""
             }
            },
            "type": "scatter3d"
           }
          ],
          "scattercarpet": [
           {
            "marker": {
             "colorbar": {
              "outlinewidth": 0,
              "ticks": ""
             }
            },
            "type": "scattercarpet"
           }
          ],
          "scattergeo": [
           {
            "marker": {
             "colorbar": {
              "outlinewidth": 0,
              "ticks": ""
             }
            },
            "type": "scattergeo"
           }
          ],
          "scattergl": [
           {
            "marker": {
             "colorbar": {
              "outlinewidth": 0,
              "ticks": ""
             }
            },
            "type": "scattergl"
           }
          ],
          "scattermapbox": [
           {
            "marker": {
             "colorbar": {
              "outlinewidth": 0,
              "ticks": ""
             }
            },
            "type": "scattermapbox"
           }
          ],
          "scatterpolar": [
           {
            "marker": {
             "colorbar": {
              "outlinewidth": 0,
              "ticks": ""
             }
            },
            "type": "scatterpolar"
           }
          ],
          "scatterpolargl": [
           {
            "marker": {
             "colorbar": {
              "outlinewidth": 0,
              "ticks": ""
             }
            },
            "type": "scatterpolargl"
           }
          ],
          "scatterternary": [
           {
            "marker": {
             "colorbar": {
              "outlinewidth": 0,
              "ticks": ""
             }
            },
            "type": "scatterternary"
           }
          ],
          "surface": [
           {
            "colorbar": {
             "outlinewidth": 0,
             "ticks": ""
            },
            "colorscale": [
             [
              0,
              "#0d0887"
             ],
             [
              0.1111111111111111,
              "#46039f"
             ],
             [
              0.2222222222222222,
              "#7201a8"
             ],
             [
              0.3333333333333333,
              "#9c179e"
             ],
             [
              0.4444444444444444,
              "#bd3786"
             ],
             [
              0.5555555555555556,
              "#d8576b"
             ],
             [
              0.6666666666666666,
              "#ed7953"
             ],
             [
              0.7777777777777778,
              "#fb9f3a"
             ],
             [
              0.8888888888888888,
              "#fdca26"
             ],
             [
              1,
              "#f0f921"
             ]
            ],
            "type": "surface"
           }
          ],
          "table": [
           {
            "cells": {
             "fill": {
              "color": "#EBF0F8"
             },
             "line": {
              "color": "white"
             }
            },
            "header": {
             "fill": {
              "color": "#C8D4E3"
             },
             "line": {
              "color": "white"
             }
            },
            "type": "table"
           }
          ]
         },
         "layout": {
          "annotationdefaults": {
           "arrowcolor": "#2a3f5f",
           "arrowhead": 0,
           "arrowwidth": 1
          },
          "autotypenumbers": "strict",
          "coloraxis": {
           "colorbar": {
            "outlinewidth": 0,
            "ticks": ""
           }
          },
          "colorscale": {
           "diverging": [
            [
             0,
             "#8e0152"
            ],
            [
             0.1,
             "#c51b7d"
            ],
            [
             0.2,
             "#de77ae"
            ],
            [
             0.3,
             "#f1b6da"
            ],
            [
             0.4,
             "#fde0ef"
            ],
            [
             0.5,
             "#f7f7f7"
            ],
            [
             0.6,
             "#e6f5d0"
            ],
            [
             0.7,
             "#b8e186"
            ],
            [
             0.8,
             "#7fbc41"
            ],
            [
             0.9,
             "#4d9221"
            ],
            [
             1,
             "#276419"
            ]
           ],
           "sequential": [
            [
             0,
             "#0d0887"
            ],
            [
             0.1111111111111111,
             "#46039f"
            ],
            [
             0.2222222222222222,
             "#7201a8"
            ],
            [
             0.3333333333333333,
             "#9c179e"
            ],
            [
             0.4444444444444444,
             "#bd3786"
            ],
            [
             0.5555555555555556,
             "#d8576b"
            ],
            [
             0.6666666666666666,
             "#ed7953"
            ],
            [
             0.7777777777777778,
             "#fb9f3a"
            ],
            [
             0.8888888888888888,
             "#fdca26"
            ],
            [
             1,
             "#f0f921"
            ]
           ],
           "sequentialminus": [
            [
             0,
             "#0d0887"
            ],
            [
             0.1111111111111111,
             "#46039f"
            ],
            [
             0.2222222222222222,
             "#7201a8"
            ],
            [
             0.3333333333333333,
             "#9c179e"
            ],
            [
             0.4444444444444444,
             "#bd3786"
            ],
            [
             0.5555555555555556,
             "#d8576b"
            ],
            [
             0.6666666666666666,
             "#ed7953"
            ],
            [
             0.7777777777777778,
             "#fb9f3a"
            ],
            [
             0.8888888888888888,
             "#fdca26"
            ],
            [
             1,
             "#f0f921"
            ]
           ]
          },
          "colorway": [
           "#636efa",
           "#EF553B",
           "#00cc96",
           "#ab63fa",
           "#FFA15A",
           "#19d3f3",
           "#FF6692",
           "#B6E880",
           "#FF97FF",
           "#FECB52"
          ],
          "font": {
           "color": "#2a3f5f"
          },
          "geo": {
           "bgcolor": "white",
           "lakecolor": "white",
           "landcolor": "#E5ECF6",
           "showlakes": true,
           "showland": true,
           "subunitcolor": "white"
          },
          "hoverlabel": {
           "align": "left"
          },
          "hovermode": "closest",
          "mapbox": {
           "style": "light"
          },
          "paper_bgcolor": "white",
          "plot_bgcolor": "#E5ECF6",
          "polar": {
           "angularaxis": {
            "gridcolor": "white",
            "linecolor": "white",
            "ticks": ""
           },
           "bgcolor": "#E5ECF6",
           "radialaxis": {
            "gridcolor": "white",
            "linecolor": "white",
            "ticks": ""
           }
          },
          "scene": {
           "xaxis": {
            "backgroundcolor": "#E5ECF6",
            "gridcolor": "white",
            "gridwidth": 2,
            "linecolor": "white",
            "showbackground": true,
            "ticks": "",
            "zerolinecolor": "white"
           },
           "yaxis": {
            "backgroundcolor": "#E5ECF6",
            "gridcolor": "white",
            "gridwidth": 2,
            "linecolor": "white",
            "showbackground": true,
            "ticks": "",
            "zerolinecolor": "white"
           },
           "zaxis": {
            "backgroundcolor": "#E5ECF6",
            "gridcolor": "white",
            "gridwidth": 2,
            "linecolor": "white",
            "showbackground": true,
            "ticks": "",
            "zerolinecolor": "white"
           }
          },
          "shapedefaults": {
           "line": {
            "color": "#2a3f5f"
           }
          },
          "ternary": {
           "aaxis": {
            "gridcolor": "white",
            "linecolor": "white",
            "ticks": ""
           },
           "baxis": {
            "gridcolor": "white",
            "linecolor": "white",
            "ticks": ""
           },
           "bgcolor": "#E5ECF6",
           "caxis": {
            "gridcolor": "white",
            "linecolor": "white",
            "ticks": ""
           }
          },
          "title": {
           "x": 0.05
          },
          "xaxis": {
           "automargin": true,
           "gridcolor": "white",
           "linecolor": "white",
           "ticks": "",
           "title": {
            "standoff": 15
           },
           "zerolinecolor": "white",
           "zerolinewidth": 2
          },
          "yaxis": {
           "automargin": true,
           "gridcolor": "white",
           "linecolor": "white",
           "ticks": "",
           "title": {
            "standoff": 15
           },
           "zerolinecolor": "white",
           "zerolinewidth": 2
          }
         }
        },
        "xaxis": {
         "anchor": "y",
         "domain": [
          0,
          0.22999999999999998
         ],
         "title": {
          "text": "Revival [ms]"
         }
        },
        "xaxis2": {
         "anchor": "y2",
         "domain": [
          0.24999999999999997,
          0.48
         ],
         "matches": "x",
         "title": {
          "text": "Revival [ms]"
         }
        },
        "xaxis3": {
         "anchor": "y3",
         "domain": [
          0.49999999999999994,
          0.73
         ],
         "matches": "x",
         "title": {
          "text": "Revival [ms]"
         }
        },
        "xaxis4": {
         "anchor": "y4",
         "domain": [
          0.75,
          0.98
         ],
         "matches": "x",
         "title": {
          "text": "Revival [ms]"
         }
        },
        "xaxis5": {
         "anchor": "y5",
         "domain": [
          0,
          0.22999999999999998
         ],
         "matches": "x",
         "showticklabels": false
        },
        "xaxis6": {
         "anchor": "y6",
         "domain": [
          0.24999999999999997,
          0.48
         ],
         "matches": "x",
         "showticklabels": false
        },
        "xaxis7": {
         "anchor": "y7",
         "domain": [
          0.49999999999999994,
          0.73
         ],
         "matches": "x",
         "showticklabels": false
        },
        "xaxis8": {
         "anchor": "y8",
         "domain": [
          0.75,
          0.98
         ],
         "matches": "x",
         "showticklabels": false
        },
        "yaxis": {
         "anchor": "x",
         "domain": [
          0,
          0.485
         ],
         "title": {
          "text": "Counts"
         },
         "type": "log"
        },
        "yaxis2": {
         "anchor": "x2",
         "domain": [
          0,
          0.485
         ],
         "matches": "y",
         "showticklabels": false,
         "type": "log"
        },
        "yaxis3": {
         "anchor": "x3",
         "domain": [
          0,
          0.485
         ],
         "matches": "y",
         "showticklabels": false,
         "type": "log"
        },
        "yaxis4": {
         "anchor": "x4",
         "domain": [
          0,
          0.485
         ],
         "matches": "y",
         "showticklabels": false,
         "type": "log"
        },
        "yaxis5": {
         "anchor": "x5",
         "domain": [
          0.515,
          1
         ],
         "matches": "y",
         "title": {
          "text": "Counts"
         },
         "type": "log"
        },
        "yaxis6": {
         "anchor": "x6",
         "domain": [
          0.515,
          1
         ],
         "matches": "y",
         "showticklabels": false,
         "type": "log"
        },
        "yaxis7": {
         "anchor": "x7",
         "domain": [
          0.515,
          1
         ],
         "matches": "y",
         "showticklabels": false,
         "type": "log"
        },
        "yaxis8": {
         "anchor": "x8",
         "domain": [
          0.515,
          1
         ],
         "matches": "y",
         "showticklabels": false,
         "type": "log"
        }
       }
      }
     },
     "metadata": {},
     "output_type": "display_data"
    }
   ],
   "source": [
    "bars = px.bar(events, x='Revival [ms]', y='Counts', \n",
    "              color='Channel', barmode='group',\n",
    "              facet_row='Metal', facet_col='Mass',\n",
    "              category_orders={\"Mass\": [\"13\", \"20\", \"30\", \"50\"],\n",
    "                               \"Metal\": [\"Solar\", \"SMC\"]},\n",
    "              log_y=True)\n",
    "bars.layout.bargroupgap = 0.2\n",
    "# bars.layout.title = f'Nakazato 2013 event rates at 10 kpc'\n",
    "#                     f'using snewpy and SNOwGLobES'\n",
    "bars.layout.font = dict(size=18, family=\"Times New Roman\")\n",
    "bars"
   ]
  },
  {
   "cell_type": "code",
   "execution_count": 10,
   "metadata": {},
   "outputs": [],
   "source": [
    "bars.write_image('../plots/nakazato.png', width=1100, height=400, scale=3)"
   ]
  },
  {
   "cell_type": "code",
   "execution_count": null,
   "metadata": {},
   "outputs": [],
   "source": []
  }
 ],
 "metadata": {
  "interpreter": {
   "hash": "55e99dcf35939e854eab4749770e8fc8e199e03bd8c38f7a338e657ceb93f2cb"
  },
  "kernelspec": {
   "display_name": "Python 3.8.11 ('KLSN')",
   "language": "python",
   "name": "python3"
  },
  "language_info": {
   "codemirror_mode": {
    "name": "ipython",
    "version": 3
   },
   "file_extension": ".py",
   "mimetype": "text/x-python",
   "name": "python",
   "nbconvert_exporter": "python",
   "pygments_lexer": "ipython3",
   "version": "3.8.11"
  },
  "orig_nbformat": 4
 },
 "nbformat": 4,
 "nbformat_minor": 2
}
