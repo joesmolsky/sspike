{
 "cells": [
  {
   "cell_type": "markdown",
   "metadata": {},
   "source": [
    "# Plot all Nakazato 2013 models together"
   ]
  },
  {
   "cell_type": "code",
   "execution_count": 1,
   "metadata": {},
   "outputs": [],
   "source": [
    "import pandas as pd\n",
    "import plotly.express as px\n",
    "\n",
    "from sspike.detectors import Detector\n",
    "from sspike.env import sspike_dir"
   ]
  },
  {
   "cell_type": "markdown",
   "metadata": {},
   "source": [
    "### Get file paths to tabulated results"
   ]
  },
  {
   "cell_type": "code",
   "execution_count": 2,
   "metadata": {},
   "outputs": [],
   "source": [
    "sn_names = ['N13-13-04-100',\n",
    "             'N13-13-04-200',\n",
    "             'N13-13-04-300',\n",
    "             'N13-13-20-100',\n",
    "             'N13-13-20-200',\n",
    "             'N13-13-20-300',\n",
    "             'N13-20-04-100',\n",
    "             'N13-20-04-200',\n",
    "             'N13-20-04-300',\n",
    "             'N13-20-20-100',\n",
    "             'N13-20-20-200',\n",
    "             'N13-20-20-300',\n",
    "             'N13-30-20-100',\n",
    "             'N13-30-20-200',\n",
    "             'N13-30-20-300',\n",
    "             'N13-50-04-100',\n",
    "             'N13-50-04-200',\n",
    "             'N13-50-04-300',\n",
    "             'N13-50-20-100',\n",
    "             'N13-50-20-200',\n",
    "             'N13-50-20-300']\n",
    "# sn_names = ['N13-20-20-300']\n",
    "bin_dir = '10.0kpc-NT/bins1ti-0.05tf20.0'"
   ]
  },
  {
   "cell_type": "markdown",
   "metadata": {},
   "source": [
    "### Read each file into a data frame"
   ]
  },
  {
   "cell_type": "code",
   "execution_count": 3,
   "metadata": {},
   "outputs": [],
   "source": [
    "# Columns for simulation type and events per channel.\n",
    "column_names = ['Mass', 'Metal', 'Revival [ms]', 'Channel', 'Counts']\n",
    "Z = {'20': 'Solar', '04': 'SMC'}\n",
    "\n",
    "row_list = []\n",
    "# One row for each channel for each simulation.\n",
    "for sn in sn_names:\n",
    "    _, m, z, t = sn.split('-')\n",
    "\n",
    "    path = f'{sspike_dir}/{sn}/{bin_dir}/totals.csv'\n",
    "\n",
    "    df = pd.read_csv(path, sep=' ')\n",
    "    keep = (df['file'] == 'smeared_weighted') | (df['channel'] == 'nc_p_cut')\n",
    "    df_cut = df.where(keep).dropna().drop(columns='file').to_numpy()\n",
    "    \n",
    "    for row in df_cut:\n",
    "        new_row = [m, Z[z], t] + row.tolist()\n",
    "        row_list.append(new_row)\n",
    "\n",
    "df = pd.DataFrame(row_list, columns=column_names)\n",
    "df.replace('nc_p_cut', 'nc_p', inplace=True)"
   ]
  },
  {
   "cell_type": "markdown",
   "metadata": {},
   "source": []
  },
  {
   "cell_type": "code",
   "execution_count": 23,
   "metadata": {},
   "outputs": [
    {
     "data": {
      "application/vnd.plotly.v1+json": {
       "config": {
        "plotlyServerURL": "https://plot.ly"
       },
       "data": [
        {
         "alignmentgroup": "True",
         "hovertemplate": "Channel=ibd<br>Metal=Solar<br>Mass=13<br>Revival [ms]=%{x}<br>Counts=%{y}<extra></extra>",
         "legendgroup": "ibd",
         "marker": {
          "color": "#636efa",
          "pattern": {
           "shape": ""
          }
         },
         "name": "ibd",
         "offsetgroup": "ibd",
         "orientation": "v",
         "showlegend": true,
         "textposition": "auto",
         "type": "bar",
         "x": [
          "100",
          "200",
          "300"
         ],
         "xaxis": "x5",
         "y": [
          74.87401241930898,
          90.61542169221,
          105.61950825510002
         ],
         "yaxis": "y5"
        },
        {
         "alignmentgroup": "True",
         "hovertemplate": "Channel=ibd<br>Metal=Solar<br>Mass=20<br>Revival [ms]=%{x}<br>Counts=%{y}<extra></extra>",
         "legendgroup": "ibd",
         "marker": {
          "color": "#636efa",
          "pattern": {
           "shape": ""
          }
         },
         "name": "ibd",
         "offsetgroup": "ibd",
         "orientation": "v",
         "showlegend": false,
         "textposition": "auto",
         "type": "bar",
         "x": [
          "100",
          "200",
          "300"
         ],
         "xaxis": "x6",
         "y": [
          70.370666990176,
          81.93045187049199,
          90.4005108441
         ],
         "yaxis": "y6"
        },
        {
         "alignmentgroup": "True",
         "hovertemplate": "Channel=ibd<br>Metal=Solar<br>Mass=30<br>Revival [ms]=%{x}<br>Counts=%{y}<extra></extra>",
         "legendgroup": "ibd",
         "marker": {
          "color": "#636efa",
          "pattern": {
           "shape": ""
          }
         },
         "name": "ibd",
         "offsetgroup": "ibd",
         "orientation": "v",
         "showlegend": false,
         "textposition": "auto",
         "type": "bar",
         "x": [
          "100",
          "200",
          "300"
         ],
         "xaxis": "x7",
         "y": [
          93.94134810057,
          140.2252441618,
          188.485071928
         ],
         "yaxis": "y7"
        },
        {
         "alignmentgroup": "True",
         "hovertemplate": "Channel=ibd<br>Metal=Solar<br>Mass=50<br>Revival [ms]=%{x}<br>Counts=%{y}<extra></extra>",
         "legendgroup": "ibd",
         "marker": {
          "color": "#636efa",
          "pattern": {
           "shape": ""
          }
         },
         "name": "ibd",
         "offsetgroup": "ibd",
         "orientation": "v",
         "showlegend": false,
         "textposition": "auto",
         "type": "bar",
         "x": [
          "100",
          "200",
          "300"
         ],
         "xaxis": "x8",
         "y": [
          93.003982953572,
          121.7920384313,
          150.734966624
         ],
         "yaxis": "y8"
        },
        {
         "alignmentgroup": "True",
         "hovertemplate": "Channel=ibd<br>Metal=SMC<br>Mass=13<br>Revival [ms]=%{x}<br>Counts=%{y}<extra></extra>",
         "legendgroup": "ibd",
         "marker": {
          "color": "#636efa",
          "pattern": {
           "shape": ""
          }
         },
         "name": "ibd",
         "offsetgroup": "ibd",
         "orientation": "v",
         "showlegend": false,
         "textposition": "auto",
         "type": "bar",
         "x": [
          "100",
          "200",
          "300"
         ],
         "xaxis": "x",
         "y": [
          74.73315520561101,
          89.99200759750998,
          100.8386083936
         ],
         "yaxis": "y"
        },
        {
         "alignmentgroup": "True",
         "hovertemplate": "Channel=ibd<br>Metal=SMC<br>Mass=20<br>Revival [ms]=%{x}<br>Counts=%{y}<extra></extra>",
         "legendgroup": "ibd",
         "marker": {
          "color": "#636efa",
          "pattern": {
           "shape": ""
          }
         },
         "name": "ibd",
         "offsetgroup": "ibd",
         "orientation": "v",
         "showlegend": false,
         "textposition": "auto",
         "type": "bar",
         "x": [
          "100",
          "200",
          "300"
         ],
         "xaxis": "x2",
         "y": [
          88.84686440349199,
          108.07109892266,
          123.5926795372
         ],
         "yaxis": "y2"
        },
        {
         "alignmentgroup": "True",
         "hovertemplate": "Channel=ibd<br>Metal=SMC<br>Mass=50<br>Revival [ms]=%{x}<br>Counts=%{y}<extra></extra>",
         "legendgroup": "ibd",
         "marker": {
          "color": "#636efa",
          "pattern": {
           "shape": ""
          }
         },
         "name": "ibd",
         "offsetgroup": "ibd",
         "orientation": "v",
         "showlegend": false,
         "textposition": "auto",
         "type": "bar",
         "x": [
          "100",
          "200",
          "300"
         ],
         "xaxis": "x4",
         "y": [
          90.11970331435,
          122.244403363,
          155.38736550900003
         ],
         "yaxis": "y4"
        },
        {
         "alignmentgroup": "True",
         "hovertemplate": "Channel=nue_C12<br>Metal=Solar<br>Mass=13<br>Revival [ms]=%{x}<br>Counts=%{y}<extra></extra>",
         "legendgroup": "nue_C12",
         "marker": {
          "color": "#EF553B",
          "pattern": {
           "shape": ""
          }
         },
         "name": "nue_C12",
         "offsetgroup": "nue_C12",
         "orientation": "v",
         "showlegend": true,
         "textposition": "auto",
         "type": "bar",
         "x": [
          "100",
          "200",
          "300"
         ],
         "xaxis": "x5",
         "y": [
          0.6214501247404228,
          1.213656297813967,
          2.250581158969909
         ],
         "yaxis": "y5"
        },
        {
         "alignmentgroup": "True",
         "hovertemplate": "Channel=nue_C12<br>Metal=Solar<br>Mass=20<br>Revival [ms]=%{x}<br>Counts=%{y}<extra></extra>",
         "legendgroup": "nue_C12",
         "marker": {
          "color": "#EF553B",
          "pattern": {
           "shape": ""
          }
         },
         "name": "nue_C12",
         "offsetgroup": "nue_C12",
         "orientation": "v",
         "showlegend": false,
         "textposition": "auto",
         "type": "bar",
         "x": [
          "100",
          "200",
          "300"
         ],
         "xaxis": "x6",
         "y": [
          0.5311133362183033,
          0.8770543790268658,
          1.279816353394892
         ],
         "yaxis": "y6"
        },
        {
         "alignmentgroup": "True",
         "hovertemplate": "Channel=nue_C12<br>Metal=Solar<br>Mass=30<br>Revival [ms]=%{x}<br>Counts=%{y}<extra></extra>",
         "legendgroup": "nue_C12",
         "marker": {
          "color": "#EF553B",
          "pattern": {
           "shape": ""
          }
         },
         "name": "nue_C12",
         "offsetgroup": "nue_C12",
         "orientation": "v",
         "showlegend": false,
         "textposition": "auto",
         "type": "bar",
         "x": [
          "100",
          "200",
          "300"
         ],
         "xaxis": "x7",
         "y": [
          1.0267855469546618,
          3.5533999111270584,
          7.826551532387964
         ],
         "yaxis": "y7"
        },
        {
         "alignmentgroup": "True",
         "hovertemplate": "Channel=nue_C12<br>Metal=Solar<br>Mass=50<br>Revival [ms]=%{x}<br>Counts=%{y}<extra></extra>",
         "legendgroup": "nue_C12",
         "marker": {
          "color": "#EF553B",
          "pattern": {
           "shape": ""
          }
         },
         "name": "nue_C12",
         "offsetgroup": "nue_C12",
         "orientation": "v",
         "showlegend": false,
         "textposition": "auto",
         "type": "bar",
         "x": [
          "100",
          "200",
          "300"
         ],
         "xaxis": "x8",
         "y": [
          1.0839061734896067,
          2.5545255383933028,
          5.290461547216732
         ],
         "yaxis": "y8"
        },
        {
         "alignmentgroup": "True",
         "hovertemplate": "Channel=nue_C12<br>Metal=SMC<br>Mass=13<br>Revival [ms]=%{x}<br>Counts=%{y}<extra></extra>",
         "legendgroup": "nue_C12",
         "marker": {
          "color": "#EF553B",
          "pattern": {
           "shape": ""
          }
         },
         "name": "nue_C12",
         "offsetgroup": "nue_C12",
         "orientation": "v",
         "showlegend": false,
         "textposition": "auto",
         "type": "bar",
         "x": [
          "100",
          "200",
          "300"
         ],
         "xaxis": "x",
         "y": [
          0.599775655841235,
          1.1341363199746115,
          1.6879345546915054
         ],
         "yaxis": "y"
        },
        {
         "alignmentgroup": "True",
         "hovertemplate": "Channel=nue_C12<br>Metal=SMC<br>Mass=20<br>Revival [ms]=%{x}<br>Counts=%{y}<extra></extra>",
         "legendgroup": "nue_C12",
         "marker": {
          "color": "#EF553B",
          "pattern": {
           "shape": ""
          }
         },
         "name": "nue_C12",
         "offsetgroup": "nue_C12",
         "orientation": "v",
         "showlegend": false,
         "textposition": "auto",
         "type": "bar",
         "x": [
          "100",
          "200",
          "300"
         ],
         "xaxis": "x2",
         "y": [
          0.9898802659586532,
          1.705433470132672,
          2.7040134963707607
         ],
         "yaxis": "y2"
        },
        {
         "alignmentgroup": "True",
         "hovertemplate": "Channel=nue_C12<br>Metal=SMC<br>Mass=50<br>Revival [ms]=%{x}<br>Counts=%{y}<extra></extra>",
         "legendgroup": "nue_C12",
         "marker": {
          "color": "#EF553B",
          "pattern": {
           "shape": ""
          }
         },
         "name": "nue_C12",
         "offsetgroup": "nue_C12",
         "orientation": "v",
         "showlegend": false,
         "textposition": "auto",
         "type": "bar",
         "x": [
          "100",
          "200",
          "300"
         ],
         "xaxis": "x4",
         "y": [
          0.7981193388145552,
          2.3622678994730224,
          5.310511171076258
         ],
         "yaxis": "y4"
        },
        {
         "alignmentgroup": "True",
         "hovertemplate": "Channel=nue_C13<br>Metal=Solar<br>Mass=13<br>Revival [ms]=%{x}<br>Counts=%{y}<extra></extra>",
         "legendgroup": "nue_C13",
         "marker": {
          "color": "#00cc96",
          "pattern": {
           "shape": ""
          }
         },
         "name": "nue_C13",
         "offsetgroup": "nue_C13",
         "orientation": "v",
         "showlegend": true,
         "textposition": "auto",
         "type": "bar",
         "x": [
          "100",
          "200",
          "300"
         ],
         "xaxis": "x5",
         "y": [
          0.1311880558830238,
          0.161977435100332,
          0.1938596783181499
         ],
         "yaxis": "y5"
        },
        {
         "alignmentgroup": "True",
         "hovertemplate": "Channel=nue_C13<br>Metal=Solar<br>Mass=20<br>Revival [ms]=%{x}<br>Counts=%{y}<extra></extra>",
         "legendgroup": "nue_C13",
         "marker": {
          "color": "#00cc96",
          "pattern": {
           "shape": ""
          }
         },
         "name": "nue_C13",
         "offsetgroup": "nue_C13",
         "orientation": "v",
         "showlegend": false,
         "textposition": "auto",
         "type": "bar",
         "x": [
          "100",
          "200",
          "300"
         ],
         "xaxis": "x6",
         "y": [
          0.1236031959559713,
          0.1457955956435102,
          0.1635392654948288
         ],
         "yaxis": "y6"
        },
        {
         "alignmentgroup": "True",
         "hovertemplate": "Channel=nue_C13<br>Metal=Solar<br>Mass=30<br>Revival [ms]=%{x}<br>Counts=%{y}<extra></extra>",
         "legendgroup": "nue_C13",
         "marker": {
          "color": "#00cc96",
          "pattern": {
           "shape": ""
          }
         },
         "name": "nue_C13",
         "offsetgroup": "nue_C13",
         "orientation": "v",
         "showlegend": false,
         "textposition": "auto",
         "type": "bar",
         "x": [
          "100",
          "200",
          "300"
         ],
         "xaxis": "x7",
         "y": [
          0.1654257635278355,
          0.2556184387532139,
          0.3567145176683174
         ],
         "yaxis": "y7"
        },
        {
         "alignmentgroup": "True",
         "hovertemplate": "Channel=nue_C13<br>Metal=Solar<br>Mass=50<br>Revival [ms]=%{x}<br>Counts=%{y}<extra></extra>",
         "legendgroup": "nue_C13",
         "marker": {
          "color": "#00cc96",
          "pattern": {
           "shape": ""
          }
         },
         "name": "nue_C13",
         "offsetgroup": "nue_C13",
         "orientation": "v",
         "showlegend": false,
         "textposition": "auto",
         "type": "bar",
         "x": [
          "100",
          "200",
          "300"
         ],
         "xaxis": "x8",
         "y": [
          0.1673789655518502,
          0.224418108923118,
          0.2864650498897583
         ],
         "yaxis": "y8"
        },
        {
         "alignmentgroup": "True",
         "hovertemplate": "Channel=nue_C13<br>Metal=SMC<br>Mass=13<br>Revival [ms]=%{x}<br>Counts=%{y}<extra></extra>",
         "legendgroup": "nue_C13",
         "marker": {
          "color": "#00cc96",
          "pattern": {
           "shape": ""
          }
         },
         "name": "nue_C13",
         "offsetgroup": "nue_C13",
         "orientation": "v",
         "showlegend": false,
         "textposition": "auto",
         "type": "bar",
         "x": [
          "100",
          "200",
          "300"
         ],
         "xaxis": "x",
         "y": [
          0.1306333089884611,
          0.1600613011543701,
          0.18258051430305
         ],
         "yaxis": "y"
        },
        {
         "alignmentgroup": "True",
         "hovertemplate": "Channel=nue_C13<br>Metal=SMC<br>Mass=20<br>Revival [ms]=%{x}<br>Counts=%{y}<extra></extra>",
         "legendgroup": "nue_C13",
         "marker": {
          "color": "#00cc96",
          "pattern": {
           "shape": ""
          }
         },
         "name": "nue_C13",
         "offsetgroup": "nue_C13",
         "orientation": "v",
         "showlegend": false,
         "textposition": "auto",
         "type": "bar",
         "x": [
          "100",
          "200",
          "300"
         ],
         "xaxis": "x2",
         "y": [
          0.1604403456835229,
          0.1973631314061608,
          0.2303299115505344
         ],
         "yaxis": "y2"
        },
        {
         "alignmentgroup": "True",
         "hovertemplate": "Channel=nue_C13<br>Metal=SMC<br>Mass=50<br>Revival [ms]=%{x}<br>Counts=%{y}<extra></extra>",
         "legendgroup": "nue_C13",
         "marker": {
          "color": "#00cc96",
          "pattern": {
           "shape": ""
          }
         },
         "name": "nue_C13",
         "offsetgroup": "nue_C13",
         "orientation": "v",
         "showlegend": false,
         "textposition": "auto",
         "type": "bar",
         "x": [
          "100",
          "200",
          "300"
         ],
         "xaxis": "x4",
         "y": [
          0.1591130150178896,
          0.2222458452656051,
          0.2933772908113581
         ],
         "yaxis": "y4"
        },
        {
         "alignmentgroup": "True",
         "hovertemplate": "Channel=nuebar_C12<br>Metal=Solar<br>Mass=13<br>Revival [ms]=%{x}<br>Counts=%{y}<extra></extra>",
         "legendgroup": "nuebar_C12",
         "marker": {
          "color": "#ab63fa",
          "pattern": {
           "shape": ""
          }
         },
         "name": "nuebar_C12",
         "offsetgroup": "nuebar_C12",
         "orientation": "v",
         "showlegend": true,
         "textposition": "auto",
         "type": "bar",
         "x": [
          "100",
          "200",
          "300"
         ],
         "xaxis": "x5",
         "y": [
          1.285532974877253,
          2.0616533754886084,
          3.064447134325929
         ],
         "yaxis": "y5"
        },
        {
         "alignmentgroup": "True",
         "hovertemplate": "Channel=nuebar_C12<br>Metal=Solar<br>Mass=20<br>Revival [ms]=%{x}<br>Counts=%{y}<extra></extra>",
         "legendgroup": "nuebar_C12",
         "marker": {
          "color": "#ab63fa",
          "pattern": {
           "shape": ""
          }
         },
         "name": "nuebar_C12",
         "offsetgroup": "nuebar_C12",
         "orientation": "v",
         "showlegend": false,
         "textposition": "auto",
         "type": "bar",
         "x": [
          "100",
          "200",
          "300"
         ],
         "xaxis": "x6",
         "y": [
          1.138842723908425,
          1.6525828494146566,
          2.118525304051743
         ],
         "yaxis": "y6"
        },
        {
         "alignmentgroup": "True",
         "hovertemplate": "Channel=nuebar_C12<br>Metal=Solar<br>Mass=30<br>Revival [ms]=%{x}<br>Counts=%{y}<extra></extra>",
         "legendgroup": "nuebar_C12",
         "marker": {
          "color": "#ab63fa",
          "pattern": {
           "shape": ""
          }
         },
         "name": "nuebar_C12",
         "offsetgroup": "nuebar_C12",
         "orientation": "v",
         "showlegend": false,
         "textposition": "auto",
         "type": "bar",
         "x": [
          "100",
          "200",
          "300"
         ],
         "xaxis": "x7",
         "y": [
          1.9588542964721083,
          4.738802394198912,
          8.513566922556967
         ],
         "yaxis": "y7"
        },
        {
         "alignmentgroup": "True",
         "hovertemplate": "Channel=nuebar_C12<br>Metal=Solar<br>Mass=50<br>Revival [ms]=%{x}<br>Counts=%{y}<extra></extra>",
         "legendgroup": "nuebar_C12",
         "marker": {
          "color": "#ab63fa",
          "pattern": {
           "shape": ""
          }
         },
         "name": "nuebar_C12",
         "offsetgroup": "nuebar_C12",
         "orientation": "v",
         "showlegend": false,
         "textposition": "auto",
         "type": "bar",
         "x": [
          "100",
          "200",
          "300"
         ],
         "xaxis": "x8",
         "y": [
          1.8173761829973405,
          3.4944129463436084,
          5.845531497363497
         ],
         "yaxis": "y8"
        },
        {
         "alignmentgroup": "True",
         "hovertemplate": "Channel=nuebar_C12<br>Metal=SMC<br>Mass=13<br>Revival [ms]=%{x}<br>Counts=%{y}<extra></extra>",
         "legendgroup": "nuebar_C12",
         "marker": {
          "color": "#ab63fa",
          "pattern": {
           "shape": ""
          }
         },
         "name": "nuebar_C12",
         "offsetgroup": "nuebar_C12",
         "orientation": "v",
         "showlegend": false,
         "textposition": "auto",
         "type": "bar",
         "x": [
          "100",
          "200",
          "300"
         ],
         "xaxis": "x",
         "y": [
          1.2780028207818876,
          2.0077263108262344,
          2.625256326467921
         ],
         "yaxis": "y"
        },
        {
         "alignmentgroup": "True",
         "hovertemplate": "Channel=nuebar_C12<br>Metal=SMC<br>Mass=20<br>Revival [ms]=%{x}<br>Counts=%{y}<extra></extra>",
         "legendgroup": "nuebar_C12",
         "marker": {
          "color": "#ab63fa",
          "pattern": {
           "shape": ""
          }
         },
         "name": "nuebar_C12",
         "offsetgroup": "nuebar_C12",
         "orientation": "v",
         "showlegend": false,
         "textposition": "auto",
         "type": "bar",
         "x": [
          "100",
          "200",
          "300"
         ],
         "xaxis": "x2",
         "y": [
          1.6843105158612184,
          2.640857291834861,
          3.6616818180552233
         ],
         "yaxis": "y2"
        },
        {
         "alignmentgroup": "True",
         "hovertemplate": "Channel=nuebar_C12<br>Metal=SMC<br>Mass=50<br>Revival [ms]=%{x}<br>Counts=%{y}<extra></extra>",
         "legendgroup": "nuebar_C12",
         "marker": {
          "color": "#ab63fa",
          "pattern": {
           "shape": ""
          }
         },
         "name": "nuebar_C12",
         "offsetgroup": "nuebar_C12",
         "orientation": "v",
         "showlegend": false,
         "textposition": "auto",
         "type": "bar",
         "x": [
          "100",
          "200",
          "300"
         ],
         "xaxis": "x4",
         "y": [
          1.6012525560921669,
          3.4351265229589365,
          6.007059123115311
         ],
         "yaxis": "y4"
        },
        {
         "alignmentgroup": "True",
         "hovertemplate": "Channel=nc<br>Metal=Solar<br>Mass=13<br>Revival [ms]=%{x}<br>Counts=%{y}<extra></extra>",
         "legendgroup": "nc",
         "marker": {
          "color": "#FFA15A",
          "pattern": {
           "shape": ""
          }
         },
         "name": "nc",
         "offsetgroup": "nc",
         "orientation": "v",
         "showlegend": true,
         "textposition": "auto",
         "type": "bar",
         "x": [
          "100",
          "200",
          "300"
         ],
         "xaxis": "x5",
         "y": [
          9.213338649585518,
          11.125862399577532,
          12.898635976436164
         ],
         "yaxis": "y5"
        },
        {
         "alignmentgroup": "True",
         "hovertemplate": "Channel=nc<br>Metal=Solar<br>Mass=20<br>Revival [ms]=%{x}<br>Counts=%{y}<extra></extra>",
         "legendgroup": "nc",
         "marker": {
          "color": "#FFA15A",
          "pattern": {
           "shape": ""
          }
         },
         "name": "nc",
         "offsetgroup": "nc",
         "orientation": "v",
         "showlegend": false,
         "textposition": "auto",
         "type": "bar",
         "x": [
          "100",
          "200",
          "300"
         ],
         "xaxis": "x6",
         "y": [
          8.57693598758863,
          9.943433032333656,
          10.867213216502584
         ],
         "yaxis": "y6"
        },
        {
         "alignmentgroup": "True",
         "hovertemplate": "Channel=nc<br>Metal=Solar<br>Mass=30<br>Revival [ms]=%{x}<br>Counts=%{y}<extra></extra>",
         "legendgroup": "nc",
         "marker": {
          "color": "#FFA15A",
          "pattern": {
           "shape": ""
          }
         },
         "name": "nc",
         "offsetgroup": "nc",
         "orientation": "v",
         "showlegend": false,
         "textposition": "auto",
         "type": "bar",
         "x": [
          "100",
          "200",
          "300"
         ],
         "xaxis": "x7",
         "y": [
          12.25404315546575,
          20.01295648844895,
          27.517964200771303
         ],
         "yaxis": "y7"
        },
        {
         "alignmentgroup": "True",
         "hovertemplate": "Channel=nc<br>Metal=Solar<br>Mass=50<br>Revival [ms]=%{x}<br>Counts=%{y}<extra></extra>",
         "legendgroup": "nc",
         "marker": {
          "color": "#FFA15A",
          "pattern": {
           "shape": ""
          }
         },
         "name": "nc",
         "offsetgroup": "nc",
         "orientation": "v",
         "showlegend": false,
         "textposition": "auto",
         "type": "bar",
         "x": [
          "100",
          "200",
          "300"
         ],
         "xaxis": "x8",
         "y": [
          12.56728712322808,
          16.604281137245593,
          20.541101595723152
         ],
         "yaxis": "y8"
        },
        {
         "alignmentgroup": "True",
         "hovertemplate": "Channel=nc<br>Metal=SMC<br>Mass=13<br>Revival [ms]=%{x}<br>Counts=%{y}<extra></extra>",
         "legendgroup": "nc",
         "marker": {
          "color": "#FFA15A",
          "pattern": {
           "shape": ""
          }
         },
         "name": "nc",
         "offsetgroup": "nc",
         "orientation": "v",
         "showlegend": false,
         "textposition": "auto",
         "type": "bar",
         "x": [
          "100",
          "200",
          "300"
         ],
         "xaxis": "x",
         "y": [
          9.2120658157872,
          11.08175836506834,
          12.29559160707211
         ],
         "yaxis": "y"
        },
        {
         "alignmentgroup": "True",
         "hovertemplate": "Channel=nc<br>Metal=SMC<br>Mass=20<br>Revival [ms]=%{x}<br>Counts=%{y}<extra></extra>",
         "legendgroup": "nc",
         "marker": {
          "color": "#FFA15A",
          "pattern": {
           "shape": ""
          }
         },
         "name": "nc",
         "offsetgroup": "nc",
         "orientation": "v",
         "showlegend": false,
         "textposition": "auto",
         "type": "bar",
         "x": [
          "100",
          "200",
          "300"
         ],
         "xaxis": "x2",
         "y": [
          11.984442907570036,
          14.482809723622609,
          16.42818589791144
         ],
         "yaxis": "y2"
        },
        {
         "alignmentgroup": "True",
         "hovertemplate": "Channel=nc<br>Metal=SMC<br>Mass=50<br>Revival [ms]=%{x}<br>Counts=%{y}<extra></extra>",
         "legendgroup": "nc",
         "marker": {
          "color": "#FFA15A",
          "pattern": {
           "shape": ""
          }
         },
         "name": "nc",
         "offsetgroup": "nc",
         "orientation": "v",
         "showlegend": false,
         "textposition": "auto",
         "type": "bar",
         "x": [
          "100",
          "200",
          "300"
         ],
         "xaxis": "x4",
         "y": [
          11.11857157259313,
          16.091985198141003,
          20.76046248127136
         ],
         "yaxis": "y4"
        },
        {
         "alignmentgroup": "True",
         "hovertemplate": "Channel=e<br>Metal=Solar<br>Mass=13<br>Revival [ms]=%{x}<br>Counts=%{y}<extra></extra>",
         "legendgroup": "e",
         "marker": {
          "color": "#19d3f3",
          "pattern": {
           "shape": ""
          }
         },
         "name": "e",
         "offsetgroup": "e",
         "orientation": "v",
         "showlegend": true,
         "textposition": "auto",
         "type": "bar",
         "x": [
          "100",
          "200",
          "300"
         ],
         "xaxis": "x5",
         "y": [
          7.085882523150045,
          7.858430685982461,
          8.45849582119186
         ],
         "yaxis": "y5"
        },
        {
         "alignmentgroup": "True",
         "hovertemplate": "Channel=e<br>Metal=Solar<br>Mass=20<br>Revival [ms]=%{x}<br>Counts=%{y}<extra></extra>",
         "legendgroup": "e",
         "marker": {
          "color": "#19d3f3",
          "pattern": {
           "shape": ""
          }
         },
         "name": "e",
         "offsetgroup": "e",
         "orientation": "v",
         "showlegend": false,
         "textposition": "auto",
         "type": "bar",
         "x": [
          "100",
          "200",
          "300"
         ],
         "xaxis": "x6",
         "y": [
          6.807878422377366,
          7.39675494572151,
          7.759577081951442
         ],
         "yaxis": "y6"
        },
        {
         "alignmentgroup": "True",
         "hovertemplate": "Channel=e<br>Metal=Solar<br>Mass=30<br>Revival [ms]=%{x}<br>Counts=%{y}<extra></extra>",
         "legendgroup": "e",
         "marker": {
          "color": "#19d3f3",
          "pattern": {
           "shape": ""
          }
         },
         "name": "e",
         "offsetgroup": "e",
         "orientation": "v",
         "showlegend": false,
         "textposition": "auto",
         "type": "bar",
         "x": [
          "100",
          "200",
          "300"
         ],
         "xaxis": "x7",
         "y": [
          8.39587677517221,
          10.625027502116868,
          12.487627867553757
         ],
         "yaxis": "y7"
        },
        {
         "alignmentgroup": "True",
         "hovertemplate": "Channel=e<br>Metal=Solar<br>Mass=50<br>Revival [ms]=%{x}<br>Counts=%{y}<extra></extra>",
         "legendgroup": "e",
         "marker": {
          "color": "#19d3f3",
          "pattern": {
           "shape": ""
          }
         },
         "name": "e",
         "offsetgroup": "e",
         "orientation": "v",
         "showlegend": false,
         "textposition": "auto",
         "type": "bar",
         "x": [
          "100",
          "200",
          "300"
         ],
         "xaxis": "x8",
         "y": [
          8.510746830124589,
          9.8303512517055,
          10.884416886801825
         ],
         "yaxis": "y8"
        },
        {
         "alignmentgroup": "True",
         "hovertemplate": "Channel=e<br>Metal=SMC<br>Mass=13<br>Revival [ms]=%{x}<br>Counts=%{y}<extra></extra>",
         "legendgroup": "e",
         "marker": {
          "color": "#19d3f3",
          "pattern": {
           "shape": ""
          }
         },
         "name": "e",
         "offsetgroup": "e",
         "orientation": "v",
         "showlegend": false,
         "textposition": "auto",
         "type": "bar",
         "x": [
          "100",
          "200",
          "300"
         ],
         "xaxis": "x",
         "y": [
          7.093000413030079,
          7.853240942725047,
          8.322411411806364
         ],
         "yaxis": "y"
        },
        {
         "alignmentgroup": "True",
         "hovertemplate": "Channel=e<br>Metal=SMC<br>Mass=20<br>Revival [ms]=%{x}<br>Counts=%{y}<extra></extra>",
         "legendgroup": "e",
         "marker": {
          "color": "#19d3f3",
          "pattern": {
           "shape": ""
          }
         },
         "name": "e",
         "offsetgroup": "e",
         "orientation": "v",
         "showlegend": false,
         "textposition": "auto",
         "type": "bar",
         "x": [
          "100",
          "200",
          "300"
         ],
         "xaxis": "x2",
         "y": [
          8.240955898957075,
          9.172681932722105,
          9.78012868905081
         ],
         "yaxis": "y2"
        },
        {
         "alignmentgroup": "True",
         "hovertemplate": "Channel=e<br>Metal=SMC<br>Mass=50<br>Revival [ms]=%{x}<br>Counts=%{y}<extra></extra>",
         "legendgroup": "e",
         "marker": {
          "color": "#19d3f3",
          "pattern": {
           "shape": ""
          }
         },
         "name": "e",
         "offsetgroup": "e",
         "orientation": "v",
         "showlegend": false,
         "textposition": "auto",
         "type": "bar",
         "x": [
          "100",
          "200",
          "300"
         ],
         "xaxis": "x4",
         "y": [
          8.459681284519426,
          9.952011346656068,
          11.216620489061643
         ],
         "yaxis": "y4"
        },
        {
         "alignmentgroup": "True",
         "hovertemplate": "Channel=nc_p<br>Metal=Solar<br>Mass=13<br>Revival [ms]=%{x}<br>Counts=%{y}<extra></extra>",
         "legendgroup": "nc_p",
         "marker": {
          "color": "#FF6692",
          "pattern": {
           "shape": ""
          }
         },
         "name": "nc_p",
         "offsetgroup": "nc_p",
         "orientation": "v",
         "showlegend": true,
         "textposition": "auto",
         "type": "bar",
         "x": [
          "100",
          "200",
          "300"
         ],
         "xaxis": "x5",
         "y": [
          1.9242386853123292,
          2.397099727319145,
          3.031371362728307
         ],
         "yaxis": "y5"
        },
        {
         "alignmentgroup": "True",
         "hovertemplate": "Channel=nc_p<br>Metal=Solar<br>Mass=20<br>Revival [ms]=%{x}<br>Counts=%{y}<extra></extra>",
         "legendgroup": "nc_p",
         "marker": {
          "color": "#FF6692",
          "pattern": {
           "shape": ""
          }
         },
         "name": "nc_p",
         "offsetgroup": "nc_p",
         "orientation": "v",
         "showlegend": false,
         "textposition": "auto",
         "type": "bar",
         "x": [
          "100",
          "200",
          "300"
         ],
         "xaxis": "x6",
         "y": [
          1.7689160200391023,
          2.0563646108404274,
          2.276565994371639
         ],
         "yaxis": "y6"
        },
        {
         "alignmentgroup": "True",
         "hovertemplate": "Channel=nc_p<br>Metal=Solar<br>Mass=30<br>Revival [ms]=%{x}<br>Counts=%{y}<extra></extra>",
         "legendgroup": "nc_p",
         "marker": {
          "color": "#FF6692",
          "pattern": {
           "shape": ""
          }
         },
         "name": "nc_p",
         "offsetgroup": "nc_p",
         "orientation": "v",
         "showlegend": false,
         "textposition": "auto",
         "type": "bar",
         "x": [
          "100",
          "200",
          "300"
         ],
         "xaxis": "x7",
         "y": [
          2.898277400033213,
          6.3184411178632764,
          10.39825948473689
         ],
         "yaxis": "y7"
        },
        {
         "alignmentgroup": "True",
         "hovertemplate": "Channel=nc_p<br>Metal=Solar<br>Mass=50<br>Revival [ms]=%{x}<br>Counts=%{y}<extra></extra>",
         "legendgroup": "nc_p",
         "marker": {
          "color": "#FF6692",
          "pattern": {
           "shape": ""
          }
         },
         "name": "nc_p",
         "offsetgroup": "nc_p",
         "orientation": "v",
         "showlegend": false,
         "textposition": "auto",
         "type": "bar",
         "x": [
          "100",
          "200",
          "300"
         ],
         "xaxis": "x8",
         "y": [
          3.33557523163206,
          4.748631352420166,
          6.726253323846503
         ],
         "yaxis": "y8"
        },
        {
         "alignmentgroup": "True",
         "hovertemplate": "Channel=nc_p<br>Metal=SMC<br>Mass=13<br>Revival [ms]=%{x}<br>Counts=%{y}<extra></extra>",
         "legendgroup": "nc_p",
         "marker": {
          "color": "#FF6692",
          "pattern": {
           "shape": ""
          }
         },
         "name": "nc_p",
         "offsetgroup": "nc_p",
         "orientation": "v",
         "showlegend": false,
         "textposition": "auto",
         "type": "bar",
         "x": [
          "100",
          "200",
          "300"
         ],
         "xaxis": "x",
         "y": [
          1.944143597645352,
          2.3967666442625952,
          2.7173658367517377
         ],
         "yaxis": "y"
        },
        {
         "alignmentgroup": "True",
         "hovertemplate": "Channel=nc_p<br>Metal=SMC<br>Mass=20<br>Revival [ms]=%{x}<br>Counts=%{y}<extra></extra>",
         "legendgroup": "nc_p",
         "marker": {
          "color": "#FF6692",
          "pattern": {
           "shape": ""
          }
         },
         "name": "nc_p",
         "offsetgroup": "nc_p",
         "orientation": "v",
         "showlegend": false,
         "textposition": "auto",
         "type": "bar",
         "x": [
          "100",
          "200",
          "300"
         ],
         "xaxis": "x2",
         "y": [
          3.1684558834468524,
          3.820058765869659,
          4.431233651478079
         ],
         "yaxis": "y2"
        },
        {
         "alignmentgroup": "True",
         "hovertemplate": "Channel=nc_p<br>Metal=SMC<br>Mass=50<br>Revival [ms]=%{x}<br>Counts=%{y}<extra></extra>",
         "legendgroup": "nc_p",
         "marker": {
          "color": "#FF6692",
          "pattern": {
           "shape": ""
          }
         },
         "name": "nc_p",
         "offsetgroup": "nc_p",
         "orientation": "v",
         "showlegend": false,
         "textposition": "auto",
         "type": "bar",
         "x": [
          "100",
          "200",
          "300"
         ],
         "xaxis": "x4",
         "y": [
          2.2375515202517327,
          4.113673388674955,
          6.403542886834702
         ],
         "yaxis": "y4"
        }
       ],
       "layout": {
        "annotations": [
         {
          "font": {},
          "showarrow": false,
          "text": "Mass=13",
          "x": 0.11499999999999999,
          "xanchor": "center",
          "xref": "paper",
          "y": 1,
          "yanchor": "bottom",
          "yref": "paper"
         },
         {
          "font": {},
          "showarrow": false,
          "text": "Mass=20",
          "x": 0.365,
          "xanchor": "center",
          "xref": "paper",
          "y": 1,
          "yanchor": "bottom",
          "yref": "paper"
         },
         {
          "font": {},
          "showarrow": false,
          "text": "Mass=30",
          "x": 0.615,
          "xanchor": "center",
          "xref": "paper",
          "y": 1,
          "yanchor": "bottom",
          "yref": "paper"
         },
         {
          "font": {},
          "showarrow": false,
          "text": "Mass=50",
          "x": 0.865,
          "xanchor": "center",
          "xref": "paper",
          "y": 1,
          "yanchor": "bottom",
          "yref": "paper"
         },
         {
          "font": {},
          "showarrow": false,
          "text": "Metal=SMC",
          "textangle": 90,
          "x": 0.98,
          "xanchor": "left",
          "xref": "paper",
          "y": 0.2425,
          "yanchor": "middle",
          "yref": "paper"
         },
         {
          "font": {},
          "showarrow": false,
          "text": "Metal=Solar",
          "textangle": 90,
          "x": 0.98,
          "xanchor": "left",
          "xref": "paper",
          "y": 0.7575000000000001,
          "yanchor": "middle",
          "yref": "paper"
         }
        ],
        "bargap": 0.1,
        "bargroupgap": 0.05,
        "barmode": "group",
        "font": {
         "family": "Times New Roman",
         "size": 18
        },
        "height": 400,
        "legend": {
         "title": {
          "text": "Channel"
         },
         "tracegroupgap": 0
        },
        "margin": {
         "t": 60
        },
        "template": {
         "data": {
          "bar": [
           {
            "error_x": {
             "color": "#2a3f5f"
            },
            "error_y": {
             "color": "#2a3f5f"
            },
            "marker": {
             "line": {
              "color": "#E5ECF6",
              "width": 0.5
             },
             "pattern": {
              "fillmode": "overlay",
              "size": 10,
              "solidity": 0.2
             }
            },
            "type": "bar"
           }
          ],
          "barpolar": [
           {
            "marker": {
             "line": {
              "color": "#E5ECF6",
              "width": 0.5
             },
             "pattern": {
              "fillmode": "overlay",
              "size": 10,
              "solidity": 0.2
             }
            },
            "type": "barpolar"
           }
          ],
          "carpet": [
           {
            "aaxis": {
             "endlinecolor": "#2a3f5f",
             "gridcolor": "white",
             "linecolor": "white",
             "minorgridcolor": "white",
             "startlinecolor": "#2a3f5f"
            },
            "baxis": {
             "endlinecolor": "#2a3f5f",
             "gridcolor": "white",
             "linecolor": "white",
             "minorgridcolor": "white",
             "startlinecolor": "#2a3f5f"
            },
            "type": "carpet"
           }
          ],
          "choropleth": [
           {
            "colorbar": {
             "outlinewidth": 0,
             "ticks": ""
            },
            "type": "choropleth"
           }
          ],
          "contour": [
           {
            "colorbar": {
             "outlinewidth": 0,
             "ticks": ""
            },
            "colorscale": [
             [
              0,
              "#0d0887"
             ],
             [
              0.1111111111111111,
              "#46039f"
             ],
             [
              0.2222222222222222,
              "#7201a8"
             ],
             [
              0.3333333333333333,
              "#9c179e"
             ],
             [
              0.4444444444444444,
              "#bd3786"
             ],
             [
              0.5555555555555556,
              "#d8576b"
             ],
             [
              0.6666666666666666,
              "#ed7953"
             ],
             [
              0.7777777777777778,
              "#fb9f3a"
             ],
             [
              0.8888888888888888,
              "#fdca26"
             ],
             [
              1,
              "#f0f921"
             ]
            ],
            "type": "contour"
           }
          ],
          "contourcarpet": [
           {
            "colorbar": {
             "outlinewidth": 0,
             "ticks": ""
            },
            "type": "contourcarpet"
           }
          ],
          "heatmap": [
           {
            "colorbar": {
             "outlinewidth": 0,
             "ticks": ""
            },
            "colorscale": [
             [
              0,
              "#0d0887"
             ],
             [
              0.1111111111111111,
              "#46039f"
             ],
             [
              0.2222222222222222,
              "#7201a8"
             ],
             [
              0.3333333333333333,
              "#9c179e"
             ],
             [
              0.4444444444444444,
              "#bd3786"
             ],
             [
              0.5555555555555556,
              "#d8576b"
             ],
             [
              0.6666666666666666,
              "#ed7953"
             ],
             [
              0.7777777777777778,
              "#fb9f3a"
             ],
             [
              0.8888888888888888,
              "#fdca26"
             ],
             [
              1,
              "#f0f921"
             ]
            ],
            "type": "heatmap"
           }
          ],
          "heatmapgl": [
           {
            "colorbar": {
             "outlinewidth": 0,
             "ticks": ""
            },
            "colorscale": [
             [
              0,
              "#0d0887"
             ],
             [
              0.1111111111111111,
              "#46039f"
             ],
             [
              0.2222222222222222,
              "#7201a8"
             ],
             [
              0.3333333333333333,
              "#9c179e"
             ],
             [
              0.4444444444444444,
              "#bd3786"
             ],
             [
              0.5555555555555556,
              "#d8576b"
             ],
             [
              0.6666666666666666,
              "#ed7953"
             ],
             [
              0.7777777777777778,
              "#fb9f3a"
             ],
             [
              0.8888888888888888,
              "#fdca26"
             ],
             [
              1,
              "#f0f921"
             ]
            ],
            "type": "heatmapgl"
           }
          ],
          "histogram": [
           {
            "marker": {
             "pattern": {
              "fillmode": "overlay",
              "size": 10,
              "solidity": 0.2
             }
            },
            "type": "histogram"
           }
          ],
          "histogram2d": [
           {
            "colorbar": {
             "outlinewidth": 0,
             "ticks": ""
            },
            "colorscale": [
             [
              0,
              "#0d0887"
             ],
             [
              0.1111111111111111,
              "#46039f"
             ],
             [
              0.2222222222222222,
              "#7201a8"
             ],
             [
              0.3333333333333333,
              "#9c179e"
             ],
             [
              0.4444444444444444,
              "#bd3786"
             ],
             [
              0.5555555555555556,
              "#d8576b"
             ],
             [
              0.6666666666666666,
              "#ed7953"
             ],
             [
              0.7777777777777778,
              "#fb9f3a"
             ],
             [
              0.8888888888888888,
              "#fdca26"
             ],
             [
              1,
              "#f0f921"
             ]
            ],
            "type": "histogram2d"
           }
          ],
          "histogram2dcontour": [
           {
            "colorbar": {
             "outlinewidth": 0,
             "ticks": ""
            },
            "colorscale": [
             [
              0,
              "#0d0887"
             ],
             [
              0.1111111111111111,
              "#46039f"
             ],
             [
              0.2222222222222222,
              "#7201a8"
             ],
             [
              0.3333333333333333,
              "#9c179e"
             ],
             [
              0.4444444444444444,
              "#bd3786"
             ],
             [
              0.5555555555555556,
              "#d8576b"
             ],
             [
              0.6666666666666666,
              "#ed7953"
             ],
             [
              0.7777777777777778,
              "#fb9f3a"
             ],
             [
              0.8888888888888888,
              "#fdca26"
             ],
             [
              1,
              "#f0f921"
             ]
            ],
            "type": "histogram2dcontour"
           }
          ],
          "mesh3d": [
           {
            "colorbar": {
             "outlinewidth": 0,
             "ticks": ""
            },
            "type": "mesh3d"
           }
          ],
          "parcoords": [
           {
            "line": {
             "colorbar": {
              "outlinewidth": 0,
              "ticks": ""
             }
            },
            "type": "parcoords"
           }
          ],
          "pie": [
           {
            "automargin": true,
            "type": "pie"
           }
          ],
          "scatter": [
           {
            "marker": {
             "colorbar": {
              "outlinewidth": 0,
              "ticks": ""
             }
            },
            "type": "scatter"
           }
          ],
          "scatter3d": [
           {
            "line": {
             "colorbar": {
              "outlinewidth": 0,
              "ticks": ""
             }
            },
            "marker": {
             "colorbar": {
              "outlinewidth": 0,
              "ticks": ""
             }
            },
            "type": "scatter3d"
           }
          ],
          "scattercarpet": [
           {
            "marker": {
             "colorbar": {
              "outlinewidth": 0,
              "ticks": ""
             }
            },
            "type": "scattercarpet"
           }
          ],
          "scattergeo": [
           {
            "marker": {
             "colorbar": {
              "outlinewidth": 0,
              "ticks": ""
             }
            },
            "type": "scattergeo"
           }
          ],
          "scattergl": [
           {
            "marker": {
             "colorbar": {
              "outlinewidth": 0,
              "ticks": ""
             }
            },
            "type": "scattergl"
           }
          ],
          "scattermapbox": [
           {
            "marker": {
             "colorbar": {
              "outlinewidth": 0,
              "ticks": ""
             }
            },
            "type": "scattermapbox"
           }
          ],
          "scatterpolar": [
           {
            "marker": {
             "colorbar": {
              "outlinewidth": 0,
              "ticks": ""
             }
            },
            "type": "scatterpolar"
           }
          ],
          "scatterpolargl": [
           {
            "marker": {
             "colorbar": {
              "outlinewidth": 0,
              "ticks": ""
             }
            },
            "type": "scatterpolargl"
           }
          ],
          "scatterternary": [
           {
            "marker": {
             "colorbar": {
              "outlinewidth": 0,
              "ticks": ""
             }
            },
            "type": "scatterternary"
           }
          ],
          "surface": [
           {
            "colorbar": {
             "outlinewidth": 0,
             "ticks": ""
            },
            "colorscale": [
             [
              0,
              "#0d0887"
             ],
             [
              0.1111111111111111,
              "#46039f"
             ],
             [
              0.2222222222222222,
              "#7201a8"
             ],
             [
              0.3333333333333333,
              "#9c179e"
             ],
             [
              0.4444444444444444,
              "#bd3786"
             ],
             [
              0.5555555555555556,
              "#d8576b"
             ],
             [
              0.6666666666666666,
              "#ed7953"
             ],
             [
              0.7777777777777778,
              "#fb9f3a"
             ],
             [
              0.8888888888888888,
              "#fdca26"
             ],
             [
              1,
              "#f0f921"
             ]
            ],
            "type": "surface"
           }
          ],
          "table": [
           {
            "cells": {
             "fill": {
              "color": "#EBF0F8"
             },
             "line": {
              "color": "white"
             }
            },
            "header": {
             "fill": {
              "color": "#C8D4E3"
             },
             "line": {
              "color": "white"
             }
            },
            "type": "table"
           }
          ]
         },
         "layout": {
          "annotationdefaults": {
           "arrowcolor": "#2a3f5f",
           "arrowhead": 0,
           "arrowwidth": 1
          },
          "autotypenumbers": "strict",
          "coloraxis": {
           "colorbar": {
            "outlinewidth": 0,
            "ticks": ""
           }
          },
          "colorscale": {
           "diverging": [
            [
             0,
             "#8e0152"
            ],
            [
             0.1,
             "#c51b7d"
            ],
            [
             0.2,
             "#de77ae"
            ],
            [
             0.3,
             "#f1b6da"
            ],
            [
             0.4,
             "#fde0ef"
            ],
            [
             0.5,
             "#f7f7f7"
            ],
            [
             0.6,
             "#e6f5d0"
            ],
            [
             0.7,
             "#b8e186"
            ],
            [
             0.8,
             "#7fbc41"
            ],
            [
             0.9,
             "#4d9221"
            ],
            [
             1,
             "#276419"
            ]
           ],
           "sequential": [
            [
             0,
             "#0d0887"
            ],
            [
             0.1111111111111111,
             "#46039f"
            ],
            [
             0.2222222222222222,
             "#7201a8"
            ],
            [
             0.3333333333333333,
             "#9c179e"
            ],
            [
             0.4444444444444444,
             "#bd3786"
            ],
            [
             0.5555555555555556,
             "#d8576b"
            ],
            [
             0.6666666666666666,
             "#ed7953"
            ],
            [
             0.7777777777777778,
             "#fb9f3a"
            ],
            [
             0.8888888888888888,
             "#fdca26"
            ],
            [
             1,
             "#f0f921"
            ]
           ],
           "sequentialminus": [
            [
             0,
             "#0d0887"
            ],
            [
             0.1111111111111111,
             "#46039f"
            ],
            [
             0.2222222222222222,
             "#7201a8"
            ],
            [
             0.3333333333333333,
             "#9c179e"
            ],
            [
             0.4444444444444444,
             "#bd3786"
            ],
            [
             0.5555555555555556,
             "#d8576b"
            ],
            [
             0.6666666666666666,
             "#ed7953"
            ],
            [
             0.7777777777777778,
             "#fb9f3a"
            ],
            [
             0.8888888888888888,
             "#fdca26"
            ],
            [
             1,
             "#f0f921"
            ]
           ]
          },
          "colorway": [
           "#636efa",
           "#EF553B",
           "#00cc96",
           "#ab63fa",
           "#FFA15A",
           "#19d3f3",
           "#FF6692",
           "#B6E880",
           "#FF97FF",
           "#FECB52"
          ],
          "font": {
           "color": "#2a3f5f"
          },
          "geo": {
           "bgcolor": "white",
           "lakecolor": "white",
           "landcolor": "#E5ECF6",
           "showlakes": true,
           "showland": true,
           "subunitcolor": "white"
          },
          "hoverlabel": {
           "align": "left"
          },
          "hovermode": "closest",
          "mapbox": {
           "style": "light"
          },
          "paper_bgcolor": "white",
          "plot_bgcolor": "#E5ECF6",
          "polar": {
           "angularaxis": {
            "gridcolor": "white",
            "linecolor": "white",
            "ticks": ""
           },
           "bgcolor": "#E5ECF6",
           "radialaxis": {
            "gridcolor": "white",
            "linecolor": "white",
            "ticks": ""
           }
          },
          "scene": {
           "xaxis": {
            "backgroundcolor": "#E5ECF6",
            "gridcolor": "white",
            "gridwidth": 2,
            "linecolor": "white",
            "showbackground": true,
            "ticks": "",
            "zerolinecolor": "white"
           },
           "yaxis": {
            "backgroundcolor": "#E5ECF6",
            "gridcolor": "white",
            "gridwidth": 2,
            "linecolor": "white",
            "showbackground": true,
            "ticks": "",
            "zerolinecolor": "white"
           },
           "zaxis": {
            "backgroundcolor": "#E5ECF6",
            "gridcolor": "white",
            "gridwidth": 2,
            "linecolor": "white",
            "showbackground": true,
            "ticks": "",
            "zerolinecolor": "white"
           }
          },
          "shapedefaults": {
           "line": {
            "color": "#2a3f5f"
           }
          },
          "ternary": {
           "aaxis": {
            "gridcolor": "white",
            "linecolor": "white",
            "ticks": ""
           },
           "baxis": {
            "gridcolor": "white",
            "linecolor": "white",
            "ticks": ""
           },
           "bgcolor": "#E5ECF6",
           "caxis": {
            "gridcolor": "white",
            "linecolor": "white",
            "ticks": ""
           }
          },
          "title": {
           "x": 0.05
          },
          "xaxis": {
           "automargin": true,
           "gridcolor": "white",
           "linecolor": "white",
           "ticks": "",
           "title": {
            "standoff": 15
           },
           "zerolinecolor": "white",
           "zerolinewidth": 2
          },
          "yaxis": {
           "automargin": true,
           "gridcolor": "white",
           "linecolor": "white",
           "ticks": "",
           "title": {
            "standoff": 15
           },
           "zerolinecolor": "white",
           "zerolinewidth": 2
          }
         }
        },
        "title": {
         "text": "Nakazato_2013 @ 10 kpc in KamLAND"
        },
        "width": 1100,
        "xaxis": {
         "anchor": "y",
         "domain": [
          0,
          0.22999999999999998
         ],
         "title": {
          "text": "Revival [ms]"
         }
        },
        "xaxis2": {
         "anchor": "y2",
         "domain": [
          0.24999999999999997,
          0.48
         ],
         "matches": "x",
         "title": {
          "text": "Revival [ms]"
         }
        },
        "xaxis3": {
         "anchor": "y3",
         "domain": [
          0.49999999999999994,
          0.73
         ],
         "matches": "x",
         "title": {
          "text": "Revival [ms]"
         }
        },
        "xaxis4": {
         "anchor": "y4",
         "domain": [
          0.75,
          0.98
         ],
         "matches": "x",
         "title": {
          "text": "Revival [ms]"
         }
        },
        "xaxis5": {
         "anchor": "y5",
         "domain": [
          0,
          0.22999999999999998
         ],
         "matches": "x",
         "showticklabels": false
        },
        "xaxis6": {
         "anchor": "y6",
         "domain": [
          0.24999999999999997,
          0.48
         ],
         "matches": "x",
         "showticklabels": false
        },
        "xaxis7": {
         "anchor": "y7",
         "domain": [
          0.49999999999999994,
          0.73
         ],
         "matches": "x",
         "showticklabels": false
        },
        "xaxis8": {
         "anchor": "y8",
         "domain": [
          0.75,
          0.98
         ],
         "matches": "x",
         "showticklabels": false
        },
        "yaxis": {
         "anchor": "x",
         "domain": [
          0,
          0.485
         ],
         "title": {
          "text": "Counts"
         },
         "type": "log"
        },
        "yaxis2": {
         "anchor": "x2",
         "domain": [
          0,
          0.485
         ],
         "matches": "y",
         "showticklabels": false,
         "type": "log"
        },
        "yaxis3": {
         "anchor": "x3",
         "domain": [
          0,
          0.485
         ],
         "matches": "y",
         "showticklabels": false,
         "type": "log"
        },
        "yaxis4": {
         "anchor": "x4",
         "domain": [
          0,
          0.485
         ],
         "matches": "y",
         "showticklabels": false,
         "type": "log"
        },
        "yaxis5": {
         "anchor": "x5",
         "domain": [
          0.515,
          1
         ],
         "matches": "y",
         "title": {
          "text": "Counts"
         },
         "type": "log"
        },
        "yaxis6": {
         "anchor": "x6",
         "domain": [
          0.515,
          1
         ],
         "matches": "y",
         "showticklabels": false,
         "type": "log"
        },
        "yaxis7": {
         "anchor": "x7",
         "domain": [
          0.515,
          1
         ],
         "matches": "y",
         "showticklabels": false,
         "type": "log"
        },
        "yaxis8": {
         "anchor": "x8",
         "domain": [
          0.515,
          1
         ],
         "matches": "y",
         "showticklabels": false,
         "type": "log"
        }
       }
      }
     },
     "metadata": {},
     "output_type": "display_data"
    }
   ],
   "source": [
    "bars = px.bar(df, x='Revival [ms]', y='Counts', \n",
    "              color='Channel', barmode='group',\n",
    "              facet_row='Metal', facet_col='Mass',\n",
    "              category_orders={\"Mass\": [\"13\", \"20\", \"30\", \"50\"],\n",
    "                               \"Metal\": [\"Solar\", \"SMC\"]},\n",
    "              log_y=True)\n",
    "bars.layout.bargroupgap = 0.2\n",
    "bars.layout.font = dict(size=18, family=\"Times New Roman\")\n",
    "bars.layout.bargap = 0.1\n",
    "bars.layout.bargroupgap = 0.05\n",
    "bars.layout.width = 1100\n",
    "bars.layout.height = 400\n",
    "bars.layout.title = f'Nakazato_2013 @ 10 kpc in KamLAND'\n",
    "bars"
   ]
  },
  {
   "cell_type": "code",
   "execution_count": 11,
   "metadata": {},
   "outputs": [],
   "source": [
    "bars.write_image('../out/plots/nak_all.png', width=1100, height=400, scale=3)\n",
    "bars.write_html('../out/plots/nak_all.html')"
   ]
  },
  {
   "cell_type": "code",
   "execution_count": null,
   "metadata": {},
   "outputs": [],
   "source": []
  }
 ],
 "metadata": {
  "interpreter": {
   "hash": "55e99dcf35939e854eab4749770e8fc8e199e03bd8c38f7a338e657ceb93f2cb"
  },
  "kernelspec": {
   "display_name": "Python 3.8.11 ('KLSN')",
   "language": "python",
   "name": "python3"
  },
  "language_info": {
   "codemirror_mode": {
    "name": "ipython",
    "version": 3
   },
   "file_extension": ".py",
   "mimetype": "text/x-python",
   "name": "python",
   "nbconvert_exporter": "python",
   "pygments_lexer": "ipython3",
   "version": "3.8.11"
  },
  "orig_nbformat": 4
 },
 "nbformat": 4,
 "nbformat_minor": 2
}
