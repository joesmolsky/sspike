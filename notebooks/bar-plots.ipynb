{
 "cells": [
  {
   "cell_type": "markdown",
   "metadata": {},
   "source": [
    "# Combine results of simulations and make bar plots\n",
    "\n",
    "Use plotly to display results from a list of supernovae model simulations processed with sspike.\n",
    "\n",
    "## Create event totals data frame from list of models\n",
    "\n",
    "Each processed model should have a `totals.txt` file with tabulated event rates by channel."
   ]
  },
  {
   "cell_type": "code",
   "execution_count": 41,
   "metadata": {},
   "outputs": [],
   "source": [
    "from os import listdir\n",
    "from os.path import isfile\n",
    "\n",
    "import pandas as pd\n",
    "\n",
    "from sspike.targets import Target\n",
    "from sspike.beer import sort_channels"
   ]
  },
  {
   "cell_type": "markdown",
   "metadata": {},
   "source": [
    "### Get file paths to tabulated results"
   ]
  },
  {
   "cell_type": "code",
   "execution_count": 18,
   "metadata": {},
   "outputs": [],
   "source": [
    "# Path to sspike snowball directory.\n",
    "snowball_dir = '/Users/joe/src/gitjoe/sspike/snowballs/'\n",
    "\n",
    "# List simulations of interest.\n",
    "sn_names = ['F21-20', 'N13-20-20-300', 'W20-20.0-1.25']\n",
    "distance = 5\n",
    "\n",
    "# List for filepaths to totals files tabulated using sspike.beer.tab()\n",
    "beer_tabs = []\n",
    "\n",
    "# Folder containing simulation results for each model.\n",
    "for name in sn_names:\n",
    "    sn_dir = f\"{snowball_dir}{name}/\"\n",
    "    # Results for distance of interest.\n",
    "    for d in listdir(sn_dir):\n",
    "        if f\"{distance}kpc\" in d:\n",
    "            file_name = f\"{sn_dir}{d}/totals.txt\"\n",
    "            if isfile(file_name):\n",
    "                beer_tabs.append(file_name)\n",
    "            else:\n",
    "                print(f'File not found!\\n{file_name}')"
   ]
  },
  {
   "cell_type": "markdown",
   "metadata": {},
   "source": [
    "### Set target for channel lists."
   ]
  },
  {
   "cell_type": "code",
   "execution_count": 54,
   "metadata": {},
   "outputs": [],
   "source": [
    "target = Target('kamland')\n",
    "combos = {**sort_channels(target.snow_channels),\n",
    "          **sort_channels(target.nc_channels)}"
   ]
  },
  {
   "cell_type": "markdown",
   "metadata": {},
   "source": [
    "### Read each file into a data frame"
   ]
  },
  {
   "cell_type": "code",
   "execution_count": 62,
   "metadata": {},
   "outputs": [],
   "source": [
    "# Columns for simulation type and events per channel.\n",
    "# TODO: add other simulation properties for sorting.\n",
    "column_names = ['sim'] + list(combos.keys())\n",
    "events = pd.DataFrame()\n",
    "for i, sn in enumerate(sn_names):\n",
    "    # One row for each simulation file.\n",
    "    row = {'sim': sn}\n",
    "    for channel in combos:\n",
    "        row[channel] = 0.\n",
    "\n",
    "    with open(beer_tabs[i], 'r') as f:\n",
    "        lines = f.readlines()\n",
    "\n",
    "    # Sort by data type/processing method.\n",
    "    skip = 0\n",
    "    data_type = None\n",
    "    nc_flav_count = 0\n",
    "    for line in lines:\n",
    "        # Skip blank line separators.\n",
    "        if not line.strip():\n",
    "            continue\n",
    "\n",
    "        # Skip lines that are for checking, but not really of interest here.\n",
    "        if skip:\n",
    "            skip -= 1\n",
    "            continue\n",
    "\n",
    "        # Data types of interest: snow-smeared, sspike-nc.\n",
    "        if len(line.split('-')) == 2:\n",
    "            data_type = line.strip()\n",
    "\n",
    "            # TODO: make this check target channel lengths.\n",
    "            if data_type == 'snow-smeared':\n",
    "                skip = 1\n",
    "            if data_type == 'snow-unsmeared':\n",
    "                skip = 23\n",
    "            if data_type == 'sspike-basic':\n",
    "                skip = 5\n",
    "            if data_type == 'sspike-nc':\n",
    "                skip = 21\n",
    "            continue\n",
    "        \n",
    "        try:\n",
    "            channel, count = line.split(':')\n",
    "        except:\n",
    "            print(line)\n",
    "            continue\n",
    "        for column in combos.keys():\n",
    "            if channel in combos[column]:\n",
    "                row[column] += float(count)\n",
    "                if '_p' in column:\n",
    "                    nc_flav_count += 1\n",
    "                break\n",
    "        if nc_flav_count == 4:\n",
    "            break\n",
    "    events = events.append(row, ignore_index=True)"
   ]
  },
  {
   "cell_type": "code",
   "execution_count": 63,
   "metadata": {},
   "outputs": [
    {
     "data": {
      "text/html": [
       "<div>\n",
       "<style scoped>\n",
       "    .dataframe tbody tr th:only-of-type {\n",
       "        vertical-align: middle;\n",
       "    }\n",
       "\n",
       "    .dataframe tbody tr th {\n",
       "        vertical-align: top;\n",
       "    }\n",
       "\n",
       "    .dataframe thead th {\n",
       "        text-align: right;\n",
       "    }\n",
       "</style>\n",
       "<table border=\"1\" class=\"dataframe\">\n",
       "  <thead>\n",
       "    <tr style=\"text-align: right;\">\n",
       "      <th></th>\n",
       "      <th>sim</th>\n",
       "      <th>ibd</th>\n",
       "      <th>e</th>\n",
       "      <th>C12-nue</th>\n",
       "      <th>C12-nuebar</th>\n",
       "      <th>C12-nc</th>\n",
       "      <th>C13-nue</th>\n",
       "      <th>C13-nc</th>\n",
       "      <th>nc_nue_p</th>\n",
       "      <th>nc_nuebar_p</th>\n",
       "      <th>nc_nux_p</th>\n",
       "      <th>nc_nuxbar_p</th>\n",
       "    </tr>\n",
       "  </thead>\n",
       "  <tbody>\n",
       "    <tr>\n",
       "      <th>0</th>\n",
       "      <td>F21-20</td>\n",
       "      <td>1487.111905</td>\n",
       "      <td>79.015312</td>\n",
       "      <td>106.223030</td>\n",
       "      <td>121.580308</td>\n",
       "      <td>243.472881</td>\n",
       "      <td>2.419639</td>\n",
       "      <td>6.459978</td>\n",
       "      <td>30.245743</td>\n",
       "      <td>44.103530</td>\n",
       "      <td>34.660981</td>\n",
       "      <td>34.660981</td>\n",
       "    </tr>\n",
       "    <tr>\n",
       "      <th>1</th>\n",
       "      <td>N13-20-20-300</td>\n",
       "      <td>325.441848</td>\n",
       "      <td>31.038321</td>\n",
       "      <td>4.146606</td>\n",
       "      <td>8.474103</td>\n",
       "      <td>41.643998</td>\n",
       "      <td>0.529867</td>\n",
       "      <td>1.824775</td>\n",
       "      <td>0.222564</td>\n",
       "      <td>0.476586</td>\n",
       "      <td>4.203557</td>\n",
       "      <td>4.203557</td>\n",
       "    </tr>\n",
       "    <tr>\n",
       "      <th>2</th>\n",
       "      <td>W20-20.0-1.25</td>\n",
       "      <td>466.692736</td>\n",
       "      <td>33.280216</td>\n",
       "      <td>4.016982</td>\n",
       "      <td>13.297901</td>\n",
       "      <td>60.889099</td>\n",
       "      <td>0.665346</td>\n",
       "      <td>2.312129</td>\n",
       "      <td>0.004581</td>\n",
       "      <td>0.050648</td>\n",
       "      <td>1.203849</td>\n",
       "      <td>1.203849</td>\n",
       "    </tr>\n",
       "  </tbody>\n",
       "</table>\n",
       "</div>"
      ],
      "text/plain": [
       "             sim          ibd          e     C12-nue  C12-nuebar      C12-nc  \\\n",
       "0         F21-20  1487.111905  79.015312  106.223030  121.580308  243.472881   \n",
       "1  N13-20-20-300   325.441848  31.038321    4.146606    8.474103   41.643998   \n",
       "2  W20-20.0-1.25   466.692736  33.280216    4.016982   13.297901   60.889099   \n",
       "\n",
       "    C13-nue    C13-nc   nc_nue_p  nc_nuebar_p   nc_nux_p  nc_nuxbar_p  \n",
       "0  2.419639  6.459978  30.245743    44.103530  34.660981    34.660981  \n",
       "1  0.529867  1.824775   0.222564     0.476586   4.203557     4.203557  \n",
       "2  0.665346  2.312129   0.004581     0.050648   1.203849     1.203849  "
      ]
     },
     "execution_count": 63,
     "metadata": {},
     "output_type": "execute_result"
    }
   ],
   "source": [
    "events"
   ]
  },
  {
   "cell_type": "markdown",
   "metadata": {},
   "source": []
  }
 ],
 "metadata": {
  "interpreter": {
   "hash": "55e99dcf35939e854eab4749770e8fc8e199e03bd8c38f7a338e657ceb93f2cb"
  },
  "kernelspec": {
   "display_name": "Python 3.8.11 ('KLSN')",
   "language": "python",
   "name": "python3"
  },
  "language_info": {
   "codemirror_mode": {
    "name": "ipython",
    "version": 3
   },
   "file_extension": ".py",
   "mimetype": "text/x-python",
   "name": "python",
   "nbconvert_exporter": "python",
   "pygments_lexer": "ipython3",
   "version": "3.8.11"
  },
  "orig_nbformat": 4
 },
 "nbformat": 4,
 "nbformat_minor": 2
}
