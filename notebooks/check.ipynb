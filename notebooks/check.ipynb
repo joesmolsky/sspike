{
 "cells": [
  {
   "cell_type": "code",
   "execution_count": 2,
   "metadata": {},
   "outputs": [],
   "source": [
    "f_mins = [\n",
    "                -0.2135,\n",
    "                -0.2725,\n",
    "                -0.2765,\n",
    "                -0.2665,\n",
    "                -0.2685,\n",
    "                -0.2955,\n",
    "                -0.2305,\n",
    "                -0.2535,\n",
    "                -0.3125,\n",
    "                -0.3565,\n",
    "                -0.3255,\n",
    "                -0.3145,\n",
    "                -0.3245,\n",
    "                -0.3125,\n",
    "                -0.3145,\n",
    "            ]"
   ]
  },
  {
   "cell_type": "code",
   "execution_count": 6,
   "metadata": {},
   "outputs": [
    {
     "data": {
      "text/plain": [
       "(3.1135, 4.7405)"
      ]
     },
     "execution_count": 6,
     "metadata": {},
     "output_type": "execute_result"
    }
   ],
   "source": [
    "f_maxes = [\n",
    "                4.4885,\n",
    "                4.5955,\n",
    "                4.5115,\n",
    "                3.8355,\n",
    "                4.4455,\n",
    "                4.6645,\n",
    "                4.4585,\n",
    "                4.4525,\n",
    "                4.6345,\n",
    "                3.7615,\n",
    "                4.7405,\n",
    "                4.5495,\n",
    "                3.1135,\n",
    "                4.5955,\n",
    "                4.5985,\n",
    "            ]\n",
    "min(f_maxes), max(f_maxes)"
   ]
  },
  {
   "cell_type": "code",
   "execution_count": null,
   "metadata": {},
   "outputs": [],
   "source": []
  }
 ],
 "metadata": {
  "interpreter": {
   "hash": "55e99dcf35939e854eab4749770e8fc8e199e03bd8c38f7a338e657ceb93f2cb"
  },
  "kernelspec": {
   "display_name": "Python 3.8.11 ('KLSN')",
   "language": "python",
   "name": "python3"
  },
  "language_info": {
   "codemirror_mode": {
    "name": "ipython",
    "version": 3
   },
   "file_extension": ".py",
   "mimetype": "text/x-python",
   "name": "python",
   "nbconvert_exporter": "python",
   "pygments_lexer": "ipython3",
   "version": "3.8.11"
  },
  "orig_nbformat": 4
 },
 "nbformat": 4,
 "nbformat_minor": 2
}
