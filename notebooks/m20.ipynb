{
 "cells": [
  {
   "cell_type": "markdown",
   "metadata": {},
   "source": [
    "# Compare 20 S.M. models totals\n",
    "\n",
    "Use plotly to display results from a list of supernovae model simulations processed with sspike."
   ]
  },
  {
   "cell_type": "code",
   "execution_count": 1,
   "metadata": {},
   "outputs": [],
   "source": [
    "from os import listdir\n",
    "from os.path import isfile\n",
    "\n",
    "import pandas as pd\n",
    "import plotly.express as px\n",
    "import matplotlib.pyplot as plt\n",
    "\n",
    "from sspike.env import sspike_dir"
   ]
  },
  {
   "cell_type": "markdown",
   "metadata": {},
   "source": [
    "## Get file paths to visible totals\n",
    "\n",
    "Simulations can be run via: `sspike progenitors/m20d10kpc.json`.\n",
    "\n",
    "Notes:\n",
    "- There seems to be something wrong with the Fornax model numbers.\n",
    "- This notebook may not work right if there are similar simulations in the bin_dir."
   ]
  },
  {
   "cell_type": "code",
   "execution_count": 2,
   "metadata": {},
   "outputs": [],
   "source": [
    "# List simulations of 20 solar masses at 10 kpc. (m20d10kpc.json)\n",
    "# Something seems off with the Fornax models.\n",
    "with_fornax = False\n",
    "\n",
    "if with_fornax:\n",
    "    sn_names = ['F21-20.0', \n",
    "                'K20-00-00', 'K20-10-12', 'K20-10-13',\n",
    "                'N13-20-20-100', 'N13-20-20-200', 'N13-20-20-300', \n",
    "                'T14-20.0',\n",
    "                'W20-20.0-1.23', 'W20-20.0-1.25', 'W20-20.0-1.27']\n",
    "else:\n",
    "    sn_names = ['K20-00-00', 'K20-10-12', 'K20-10-13',\n",
    "                'N13-20-20-100', 'N13-20-20-200', 'N13-20-20-300', \n",
    "                'T14-20.0',\n",
    "                'W20-20.0-1.23', 'W20-20.0-1.25', 'W20-20.0-1.27']\n",
    "\n",
    "xforms = ['NT', 'aMSW-I', 'aMSW-N']\n",
    "\n",
    "# List for filepaths to totals files tabulated using sspike.beer.tab()\n",
    "files = []\n",
    "\n",
    "# Folder containing simulation results for each model.\n",
    "for name in sn_names:\n",
    "    for x in xforms:\n",
    "        sn_dir = f\"{sspike_dir}/kamland/{name}/10.0kpc-{x}\"\n",
    "        for bin_dir in listdir(sn_dir):\n",
    "            if bin_dir == \"b1s0.0e0.5\":\n",
    "                continue\n",
    "            file_name = f\"{sn_dir}/{bin_dir}/totals_vis_0.csv\"\n",
    "            if isfile(file_name):\n",
    "                files.append(file_name)"
   ]
  },
  {
   "cell_type": "markdown",
   "metadata": {},
   "source": [
    "## Compile data\n",
    "\n",
    "Read each file and add event rates to a single DataFrame."
   ]
  },
  {
   "cell_type": "code",
   "execution_count": 4,
   "metadata": {},
   "outputs": [],
   "source": [
    "# Columns for simulation type and events per channel.\n",
    "column_names = ['sn_name', 'model', 'channel', 'counts', 'ratio', 'xform']\n",
    "\n",
    "events = pd.DataFrame(columns=column_names)\n",
    "# Append 1 row for each channel.  I don't care if it's not efficient.  Who's reading this?\n",
    "for i, file in enumerate(files):\n",
    "    dirs = file.split('/')\n",
    "    j = dirs.index('kamland')\n",
    "    name = dirs[j+1]\n",
    "    xform = dirs[j+2].split('-')[-1]\n",
    "    df = pd.read_csv(file, sep=\" \")\n",
    "    model = df[:1]['model'].values[0]\n",
    "    ibd = df[df['channel']=='ibd']['events'].values[0]\n",
    "    for chan in df['channel']:\n",
    "        N = df[df['channel']==chan]['events'].values[0]\n",
    "        ratio = N / ibd\n",
    "        row = {'sn_name': name, 'model': model, 'channel': chan, 'counts': N, 'ratio': ratio, 'xform': xform}\n",
    "        events = events.append(row , ignore_index=True)"
   ]
  },
  {
   "cell_type": "markdown",
   "metadata": {},
   "source": [
    "## Plotly"
   ]
  },
  {
   "cell_type": "code",
   "execution_count": 5,
   "metadata": {},
   "outputs": [
    {
     "data": {
      "application/vnd.plotly.v1+json": {
       "config": {
        "plotlyServerURL": "https://plot.ly"
       },
       "data": [
        {
         "alignmentgroup": "True",
         "hovertemplate": "sn_name=K20-00-00<br>channel=%{x}<br>counts=%{y}<extra></extra>",
         "legendgroup": "K20-00-00",
         "marker": {
          "color": "#636efa",
          "pattern": {
           "shape": ""
          }
         },
         "name": "K20-00-00",
         "offsetgroup": "K20-00-00",
         "orientation": "v",
         "showlegend": true,
         "textposition": "auto",
         "type": "bar",
         "x": [
          "ibd",
          "nue_C12",
          "nue_C13",
          "nuebar_C12",
          "nc",
          "e",
          "nc_p",
          "ibd",
          "nue_C12",
          "nue_C13",
          "nuebar_C12",
          "nc",
          "e",
          "nc_p",
          "ibd",
          "nue_C12",
          "nue_C13",
          "nuebar_C12",
          "nc",
          "e",
          "nc_p"
         ],
         "xaxis": "x",
         "y": [
          72.44974663941,
          1.592617349766686,
          0.150856788320503,
          2.2911741825787377,
          9.230551410120873,
          5.202849190203998,
          1.1738055015565658,
          73.600937803,
          3.3064191677330363,
          0.1518853636013258,
          3.4797292752600963,
          9.23055541244535,
          4.546099156991303,
          1.4654792549478677,
          72.8254887136,
          3.976449079506362,
          0.1522874777958223,
          2.6791578667116025,
          9.23054932123615,
          4.382422507923076,
          1.4159886142852125
         ],
         "yaxis": "y"
        },
        {
         "alignmentgroup": "True",
         "hovertemplate": "sn_name=K20-10-12<br>channel=%{x}<br>counts=%{y}<extra></extra>",
         "legendgroup": "K20-10-12",
         "marker": {
          "color": "#EF553B",
          "pattern": {
           "shape": ""
          }
         },
         "name": "K20-10-12",
         "offsetgroup": "K20-10-12",
         "orientation": "v",
         "showlegend": true,
         "textposition": "auto",
         "type": "bar",
         "x": [
          "ibd",
          "nue_C12",
          "nue_C13",
          "nuebar_C12",
          "nc",
          "e",
          "nc_p",
          "ibd",
          "nue_C12",
          "nue_C13",
          "nuebar_C12",
          "nc",
          "e",
          "nc_p",
          "ibd",
          "nue_C12",
          "nue_C13",
          "nuebar_C12",
          "nc",
          "e",
          "nc_p"
         ],
         "xaxis": "x",
         "y": [
          44.383254898974,
          1.0322205496161334,
          0.1021355088131205,
          1.2339270153780526,
          5.204798059521567,
          3.511511892600616,
          0.5749529505136253,
          43.8941868399,
          1.8285487617164424,
          0.0937483049807787,
          1.91601077483543,
          5.204798360103589,
          2.9279576626011683,
          0.7130948268454518,
          44.22361473424,
          2.139882461635118,
          0.0904692339421898,
          1.4565818423149064,
          5.204804433085612,
          2.775253836662404,
          0.6837562297289208
         ],
         "yaxis": "y"
        },
        {
         "alignmentgroup": "True",
         "hovertemplate": "sn_name=K20-10-13<br>channel=%{x}<br>counts=%{y}<extra></extra>",
         "legendgroup": "K20-10-13",
         "marker": {
          "color": "#00cc96",
          "pattern": {
           "shape": ""
          }
         },
         "name": "K20-10-13",
         "offsetgroup": "K20-10-13",
         "orientation": "v",
         "showlegend": true,
         "textposition": "auto",
         "type": "bar",
         "x": [
          "ibd",
          "nue_C12",
          "nue_C13",
          "nuebar_C12",
          "nc",
          "e",
          "nc_p",
          "ibd",
          "nue_C12",
          "nue_C13",
          "nuebar_C12",
          "nc",
          "e",
          "nc_p",
          "ibd",
          "nue_C12",
          "nue_C13",
          "nuebar_C12",
          "nc",
          "e",
          "nc_p"
         ],
         "xaxis": "x",
         "y": [
          42.11311176912,
          0.73107559408659,
          0.0922767204744869,
          1.2301397946578922,
          4.848755894352916,
          3.29113224342823,
          0.5273949154706457,
          41.1170951668,
          1.659444829506376,
          0.0868313301795617,
          1.8117325317156423,
          4.848752161160894,
          2.738485839210296,
          0.6677837512603024,
          41.78798400545999,
          2.0224014408316977,
          0.0847023936032383,
          1.4199906473188333,
          4.848751601800292,
          2.5919012077885264,
          0.6471453883958027
         ],
         "yaxis": "y"
        },
        {
         "alignmentgroup": "True",
         "hovertemplate": "sn_name=N13-20-20-100<br>channel=%{x}<br>counts=%{y}<extra></extra>",
         "legendgroup": "N13-20-20-100",
         "marker": {
          "color": "#ab63fa",
          "pattern": {
           "shape": ""
          }
         },
         "name": "N13-20-20-100",
         "offsetgroup": "N13-20-20-100",
         "orientation": "v",
         "showlegend": true,
         "textposition": "auto",
         "type": "bar",
         "x": [
          "ibd",
          "nue_C12",
          "nue_C13",
          "nuebar_C12",
          "nc",
          "e",
          "nc_p",
          "ibd",
          "nue_C12",
          "nue_C13",
          "nuebar_C12",
          "nc",
          "e",
          "nc_p",
          "ibd",
          "nue_C12",
          "nue_C13",
          "nuebar_C12",
          "nc",
          "e",
          "nc_p"
         ],
         "xaxis": "x",
         "y": [
          70.370666990176,
          0.5311133362183033,
          0.1236031959559713,
          1.138842723908425,
          8.57693598758863,
          6.807878422377366,
          1.7689160200391023,
          100.159871508,
          3.5798956450701445,
          0.1766099101423974,
          3.813092030059434,
          8.576948313133553,
          7.003149387239644,
          2.481618688481752,
          80.09485231000001,
          4.77185241034682,
          0.197333479408797,
          2.0118063423382124,
          8.57694516937433,
          6.917823377127522,
          2.3233331404153894
         ],
         "yaxis": "y"
        },
        {
         "alignmentgroup": "True",
         "hovertemplate": "sn_name=N13-20-20-200<br>channel=%{x}<br>counts=%{y}<extra></extra>",
         "legendgroup": "N13-20-20-200",
         "marker": {
          "color": "#FFA15A",
          "pattern": {
           "shape": ""
          }
         },
         "name": "N13-20-20-200",
         "offsetgroup": "N13-20-20-200",
         "orientation": "v",
         "showlegend": true,
         "textposition": "auto",
         "type": "bar",
         "x": [
          "ibd",
          "nue_C12",
          "nue_C13",
          "nuebar_C12",
          "nc",
          "e",
          "nc_p",
          "ibd",
          "nue_C12",
          "nue_C13",
          "nuebar_C12",
          "nc",
          "e",
          "nc_p",
          "ibd",
          "nue_C12",
          "nue_C13",
          "nuebar_C12",
          "nc",
          "e",
          "nc_p"
         ],
         "xaxis": "x",
         "y": [
          81.93045187049199,
          0.8770543790268658,
          0.1457955956435102,
          1.6525828494146566,
          9.943433032333656,
          7.39675494572151,
          2.0563646108404274,
          108.413110308,
          4.120908244361159,
          0.1950249479046379,
          4.290164560066877,
          9.943430964237525,
          7.526338069114937,
          2.845286123477992,
          90.575257503,
          5.3891302388086295,
          0.2142717140356776,
          2.5135768550312685,
          9.94343134763498,
          7.43547652199755,
          2.6742984825629823
         ],
         "yaxis": "y"
        },
        {
         "alignmentgroup": "True",
         "hovertemplate": "sn_name=N13-20-20-300<br>channel=%{x}<br>counts=%{y}<extra></extra>",
         "legendgroup": "N13-20-20-300",
         "marker": {
          "color": "#19d3f3",
          "pattern": {
           "shape": ""
          }
         },
         "name": "N13-20-20-300",
         "offsetgroup": "N13-20-20-300",
         "orientation": "v",
         "showlegend": true,
         "textposition": "auto",
         "type": "bar",
         "x": [
          "ibd",
          "nue_C12",
          "nue_C13",
          "nuebar_C12",
          "nc",
          "e",
          "nc_p",
          "ibd",
          "nue_C12",
          "nue_C13",
          "nuebar_C12",
          "nc",
          "e",
          "nc_p",
          "ibd",
          "nue_C12",
          "nue_C13",
          "nuebar_C12",
          "nc",
          "e",
          "nc_p"
         ],
         "xaxis": "x",
         "y": [
          90.4005108441,
          1.279816353394892,
          0.1635392654948288,
          2.118525304051743,
          10.867213216502584,
          7.759577081951442,
          2.276565994371639,
          112.32755833000002,
          4.48328967412175,
          0.2059184636095977,
          4.555365190640797,
          10.86721608092373,
          7.792856659896033,
          3.0818313337288497,
          97.558242893,
          5.735724832370068,
          0.2224871089358372,
          2.9139911744718416,
          10.86721658655175,
          7.693261705381291,
          2.911815138272676
         ],
         "yaxis": "y"
        },
        {
         "alignmentgroup": "True",
         "hovertemplate": "sn_name=T14-20.0<br>channel=%{x}<br>counts=%{y}<extra></extra>",
         "legendgroup": "T14-20.0",
         "marker": {
          "color": "#FF6692",
          "pattern": {
           "shape": ""
          }
         },
         "name": "T14-20.0",
         "offsetgroup": "T14-20.0",
         "orientation": "v",
         "showlegend": true,
         "textposition": "auto",
         "type": "bar",
         "x": [
          "ibd",
          "nue_C12",
          "nue_C13",
          "nuebar_C12",
          "nc",
          "e",
          "nc_p",
          "ibd",
          "nue_C12",
          "nue_C13",
          "nuebar_C12",
          "nc",
          "e",
          "nc_p",
          "ibd",
          "nue_C12",
          "nue_C13",
          "nuebar_C12",
          "nc",
          "e",
          "nc_p"
         ],
         "xaxis": "x",
         "y": [
          74.223063431534,
          1.1612218441554278,
          0.1429170165038367,
          2.106962519953152,
          6.245388929733779,
          4.7515462699084345,
          0.4439274425483467,
          55.03499215556,
          1.8945513297596803,
          0.1207903054826035,
          2.087180319538446,
          6.24539241277338,
          3.838262543593369,
          0.5374578228199114,
          67.95943971838,
          2.181255000126134,
          0.1121396480782122,
          2.100505239456995,
          6.245401505937703,
          3.68688974176796,
          0.5273927706920332
         ],
         "yaxis": "y"
        },
        {
         "alignmentgroup": "True",
         "hovertemplate": "sn_name=W20-20.0-1.23<br>channel=%{x}<br>counts=%{y}<extra></extra>",
         "legendgroup": "W20-20.0-1.23",
         "marker": {
          "color": "#B6E880",
          "pattern": {
           "shape": ""
          }
         },
         "name": "W20-20.0-1.23",
         "offsetgroup": "W20-20.0-1.23",
         "orientation": "v",
         "showlegend": true,
         "textposition": "auto",
         "type": "bar",
         "x": [
          "ibd",
          "nue_C12",
          "nue_C13",
          "nuebar_C12",
          "nc",
          "e",
          "nc_p",
          "ibd",
          "nue_C12",
          "nue_C13",
          "nuebar_C12",
          "nc",
          "e",
          "nc_p",
          "ibd",
          "nue_C12",
          "nue_C13",
          "nuebar_C12",
          "nc",
          "e",
          "nc_p"
         ],
         "xaxis": "x",
         "y": [
          136.13997916868,
          1.3837404131941011,
          0.2162665526631006,
          3.5756953969161347,
          16.42974683404364,
          8.612499525683857,
          2.509338251487825,
          130.491056026,
          6.196200471189496,
          0.2545847446805576,
          6.756940244794247,
          16.42974553445636,
          7.708242059969759,
          3.434896758596402,
          134.295968156,
          8.07768689047964,
          0.2695657058113581,
          4.614158607146075,
          16.42975659585932,
          7.604314679279779,
          3.2462328442009154
         ],
         "yaxis": "y"
        },
        {
         "alignmentgroup": "True",
         "hovertemplate": "sn_name=W20-20.0-1.25<br>channel=%{x}<br>counts=%{y}<extra></extra>",
         "legendgroup": "W20-20.0-1.25",
         "marker": {
          "color": "#FF97FF",
          "pattern": {
           "shape": ""
          }
         },
         "name": "W20-20.0-1.25",
         "offsetgroup": "W20-20.0-1.25",
         "orientation": "v",
         "showlegend": true,
         "textposition": "auto",
         "type": "bar",
         "x": [
          "ibd",
          "nue_C12",
          "nue_C13",
          "nuebar_C12",
          "nc",
          "e",
          "nc_p",
          "ibd",
          "nue_C12",
          "nue_C13",
          "nuebar_C12",
          "nc",
          "e",
          "nc_p",
          "ibd",
          "nue_C12",
          "nue_C13",
          "nuebar_C12",
          "nc",
          "e",
          "nc_p"
         ],
         "xaxis": "x",
         "y": [
          129.63686844441398,
          1.2398087669123257,
          0.2053538145753818,
          3.3244750054947843,
          15.80027344999811,
          8.32005369287042,
          2.393239025231974,
          127.035625935,
          5.959143226096576,
          0.2463303912607967,
          6.541011252584536,
          15.800295163647514,
          7.488728676340815,
          3.2864407467003787,
          128.7877631866,
          7.804222170626306,
          0.2623506263335982,
          4.3744578612523615,
          15.80029575674456,
          7.387310151510843,
          3.103047669904192
         ],
         "yaxis": "y"
        },
        {
         "alignmentgroup": "True",
         "hovertemplate": "sn_name=W20-20.0-1.27<br>channel=%{x}<br>counts=%{y}<extra></extra>",
         "legendgroup": "W20-20.0-1.27",
         "marker": {
          "color": "#FECB52",
          "pattern": {
           "shape": ""
          }
         },
         "name": "W20-20.0-1.27",
         "offsetgroup": "W20-20.0-1.27",
         "orientation": "v",
         "showlegend": true,
         "textposition": "auto",
         "type": "bar",
         "x": [
          "ibd",
          "nue_C12",
          "nue_C13",
          "nuebar_C12",
          "nc",
          "e",
          "nc_p",
          "ibd",
          "nue_C12",
          "nue_C13",
          "nuebar_C12",
          "nc",
          "e",
          "nc_p",
          "ibd",
          "nue_C12",
          "nue_C13",
          "nuebar_C12",
          "nc",
          "e",
          "nc_p"
         ],
         "xaxis": "x",
         "y": [
          125.402635237246,
          1.15123980955613,
          0.1983093553312374,
          3.166607716101535,
          15.376020069499727,
          8.12473496676364,
          2.315109630611973,
          124.609441114,
          5.797789424148142,
          0.2407098428862384,
          6.390867312443223,
          15.376005775041698,
          7.338062631456987,
          3.185155593728482,
          125.1437363844,
          7.614414513795884,
          0.2572868003288777,
          4.2191117110716565,
          15.376026998939627,
          7.238038148501849,
          3.005758747247794
         ],
         "yaxis": "y"
        }
       ],
       "layout": {
        "bargap": 0.1,
        "bargroupgap": 0.05,
        "barmode": "group",
        "font": {
         "family": "Times New Roman",
         "size": 14
        },
        "height": 400,
        "legend": {
         "title": {
          "text": "sn_name"
         },
         "tracegroupgap": 0
        },
        "margin": {
         "t": 60
        },
        "template": {
         "data": {
          "bar": [
           {
            "error_x": {
             "color": "#2a3f5f"
            },
            "error_y": {
             "color": "#2a3f5f"
            },
            "marker": {
             "line": {
              "color": "#E5ECF6",
              "width": 0.5
             },
             "pattern": {
              "fillmode": "overlay",
              "size": 10,
              "solidity": 0.2
             }
            },
            "type": "bar"
           }
          ],
          "barpolar": [
           {
            "marker": {
             "line": {
              "color": "#E5ECF6",
              "width": 0.5
             },
             "pattern": {
              "fillmode": "overlay",
              "size": 10,
              "solidity": 0.2
             }
            },
            "type": "barpolar"
           }
          ],
          "carpet": [
           {
            "aaxis": {
             "endlinecolor": "#2a3f5f",
             "gridcolor": "white",
             "linecolor": "white",
             "minorgridcolor": "white",
             "startlinecolor": "#2a3f5f"
            },
            "baxis": {
             "endlinecolor": "#2a3f5f",
             "gridcolor": "white",
             "linecolor": "white",
             "minorgridcolor": "white",
             "startlinecolor": "#2a3f5f"
            },
            "type": "carpet"
           }
          ],
          "choropleth": [
           {
            "colorbar": {
             "outlinewidth": 0,
             "ticks": ""
            },
            "type": "choropleth"
           }
          ],
          "contour": [
           {
            "colorbar": {
             "outlinewidth": 0,
             "ticks": ""
            },
            "colorscale": [
             [
              0,
              "#0d0887"
             ],
             [
              0.1111111111111111,
              "#46039f"
             ],
             [
              0.2222222222222222,
              "#7201a8"
             ],
             [
              0.3333333333333333,
              "#9c179e"
             ],
             [
              0.4444444444444444,
              "#bd3786"
             ],
             [
              0.5555555555555556,
              "#d8576b"
             ],
             [
              0.6666666666666666,
              "#ed7953"
             ],
             [
              0.7777777777777778,
              "#fb9f3a"
             ],
             [
              0.8888888888888888,
              "#fdca26"
             ],
             [
              1,
              "#f0f921"
             ]
            ],
            "type": "contour"
           }
          ],
          "contourcarpet": [
           {
            "colorbar": {
             "outlinewidth": 0,
             "ticks": ""
            },
            "type": "contourcarpet"
           }
          ],
          "heatmap": [
           {
            "colorbar": {
             "outlinewidth": 0,
             "ticks": ""
            },
            "colorscale": [
             [
              0,
              "#0d0887"
             ],
             [
              0.1111111111111111,
              "#46039f"
             ],
             [
              0.2222222222222222,
              "#7201a8"
             ],
             [
              0.3333333333333333,
              "#9c179e"
             ],
             [
              0.4444444444444444,
              "#bd3786"
             ],
             [
              0.5555555555555556,
              "#d8576b"
             ],
             [
              0.6666666666666666,
              "#ed7953"
             ],
             [
              0.7777777777777778,
              "#fb9f3a"
             ],
             [
              0.8888888888888888,
              "#fdca26"
             ],
             [
              1,
              "#f0f921"
             ]
            ],
            "type": "heatmap"
           }
          ],
          "heatmapgl": [
           {
            "colorbar": {
             "outlinewidth": 0,
             "ticks": ""
            },
            "colorscale": [
             [
              0,
              "#0d0887"
             ],
             [
              0.1111111111111111,
              "#46039f"
             ],
             [
              0.2222222222222222,
              "#7201a8"
             ],
             [
              0.3333333333333333,
              "#9c179e"
             ],
             [
              0.4444444444444444,
              "#bd3786"
             ],
             [
              0.5555555555555556,
              "#d8576b"
             ],
             [
              0.6666666666666666,
              "#ed7953"
             ],
             [
              0.7777777777777778,
              "#fb9f3a"
             ],
             [
              0.8888888888888888,
              "#fdca26"
             ],
             [
              1,
              "#f0f921"
             ]
            ],
            "type": "heatmapgl"
           }
          ],
          "histogram": [
           {
            "marker": {
             "pattern": {
              "fillmode": "overlay",
              "size": 10,
              "solidity": 0.2
             }
            },
            "type": "histogram"
           }
          ],
          "histogram2d": [
           {
            "colorbar": {
             "outlinewidth": 0,
             "ticks": ""
            },
            "colorscale": [
             [
              0,
              "#0d0887"
             ],
             [
              0.1111111111111111,
              "#46039f"
             ],
             [
              0.2222222222222222,
              "#7201a8"
             ],
             [
              0.3333333333333333,
              "#9c179e"
             ],
             [
              0.4444444444444444,
              "#bd3786"
             ],
             [
              0.5555555555555556,
              "#d8576b"
             ],
             [
              0.6666666666666666,
              "#ed7953"
             ],
             [
              0.7777777777777778,
              "#fb9f3a"
             ],
             [
              0.8888888888888888,
              "#fdca26"
             ],
             [
              1,
              "#f0f921"
             ]
            ],
            "type": "histogram2d"
           }
          ],
          "histogram2dcontour": [
           {
            "colorbar": {
             "outlinewidth": 0,
             "ticks": ""
            },
            "colorscale": [
             [
              0,
              "#0d0887"
             ],
             [
              0.1111111111111111,
              "#46039f"
             ],
             [
              0.2222222222222222,
              "#7201a8"
             ],
             [
              0.3333333333333333,
              "#9c179e"
             ],
             [
              0.4444444444444444,
              "#bd3786"
             ],
             [
              0.5555555555555556,
              "#d8576b"
             ],
             [
              0.6666666666666666,
              "#ed7953"
             ],
             [
              0.7777777777777778,
              "#fb9f3a"
             ],
             [
              0.8888888888888888,
              "#fdca26"
             ],
             [
              1,
              "#f0f921"
             ]
            ],
            "type": "histogram2dcontour"
           }
          ],
          "mesh3d": [
           {
            "colorbar": {
             "outlinewidth": 0,
             "ticks": ""
            },
            "type": "mesh3d"
           }
          ],
          "parcoords": [
           {
            "line": {
             "colorbar": {
              "outlinewidth": 0,
              "ticks": ""
             }
            },
            "type": "parcoords"
           }
          ],
          "pie": [
           {
            "automargin": true,
            "type": "pie"
           }
          ],
          "scatter": [
           {
            "marker": {
             "colorbar": {
              "outlinewidth": 0,
              "ticks": ""
             }
            },
            "type": "scatter"
           }
          ],
          "scatter3d": [
           {
            "line": {
             "colorbar": {
              "outlinewidth": 0,
              "ticks": ""
             }
            },
            "marker": {
             "colorbar": {
              "outlinewidth": 0,
              "ticks": ""
             }
            },
            "type": "scatter3d"
           }
          ],
          "scattercarpet": [
           {
            "marker": {
             "colorbar": {
              "outlinewidth": 0,
              "ticks": ""
             }
            },
            "type": "scattercarpet"
           }
          ],
          "scattergeo": [
           {
            "marker": {
             "colorbar": {
              "outlinewidth": 0,
              "ticks": ""
             }
            },
            "type": "scattergeo"
           }
          ],
          "scattergl": [
           {
            "marker": {
             "colorbar": {
              "outlinewidth": 0,
              "ticks": ""
             }
            },
            "type": "scattergl"
           }
          ],
          "scattermapbox": [
           {
            "marker": {
             "colorbar": {
              "outlinewidth": 0,
              "ticks": ""
             }
            },
            "type": "scattermapbox"
           }
          ],
          "scatterpolar": [
           {
            "marker": {
             "colorbar": {
              "outlinewidth": 0,
              "ticks": ""
             }
            },
            "type": "scatterpolar"
           }
          ],
          "scatterpolargl": [
           {
            "marker": {
             "colorbar": {
              "outlinewidth": 0,
              "ticks": ""
             }
            },
            "type": "scatterpolargl"
           }
          ],
          "scatterternary": [
           {
            "marker": {
             "colorbar": {
              "outlinewidth": 0,
              "ticks": ""
             }
            },
            "type": "scatterternary"
           }
          ],
          "surface": [
           {
            "colorbar": {
             "outlinewidth": 0,
             "ticks": ""
            },
            "colorscale": [
             [
              0,
              "#0d0887"
             ],
             [
              0.1111111111111111,
              "#46039f"
             ],
             [
              0.2222222222222222,
              "#7201a8"
             ],
             [
              0.3333333333333333,
              "#9c179e"
             ],
             [
              0.4444444444444444,
              "#bd3786"
             ],
             [
              0.5555555555555556,
              "#d8576b"
             ],
             [
              0.6666666666666666,
              "#ed7953"
             ],
             [
              0.7777777777777778,
              "#fb9f3a"
             ],
             [
              0.8888888888888888,
              "#fdca26"
             ],
             [
              1,
              "#f0f921"
             ]
            ],
            "type": "surface"
           }
          ],
          "table": [
           {
            "cells": {
             "fill": {
              "color": "#EBF0F8"
             },
             "line": {
              "color": "white"
             }
            },
            "header": {
             "fill": {
              "color": "#C8D4E3"
             },
             "line": {
              "color": "white"
             }
            },
            "type": "table"
           }
          ]
         },
         "layout": {
          "annotationdefaults": {
           "arrowcolor": "#2a3f5f",
           "arrowhead": 0,
           "arrowwidth": 1
          },
          "autotypenumbers": "strict",
          "coloraxis": {
           "colorbar": {
            "outlinewidth": 0,
            "ticks": ""
           }
          },
          "colorscale": {
           "diverging": [
            [
             0,
             "#8e0152"
            ],
            [
             0.1,
             "#c51b7d"
            ],
            [
             0.2,
             "#de77ae"
            ],
            [
             0.3,
             "#f1b6da"
            ],
            [
             0.4,
             "#fde0ef"
            ],
            [
             0.5,
             "#f7f7f7"
            ],
            [
             0.6,
             "#e6f5d0"
            ],
            [
             0.7,
             "#b8e186"
            ],
            [
             0.8,
             "#7fbc41"
            ],
            [
             0.9,
             "#4d9221"
            ],
            [
             1,
             "#276419"
            ]
           ],
           "sequential": [
            [
             0,
             "#0d0887"
            ],
            [
             0.1111111111111111,
             "#46039f"
            ],
            [
             0.2222222222222222,
             "#7201a8"
            ],
            [
             0.3333333333333333,
             "#9c179e"
            ],
            [
             0.4444444444444444,
             "#bd3786"
            ],
            [
             0.5555555555555556,
             "#d8576b"
            ],
            [
             0.6666666666666666,
             "#ed7953"
            ],
            [
             0.7777777777777778,
             "#fb9f3a"
            ],
            [
             0.8888888888888888,
             "#fdca26"
            ],
            [
             1,
             "#f0f921"
            ]
           ],
           "sequentialminus": [
            [
             0,
             "#0d0887"
            ],
            [
             0.1111111111111111,
             "#46039f"
            ],
            [
             0.2222222222222222,
             "#7201a8"
            ],
            [
             0.3333333333333333,
             "#9c179e"
            ],
            [
             0.4444444444444444,
             "#bd3786"
            ],
            [
             0.5555555555555556,
             "#d8576b"
            ],
            [
             0.6666666666666666,
             "#ed7953"
            ],
            [
             0.7777777777777778,
             "#fb9f3a"
            ],
            [
             0.8888888888888888,
             "#fdca26"
            ],
            [
             1,
             "#f0f921"
            ]
           ]
          },
          "colorway": [
           "#636efa",
           "#EF553B",
           "#00cc96",
           "#ab63fa",
           "#FFA15A",
           "#19d3f3",
           "#FF6692",
           "#B6E880",
           "#FF97FF",
           "#FECB52"
          ],
          "font": {
           "color": "#2a3f5f"
          },
          "geo": {
           "bgcolor": "white",
           "lakecolor": "white",
           "landcolor": "#E5ECF6",
           "showlakes": true,
           "showland": true,
           "subunitcolor": "white"
          },
          "hoverlabel": {
           "align": "left"
          },
          "hovermode": "closest",
          "mapbox": {
           "style": "light"
          },
          "paper_bgcolor": "white",
          "plot_bgcolor": "#E5ECF6",
          "polar": {
           "angularaxis": {
            "gridcolor": "white",
            "linecolor": "white",
            "ticks": ""
           },
           "bgcolor": "#E5ECF6",
           "radialaxis": {
            "gridcolor": "white",
            "linecolor": "white",
            "ticks": ""
           }
          },
          "scene": {
           "xaxis": {
            "backgroundcolor": "#E5ECF6",
            "gridcolor": "white",
            "gridwidth": 2,
            "linecolor": "white",
            "showbackground": true,
            "ticks": "",
            "zerolinecolor": "white"
           },
           "yaxis": {
            "backgroundcolor": "#E5ECF6",
            "gridcolor": "white",
            "gridwidth": 2,
            "linecolor": "white",
            "showbackground": true,
            "ticks": "",
            "zerolinecolor": "white"
           },
           "zaxis": {
            "backgroundcolor": "#E5ECF6",
            "gridcolor": "white",
            "gridwidth": 2,
            "linecolor": "white",
            "showbackground": true,
            "ticks": "",
            "zerolinecolor": "white"
           }
          },
          "shapedefaults": {
           "line": {
            "color": "#2a3f5f"
           }
          },
          "ternary": {
           "aaxis": {
            "gridcolor": "white",
            "linecolor": "white",
            "ticks": ""
           },
           "baxis": {
            "gridcolor": "white",
            "linecolor": "white",
            "ticks": ""
           },
           "bgcolor": "#E5ECF6",
           "caxis": {
            "gridcolor": "white",
            "linecolor": "white",
            "ticks": ""
           }
          },
          "title": {
           "x": 0.05
          },
          "xaxis": {
           "automargin": true,
           "gridcolor": "white",
           "linecolor": "white",
           "ticks": "",
           "title": {
            "standoff": 15
           },
           "zerolinecolor": "white",
           "zerolinewidth": 2
          },
          "yaxis": {
           "automargin": true,
           "gridcolor": "white",
           "linecolor": "white",
           "ticks": "",
           "title": {
            "standoff": 15
           },
           "zerolinecolor": "white",
           "zerolinewidth": 2
          }
         }
        },
        "title": {
         "text": "Comaprison of 20 S.M. models @ 10 kpc in KamLAND"
        },
        "width": 740,
        "xaxis": {
         "anchor": "y",
         "domain": [
          0,
          1
         ],
         "title": {
          "text": "channel"
         }
        },
        "yaxis": {
         "anchor": "x",
         "domain": [
          0,
          1
         ],
         "title": {
          "text": "counts"
         },
         "type": "log"
        }
       }
      }
     },
     "metadata": {},
     "output_type": "display_data"
    }
   ],
   "source": [
    "bars = px.bar(events, x='channel', y='counts', \n",
    "              color='sn_name', barmode='group', log_y=True)\n",
    "bars.layout.bargroupgap = 0.2\n",
    "bars.layout.font = dict(size=14, family=\"Times New Roman\")\n",
    "bars.layout.bargap = 0.1\n",
    "bars.layout.bargroupgap = 0.05\n",
    "bars.layout.width = 740\n",
    "bars.layout.height = 400\n",
    "bars.layout.title = f'Comaprison of 20 S.M. models @ 10 kpc in KamLAND'\n",
    "bars"
   ]
  },
  {
   "cell_type": "code",
   "execution_count": 5,
   "metadata": {},
   "outputs": [],
   "source": [
    "bars.write_image('../out/plots/m20.png', scale=3)\n",
    "bars.write_html('../out/plots/m20.html')"
   ]
  },
  {
   "cell_type": "code",
   "execution_count": 6,
   "metadata": {},
   "outputs": [
    {
     "data": {
      "application/vnd.plotly.v1+json": {
       "config": {
        "plotlyServerURL": "https://plot.ly"
       },
       "data": [
        {
         "alignmentgroup": "True",
         "hovertemplate": "sn_name=K20-00-00<br>channel=%{x}<br>ratio=%{y}<extra></extra>",
         "legendgroup": "K20-00-00",
         "marker": {
          "color": "#636efa",
          "pattern": {
           "shape": ""
          }
         },
         "name": "K20-00-00",
         "offsetgroup": "K20-00-00",
         "orientation": "v",
         "showlegend": true,
         "textposition": "auto",
         "type": "bar",
         "x": [
          "ibd",
          "nue_C12",
          "nue_C13",
          "nuebar_C12",
          "nc",
          "e",
          "nc_p",
          "ibd",
          "nue_C12",
          "nue_C13",
          "nuebar_C12",
          "nc",
          "e",
          "nc_p",
          "ibd",
          "nue_C12",
          "nue_C13",
          "nuebar_C12",
          "nc",
          "e",
          "nc_p"
         ],
         "xaxis": "x",
         "y": [
          1,
          0.02198237293628244,
          0.0020822265821208888,
          0.0316243229114679,
          0.12740626210968406,
          0.07181321442156485,
          0.016201650882213835,
          1,
          0.04492360106311398,
          0.0020636335369511407,
          0.04727832795519436,
          0.12541355705482748,
          0.06176686456304913,
          0.0199111492148424,
          1,
          0.05460243590186535,
          0.0020911288133571146,
          0.03678873858640204,
          0.12674888262730416,
          0.060177042205068906,
          0.019443585471205768
         ],
         "yaxis": "y"
        },
        {
         "alignmentgroup": "True",
         "hovertemplate": "sn_name=K20-10-12<br>channel=%{x}<br>ratio=%{y}<extra></extra>",
         "legendgroup": "K20-10-12",
         "marker": {
          "color": "#EF553B",
          "pattern": {
           "shape": ""
          }
         },
         "name": "K20-10-12",
         "offsetgroup": "K20-10-12",
         "orientation": "v",
         "showlegend": true,
         "textposition": "auto",
         "type": "bar",
         "x": [
          "ibd",
          "nue_C12",
          "nue_C13",
          "nuebar_C12",
          "nc",
          "e",
          "nc_p",
          "ibd",
          "nue_C12",
          "nue_C13",
          "nuebar_C12",
          "nc",
          "e",
          "nc_p",
          "ibd",
          "nue_C12",
          "nue_C13",
          "nuebar_C12",
          "nc",
          "e",
          "nc_p"
         ],
         "xaxis": "x",
         "y": [
          1,
          0.02325698175957787,
          0.0023012171830480497,
          0.027801634156547114,
          0.1172694087301354,
          0.07911794438225825,
          0.012954276377934516,
          1,
          0.0416581076757591,
          0.0021357795127340436,
          0.04365067250986794,
          0.1185760287367348,
          0.06670490726438615,
          0.01624576915951079,
          1,
          0.04838777821520593,
          0.0020457222795074747,
          0.032936743209893066,
          0.11769287663081525,
          0.06275502021578692,
          0.015461337428835834
         ],
         "yaxis": "y"
        },
        {
         "alignmentgroup": "True",
         "hovertemplate": "sn_name=K20-10-13<br>channel=%{x}<br>ratio=%{y}<extra></extra>",
         "legendgroup": "K20-10-13",
         "marker": {
          "color": "#00cc96",
          "pattern": {
           "shape": ""
          }
         },
         "name": "K20-10-13",
         "offsetgroup": "K20-10-13",
         "orientation": "v",
         "showlegend": true,
         "textposition": "auto",
         "type": "bar",
         "x": [
          "ibd",
          "nue_C12",
          "nue_C13",
          "nuebar_C12",
          "nc",
          "e",
          "nc_p",
          "ibd",
          "nue_C12",
          "nue_C13",
          "nuebar_C12",
          "nc",
          "e",
          "nc_p",
          "ibd",
          "nue_C12",
          "nue_C13",
          "nuebar_C12",
          "nc",
          "e",
          "nc_p"
         ],
         "xaxis": "x",
         "y": [
          1,
          0.017359809412674673,
          0.002191163668464652,
          0.029210375177260318,
          0.11513649052902165,
          0.07814982330138559,
          0.012523294843706253,
          1,
          0.04035899965147088,
          0.00211180604630051,
          0.04406275599883636,
          0.11792545512981713,
          0.06660212323125118,
          0.01624102453131233,
          1,
          0.048396721903776266,
          0.002026955729478865,
          0.03398083638428928,
          0.11603219722604369,
          0.062025035891893475,
          0.01548639887272971
         ],
         "yaxis": "y"
        },
        {
         "alignmentgroup": "True",
         "hovertemplate": "sn_name=N13-20-20-100<br>channel=%{x}<br>ratio=%{y}<extra></extra>",
         "legendgroup": "N13-20-20-100",
         "marker": {
          "color": "#ab63fa",
          "pattern": {
           "shape": ""
          }
         },
         "name": "N13-20-20-100",
         "offsetgroup": "N13-20-20-100",
         "orientation": "v",
         "showlegend": true,
         "textposition": "auto",
         "type": "bar",
         "x": [
          "ibd",
          "nue_C12",
          "nue_C13",
          "nuebar_C12",
          "nc",
          "e",
          "nc_p",
          "ibd",
          "nue_C12",
          "nue_C13",
          "nuebar_C12",
          "nc",
          "e",
          "nc_p",
          "ibd",
          "nue_C12",
          "nue_C13",
          "nuebar_C12",
          "nc",
          "e",
          "nc_p"
         ],
         "xaxis": "x",
         "y": [
          1,
          0.007547368227907355,
          0.0017564590651560365,
          0.016183486282251826,
          0.12188226081168167,
          0.09674312769165268,
          0.025137121697113504,
          1,
          0.03574181547132087,
          0.0017632801189076124,
          0.03807005712617027,
          0.08563258103269923,
          0.06991971217415437,
          0.024776576198817703,
          1,
          0.05957751681565988,
          0.0024637473410280514,
          0.02511779826438402,
          0.10708484905094806,
          0.08637038683026348,
          0.02900727167113231
         ],
         "yaxis": "y"
        },
        {
         "alignmentgroup": "True",
         "hovertemplate": "sn_name=N13-20-20-200<br>channel=%{x}<br>ratio=%{y}<extra></extra>",
         "legendgroup": "N13-20-20-200",
         "marker": {
          "color": "#FFA15A",
          "pattern": {
           "shape": ""
          }
         },
         "name": "N13-20-20-200",
         "offsetgroup": "N13-20-20-200",
         "orientation": "v",
         "showlegend": true,
         "textposition": "auto",
         "type": "bar",
         "x": [
          "ibd",
          "nue_C12",
          "nue_C13",
          "nuebar_C12",
          "nc",
          "e",
          "nc_p",
          "ibd",
          "nue_C12",
          "nue_C13",
          "nuebar_C12",
          "nc",
          "e",
          "nc_p",
          "ibd",
          "nue_C12",
          "nue_C13",
          "nuebar_C12",
          "nc",
          "e",
          "nc_p"
         ],
         "xaxis": "x",
         "y": [
          1,
          0.01070486441858311,
          0.0017795043517393294,
          0.020170556999086313,
          0.12136431333310974,
          0.09028090016412468,
          0.02509890478928319,
          1,
          0.03801116149747684,
          0.0017989055691749363,
          0.03957237780447941,
          0.09171797521525199,
          0.06942276674594729,
          0.02624485281710466,
          1,
          0.059498922634916414,
          0.0023656760128844302,
          0.027751252652502972,
          0.10978087859485951,
          0.08209169619806242,
          0.02952570664758425
         ],
         "yaxis": "y"
        },
        {
         "alignmentgroup": "True",
         "hovertemplate": "sn_name=N13-20-20-300<br>channel=%{x}<br>ratio=%{y}<extra></extra>",
         "legendgroup": "N13-20-20-300",
         "marker": {
          "color": "#19d3f3",
          "pattern": {
           "shape": ""
          }
         },
         "name": "N13-20-20-300",
         "offsetgroup": "N13-20-20-300",
         "orientation": "v",
         "showlegend": true,
         "textposition": "auto",
         "type": "bar",
         "x": [
          "ibd",
          "nue_C12",
          "nue_C13",
          "nuebar_C12",
          "nc",
          "e",
          "nc_p",
          "ibd",
          "nue_C12",
          "nue_C13",
          "nuebar_C12",
          "nc",
          "e",
          "nc_p",
          "ibd",
          "nue_C12",
          "nue_C13",
          "nuebar_C12",
          "nc",
          "e",
          "nc_p"
         ],
         "xaxis": "x",
         "y": [
          1,
          0.014157180545163031,
          0.00180905244857366,
          0.02343488199646616,
          0.1202118562719586,
          0.08583554461692372,
          0.025183109842130052,
          1,
          0.03991264246081604,
          0.0018331962936881695,
          0.04055429725675936,
          0.0967457696266986,
          0.06937617781205475,
          0.027436110777685853,
          1,
          0.058792826339245374,
          0.002280556745777564,
          0.029869246186279216,
          0.11139209014322556,
          0.07885814132404077,
          0.0298469411904671
         ],
         "yaxis": "y"
        },
        {
         "alignmentgroup": "True",
         "hovertemplate": "sn_name=T14-20.0<br>channel=%{x}<br>ratio=%{y}<extra></extra>",
         "legendgroup": "T14-20.0",
         "marker": {
          "color": "#FF6692",
          "pattern": {
           "shape": ""
          }
         },
         "name": "T14-20.0",
         "offsetgroup": "T14-20.0",
         "orientation": "v",
         "showlegend": true,
         "textposition": "auto",
         "type": "bar",
         "x": [
          "ibd",
          "nue_C12",
          "nue_C13",
          "nuebar_C12",
          "nc",
          "e",
          "nc_p",
          "ibd",
          "nue_C12",
          "nue_C13",
          "nuebar_C12",
          "nc",
          "e",
          "nc_p",
          "ibd",
          "nue_C12",
          "nue_C13",
          "nuebar_C12",
          "nc",
          "e",
          "nc_p"
         ],
         "xaxis": "x",
         "y": [
          1,
          0.015645027171730524,
          0.0019255068424340698,
          0.028386897852804058,
          0.0841435079743744,
          0.06401711341773747,
          0.005980990571183325,
          1,
          0.0344244862324066,
          0.002194791000263647,
          0.03792460465223461,
          0.11348039071433626,
          0.06974222023588682,
          0.00976574724133242,
          1,
          0.032096424119520836,
          0.0016500967127291283,
          0.030908218904707983,
          0.09189895519766329,
          0.0542513263359177,
          0.007760404925018782
         ],
         "yaxis": "y"
        },
        {
         "alignmentgroup": "True",
         "hovertemplate": "sn_name=W20-20.0-1.23<br>channel=%{x}<br>ratio=%{y}<extra></extra>",
         "legendgroup": "W20-20.0-1.23",
         "marker": {
          "color": "#B6E880",
          "pattern": {
           "shape": ""
          }
         },
         "name": "W20-20.0-1.23",
         "offsetgroup": "W20-20.0-1.23",
         "orientation": "v",
         "showlegend": true,
         "textposition": "auto",
         "type": "bar",
         "x": [
          "ibd",
          "nue_C12",
          "nue_C13",
          "nuebar_C12",
          "nc",
          "e",
          "nc_p",
          "ibd",
          "nue_C12",
          "nue_C13",
          "nuebar_C12",
          "nc",
          "e",
          "nc_p",
          "ibd",
          "nue_C12",
          "nue_C13",
          "nuebar_C12",
          "nc",
          "e",
          "nc_p"
         ],
         "xaxis": "x",
         "y": [
          1,
          0.010164100374068816,
          0.0015885602009321764,
          0.026264844601494915,
          0.12068274825932562,
          0.06326208934564923,
          0.018432045214129993,
          1,
          0.04748371773430141,
          0.0019509746677951036,
          0.051780868747417795,
          0.12590706240573896,
          0.059071037469678477,
          0.02632285202682403,
          1,
          0.06014839463457675,
          0.0020072509213249572,
          0.0343581320459763,
          0.12233990954050308,
          0.05662355157562515,
          0.024172228613967384
         ],
         "yaxis": "y"
        },
        {
         "alignmentgroup": "True",
         "hovertemplate": "sn_name=W20-20.0-1.25<br>channel=%{x}<br>ratio=%{y}<extra></extra>",
         "legendgroup": "W20-20.0-1.25",
         "marker": {
          "color": "#FF97FF",
          "pattern": {
           "shape": ""
          }
         },
         "name": "W20-20.0-1.25",
         "offsetgroup": "W20-20.0-1.25",
         "orientation": "v",
         "showlegend": true,
         "textposition": "auto",
         "type": "bar",
         "x": [
          "ibd",
          "nue_C12",
          "nue_C13",
          "nuebar_C12",
          "nc",
          "e",
          "nc_p",
          "ibd",
          "nue_C12",
          "nue_C13",
          "nuebar_C12",
          "nc",
          "e",
          "nc_p",
          "ibd",
          "nue_C12",
          "nue_C13",
          "nuebar_C12",
          "nc",
          "e",
          "nc_p"
         ],
         "xaxis": "x",
         "y": [
          1,
          0.009563704999893098,
          0.0015840695400894686,
          0.025644517993893542,
          0.12188101764254658,
          0.06417968740457437,
          0.01846109871327348,
          1,
          0.046909228669016645,
          0.0019390654349736188,
          0.051489581795986575,
          0.12437688284176292,
          0.05894983097239631,
          0.02587022909921303,
          1,
          0.06059754418840869,
          0.002037077280032262,
          0.033966409175957425,
          0.12268475952836906,
          0.05736034207541445,
          0.024094274122986363
         ],
         "yaxis": "y"
        },
        {
         "alignmentgroup": "True",
         "hovertemplate": "sn_name=W20-20.0-1.27<br>channel=%{x}<br>ratio=%{y}<extra></extra>",
         "legendgroup": "W20-20.0-1.27",
         "marker": {
          "color": "#FECB52",
          "pattern": {
           "shape": ""
          }
         },
         "name": "W20-20.0-1.27",
         "offsetgroup": "W20-20.0-1.27",
         "orientation": "v",
         "showlegend": true,
         "textposition": "auto",
         "type": "bar",
         "x": [
          "ibd",
          "nue_C12",
          "nue_C13",
          "nuebar_C12",
          "nc",
          "e",
          "nc_p",
          "ibd",
          "nue_C12",
          "nue_C13",
          "nuebar_C12",
          "nc",
          "e",
          "nc_p",
          "ibd",
          "nue_C12",
          "nue_C13",
          "nuebar_C12",
          "nc",
          "e",
          "nc_p"
         ],
         "xaxis": "x",
         "y": [
          1,
          0.009180347824255282,
          0.001581381084664298,
          0.02525152450034811,
          0.12261321335401153,
          0.06478918845200234,
          0.01846141132705925,
          1,
          0.04652768981480292,
          0.0019317143286600809,
          0.05128718382258439,
          0.12339358589189746,
          0.05888849645624923,
          0.02556110969805663,
          1,
          0.06084535058476224,
          0.002055930306720091,
          0.03371412611584448,
          0.12286693240251018,
          0.057837798020262066,
          0.02401845137510599
         ],
         "yaxis": "y"
        }
       ],
       "layout": {
        "bargap": 0.1,
        "bargroupgap": 0.05,
        "barmode": "group",
        "font": {
         "family": "Times New Roman",
         "size": 14
        },
        "height": 400,
        "legend": {
         "title": {
          "text": "sn_name"
         },
         "tracegroupgap": 0
        },
        "margin": {
         "t": 60
        },
        "template": {
         "data": {
          "bar": [
           {
            "error_x": {
             "color": "#2a3f5f"
            },
            "error_y": {
             "color": "#2a3f5f"
            },
            "marker": {
             "line": {
              "color": "#E5ECF6",
              "width": 0.5
             },
             "pattern": {
              "fillmode": "overlay",
              "size": 10,
              "solidity": 0.2
             }
            },
            "type": "bar"
           }
          ],
          "barpolar": [
           {
            "marker": {
             "line": {
              "color": "#E5ECF6",
              "width": 0.5
             },
             "pattern": {
              "fillmode": "overlay",
              "size": 10,
              "solidity": 0.2
             }
            },
            "type": "barpolar"
           }
          ],
          "carpet": [
           {
            "aaxis": {
             "endlinecolor": "#2a3f5f",
             "gridcolor": "white",
             "linecolor": "white",
             "minorgridcolor": "white",
             "startlinecolor": "#2a3f5f"
            },
            "baxis": {
             "endlinecolor": "#2a3f5f",
             "gridcolor": "white",
             "linecolor": "white",
             "minorgridcolor": "white",
             "startlinecolor": "#2a3f5f"
            },
            "type": "carpet"
           }
          ],
          "choropleth": [
           {
            "colorbar": {
             "outlinewidth": 0,
             "ticks": ""
            },
            "type": "choropleth"
           }
          ],
          "contour": [
           {
            "colorbar": {
             "outlinewidth": 0,
             "ticks": ""
            },
            "colorscale": [
             [
              0,
              "#0d0887"
             ],
             [
              0.1111111111111111,
              "#46039f"
             ],
             [
              0.2222222222222222,
              "#7201a8"
             ],
             [
              0.3333333333333333,
              "#9c179e"
             ],
             [
              0.4444444444444444,
              "#bd3786"
             ],
             [
              0.5555555555555556,
              "#d8576b"
             ],
             [
              0.6666666666666666,
              "#ed7953"
             ],
             [
              0.7777777777777778,
              "#fb9f3a"
             ],
             [
              0.8888888888888888,
              "#fdca26"
             ],
             [
              1,
              "#f0f921"
             ]
            ],
            "type": "contour"
           }
          ],
          "contourcarpet": [
           {
            "colorbar": {
             "outlinewidth": 0,
             "ticks": ""
            },
            "type": "contourcarpet"
           }
          ],
          "heatmap": [
           {
            "colorbar": {
             "outlinewidth": 0,
             "ticks": ""
            },
            "colorscale": [
             [
              0,
              "#0d0887"
             ],
             [
              0.1111111111111111,
              "#46039f"
             ],
             [
              0.2222222222222222,
              "#7201a8"
             ],
             [
              0.3333333333333333,
              "#9c179e"
             ],
             [
              0.4444444444444444,
              "#bd3786"
             ],
             [
              0.5555555555555556,
              "#d8576b"
             ],
             [
              0.6666666666666666,
              "#ed7953"
             ],
             [
              0.7777777777777778,
              "#fb9f3a"
             ],
             [
              0.8888888888888888,
              "#fdca26"
             ],
             [
              1,
              "#f0f921"
             ]
            ],
            "type": "heatmap"
           }
          ],
          "heatmapgl": [
           {
            "colorbar": {
             "outlinewidth": 0,
             "ticks": ""
            },
            "colorscale": [
             [
              0,
              "#0d0887"
             ],
             [
              0.1111111111111111,
              "#46039f"
             ],
             [
              0.2222222222222222,
              "#7201a8"
             ],
             [
              0.3333333333333333,
              "#9c179e"
             ],
             [
              0.4444444444444444,
              "#bd3786"
             ],
             [
              0.5555555555555556,
              "#d8576b"
             ],
             [
              0.6666666666666666,
              "#ed7953"
             ],
             [
              0.7777777777777778,
              "#fb9f3a"
             ],
             [
              0.8888888888888888,
              "#fdca26"
             ],
             [
              1,
              "#f0f921"
             ]
            ],
            "type": "heatmapgl"
           }
          ],
          "histogram": [
           {
            "marker": {
             "pattern": {
              "fillmode": "overlay",
              "size": 10,
              "solidity": 0.2
             }
            },
            "type": "histogram"
           }
          ],
          "histogram2d": [
           {
            "colorbar": {
             "outlinewidth": 0,
             "ticks": ""
            },
            "colorscale": [
             [
              0,
              "#0d0887"
             ],
             [
              0.1111111111111111,
              "#46039f"
             ],
             [
              0.2222222222222222,
              "#7201a8"
             ],
             [
              0.3333333333333333,
              "#9c179e"
             ],
             [
              0.4444444444444444,
              "#bd3786"
             ],
             [
              0.5555555555555556,
              "#d8576b"
             ],
             [
              0.6666666666666666,
              "#ed7953"
             ],
             [
              0.7777777777777778,
              "#fb9f3a"
             ],
             [
              0.8888888888888888,
              "#fdca26"
             ],
             [
              1,
              "#f0f921"
             ]
            ],
            "type": "histogram2d"
           }
          ],
          "histogram2dcontour": [
           {
            "colorbar": {
             "outlinewidth": 0,
             "ticks": ""
            },
            "colorscale": [
             [
              0,
              "#0d0887"
             ],
             [
              0.1111111111111111,
              "#46039f"
             ],
             [
              0.2222222222222222,
              "#7201a8"
             ],
             [
              0.3333333333333333,
              "#9c179e"
             ],
             [
              0.4444444444444444,
              "#bd3786"
             ],
             [
              0.5555555555555556,
              "#d8576b"
             ],
             [
              0.6666666666666666,
              "#ed7953"
             ],
             [
              0.7777777777777778,
              "#fb9f3a"
             ],
             [
              0.8888888888888888,
              "#fdca26"
             ],
             [
              1,
              "#f0f921"
             ]
            ],
            "type": "histogram2dcontour"
           }
          ],
          "mesh3d": [
           {
            "colorbar": {
             "outlinewidth": 0,
             "ticks": ""
            },
            "type": "mesh3d"
           }
          ],
          "parcoords": [
           {
            "line": {
             "colorbar": {
              "outlinewidth": 0,
              "ticks": ""
             }
            },
            "type": "parcoords"
           }
          ],
          "pie": [
           {
            "automargin": true,
            "type": "pie"
           }
          ],
          "scatter": [
           {
            "marker": {
             "colorbar": {
              "outlinewidth": 0,
              "ticks": ""
             }
            },
            "type": "scatter"
           }
          ],
          "scatter3d": [
           {
            "line": {
             "colorbar": {
              "outlinewidth": 0,
              "ticks": ""
             }
            },
            "marker": {
             "colorbar": {
              "outlinewidth": 0,
              "ticks": ""
             }
            },
            "type": "scatter3d"
           }
          ],
          "scattercarpet": [
           {
            "marker": {
             "colorbar": {
              "outlinewidth": 0,
              "ticks": ""
             }
            },
            "type": "scattercarpet"
           }
          ],
          "scattergeo": [
           {
            "marker": {
             "colorbar": {
              "outlinewidth": 0,
              "ticks": ""
             }
            },
            "type": "scattergeo"
           }
          ],
          "scattergl": [
           {
            "marker": {
             "colorbar": {
              "outlinewidth": 0,
              "ticks": ""
             }
            },
            "type": "scattergl"
           }
          ],
          "scattermapbox": [
           {
            "marker": {
             "colorbar": {
              "outlinewidth": 0,
              "ticks": ""
             }
            },
            "type": "scattermapbox"
           }
          ],
          "scatterpolar": [
           {
            "marker": {
             "colorbar": {
              "outlinewidth": 0,
              "ticks": ""
             }
            },
            "type": "scatterpolar"
           }
          ],
          "scatterpolargl": [
           {
            "marker": {
             "colorbar": {
              "outlinewidth": 0,
              "ticks": ""
             }
            },
            "type": "scatterpolargl"
           }
          ],
          "scatterternary": [
           {
            "marker": {
             "colorbar": {
              "outlinewidth": 0,
              "ticks": ""
             }
            },
            "type": "scatterternary"
           }
          ],
          "surface": [
           {
            "colorbar": {
             "outlinewidth": 0,
             "ticks": ""
            },
            "colorscale": [
             [
              0,
              "#0d0887"
             ],
             [
              0.1111111111111111,
              "#46039f"
             ],
             [
              0.2222222222222222,
              "#7201a8"
             ],
             [
              0.3333333333333333,
              "#9c179e"
             ],
             [
              0.4444444444444444,
              "#bd3786"
             ],
             [
              0.5555555555555556,
              "#d8576b"
             ],
             [
              0.6666666666666666,
              "#ed7953"
             ],
             [
              0.7777777777777778,
              "#fb9f3a"
             ],
             [
              0.8888888888888888,
              "#fdca26"
             ],
             [
              1,
              "#f0f921"
             ]
            ],
            "type": "surface"
           }
          ],
          "table": [
           {
            "cells": {
             "fill": {
              "color": "#EBF0F8"
             },
             "line": {
              "color": "white"
             }
            },
            "header": {
             "fill": {
              "color": "#C8D4E3"
             },
             "line": {
              "color": "white"
             }
            },
            "type": "table"
           }
          ]
         },
         "layout": {
          "annotationdefaults": {
           "arrowcolor": "#2a3f5f",
           "arrowhead": 0,
           "arrowwidth": 1
          },
          "autotypenumbers": "strict",
          "coloraxis": {
           "colorbar": {
            "outlinewidth": 0,
            "ticks": ""
           }
          },
          "colorscale": {
           "diverging": [
            [
             0,
             "#8e0152"
            ],
            [
             0.1,
             "#c51b7d"
            ],
            [
             0.2,
             "#de77ae"
            ],
            [
             0.3,
             "#f1b6da"
            ],
            [
             0.4,
             "#fde0ef"
            ],
            [
             0.5,
             "#f7f7f7"
            ],
            [
             0.6,
             "#e6f5d0"
            ],
            [
             0.7,
             "#b8e186"
            ],
            [
             0.8,
             "#7fbc41"
            ],
            [
             0.9,
             "#4d9221"
            ],
            [
             1,
             "#276419"
            ]
           ],
           "sequential": [
            [
             0,
             "#0d0887"
            ],
            [
             0.1111111111111111,
             "#46039f"
            ],
            [
             0.2222222222222222,
             "#7201a8"
            ],
            [
             0.3333333333333333,
             "#9c179e"
            ],
            [
             0.4444444444444444,
             "#bd3786"
            ],
            [
             0.5555555555555556,
             "#d8576b"
            ],
            [
             0.6666666666666666,
             "#ed7953"
            ],
            [
             0.7777777777777778,
             "#fb9f3a"
            ],
            [
             0.8888888888888888,
             "#fdca26"
            ],
            [
             1,
             "#f0f921"
            ]
           ],
           "sequentialminus": [
            [
             0,
             "#0d0887"
            ],
            [
             0.1111111111111111,
             "#46039f"
            ],
            [
             0.2222222222222222,
             "#7201a8"
            ],
            [
             0.3333333333333333,
             "#9c179e"
            ],
            [
             0.4444444444444444,
             "#bd3786"
            ],
            [
             0.5555555555555556,
             "#d8576b"
            ],
            [
             0.6666666666666666,
             "#ed7953"
            ],
            [
             0.7777777777777778,
             "#fb9f3a"
            ],
            [
             0.8888888888888888,
             "#fdca26"
            ],
            [
             1,
             "#f0f921"
            ]
           ]
          },
          "colorway": [
           "#636efa",
           "#EF553B",
           "#00cc96",
           "#ab63fa",
           "#FFA15A",
           "#19d3f3",
           "#FF6692",
           "#B6E880",
           "#FF97FF",
           "#FECB52"
          ],
          "font": {
           "color": "#2a3f5f"
          },
          "geo": {
           "bgcolor": "white",
           "lakecolor": "white",
           "landcolor": "#E5ECF6",
           "showlakes": true,
           "showland": true,
           "subunitcolor": "white"
          },
          "hoverlabel": {
           "align": "left"
          },
          "hovermode": "closest",
          "mapbox": {
           "style": "light"
          },
          "paper_bgcolor": "white",
          "plot_bgcolor": "#E5ECF6",
          "polar": {
           "angularaxis": {
            "gridcolor": "white",
            "linecolor": "white",
            "ticks": ""
           },
           "bgcolor": "#E5ECF6",
           "radialaxis": {
            "gridcolor": "white",
            "linecolor": "white",
            "ticks": ""
           }
          },
          "scene": {
           "xaxis": {
            "backgroundcolor": "#E5ECF6",
            "gridcolor": "white",
            "gridwidth": 2,
            "linecolor": "white",
            "showbackground": true,
            "ticks": "",
            "zerolinecolor": "white"
           },
           "yaxis": {
            "backgroundcolor": "#E5ECF6",
            "gridcolor": "white",
            "gridwidth": 2,
            "linecolor": "white",
            "showbackground": true,
            "ticks": "",
            "zerolinecolor": "white"
           },
           "zaxis": {
            "backgroundcolor": "#E5ECF6",
            "gridcolor": "white",
            "gridwidth": 2,
            "linecolor": "white",
            "showbackground": true,
            "ticks": "",
            "zerolinecolor": "white"
           }
          },
          "shapedefaults": {
           "line": {
            "color": "#2a3f5f"
           }
          },
          "ternary": {
           "aaxis": {
            "gridcolor": "white",
            "linecolor": "white",
            "ticks": ""
           },
           "baxis": {
            "gridcolor": "white",
            "linecolor": "white",
            "ticks": ""
           },
           "bgcolor": "#E5ECF6",
           "caxis": {
            "gridcolor": "white",
            "linecolor": "white",
            "ticks": ""
           }
          },
          "title": {
           "x": 0.05
          },
          "xaxis": {
           "automargin": true,
           "gridcolor": "white",
           "linecolor": "white",
           "ticks": "",
           "title": {
            "standoff": 15
           },
           "zerolinecolor": "white",
           "zerolinewidth": 2
          },
          "yaxis": {
           "automargin": true,
           "gridcolor": "white",
           "linecolor": "white",
           "ticks": "",
           "title": {
            "standoff": 15
           },
           "zerolinecolor": "white",
           "zerolinewidth": 2
          }
         }
        },
        "title": {
         "text": "Comaprison of 20 S.M. models @ 10 kpc in KamLAND"
        },
        "width": 740,
        "xaxis": {
         "anchor": "y",
         "domain": [
          0,
          1
         ],
         "title": {
          "text": "channel"
         }
        },
        "yaxis": {
         "anchor": "x",
         "domain": [
          0,
          1
         ],
         "title": {
          "text": "ratio"
         },
         "type": "log"
        }
       }
      }
     },
     "metadata": {},
     "output_type": "display_data"
    }
   ],
   "source": [
    "bars = px.bar(events, x='channel', y='ratio', \n",
    "              color='sn_name', barmode='group', log_y=True)\n",
    "bars.layout.bargroupgap = 0.2\n",
    "bars.layout.font = dict(size=14, family=\"Times New Roman\")\n",
    "bars.layout.bargap = 0.1\n",
    "bars.layout.bargroupgap = 0.05\n",
    "bars.layout.width = 740\n",
    "bars.layout.height = 400\n",
    "bars.layout.title = f'Comaprison of 20 S.M. models @ 10 kpc in KamLAND'\n",
    "bars"
   ]
  },
  {
   "cell_type": "code",
   "execution_count": 13,
   "metadata": {},
   "outputs": [],
   "source": [
    "bars.write_image('../out/plots/m20_ratio.png', scale=3)\n",
    "bars.write_html('../out/plots/m20_ratio.html')"
   ]
  },
  {
   "cell_type": "code",
   "execution_count": 7,
   "metadata": {},
   "outputs": [
    {
     "data": {
      "application/vnd.plotly.v1+json": {
       "config": {
        "plotlyServerURL": "https://plot.ly"
       },
       "data": [
        {
         "alignmentgroup": "True",
         "hovertemplate": "sn_name=K20-00-00<br>channel=ibd<br>xform=%{x}<br>ratio=%{y}<extra></extra>",
         "legendgroup": "K20-00-00",
         "marker": {
          "color": "#636efa",
          "pattern": {
           "shape": ""
          }
         },
         "name": "K20-00-00",
         "offsetgroup": "K20-00-00",
         "orientation": "v",
         "showlegend": true,
         "textposition": "auto",
         "type": "bar",
         "x": [
          "NT",
          "I",
          "N"
         ],
         "xaxis": "x",
         "y": [
          1,
          1,
          1
         ],
         "yaxis": "y"
        },
        {
         "alignmentgroup": "True",
         "hovertemplate": "sn_name=K20-00-00<br>channel=nue_C12<br>xform=%{x}<br>ratio=%{y}<extra></extra>",
         "legendgroup": "K20-00-00",
         "marker": {
          "color": "#636efa",
          "pattern": {
           "shape": ""
          }
         },
         "name": "K20-00-00",
         "offsetgroup": "K20-00-00",
         "orientation": "v",
         "showlegend": false,
         "textposition": "auto",
         "type": "bar",
         "x": [
          "NT",
          "I",
          "N"
         ],
         "xaxis": "x2",
         "y": [
          0.02198237293628244,
          0.04492360106311398,
          0.05460243590186535
         ],
         "yaxis": "y2"
        },
        {
         "alignmentgroup": "True",
         "hovertemplate": "sn_name=K20-00-00<br>channel=nue_C13<br>xform=%{x}<br>ratio=%{y}<extra></extra>",
         "legendgroup": "K20-00-00",
         "marker": {
          "color": "#636efa",
          "pattern": {
           "shape": ""
          }
         },
         "name": "K20-00-00",
         "offsetgroup": "K20-00-00",
         "orientation": "v",
         "showlegend": false,
         "textposition": "auto",
         "type": "bar",
         "x": [
          "NT",
          "I",
          "N"
         ],
         "xaxis": "x3",
         "y": [
          0.0020822265821208888,
          0.0020636335369511407,
          0.0020911288133571146
         ],
         "yaxis": "y3"
        },
        {
         "alignmentgroup": "True",
         "hovertemplate": "sn_name=K20-00-00<br>channel=nuebar_C12<br>xform=%{x}<br>ratio=%{y}<extra></extra>",
         "legendgroup": "K20-00-00",
         "marker": {
          "color": "#636efa",
          "pattern": {
           "shape": ""
          }
         },
         "name": "K20-00-00",
         "offsetgroup": "K20-00-00",
         "orientation": "v",
         "showlegend": false,
         "textposition": "auto",
         "type": "bar",
         "x": [
          "NT",
          "I",
          "N"
         ],
         "xaxis": "x4",
         "y": [
          0.0316243229114679,
          0.04727832795519436,
          0.03678873858640204
         ],
         "yaxis": "y4"
        },
        {
         "alignmentgroup": "True",
         "hovertemplate": "sn_name=K20-00-00<br>channel=nc<br>xform=%{x}<br>ratio=%{y}<extra></extra>",
         "legendgroup": "K20-00-00",
         "marker": {
          "color": "#636efa",
          "pattern": {
           "shape": ""
          }
         },
         "name": "K20-00-00",
         "offsetgroup": "K20-00-00",
         "orientation": "v",
         "showlegend": false,
         "textposition": "auto",
         "type": "bar",
         "x": [
          "NT",
          "I",
          "N"
         ],
         "xaxis": "x5",
         "y": [
          0.12740626210968406,
          0.12541355705482748,
          0.12674888262730416
         ],
         "yaxis": "y5"
        },
        {
         "alignmentgroup": "True",
         "hovertemplate": "sn_name=K20-00-00<br>channel=e<br>xform=%{x}<br>ratio=%{y}<extra></extra>",
         "legendgroup": "K20-00-00",
         "marker": {
          "color": "#636efa",
          "pattern": {
           "shape": ""
          }
         },
         "name": "K20-00-00",
         "offsetgroup": "K20-00-00",
         "orientation": "v",
         "showlegend": false,
         "textposition": "auto",
         "type": "bar",
         "x": [
          "NT",
          "I",
          "N"
         ],
         "xaxis": "x6",
         "y": [
          0.07181321442156485,
          0.06176686456304913,
          0.060177042205068906
         ],
         "yaxis": "y6"
        },
        {
         "alignmentgroup": "True",
         "hovertemplate": "sn_name=K20-00-00<br>channel=nc_p<br>xform=%{x}<br>ratio=%{y}<extra></extra>",
         "legendgroup": "K20-00-00",
         "marker": {
          "color": "#636efa",
          "pattern": {
           "shape": ""
          }
         },
         "name": "K20-00-00",
         "offsetgroup": "K20-00-00",
         "orientation": "v",
         "showlegend": false,
         "textposition": "auto",
         "type": "bar",
         "x": [
          "NT",
          "I",
          "N"
         ],
         "xaxis": "x7",
         "y": [
          0.016201650882213835,
          0.0199111492148424,
          0.019443585471205768
         ],
         "yaxis": "y7"
        },
        {
         "alignmentgroup": "True",
         "hovertemplate": "sn_name=K20-10-12<br>channel=ibd<br>xform=%{x}<br>ratio=%{y}<extra></extra>",
         "legendgroup": "K20-10-12",
         "marker": {
          "color": "#EF553B",
          "pattern": {
           "shape": ""
          }
         },
         "name": "K20-10-12",
         "offsetgroup": "K20-10-12",
         "orientation": "v",
         "showlegend": true,
         "textposition": "auto",
         "type": "bar",
         "x": [
          "NT",
          "I",
          "N"
         ],
         "xaxis": "x",
         "y": [
          1,
          1,
          1
         ],
         "yaxis": "y"
        },
        {
         "alignmentgroup": "True",
         "hovertemplate": "sn_name=K20-10-12<br>channel=nue_C12<br>xform=%{x}<br>ratio=%{y}<extra></extra>",
         "legendgroup": "K20-10-12",
         "marker": {
          "color": "#EF553B",
          "pattern": {
           "shape": ""
          }
         },
         "name": "K20-10-12",
         "offsetgroup": "K20-10-12",
         "orientation": "v",
         "showlegend": false,
         "textposition": "auto",
         "type": "bar",
         "x": [
          "NT",
          "I",
          "N"
         ],
         "xaxis": "x2",
         "y": [
          0.02325698175957787,
          0.0416581076757591,
          0.04838777821520593
         ],
         "yaxis": "y2"
        },
        {
         "alignmentgroup": "True",
         "hovertemplate": "sn_name=K20-10-12<br>channel=nue_C13<br>xform=%{x}<br>ratio=%{y}<extra></extra>",
         "legendgroup": "K20-10-12",
         "marker": {
          "color": "#EF553B",
          "pattern": {
           "shape": ""
          }
         },
         "name": "K20-10-12",
         "offsetgroup": "K20-10-12",
         "orientation": "v",
         "showlegend": false,
         "textposition": "auto",
         "type": "bar",
         "x": [
          "NT",
          "I",
          "N"
         ],
         "xaxis": "x3",
         "y": [
          0.0023012171830480497,
          0.0021357795127340436,
          0.0020457222795074747
         ],
         "yaxis": "y3"
        },
        {
         "alignmentgroup": "True",
         "hovertemplate": "sn_name=K20-10-12<br>channel=nuebar_C12<br>xform=%{x}<br>ratio=%{y}<extra></extra>",
         "legendgroup": "K20-10-12",
         "marker": {
          "color": "#EF553B",
          "pattern": {
           "shape": ""
          }
         },
         "name": "K20-10-12",
         "offsetgroup": "K20-10-12",
         "orientation": "v",
         "showlegend": false,
         "textposition": "auto",
         "type": "bar",
         "x": [
          "NT",
          "I",
          "N"
         ],
         "xaxis": "x4",
         "y": [
          0.027801634156547114,
          0.04365067250986794,
          0.032936743209893066
         ],
         "yaxis": "y4"
        },
        {
         "alignmentgroup": "True",
         "hovertemplate": "sn_name=K20-10-12<br>channel=nc<br>xform=%{x}<br>ratio=%{y}<extra></extra>",
         "legendgroup": "K20-10-12",
         "marker": {
          "color": "#EF553B",
          "pattern": {
           "shape": ""
          }
         },
         "name": "K20-10-12",
         "offsetgroup": "K20-10-12",
         "orientation": "v",
         "showlegend": false,
         "textposition": "auto",
         "type": "bar",
         "x": [
          "NT",
          "I",
          "N"
         ],
         "xaxis": "x5",
         "y": [
          0.1172694087301354,
          0.1185760287367348,
          0.11769287663081525
         ],
         "yaxis": "y5"
        },
        {
         "alignmentgroup": "True",
         "hovertemplate": "sn_name=K20-10-12<br>channel=e<br>xform=%{x}<br>ratio=%{y}<extra></extra>",
         "legendgroup": "K20-10-12",
         "marker": {
          "color": "#EF553B",
          "pattern": {
           "shape": ""
          }
         },
         "name": "K20-10-12",
         "offsetgroup": "K20-10-12",
         "orientation": "v",
         "showlegend": false,
         "textposition": "auto",
         "type": "bar",
         "x": [
          "NT",
          "I",
          "N"
         ],
         "xaxis": "x6",
         "y": [
          0.07911794438225825,
          0.06670490726438615,
          0.06275502021578692
         ],
         "yaxis": "y6"
        },
        {
         "alignmentgroup": "True",
         "hovertemplate": "sn_name=K20-10-12<br>channel=nc_p<br>xform=%{x}<br>ratio=%{y}<extra></extra>",
         "legendgroup": "K20-10-12",
         "marker": {
          "color": "#EF553B",
          "pattern": {
           "shape": ""
          }
         },
         "name": "K20-10-12",
         "offsetgroup": "K20-10-12",
         "orientation": "v",
         "showlegend": false,
         "textposition": "auto",
         "type": "bar",
         "x": [
          "NT",
          "I",
          "N"
         ],
         "xaxis": "x7",
         "y": [
          0.012954276377934516,
          0.01624576915951079,
          0.015461337428835834
         ],
         "yaxis": "y7"
        },
        {
         "alignmentgroup": "True",
         "hovertemplate": "sn_name=K20-10-13<br>channel=ibd<br>xform=%{x}<br>ratio=%{y}<extra></extra>",
         "legendgroup": "K20-10-13",
         "marker": {
          "color": "#00cc96",
          "pattern": {
           "shape": ""
          }
         },
         "name": "K20-10-13",
         "offsetgroup": "K20-10-13",
         "orientation": "v",
         "showlegend": true,
         "textposition": "auto",
         "type": "bar",
         "x": [
          "NT",
          "I",
          "N"
         ],
         "xaxis": "x",
         "y": [
          1,
          1,
          1
         ],
         "yaxis": "y"
        },
        {
         "alignmentgroup": "True",
         "hovertemplate": "sn_name=K20-10-13<br>channel=nue_C12<br>xform=%{x}<br>ratio=%{y}<extra></extra>",
         "legendgroup": "K20-10-13",
         "marker": {
          "color": "#00cc96",
          "pattern": {
           "shape": ""
          }
         },
         "name": "K20-10-13",
         "offsetgroup": "K20-10-13",
         "orientation": "v",
         "showlegend": false,
         "textposition": "auto",
         "type": "bar",
         "x": [
          "NT",
          "I",
          "N"
         ],
         "xaxis": "x2",
         "y": [
          0.017359809412674673,
          0.04035899965147088,
          0.048396721903776266
         ],
         "yaxis": "y2"
        },
        {
         "alignmentgroup": "True",
         "hovertemplate": "sn_name=K20-10-13<br>channel=nue_C13<br>xform=%{x}<br>ratio=%{y}<extra></extra>",
         "legendgroup": "K20-10-13",
         "marker": {
          "color": "#00cc96",
          "pattern": {
           "shape": ""
          }
         },
         "name": "K20-10-13",
         "offsetgroup": "K20-10-13",
         "orientation": "v",
         "showlegend": false,
         "textposition": "auto",
         "type": "bar",
         "x": [
          "NT",
          "I",
          "N"
         ],
         "xaxis": "x3",
         "y": [
          0.002191163668464652,
          0.00211180604630051,
          0.002026955729478865
         ],
         "yaxis": "y3"
        },
        {
         "alignmentgroup": "True",
         "hovertemplate": "sn_name=K20-10-13<br>channel=nuebar_C12<br>xform=%{x}<br>ratio=%{y}<extra></extra>",
         "legendgroup": "K20-10-13",
         "marker": {
          "color": "#00cc96",
          "pattern": {
           "shape": ""
          }
         },
         "name": "K20-10-13",
         "offsetgroup": "K20-10-13",
         "orientation": "v",
         "showlegend": false,
         "textposition": "auto",
         "type": "bar",
         "x": [
          "NT",
          "I",
          "N"
         ],
         "xaxis": "x4",
         "y": [
          0.029210375177260318,
          0.04406275599883636,
          0.03398083638428928
         ],
         "yaxis": "y4"
        },
        {
         "alignmentgroup": "True",
         "hovertemplate": "sn_name=K20-10-13<br>channel=nc<br>xform=%{x}<br>ratio=%{y}<extra></extra>",
         "legendgroup": "K20-10-13",
         "marker": {
          "color": "#00cc96",
          "pattern": {
           "shape": ""
          }
         },
         "name": "K20-10-13",
         "offsetgroup": "K20-10-13",
         "orientation": "v",
         "showlegend": false,
         "textposition": "auto",
         "type": "bar",
         "x": [
          "NT",
          "I",
          "N"
         ],
         "xaxis": "x5",
         "y": [
          0.11513649052902165,
          0.11792545512981713,
          0.11603219722604369
         ],
         "yaxis": "y5"
        },
        {
         "alignmentgroup": "True",
         "hovertemplate": "sn_name=K20-10-13<br>channel=e<br>xform=%{x}<br>ratio=%{y}<extra></extra>",
         "legendgroup": "K20-10-13",
         "marker": {
          "color": "#00cc96",
          "pattern": {
           "shape": ""
          }
         },
         "name": "K20-10-13",
         "offsetgroup": "K20-10-13",
         "orientation": "v",
         "showlegend": false,
         "textposition": "auto",
         "type": "bar",
         "x": [
          "NT",
          "I",
          "N"
         ],
         "xaxis": "x6",
         "y": [
          0.07814982330138559,
          0.06660212323125118,
          0.062025035891893475
         ],
         "yaxis": "y6"
        },
        {
         "alignmentgroup": "True",
         "hovertemplate": "sn_name=K20-10-13<br>channel=nc_p<br>xform=%{x}<br>ratio=%{y}<extra></extra>",
         "legendgroup": "K20-10-13",
         "marker": {
          "color": "#00cc96",
          "pattern": {
           "shape": ""
          }
         },
         "name": "K20-10-13",
         "offsetgroup": "K20-10-13",
         "orientation": "v",
         "showlegend": false,
         "textposition": "auto",
         "type": "bar",
         "x": [
          "NT",
          "I",
          "N"
         ],
         "xaxis": "x7",
         "y": [
          0.012523294843706253,
          0.01624102453131233,
          0.01548639887272971
         ],
         "yaxis": "y7"
        },
        {
         "alignmentgroup": "True",
         "hovertemplate": "sn_name=N13-20-20-100<br>channel=ibd<br>xform=%{x}<br>ratio=%{y}<extra></extra>",
         "legendgroup": "N13-20-20-100",
         "marker": {
          "color": "#ab63fa",
          "pattern": {
           "shape": ""
          }
         },
         "name": "N13-20-20-100",
         "offsetgroup": "N13-20-20-100",
         "orientation": "v",
         "showlegend": true,
         "textposition": "auto",
         "type": "bar",
         "x": [
          "NT",
          "I",
          "N"
         ],
         "xaxis": "x",
         "y": [
          1,
          1,
          1
         ],
         "yaxis": "y"
        },
        {
         "alignmentgroup": "True",
         "hovertemplate": "sn_name=N13-20-20-100<br>channel=nue_C12<br>xform=%{x}<br>ratio=%{y}<extra></extra>",
         "legendgroup": "N13-20-20-100",
         "marker": {
          "color": "#ab63fa",
          "pattern": {
           "shape": ""
          }
         },
         "name": "N13-20-20-100",
         "offsetgroup": "N13-20-20-100",
         "orientation": "v",
         "showlegend": false,
         "textposition": "auto",
         "type": "bar",
         "x": [
          "NT",
          "I",
          "N"
         ],
         "xaxis": "x2",
         "y": [
          0.007547368227907355,
          0.03574181547132087,
          0.05957751681565988
         ],
         "yaxis": "y2"
        },
        {
         "alignmentgroup": "True",
         "hovertemplate": "sn_name=N13-20-20-100<br>channel=nue_C13<br>xform=%{x}<br>ratio=%{y}<extra></extra>",
         "legendgroup": "N13-20-20-100",
         "marker": {
          "color": "#ab63fa",
          "pattern": {
           "shape": ""
          }
         },
         "name": "N13-20-20-100",
         "offsetgroup": "N13-20-20-100",
         "orientation": "v",
         "showlegend": false,
         "textposition": "auto",
         "type": "bar",
         "x": [
          "NT",
          "I",
          "N"
         ],
         "xaxis": "x3",
         "y": [
          0.0017564590651560365,
          0.0017632801189076124,
          0.0024637473410280514
         ],
         "yaxis": "y3"
        },
        {
         "alignmentgroup": "True",
         "hovertemplate": "sn_name=N13-20-20-100<br>channel=nuebar_C12<br>xform=%{x}<br>ratio=%{y}<extra></extra>",
         "legendgroup": "N13-20-20-100",
         "marker": {
          "color": "#ab63fa",
          "pattern": {
           "shape": ""
          }
         },
         "name": "N13-20-20-100",
         "offsetgroup": "N13-20-20-100",
         "orientation": "v",
         "showlegend": false,
         "textposition": "auto",
         "type": "bar",
         "x": [
          "NT",
          "I",
          "N"
         ],
         "xaxis": "x4",
         "y": [
          0.016183486282251826,
          0.03807005712617027,
          0.02511779826438402
         ],
         "yaxis": "y4"
        },
        {
         "alignmentgroup": "True",
         "hovertemplate": "sn_name=N13-20-20-100<br>channel=nc<br>xform=%{x}<br>ratio=%{y}<extra></extra>",
         "legendgroup": "N13-20-20-100",
         "marker": {
          "color": "#ab63fa",
          "pattern": {
           "shape": ""
          }
         },
         "name": "N13-20-20-100",
         "offsetgroup": "N13-20-20-100",
         "orientation": "v",
         "showlegend": false,
         "textposition": "auto",
         "type": "bar",
         "x": [
          "NT",
          "I",
          "N"
         ],
         "xaxis": "x5",
         "y": [
          0.12188226081168167,
          0.08563258103269923,
          0.10708484905094806
         ],
         "yaxis": "y5"
        },
        {
         "alignmentgroup": "True",
         "hovertemplate": "sn_name=N13-20-20-100<br>channel=e<br>xform=%{x}<br>ratio=%{y}<extra></extra>",
         "legendgroup": "N13-20-20-100",
         "marker": {
          "color": "#ab63fa",
          "pattern": {
           "shape": ""
          }
         },
         "name": "N13-20-20-100",
         "offsetgroup": "N13-20-20-100",
         "orientation": "v",
         "showlegend": false,
         "textposition": "auto",
         "type": "bar",
         "x": [
          "NT",
          "I",
          "N"
         ],
         "xaxis": "x6",
         "y": [
          0.09674312769165268,
          0.06991971217415437,
          0.08637038683026348
         ],
         "yaxis": "y6"
        },
        {
         "alignmentgroup": "True",
         "hovertemplate": "sn_name=N13-20-20-100<br>channel=nc_p<br>xform=%{x}<br>ratio=%{y}<extra></extra>",
         "legendgroup": "N13-20-20-100",
         "marker": {
          "color": "#ab63fa",
          "pattern": {
           "shape": ""
          }
         },
         "name": "N13-20-20-100",
         "offsetgroup": "N13-20-20-100",
         "orientation": "v",
         "showlegend": false,
         "textposition": "auto",
         "type": "bar",
         "x": [
          "NT",
          "I",
          "N"
         ],
         "xaxis": "x7",
         "y": [
          0.025137121697113504,
          0.024776576198817703,
          0.02900727167113231
         ],
         "yaxis": "y7"
        },
        {
         "alignmentgroup": "True",
         "hovertemplate": "sn_name=N13-20-20-200<br>channel=ibd<br>xform=%{x}<br>ratio=%{y}<extra></extra>",
         "legendgroup": "N13-20-20-200",
         "marker": {
          "color": "#FFA15A",
          "pattern": {
           "shape": ""
          }
         },
         "name": "N13-20-20-200",
         "offsetgroup": "N13-20-20-200",
         "orientation": "v",
         "showlegend": true,
         "textposition": "auto",
         "type": "bar",
         "x": [
          "NT",
          "I",
          "N"
         ],
         "xaxis": "x",
         "y": [
          1,
          1,
          1
         ],
         "yaxis": "y"
        },
        {
         "alignmentgroup": "True",
         "hovertemplate": "sn_name=N13-20-20-200<br>channel=nue_C12<br>xform=%{x}<br>ratio=%{y}<extra></extra>",
         "legendgroup": "N13-20-20-200",
         "marker": {
          "color": "#FFA15A",
          "pattern": {
           "shape": ""
          }
         },
         "name": "N13-20-20-200",
         "offsetgroup": "N13-20-20-200",
         "orientation": "v",
         "showlegend": false,
         "textposition": "auto",
         "type": "bar",
         "x": [
          "NT",
          "I",
          "N"
         ],
         "xaxis": "x2",
         "y": [
          0.01070486441858311,
          0.03801116149747684,
          0.059498922634916414
         ],
         "yaxis": "y2"
        },
        {
         "alignmentgroup": "True",
         "hovertemplate": "sn_name=N13-20-20-200<br>channel=nue_C13<br>xform=%{x}<br>ratio=%{y}<extra></extra>",
         "legendgroup": "N13-20-20-200",
         "marker": {
          "color": "#FFA15A",
          "pattern": {
           "shape": ""
          }
         },
         "name": "N13-20-20-200",
         "offsetgroup": "N13-20-20-200",
         "orientation": "v",
         "showlegend": false,
         "textposition": "auto",
         "type": "bar",
         "x": [
          "NT",
          "I",
          "N"
         ],
         "xaxis": "x3",
         "y": [
          0.0017795043517393294,
          0.0017989055691749363,
          0.0023656760128844302
         ],
         "yaxis": "y3"
        },
        {
         "alignmentgroup": "True",
         "hovertemplate": "sn_name=N13-20-20-200<br>channel=nuebar_C12<br>xform=%{x}<br>ratio=%{y}<extra></extra>",
         "legendgroup": "N13-20-20-200",
         "marker": {
          "color": "#FFA15A",
          "pattern": {
           "shape": ""
          }
         },
         "name": "N13-20-20-200",
         "offsetgroup": "N13-20-20-200",
         "orientation": "v",
         "showlegend": false,
         "textposition": "auto",
         "type": "bar",
         "x": [
          "NT",
          "I",
          "N"
         ],
         "xaxis": "x4",
         "y": [
          0.020170556999086313,
          0.03957237780447941,
          0.027751252652502972
         ],
         "yaxis": "y4"
        },
        {
         "alignmentgroup": "True",
         "hovertemplate": "sn_name=N13-20-20-200<br>channel=nc<br>xform=%{x}<br>ratio=%{y}<extra></extra>",
         "legendgroup": "N13-20-20-200",
         "marker": {
          "color": "#FFA15A",
          "pattern": {
           "shape": ""
          }
         },
         "name": "N13-20-20-200",
         "offsetgroup": "N13-20-20-200",
         "orientation": "v",
         "showlegend": false,
         "textposition": "auto",
         "type": "bar",
         "x": [
          "NT",
          "I",
          "N"
         ],
         "xaxis": "x5",
         "y": [
          0.12136431333310974,
          0.09171797521525199,
          0.10978087859485951
         ],
         "yaxis": "y5"
        },
        {
         "alignmentgroup": "True",
         "hovertemplate": "sn_name=N13-20-20-200<br>channel=e<br>xform=%{x}<br>ratio=%{y}<extra></extra>",
         "legendgroup": "N13-20-20-200",
         "marker": {
          "color": "#FFA15A",
          "pattern": {
           "shape": ""
          }
         },
         "name": "N13-20-20-200",
         "offsetgroup": "N13-20-20-200",
         "orientation": "v",
         "showlegend": false,
         "textposition": "auto",
         "type": "bar",
         "x": [
          "NT",
          "I",
          "N"
         ],
         "xaxis": "x6",
         "y": [
          0.09028090016412468,
          0.06942276674594729,
          0.08209169619806242
         ],
         "yaxis": "y6"
        },
        {
         "alignmentgroup": "True",
         "hovertemplate": "sn_name=N13-20-20-200<br>channel=nc_p<br>xform=%{x}<br>ratio=%{y}<extra></extra>",
         "legendgroup": "N13-20-20-200",
         "marker": {
          "color": "#FFA15A",
          "pattern": {
           "shape": ""
          }
         },
         "name": "N13-20-20-200",
         "offsetgroup": "N13-20-20-200",
         "orientation": "v",
         "showlegend": false,
         "textposition": "auto",
         "type": "bar",
         "x": [
          "NT",
          "I",
          "N"
         ],
         "xaxis": "x7",
         "y": [
          0.02509890478928319,
          0.02624485281710466,
          0.02952570664758425
         ],
         "yaxis": "y7"
        },
        {
         "alignmentgroup": "True",
         "hovertemplate": "sn_name=N13-20-20-300<br>channel=ibd<br>xform=%{x}<br>ratio=%{y}<extra></extra>",
         "legendgroup": "N13-20-20-300",
         "marker": {
          "color": "#19d3f3",
          "pattern": {
           "shape": ""
          }
         },
         "name": "N13-20-20-300",
         "offsetgroup": "N13-20-20-300",
         "orientation": "v",
         "showlegend": true,
         "textposition": "auto",
         "type": "bar",
         "x": [
          "NT",
          "I",
          "N"
         ],
         "xaxis": "x",
         "y": [
          1,
          1,
          1
         ],
         "yaxis": "y"
        },
        {
         "alignmentgroup": "True",
         "hovertemplate": "sn_name=N13-20-20-300<br>channel=nue_C12<br>xform=%{x}<br>ratio=%{y}<extra></extra>",
         "legendgroup": "N13-20-20-300",
         "marker": {
          "color": "#19d3f3",
          "pattern": {
           "shape": ""
          }
         },
         "name": "N13-20-20-300",
         "offsetgroup": "N13-20-20-300",
         "orientation": "v",
         "showlegend": false,
         "textposition": "auto",
         "type": "bar",
         "x": [
          "NT",
          "I",
          "N"
         ],
         "xaxis": "x2",
         "y": [
          0.014157180545163031,
          0.03991264246081604,
          0.058792826339245374
         ],
         "yaxis": "y2"
        },
        {
         "alignmentgroup": "True",
         "hovertemplate": "sn_name=N13-20-20-300<br>channel=nue_C13<br>xform=%{x}<br>ratio=%{y}<extra></extra>",
         "legendgroup": "N13-20-20-300",
         "marker": {
          "color": "#19d3f3",
          "pattern": {
           "shape": ""
          }
         },
         "name": "N13-20-20-300",
         "offsetgroup": "N13-20-20-300",
         "orientation": "v",
         "showlegend": false,
         "textposition": "auto",
         "type": "bar",
         "x": [
          "NT",
          "I",
          "N"
         ],
         "xaxis": "x3",
         "y": [
          0.00180905244857366,
          0.0018331962936881695,
          0.002280556745777564
         ],
         "yaxis": "y3"
        },
        {
         "alignmentgroup": "True",
         "hovertemplate": "sn_name=N13-20-20-300<br>channel=nuebar_C12<br>xform=%{x}<br>ratio=%{y}<extra></extra>",
         "legendgroup": "N13-20-20-300",
         "marker": {
          "color": "#19d3f3",
          "pattern": {
           "shape": ""
          }
         },
         "name": "N13-20-20-300",
         "offsetgroup": "N13-20-20-300",
         "orientation": "v",
         "showlegend": false,
         "textposition": "auto",
         "type": "bar",
         "x": [
          "NT",
          "I",
          "N"
         ],
         "xaxis": "x4",
         "y": [
          0.02343488199646616,
          0.04055429725675936,
          0.029869246186279216
         ],
         "yaxis": "y4"
        },
        {
         "alignmentgroup": "True",
         "hovertemplate": "sn_name=N13-20-20-300<br>channel=nc<br>xform=%{x}<br>ratio=%{y}<extra></extra>",
         "legendgroup": "N13-20-20-300",
         "marker": {
          "color": "#19d3f3",
          "pattern": {
           "shape": ""
          }
         },
         "name": "N13-20-20-300",
         "offsetgroup": "N13-20-20-300",
         "orientation": "v",
         "showlegend": false,
         "textposition": "auto",
         "type": "bar",
         "x": [
          "NT",
          "I",
          "N"
         ],
         "xaxis": "x5",
         "y": [
          0.1202118562719586,
          0.0967457696266986,
          0.11139209014322556
         ],
         "yaxis": "y5"
        },
        {
         "alignmentgroup": "True",
         "hovertemplate": "sn_name=N13-20-20-300<br>channel=e<br>xform=%{x}<br>ratio=%{y}<extra></extra>",
         "legendgroup": "N13-20-20-300",
         "marker": {
          "color": "#19d3f3",
          "pattern": {
           "shape": ""
          }
         },
         "name": "N13-20-20-300",
         "offsetgroup": "N13-20-20-300",
         "orientation": "v",
         "showlegend": false,
         "textposition": "auto",
         "type": "bar",
         "x": [
          "NT",
          "I",
          "N"
         ],
         "xaxis": "x6",
         "y": [
          0.08583554461692372,
          0.06937617781205475,
          0.07885814132404077
         ],
         "yaxis": "y6"
        },
        {
         "alignmentgroup": "True",
         "hovertemplate": "sn_name=N13-20-20-300<br>channel=nc_p<br>xform=%{x}<br>ratio=%{y}<extra></extra>",
         "legendgroup": "N13-20-20-300",
         "marker": {
          "color": "#19d3f3",
          "pattern": {
           "shape": ""
          }
         },
         "name": "N13-20-20-300",
         "offsetgroup": "N13-20-20-300",
         "orientation": "v",
         "showlegend": false,
         "textposition": "auto",
         "type": "bar",
         "x": [
          "NT",
          "I",
          "N"
         ],
         "xaxis": "x7",
         "y": [
          0.025183109842130052,
          0.027436110777685853,
          0.0298469411904671
         ],
         "yaxis": "y7"
        },
        {
         "alignmentgroup": "True",
         "hovertemplate": "sn_name=T14-20.0<br>channel=ibd<br>xform=%{x}<br>ratio=%{y}<extra></extra>",
         "legendgroup": "T14-20.0",
         "marker": {
          "color": "#FF6692",
          "pattern": {
           "shape": ""
          }
         },
         "name": "T14-20.0",
         "offsetgroup": "T14-20.0",
         "orientation": "v",
         "showlegend": true,
         "textposition": "auto",
         "type": "bar",
         "x": [
          "NT",
          "I",
          "N"
         ],
         "xaxis": "x",
         "y": [
          1,
          1,
          1
         ],
         "yaxis": "y"
        },
        {
         "alignmentgroup": "True",
         "hovertemplate": "sn_name=T14-20.0<br>channel=nue_C12<br>xform=%{x}<br>ratio=%{y}<extra></extra>",
         "legendgroup": "T14-20.0",
         "marker": {
          "color": "#FF6692",
          "pattern": {
           "shape": ""
          }
         },
         "name": "T14-20.0",
         "offsetgroup": "T14-20.0",
         "orientation": "v",
         "showlegend": false,
         "textposition": "auto",
         "type": "bar",
         "x": [
          "NT",
          "I",
          "N"
         ],
         "xaxis": "x2",
         "y": [
          0.015645027171730524,
          0.0344244862324066,
          0.032096424119520836
         ],
         "yaxis": "y2"
        },
        {
         "alignmentgroup": "True",
         "hovertemplate": "sn_name=T14-20.0<br>channel=nue_C13<br>xform=%{x}<br>ratio=%{y}<extra></extra>",
         "legendgroup": "T14-20.0",
         "marker": {
          "color": "#FF6692",
          "pattern": {
           "shape": ""
          }
         },
         "name": "T14-20.0",
         "offsetgroup": "T14-20.0",
         "orientation": "v",
         "showlegend": false,
         "textposition": "auto",
         "type": "bar",
         "x": [
          "NT",
          "I",
          "N"
         ],
         "xaxis": "x3",
         "y": [
          0.0019255068424340698,
          0.002194791000263647,
          0.0016500967127291283
         ],
         "yaxis": "y3"
        },
        {
         "alignmentgroup": "True",
         "hovertemplate": "sn_name=T14-20.0<br>channel=nuebar_C12<br>xform=%{x}<br>ratio=%{y}<extra></extra>",
         "legendgroup": "T14-20.0",
         "marker": {
          "color": "#FF6692",
          "pattern": {
           "shape": ""
          }
         },
         "name": "T14-20.0",
         "offsetgroup": "T14-20.0",
         "orientation": "v",
         "showlegend": false,
         "textposition": "auto",
         "type": "bar",
         "x": [
          "NT",
          "I",
          "N"
         ],
         "xaxis": "x4",
         "y": [
          0.028386897852804058,
          0.03792460465223461,
          0.030908218904707983
         ],
         "yaxis": "y4"
        },
        {
         "alignmentgroup": "True",
         "hovertemplate": "sn_name=T14-20.0<br>channel=nc<br>xform=%{x}<br>ratio=%{y}<extra></extra>",
         "legendgroup": "T14-20.0",
         "marker": {
          "color": "#FF6692",
          "pattern": {
           "shape": ""
          }
         },
         "name": "T14-20.0",
         "offsetgroup": "T14-20.0",
         "orientation": "v",
         "showlegend": false,
         "textposition": "auto",
         "type": "bar",
         "x": [
          "NT",
          "I",
          "N"
         ],
         "xaxis": "x5",
         "y": [
          0.0841435079743744,
          0.11348039071433626,
          0.09189895519766329
         ],
         "yaxis": "y5"
        },
        {
         "alignmentgroup": "True",
         "hovertemplate": "sn_name=T14-20.0<br>channel=e<br>xform=%{x}<br>ratio=%{y}<extra></extra>",
         "legendgroup": "T14-20.0",
         "marker": {
          "color": "#FF6692",
          "pattern": {
           "shape": ""
          }
         },
         "name": "T14-20.0",
         "offsetgroup": "T14-20.0",
         "orientation": "v",
         "showlegend": false,
         "textposition": "auto",
         "type": "bar",
         "x": [
          "NT",
          "I",
          "N"
         ],
         "xaxis": "x6",
         "y": [
          0.06401711341773747,
          0.06974222023588682,
          0.0542513263359177
         ],
         "yaxis": "y6"
        },
        {
         "alignmentgroup": "True",
         "hovertemplate": "sn_name=T14-20.0<br>channel=nc_p<br>xform=%{x}<br>ratio=%{y}<extra></extra>",
         "legendgroup": "T14-20.0",
         "marker": {
          "color": "#FF6692",
          "pattern": {
           "shape": ""
          }
         },
         "name": "T14-20.0",
         "offsetgroup": "T14-20.0",
         "orientation": "v",
         "showlegend": false,
         "textposition": "auto",
         "type": "bar",
         "x": [
          "NT",
          "I",
          "N"
         ],
         "xaxis": "x7",
         "y": [
          0.005980990571183325,
          0.00976574724133242,
          0.007760404925018782
         ],
         "yaxis": "y7"
        },
        {
         "alignmentgroup": "True",
         "hovertemplate": "sn_name=W20-20.0-1.23<br>channel=ibd<br>xform=%{x}<br>ratio=%{y}<extra></extra>",
         "legendgroup": "W20-20.0-1.23",
         "marker": {
          "color": "#B6E880",
          "pattern": {
           "shape": ""
          }
         },
         "name": "W20-20.0-1.23",
         "offsetgroup": "W20-20.0-1.23",
         "orientation": "v",
         "showlegend": true,
         "textposition": "auto",
         "type": "bar",
         "x": [
          "NT",
          "I",
          "N"
         ],
         "xaxis": "x",
         "y": [
          1,
          1,
          1
         ],
         "yaxis": "y"
        },
        {
         "alignmentgroup": "True",
         "hovertemplate": "sn_name=W20-20.0-1.23<br>channel=nue_C12<br>xform=%{x}<br>ratio=%{y}<extra></extra>",
         "legendgroup": "W20-20.0-1.23",
         "marker": {
          "color": "#B6E880",
          "pattern": {
           "shape": ""
          }
         },
         "name": "W20-20.0-1.23",
         "offsetgroup": "W20-20.0-1.23",
         "orientation": "v",
         "showlegend": false,
         "textposition": "auto",
         "type": "bar",
         "x": [
          "NT",
          "I",
          "N"
         ],
         "xaxis": "x2",
         "y": [
          0.010164100374068816,
          0.04748371773430141,
          0.06014839463457675
         ],
         "yaxis": "y2"
        },
        {
         "alignmentgroup": "True",
         "hovertemplate": "sn_name=W20-20.0-1.23<br>channel=nue_C13<br>xform=%{x}<br>ratio=%{y}<extra></extra>",
         "legendgroup": "W20-20.0-1.23",
         "marker": {
          "color": "#B6E880",
          "pattern": {
           "shape": ""
          }
         },
         "name": "W20-20.0-1.23",
         "offsetgroup": "W20-20.0-1.23",
         "orientation": "v",
         "showlegend": false,
         "textposition": "auto",
         "type": "bar",
         "x": [
          "NT",
          "I",
          "N"
         ],
         "xaxis": "x3",
         "y": [
          0.0015885602009321764,
          0.0019509746677951036,
          0.0020072509213249572
         ],
         "yaxis": "y3"
        },
        {
         "alignmentgroup": "True",
         "hovertemplate": "sn_name=W20-20.0-1.23<br>channel=nuebar_C12<br>xform=%{x}<br>ratio=%{y}<extra></extra>",
         "legendgroup": "W20-20.0-1.23",
         "marker": {
          "color": "#B6E880",
          "pattern": {
           "shape": ""
          }
         },
         "name": "W20-20.0-1.23",
         "offsetgroup": "W20-20.0-1.23",
         "orientation": "v",
         "showlegend": false,
         "textposition": "auto",
         "type": "bar",
         "x": [
          "NT",
          "I",
          "N"
         ],
         "xaxis": "x4",
         "y": [
          0.026264844601494915,
          0.051780868747417795,
          0.0343581320459763
         ],
         "yaxis": "y4"
        },
        {
         "alignmentgroup": "True",
         "hovertemplate": "sn_name=W20-20.0-1.23<br>channel=nc<br>xform=%{x}<br>ratio=%{y}<extra></extra>",
         "legendgroup": "W20-20.0-1.23",
         "marker": {
          "color": "#B6E880",
          "pattern": {
           "shape": ""
          }
         },
         "name": "W20-20.0-1.23",
         "offsetgroup": "W20-20.0-1.23",
         "orientation": "v",
         "showlegend": false,
         "textposition": "auto",
         "type": "bar",
         "x": [
          "NT",
          "I",
          "N"
         ],
         "xaxis": "x5",
         "y": [
          0.12068274825932562,
          0.12590706240573896,
          0.12233990954050308
         ],
         "yaxis": "y5"
        },
        {
         "alignmentgroup": "True",
         "hovertemplate": "sn_name=W20-20.0-1.23<br>channel=e<br>xform=%{x}<br>ratio=%{y}<extra></extra>",
         "legendgroup": "W20-20.0-1.23",
         "marker": {
          "color": "#B6E880",
          "pattern": {
           "shape": ""
          }
         },
         "name": "W20-20.0-1.23",
         "offsetgroup": "W20-20.0-1.23",
         "orientation": "v",
         "showlegend": false,
         "textposition": "auto",
         "type": "bar",
         "x": [
          "NT",
          "I",
          "N"
         ],
         "xaxis": "x6",
         "y": [
          0.06326208934564923,
          0.059071037469678477,
          0.05662355157562515
         ],
         "yaxis": "y6"
        },
        {
         "alignmentgroup": "True",
         "hovertemplate": "sn_name=W20-20.0-1.23<br>channel=nc_p<br>xform=%{x}<br>ratio=%{y}<extra></extra>",
         "legendgroup": "W20-20.0-1.23",
         "marker": {
          "color": "#B6E880",
          "pattern": {
           "shape": ""
          }
         },
         "name": "W20-20.0-1.23",
         "offsetgroup": "W20-20.0-1.23",
         "orientation": "v",
         "showlegend": false,
         "textposition": "auto",
         "type": "bar",
         "x": [
          "NT",
          "I",
          "N"
         ],
         "xaxis": "x7",
         "y": [
          0.018432045214129993,
          0.02632285202682403,
          0.024172228613967384
         ],
         "yaxis": "y7"
        },
        {
         "alignmentgroup": "True",
         "hovertemplate": "sn_name=W20-20.0-1.25<br>channel=ibd<br>xform=%{x}<br>ratio=%{y}<extra></extra>",
         "legendgroup": "W20-20.0-1.25",
         "marker": {
          "color": "#FF97FF",
          "pattern": {
           "shape": ""
          }
         },
         "name": "W20-20.0-1.25",
         "offsetgroup": "W20-20.0-1.25",
         "orientation": "v",
         "showlegend": true,
         "textposition": "auto",
         "type": "bar",
         "x": [
          "NT",
          "I",
          "N"
         ],
         "xaxis": "x",
         "y": [
          1,
          1,
          1
         ],
         "yaxis": "y"
        },
        {
         "alignmentgroup": "True",
         "hovertemplate": "sn_name=W20-20.0-1.25<br>channel=nue_C12<br>xform=%{x}<br>ratio=%{y}<extra></extra>",
         "legendgroup": "W20-20.0-1.25",
         "marker": {
          "color": "#FF97FF",
          "pattern": {
           "shape": ""
          }
         },
         "name": "W20-20.0-1.25",
         "offsetgroup": "W20-20.0-1.25",
         "orientation": "v",
         "showlegend": false,
         "textposition": "auto",
         "type": "bar",
         "x": [
          "NT",
          "I",
          "N"
         ],
         "xaxis": "x2",
         "y": [
          0.009563704999893098,
          0.046909228669016645,
          0.06059754418840869
         ],
         "yaxis": "y2"
        },
        {
         "alignmentgroup": "True",
         "hovertemplate": "sn_name=W20-20.0-1.25<br>channel=nue_C13<br>xform=%{x}<br>ratio=%{y}<extra></extra>",
         "legendgroup": "W20-20.0-1.25",
         "marker": {
          "color": "#FF97FF",
          "pattern": {
           "shape": ""
          }
         },
         "name": "W20-20.0-1.25",
         "offsetgroup": "W20-20.0-1.25",
         "orientation": "v",
         "showlegend": false,
         "textposition": "auto",
         "type": "bar",
         "x": [
          "NT",
          "I",
          "N"
         ],
         "xaxis": "x3",
         "y": [
          0.0015840695400894686,
          0.0019390654349736188,
          0.002037077280032262
         ],
         "yaxis": "y3"
        },
        {
         "alignmentgroup": "True",
         "hovertemplate": "sn_name=W20-20.0-1.25<br>channel=nuebar_C12<br>xform=%{x}<br>ratio=%{y}<extra></extra>",
         "legendgroup": "W20-20.0-1.25",
         "marker": {
          "color": "#FF97FF",
          "pattern": {
           "shape": ""
          }
         },
         "name": "W20-20.0-1.25",
         "offsetgroup": "W20-20.0-1.25",
         "orientation": "v",
         "showlegend": false,
         "textposition": "auto",
         "type": "bar",
         "x": [
          "NT",
          "I",
          "N"
         ],
         "xaxis": "x4",
         "y": [
          0.025644517993893542,
          0.051489581795986575,
          0.033966409175957425
         ],
         "yaxis": "y4"
        },
        {
         "alignmentgroup": "True",
         "hovertemplate": "sn_name=W20-20.0-1.25<br>channel=nc<br>xform=%{x}<br>ratio=%{y}<extra></extra>",
         "legendgroup": "W20-20.0-1.25",
         "marker": {
          "color": "#FF97FF",
          "pattern": {
           "shape": ""
          }
         },
         "name": "W20-20.0-1.25",
         "offsetgroup": "W20-20.0-1.25",
         "orientation": "v",
         "showlegend": false,
         "textposition": "auto",
         "type": "bar",
         "x": [
          "NT",
          "I",
          "N"
         ],
         "xaxis": "x5",
         "y": [
          0.12188101764254658,
          0.12437688284176292,
          0.12268475952836906
         ],
         "yaxis": "y5"
        },
        {
         "alignmentgroup": "True",
         "hovertemplate": "sn_name=W20-20.0-1.25<br>channel=e<br>xform=%{x}<br>ratio=%{y}<extra></extra>",
         "legendgroup": "W20-20.0-1.25",
         "marker": {
          "color": "#FF97FF",
          "pattern": {
           "shape": ""
          }
         },
         "name": "W20-20.0-1.25",
         "offsetgroup": "W20-20.0-1.25",
         "orientation": "v",
         "showlegend": false,
         "textposition": "auto",
         "type": "bar",
         "x": [
          "NT",
          "I",
          "N"
         ],
         "xaxis": "x6",
         "y": [
          0.06417968740457437,
          0.05894983097239631,
          0.05736034207541445
         ],
         "yaxis": "y6"
        },
        {
         "alignmentgroup": "True",
         "hovertemplate": "sn_name=W20-20.0-1.25<br>channel=nc_p<br>xform=%{x}<br>ratio=%{y}<extra></extra>",
         "legendgroup": "W20-20.0-1.25",
         "marker": {
          "color": "#FF97FF",
          "pattern": {
           "shape": ""
          }
         },
         "name": "W20-20.0-1.25",
         "offsetgroup": "W20-20.0-1.25",
         "orientation": "v",
         "showlegend": false,
         "textposition": "auto",
         "type": "bar",
         "x": [
          "NT",
          "I",
          "N"
         ],
         "xaxis": "x7",
         "y": [
          0.01846109871327348,
          0.02587022909921303,
          0.024094274122986363
         ],
         "yaxis": "y7"
        },
        {
         "alignmentgroup": "True",
         "hovertemplate": "sn_name=W20-20.0-1.27<br>channel=ibd<br>xform=%{x}<br>ratio=%{y}<extra></extra>",
         "legendgroup": "W20-20.0-1.27",
         "marker": {
          "color": "#FECB52",
          "pattern": {
           "shape": ""
          }
         },
         "name": "W20-20.0-1.27",
         "offsetgroup": "W20-20.0-1.27",
         "orientation": "v",
         "showlegend": true,
         "textposition": "auto",
         "type": "bar",
         "x": [
          "NT",
          "I",
          "N"
         ],
         "xaxis": "x",
         "y": [
          1,
          1,
          1
         ],
         "yaxis": "y"
        },
        {
         "alignmentgroup": "True",
         "hovertemplate": "sn_name=W20-20.0-1.27<br>channel=nue_C12<br>xform=%{x}<br>ratio=%{y}<extra></extra>",
         "legendgroup": "W20-20.0-1.27",
         "marker": {
          "color": "#FECB52",
          "pattern": {
           "shape": ""
          }
         },
         "name": "W20-20.0-1.27",
         "offsetgroup": "W20-20.0-1.27",
         "orientation": "v",
         "showlegend": false,
         "textposition": "auto",
         "type": "bar",
         "x": [
          "NT",
          "I",
          "N"
         ],
         "xaxis": "x2",
         "y": [
          0.009180347824255282,
          0.04652768981480292,
          0.06084535058476224
         ],
         "yaxis": "y2"
        },
        {
         "alignmentgroup": "True",
         "hovertemplate": "sn_name=W20-20.0-1.27<br>channel=nue_C13<br>xform=%{x}<br>ratio=%{y}<extra></extra>",
         "legendgroup": "W20-20.0-1.27",
         "marker": {
          "color": "#FECB52",
          "pattern": {
           "shape": ""
          }
         },
         "name": "W20-20.0-1.27",
         "offsetgroup": "W20-20.0-1.27",
         "orientation": "v",
         "showlegend": false,
         "textposition": "auto",
         "type": "bar",
         "x": [
          "NT",
          "I",
          "N"
         ],
         "xaxis": "x3",
         "y": [
          0.001581381084664298,
          0.0019317143286600809,
          0.002055930306720091
         ],
         "yaxis": "y3"
        },
        {
         "alignmentgroup": "True",
         "hovertemplate": "sn_name=W20-20.0-1.27<br>channel=nuebar_C12<br>xform=%{x}<br>ratio=%{y}<extra></extra>",
         "legendgroup": "W20-20.0-1.27",
         "marker": {
          "color": "#FECB52",
          "pattern": {
           "shape": ""
          }
         },
         "name": "W20-20.0-1.27",
         "offsetgroup": "W20-20.0-1.27",
         "orientation": "v",
         "showlegend": false,
         "textposition": "auto",
         "type": "bar",
         "x": [
          "NT",
          "I",
          "N"
         ],
         "xaxis": "x4",
         "y": [
          0.02525152450034811,
          0.05128718382258439,
          0.03371412611584448
         ],
         "yaxis": "y4"
        },
        {
         "alignmentgroup": "True",
         "hovertemplate": "sn_name=W20-20.0-1.27<br>channel=nc<br>xform=%{x}<br>ratio=%{y}<extra></extra>",
         "legendgroup": "W20-20.0-1.27",
         "marker": {
          "color": "#FECB52",
          "pattern": {
           "shape": ""
          }
         },
         "name": "W20-20.0-1.27",
         "offsetgroup": "W20-20.0-1.27",
         "orientation": "v",
         "showlegend": false,
         "textposition": "auto",
         "type": "bar",
         "x": [
          "NT",
          "I",
          "N"
         ],
         "xaxis": "x5",
         "y": [
          0.12261321335401153,
          0.12339358589189746,
          0.12286693240251018
         ],
         "yaxis": "y5"
        },
        {
         "alignmentgroup": "True",
         "hovertemplate": "sn_name=W20-20.0-1.27<br>channel=e<br>xform=%{x}<br>ratio=%{y}<extra></extra>",
         "legendgroup": "W20-20.0-1.27",
         "marker": {
          "color": "#FECB52",
          "pattern": {
           "shape": ""
          }
         },
         "name": "W20-20.0-1.27",
         "offsetgroup": "W20-20.0-1.27",
         "orientation": "v",
         "showlegend": false,
         "textposition": "auto",
         "type": "bar",
         "x": [
          "NT",
          "I",
          "N"
         ],
         "xaxis": "x6",
         "y": [
          0.06478918845200234,
          0.05888849645624923,
          0.057837798020262066
         ],
         "yaxis": "y6"
        },
        {
         "alignmentgroup": "True",
         "hovertemplate": "sn_name=W20-20.0-1.27<br>channel=nc_p<br>xform=%{x}<br>ratio=%{y}<extra></extra>",
         "legendgroup": "W20-20.0-1.27",
         "marker": {
          "color": "#FECB52",
          "pattern": {
           "shape": ""
          }
         },
         "name": "W20-20.0-1.27",
         "offsetgroup": "W20-20.0-1.27",
         "orientation": "v",
         "showlegend": false,
         "textposition": "auto",
         "type": "bar",
         "x": [
          "NT",
          "I",
          "N"
         ],
         "xaxis": "x7",
         "y": [
          0.01846141132705925,
          0.02556110969805663,
          0.02401845137510599
         ],
         "yaxis": "y7"
        }
       ],
       "layout": {
        "annotations": [
         {
          "font": {},
          "showarrow": false,
          "text": "channel=ibd",
          "x": 0.06285714285714285,
          "xanchor": "center",
          "xref": "paper",
          "y": 1,
          "yanchor": "bottom",
          "yref": "paper"
         },
         {
          "font": {},
          "showarrow": false,
          "text": "channel=nue_C12",
          "x": 0.20857142857142852,
          "xanchor": "center",
          "xref": "paper",
          "y": 1,
          "yanchor": "bottom",
          "yref": "paper"
         },
         {
          "font": {},
          "showarrow": false,
          "text": "channel=nue_C13",
          "x": 0.3542857142857142,
          "xanchor": "center",
          "xref": "paper",
          "y": 1,
          "yanchor": "bottom",
          "yref": "paper"
         },
         {
          "font": {},
          "showarrow": false,
          "text": "channel=nuebar_C12",
          "x": 0.5,
          "xanchor": "center",
          "xref": "paper",
          "y": 1,
          "yanchor": "bottom",
          "yref": "paper"
         },
         {
          "font": {},
          "showarrow": false,
          "text": "channel=nc",
          "x": 0.6457142857142856,
          "xanchor": "center",
          "xref": "paper",
          "y": 1,
          "yanchor": "bottom",
          "yref": "paper"
         },
         {
          "font": {},
          "showarrow": false,
          "text": "channel=e",
          "x": 0.7914285714285713,
          "xanchor": "center",
          "xref": "paper",
          "y": 1,
          "yanchor": "bottom",
          "yref": "paper"
         },
         {
          "font": {},
          "showarrow": false,
          "text": "channel=nc_p",
          "x": 0.9371428571428569,
          "xanchor": "center",
          "xref": "paper",
          "y": 1,
          "yanchor": "bottom",
          "yref": "paper"
         }
        ],
        "bargap": 0.1,
        "bargroupgap": 0.05,
        "barmode": "group",
        "font": {
         "family": "Times New Roman",
         "size": 14
        },
        "height": 400,
        "legend": {
         "title": {
          "text": "sn_name"
         },
         "tracegroupgap": 0
        },
        "margin": {
         "t": 60
        },
        "template": {
         "data": {
          "bar": [
           {
            "error_x": {
             "color": "#2a3f5f"
            },
            "error_y": {
             "color": "#2a3f5f"
            },
            "marker": {
             "line": {
              "color": "#E5ECF6",
              "width": 0.5
             },
             "pattern": {
              "fillmode": "overlay",
              "size": 10,
              "solidity": 0.2
             }
            },
            "type": "bar"
           }
          ],
          "barpolar": [
           {
            "marker": {
             "line": {
              "color": "#E5ECF6",
              "width": 0.5
             },
             "pattern": {
              "fillmode": "overlay",
              "size": 10,
              "solidity": 0.2
             }
            },
            "type": "barpolar"
           }
          ],
          "carpet": [
           {
            "aaxis": {
             "endlinecolor": "#2a3f5f",
             "gridcolor": "white",
             "linecolor": "white",
             "minorgridcolor": "white",
             "startlinecolor": "#2a3f5f"
            },
            "baxis": {
             "endlinecolor": "#2a3f5f",
             "gridcolor": "white",
             "linecolor": "white",
             "minorgridcolor": "white",
             "startlinecolor": "#2a3f5f"
            },
            "type": "carpet"
           }
          ],
          "choropleth": [
           {
            "colorbar": {
             "outlinewidth": 0,
             "ticks": ""
            },
            "type": "choropleth"
           }
          ],
          "contour": [
           {
            "colorbar": {
             "outlinewidth": 0,
             "ticks": ""
            },
            "colorscale": [
             [
              0,
              "#0d0887"
             ],
             [
              0.1111111111111111,
              "#46039f"
             ],
             [
              0.2222222222222222,
              "#7201a8"
             ],
             [
              0.3333333333333333,
              "#9c179e"
             ],
             [
              0.4444444444444444,
              "#bd3786"
             ],
             [
              0.5555555555555556,
              "#d8576b"
             ],
             [
              0.6666666666666666,
              "#ed7953"
             ],
             [
              0.7777777777777778,
              "#fb9f3a"
             ],
             [
              0.8888888888888888,
              "#fdca26"
             ],
             [
              1,
              "#f0f921"
             ]
            ],
            "type": "contour"
           }
          ],
          "contourcarpet": [
           {
            "colorbar": {
             "outlinewidth": 0,
             "ticks": ""
            },
            "type": "contourcarpet"
           }
          ],
          "heatmap": [
           {
            "colorbar": {
             "outlinewidth": 0,
             "ticks": ""
            },
            "colorscale": [
             [
              0,
              "#0d0887"
             ],
             [
              0.1111111111111111,
              "#46039f"
             ],
             [
              0.2222222222222222,
              "#7201a8"
             ],
             [
              0.3333333333333333,
              "#9c179e"
             ],
             [
              0.4444444444444444,
              "#bd3786"
             ],
             [
              0.5555555555555556,
              "#d8576b"
             ],
             [
              0.6666666666666666,
              "#ed7953"
             ],
             [
              0.7777777777777778,
              "#fb9f3a"
             ],
             [
              0.8888888888888888,
              "#fdca26"
             ],
             [
              1,
              "#f0f921"
             ]
            ],
            "type": "heatmap"
           }
          ],
          "heatmapgl": [
           {
            "colorbar": {
             "outlinewidth": 0,
             "ticks": ""
            },
            "colorscale": [
             [
              0,
              "#0d0887"
             ],
             [
              0.1111111111111111,
              "#46039f"
             ],
             [
              0.2222222222222222,
              "#7201a8"
             ],
             [
              0.3333333333333333,
              "#9c179e"
             ],
             [
              0.4444444444444444,
              "#bd3786"
             ],
             [
              0.5555555555555556,
              "#d8576b"
             ],
             [
              0.6666666666666666,
              "#ed7953"
             ],
             [
              0.7777777777777778,
              "#fb9f3a"
             ],
             [
              0.8888888888888888,
              "#fdca26"
             ],
             [
              1,
              "#f0f921"
             ]
            ],
            "type": "heatmapgl"
           }
          ],
          "histogram": [
           {
            "marker": {
             "pattern": {
              "fillmode": "overlay",
              "size": 10,
              "solidity": 0.2
             }
            },
            "type": "histogram"
           }
          ],
          "histogram2d": [
           {
            "colorbar": {
             "outlinewidth": 0,
             "ticks": ""
            },
            "colorscale": [
             [
              0,
              "#0d0887"
             ],
             [
              0.1111111111111111,
              "#46039f"
             ],
             [
              0.2222222222222222,
              "#7201a8"
             ],
             [
              0.3333333333333333,
              "#9c179e"
             ],
             [
              0.4444444444444444,
              "#bd3786"
             ],
             [
              0.5555555555555556,
              "#d8576b"
             ],
             [
              0.6666666666666666,
              "#ed7953"
             ],
             [
              0.7777777777777778,
              "#fb9f3a"
             ],
             [
              0.8888888888888888,
              "#fdca26"
             ],
             [
              1,
              "#f0f921"
             ]
            ],
            "type": "histogram2d"
           }
          ],
          "histogram2dcontour": [
           {
            "colorbar": {
             "outlinewidth": 0,
             "ticks": ""
            },
            "colorscale": [
             [
              0,
              "#0d0887"
             ],
             [
              0.1111111111111111,
              "#46039f"
             ],
             [
              0.2222222222222222,
              "#7201a8"
             ],
             [
              0.3333333333333333,
              "#9c179e"
             ],
             [
              0.4444444444444444,
              "#bd3786"
             ],
             [
              0.5555555555555556,
              "#d8576b"
             ],
             [
              0.6666666666666666,
              "#ed7953"
             ],
             [
              0.7777777777777778,
              "#fb9f3a"
             ],
             [
              0.8888888888888888,
              "#fdca26"
             ],
             [
              1,
              "#f0f921"
             ]
            ],
            "type": "histogram2dcontour"
           }
          ],
          "mesh3d": [
           {
            "colorbar": {
             "outlinewidth": 0,
             "ticks": ""
            },
            "type": "mesh3d"
           }
          ],
          "parcoords": [
           {
            "line": {
             "colorbar": {
              "outlinewidth": 0,
              "ticks": ""
             }
            },
            "type": "parcoords"
           }
          ],
          "pie": [
           {
            "automargin": true,
            "type": "pie"
           }
          ],
          "scatter": [
           {
            "marker": {
             "colorbar": {
              "outlinewidth": 0,
              "ticks": ""
             }
            },
            "type": "scatter"
           }
          ],
          "scatter3d": [
           {
            "line": {
             "colorbar": {
              "outlinewidth": 0,
              "ticks": ""
             }
            },
            "marker": {
             "colorbar": {
              "outlinewidth": 0,
              "ticks": ""
             }
            },
            "type": "scatter3d"
           }
          ],
          "scattercarpet": [
           {
            "marker": {
             "colorbar": {
              "outlinewidth": 0,
              "ticks": ""
             }
            },
            "type": "scattercarpet"
           }
          ],
          "scattergeo": [
           {
            "marker": {
             "colorbar": {
              "outlinewidth": 0,
              "ticks": ""
             }
            },
            "type": "scattergeo"
           }
          ],
          "scattergl": [
           {
            "marker": {
             "colorbar": {
              "outlinewidth": 0,
              "ticks": ""
             }
            },
            "type": "scattergl"
           }
          ],
          "scattermapbox": [
           {
            "marker": {
             "colorbar": {
              "outlinewidth": 0,
              "ticks": ""
             }
            },
            "type": "scattermapbox"
           }
          ],
          "scatterpolar": [
           {
            "marker": {
             "colorbar": {
              "outlinewidth": 0,
              "ticks": ""
             }
            },
            "type": "scatterpolar"
           }
          ],
          "scatterpolargl": [
           {
            "marker": {
             "colorbar": {
              "outlinewidth": 0,
              "ticks": ""
             }
            },
            "type": "scatterpolargl"
           }
          ],
          "scatterternary": [
           {
            "marker": {
             "colorbar": {
              "outlinewidth": 0,
              "ticks": ""
             }
            },
            "type": "scatterternary"
           }
          ],
          "surface": [
           {
            "colorbar": {
             "outlinewidth": 0,
             "ticks": ""
            },
            "colorscale": [
             [
              0,
              "#0d0887"
             ],
             [
              0.1111111111111111,
              "#46039f"
             ],
             [
              0.2222222222222222,
              "#7201a8"
             ],
             [
              0.3333333333333333,
              "#9c179e"
             ],
             [
              0.4444444444444444,
              "#bd3786"
             ],
             [
              0.5555555555555556,
              "#d8576b"
             ],
             [
              0.6666666666666666,
              "#ed7953"
             ],
             [
              0.7777777777777778,
              "#fb9f3a"
             ],
             [
              0.8888888888888888,
              "#fdca26"
             ],
             [
              1,
              "#f0f921"
             ]
            ],
            "type": "surface"
           }
          ],
          "table": [
           {
            "cells": {
             "fill": {
              "color": "#EBF0F8"
             },
             "line": {
              "color": "white"
             }
            },
            "header": {
             "fill": {
              "color": "#C8D4E3"
             },
             "line": {
              "color": "white"
             }
            },
            "type": "table"
           }
          ]
         },
         "layout": {
          "annotationdefaults": {
           "arrowcolor": "#2a3f5f",
           "arrowhead": 0,
           "arrowwidth": 1
          },
          "autotypenumbers": "strict",
          "coloraxis": {
           "colorbar": {
            "outlinewidth": 0,
            "ticks": ""
           }
          },
          "colorscale": {
           "diverging": [
            [
             0,
             "#8e0152"
            ],
            [
             0.1,
             "#c51b7d"
            ],
            [
             0.2,
             "#de77ae"
            ],
            [
             0.3,
             "#f1b6da"
            ],
            [
             0.4,
             "#fde0ef"
            ],
            [
             0.5,
             "#f7f7f7"
            ],
            [
             0.6,
             "#e6f5d0"
            ],
            [
             0.7,
             "#b8e186"
            ],
            [
             0.8,
             "#7fbc41"
            ],
            [
             0.9,
             "#4d9221"
            ],
            [
             1,
             "#276419"
            ]
           ],
           "sequential": [
            [
             0,
             "#0d0887"
            ],
            [
             0.1111111111111111,
             "#46039f"
            ],
            [
             0.2222222222222222,
             "#7201a8"
            ],
            [
             0.3333333333333333,
             "#9c179e"
            ],
            [
             0.4444444444444444,
             "#bd3786"
            ],
            [
             0.5555555555555556,
             "#d8576b"
            ],
            [
             0.6666666666666666,
             "#ed7953"
            ],
            [
             0.7777777777777778,
             "#fb9f3a"
            ],
            [
             0.8888888888888888,
             "#fdca26"
            ],
            [
             1,
             "#f0f921"
            ]
           ],
           "sequentialminus": [
            [
             0,
             "#0d0887"
            ],
            [
             0.1111111111111111,
             "#46039f"
            ],
            [
             0.2222222222222222,
             "#7201a8"
            ],
            [
             0.3333333333333333,
             "#9c179e"
            ],
            [
             0.4444444444444444,
             "#bd3786"
            ],
            [
             0.5555555555555556,
             "#d8576b"
            ],
            [
             0.6666666666666666,
             "#ed7953"
            ],
            [
             0.7777777777777778,
             "#fb9f3a"
            ],
            [
             0.8888888888888888,
             "#fdca26"
            ],
            [
             1,
             "#f0f921"
            ]
           ]
          },
          "colorway": [
           "#636efa",
           "#EF553B",
           "#00cc96",
           "#ab63fa",
           "#FFA15A",
           "#19d3f3",
           "#FF6692",
           "#B6E880",
           "#FF97FF",
           "#FECB52"
          ],
          "font": {
           "color": "#2a3f5f"
          },
          "geo": {
           "bgcolor": "white",
           "lakecolor": "white",
           "landcolor": "#E5ECF6",
           "showlakes": true,
           "showland": true,
           "subunitcolor": "white"
          },
          "hoverlabel": {
           "align": "left"
          },
          "hovermode": "closest",
          "mapbox": {
           "style": "light"
          },
          "paper_bgcolor": "white",
          "plot_bgcolor": "#E5ECF6",
          "polar": {
           "angularaxis": {
            "gridcolor": "white",
            "linecolor": "white",
            "ticks": ""
           },
           "bgcolor": "#E5ECF6",
           "radialaxis": {
            "gridcolor": "white",
            "linecolor": "white",
            "ticks": ""
           }
          },
          "scene": {
           "xaxis": {
            "backgroundcolor": "#E5ECF6",
            "gridcolor": "white",
            "gridwidth": 2,
            "linecolor": "white",
            "showbackground": true,
            "ticks": "",
            "zerolinecolor": "white"
           },
           "yaxis": {
            "backgroundcolor": "#E5ECF6",
            "gridcolor": "white",
            "gridwidth": 2,
            "linecolor": "white",
            "showbackground": true,
            "ticks": "",
            "zerolinecolor": "white"
           },
           "zaxis": {
            "backgroundcolor": "#E5ECF6",
            "gridcolor": "white",
            "gridwidth": 2,
            "linecolor": "white",
            "showbackground": true,
            "ticks": "",
            "zerolinecolor": "white"
           }
          },
          "shapedefaults": {
           "line": {
            "color": "#2a3f5f"
           }
          },
          "ternary": {
           "aaxis": {
            "gridcolor": "white",
            "linecolor": "white",
            "ticks": ""
           },
           "baxis": {
            "gridcolor": "white",
            "linecolor": "white",
            "ticks": ""
           },
           "bgcolor": "#E5ECF6",
           "caxis": {
            "gridcolor": "white",
            "linecolor": "white",
            "ticks": ""
           }
          },
          "title": {
           "x": 0.05
          },
          "xaxis": {
           "automargin": true,
           "gridcolor": "white",
           "linecolor": "white",
           "ticks": "",
           "title": {
            "standoff": 15
           },
           "zerolinecolor": "white",
           "zerolinewidth": 2
          },
          "yaxis": {
           "automargin": true,
           "gridcolor": "white",
           "linecolor": "white",
           "ticks": "",
           "title": {
            "standoff": 15
           },
           "zerolinecolor": "white",
           "zerolinewidth": 2
          }
         }
        },
        "title": {
         "text": "Nakazato_2013 @ 10 kpc in KamLAND"
        },
        "width": 1000,
        "xaxis": {
         "anchor": "y",
         "domain": [
          0,
          0.1257142857142857
         ],
         "title": {
          "text": "xform"
         }
        },
        "xaxis2": {
         "anchor": "y2",
         "domain": [
          0.14571428571428569,
          0.27142857142857135
         ],
         "matches": "x",
         "title": {
          "text": "xform"
         }
        },
        "xaxis3": {
         "anchor": "y3",
         "domain": [
          0.29142857142857137,
          0.41714285714285704
         ],
         "matches": "x",
         "title": {
          "text": "xform"
         }
        },
        "xaxis4": {
         "anchor": "y4",
         "domain": [
          0.4371428571428571,
          0.5628571428571428
         ],
         "matches": "x",
         "title": {
          "text": "xform"
         }
        },
        "xaxis5": {
         "anchor": "y5",
         "domain": [
          0.5828571428571427,
          0.7085714285714284
         ],
         "matches": "x",
         "title": {
          "text": "xform"
         }
        },
        "xaxis6": {
         "anchor": "y6",
         "domain": [
          0.7285714285714284,
          0.8542857142857141
         ],
         "matches": "x",
         "title": {
          "text": "xform"
         }
        },
        "xaxis7": {
         "anchor": "y7",
         "domain": [
          0.8742857142857141,
          0.9999999999999998
         ],
         "matches": "x",
         "title": {
          "text": "xform"
         }
        },
        "yaxis": {
         "anchor": "x",
         "domain": [
          0,
          1
         ],
         "title": {
          "text": "ratio"
         },
         "type": "log"
        },
        "yaxis2": {
         "anchor": "x2",
         "domain": [
          0,
          1
         ],
         "matches": "y",
         "showticklabels": false,
         "type": "log"
        },
        "yaxis3": {
         "anchor": "x3",
         "domain": [
          0,
          1
         ],
         "matches": "y",
         "showticklabels": false,
         "type": "log"
        },
        "yaxis4": {
         "anchor": "x4",
         "domain": [
          0,
          1
         ],
         "matches": "y",
         "showticklabels": false,
         "type": "log"
        },
        "yaxis5": {
         "anchor": "x5",
         "domain": [
          0,
          1
         ],
         "matches": "y",
         "showticklabels": false,
         "type": "log"
        },
        "yaxis6": {
         "anchor": "x6",
         "domain": [
          0,
          1
         ],
         "matches": "y",
         "showticklabels": false,
         "type": "log"
        },
        "yaxis7": {
         "anchor": "x7",
         "domain": [
          0,
          1
         ],
         "matches": "y",
         "showticklabels": false,
         "type": "log"
        }
       }
      }
     },
     "metadata": {},
     "output_type": "display_data"
    }
   ],
   "source": [
    "bars = px.bar(events, x='xform', y='ratio', \n",
    "              color='sn_name', barmode='group',\n",
    "              facet_col='channel', \n",
    "              category_orders={\"mass\": [13, 20, 30, 50],\n",
    "                               \"metal\": [0.02, 0.004]},\n",
    "              log_y=True)\n",
    "bars.layout.bargroupgap = 0.2\n",
    "bars.layout.font = dict(size=14, family=\"Times New Roman\")\n",
    "bars.layout.bargap = 0.1\n",
    "bars.layout.bargroupgap = 0.05\n",
    "bars.layout.width = 1000\n",
    "bars.layout.height = 400\n",
    "bars.layout.title = f'Nakazato_2013 @ 10 kpc in KamLAND'\n",
    "bars"
   ]
  },
  {
   "cell_type": "code",
   "execution_count": 38,
   "metadata": {},
   "outputs": [],
   "source": [
    "bars.write_image('../out/plots/m20_msw.png', scale=3)\n",
    "bars.write_html('../out/plots/m20_msw.html')"
   ]
  },
  {
   "cell_type": "code",
   "execution_count": 8,
   "metadata": {},
   "outputs": [
    {
     "name": "stderr",
     "output_type": "stream",
     "text": [
      "/var/folders/bs/t_j9r03n3h39lmjyz9hr6b540000gn/T/ipykernel_13068/2250513182.py:1: UserWarning:\n",
      "\n",
      "Boolean Series key will be reindexed to match DataFrame index.\n",
      "\n"
     ]
    },
    {
     "data": {
      "application/vnd.plotly.v1+json": {
       "config": {
        "plotlyServerURL": "https://plot.ly"
       },
       "data": [
        {
         "hovertemplate": "channel=nue_C12<br>xform=NT<br>sn_name=%{x}<br>ratio=%{y}<extra></extra>",
         "legendgroup": "nue_C12, NT",
         "marker": {
          "color": "#636efa",
          "size": 16,
          "symbol": "circle"
         },
         "mode": "markers",
         "name": "nue_C12, NT",
         "orientation": "v",
         "showlegend": true,
         "type": "scatter",
         "x": [
          "K20-00-00",
          "K20-10-12",
          "K20-10-13",
          "N13-20-20-100",
          "N13-20-20-200",
          "N13-20-20-300",
          "T14-20.0",
          "W20-20.0-1.23",
          "W20-20.0-1.25",
          "W20-20.0-1.27"
         ],
         "xaxis": "x",
         "y": [
          0.02198237293628244,
          0.02325698175957787,
          0.017359809412674673,
          0.007547368227907355,
          0.01070486441858311,
          0.014157180545163031,
          0.015645027171730524,
          0.010164100374068816,
          0.009563704999893098,
          0.009180347824255282
         ],
         "yaxis": "y"
        },
        {
         "hovertemplate": "channel=nue_C13<br>xform=NT<br>sn_name=%{x}<br>ratio=%{y}<extra></extra>",
         "legendgroup": "nue_C13, NT",
         "marker": {
          "color": "#EF553B",
          "size": 16,
          "symbol": "circle"
         },
         "mode": "markers",
         "name": "nue_C13, NT",
         "orientation": "v",
         "showlegend": true,
         "type": "scatter",
         "x": [
          "K20-00-00",
          "K20-10-12",
          "K20-10-13",
          "N13-20-20-100",
          "N13-20-20-200",
          "N13-20-20-300",
          "T14-20.0",
          "W20-20.0-1.23",
          "W20-20.0-1.25",
          "W20-20.0-1.27"
         ],
         "xaxis": "x",
         "y": [
          0.0020822265821208888,
          0.0023012171830480497,
          0.002191163668464652,
          0.0017564590651560365,
          0.0017795043517393294,
          0.00180905244857366,
          0.0019255068424340698,
          0.0015885602009321764,
          0.0015840695400894686,
          0.001581381084664298
         ],
         "yaxis": "y"
        },
        {
         "hovertemplate": "channel=nuebar_C12<br>xform=NT<br>sn_name=%{x}<br>ratio=%{y}<extra></extra>",
         "legendgroup": "nuebar_C12, NT",
         "marker": {
          "color": "#00cc96",
          "size": 16,
          "symbol": "circle"
         },
         "mode": "markers",
         "name": "nuebar_C12, NT",
         "orientation": "v",
         "showlegend": true,
         "type": "scatter",
         "x": [
          "K20-00-00",
          "K20-10-12",
          "K20-10-13",
          "N13-20-20-100",
          "N13-20-20-200",
          "N13-20-20-300",
          "T14-20.0",
          "W20-20.0-1.23",
          "W20-20.0-1.25",
          "W20-20.0-1.27"
         ],
         "xaxis": "x",
         "y": [
          0.0316243229114679,
          0.027801634156547114,
          0.029210375177260318,
          0.016183486282251826,
          0.020170556999086313,
          0.02343488199646616,
          0.028386897852804058,
          0.026264844601494915,
          0.025644517993893542,
          0.02525152450034811
         ],
         "yaxis": "y"
        },
        {
         "hovertemplate": "channel=nc<br>xform=NT<br>sn_name=%{x}<br>ratio=%{y}<extra></extra>",
         "legendgroup": "nc, NT",
         "marker": {
          "color": "#ab63fa",
          "size": 16,
          "symbol": "circle"
         },
         "mode": "markers",
         "name": "nc, NT",
         "orientation": "v",
         "showlegend": true,
         "type": "scatter",
         "x": [
          "K20-00-00",
          "K20-10-12",
          "K20-10-13",
          "N13-20-20-100",
          "N13-20-20-200",
          "N13-20-20-300",
          "T14-20.0",
          "W20-20.0-1.23",
          "W20-20.0-1.25",
          "W20-20.0-1.27"
         ],
         "xaxis": "x",
         "y": [
          0.12740626210968406,
          0.1172694087301354,
          0.11513649052902165,
          0.12188226081168167,
          0.12136431333310974,
          0.1202118562719586,
          0.0841435079743744,
          0.12068274825932562,
          0.12188101764254658,
          0.12261321335401153
         ],
         "yaxis": "y"
        },
        {
         "hovertemplate": "channel=e<br>xform=NT<br>sn_name=%{x}<br>ratio=%{y}<extra></extra>",
         "legendgroup": "e, NT",
         "marker": {
          "color": "#FFA15A",
          "size": 16,
          "symbol": "circle"
         },
         "mode": "markers",
         "name": "e, NT",
         "orientation": "v",
         "showlegend": true,
         "type": "scatter",
         "x": [
          "K20-00-00",
          "K20-10-12",
          "K20-10-13",
          "N13-20-20-100",
          "N13-20-20-200",
          "N13-20-20-300",
          "T14-20.0",
          "W20-20.0-1.23",
          "W20-20.0-1.25",
          "W20-20.0-1.27"
         ],
         "xaxis": "x",
         "y": [
          0.07181321442156485,
          0.07911794438225825,
          0.07814982330138559,
          0.09674312769165268,
          0.09028090016412468,
          0.08583554461692372,
          0.06401711341773747,
          0.06326208934564923,
          0.06417968740457437,
          0.06478918845200234
         ],
         "yaxis": "y"
        },
        {
         "hovertemplate": "channel=nc_p<br>xform=NT<br>sn_name=%{x}<br>ratio=%{y}<extra></extra>",
         "legendgroup": "nc_p, NT",
         "marker": {
          "color": "#19d3f3",
          "size": 16,
          "symbol": "circle"
         },
         "mode": "markers",
         "name": "nc_p, NT",
         "orientation": "v",
         "showlegend": true,
         "type": "scatter",
         "x": [
          "K20-00-00",
          "K20-10-12",
          "K20-10-13",
          "N13-20-20-100",
          "N13-20-20-200",
          "N13-20-20-300",
          "T14-20.0",
          "W20-20.0-1.23",
          "W20-20.0-1.25",
          "W20-20.0-1.27"
         ],
         "xaxis": "x",
         "y": [
          0.016201650882213835,
          0.012954276377934516,
          0.012523294843706253,
          0.025137121697113504,
          0.02509890478928319,
          0.025183109842130052,
          0.005980990571183325,
          0.018432045214129993,
          0.01846109871327348,
          0.01846141132705925
         ],
         "yaxis": "y"
        }
       ],
       "layout": {
        "bargroupgap": 0.2,
        "font": {
         "family": "Times New Roman",
         "size": 18
        },
        "height": 700,
        "legend": {
         "title": {
          "text": "channel, xform"
         },
         "tracegroupgap": 0
        },
        "margin": {
         "t": 60
        },
        "template": {
         "data": {
          "bar": [
           {
            "error_x": {
             "color": "#2a3f5f"
            },
            "error_y": {
             "color": "#2a3f5f"
            },
            "marker": {
             "line": {
              "color": "#E5ECF6",
              "width": 0.5
             },
             "pattern": {
              "fillmode": "overlay",
              "size": 10,
              "solidity": 0.2
             }
            },
            "type": "bar"
           }
          ],
          "barpolar": [
           {
            "marker": {
             "line": {
              "color": "#E5ECF6",
              "width": 0.5
             },
             "pattern": {
              "fillmode": "overlay",
              "size": 10,
              "solidity": 0.2
             }
            },
            "type": "barpolar"
           }
          ],
          "carpet": [
           {
            "aaxis": {
             "endlinecolor": "#2a3f5f",
             "gridcolor": "white",
             "linecolor": "white",
             "minorgridcolor": "white",
             "startlinecolor": "#2a3f5f"
            },
            "baxis": {
             "endlinecolor": "#2a3f5f",
             "gridcolor": "white",
             "linecolor": "white",
             "minorgridcolor": "white",
             "startlinecolor": "#2a3f5f"
            },
            "type": "carpet"
           }
          ],
          "choropleth": [
           {
            "colorbar": {
             "outlinewidth": 0,
             "ticks": ""
            },
            "type": "choropleth"
           }
          ],
          "contour": [
           {
            "colorbar": {
             "outlinewidth": 0,
             "ticks": ""
            },
            "colorscale": [
             [
              0,
              "#0d0887"
             ],
             [
              0.1111111111111111,
              "#46039f"
             ],
             [
              0.2222222222222222,
              "#7201a8"
             ],
             [
              0.3333333333333333,
              "#9c179e"
             ],
             [
              0.4444444444444444,
              "#bd3786"
             ],
             [
              0.5555555555555556,
              "#d8576b"
             ],
             [
              0.6666666666666666,
              "#ed7953"
             ],
             [
              0.7777777777777778,
              "#fb9f3a"
             ],
             [
              0.8888888888888888,
              "#fdca26"
             ],
             [
              1,
              "#f0f921"
             ]
            ],
            "type": "contour"
           }
          ],
          "contourcarpet": [
           {
            "colorbar": {
             "outlinewidth": 0,
             "ticks": ""
            },
            "type": "contourcarpet"
           }
          ],
          "heatmap": [
           {
            "colorbar": {
             "outlinewidth": 0,
             "ticks": ""
            },
            "colorscale": [
             [
              0,
              "#0d0887"
             ],
             [
              0.1111111111111111,
              "#46039f"
             ],
             [
              0.2222222222222222,
              "#7201a8"
             ],
             [
              0.3333333333333333,
              "#9c179e"
             ],
             [
              0.4444444444444444,
              "#bd3786"
             ],
             [
              0.5555555555555556,
              "#d8576b"
             ],
             [
              0.6666666666666666,
              "#ed7953"
             ],
             [
              0.7777777777777778,
              "#fb9f3a"
             ],
             [
              0.8888888888888888,
              "#fdca26"
             ],
             [
              1,
              "#f0f921"
             ]
            ],
            "type": "heatmap"
           }
          ],
          "heatmapgl": [
           {
            "colorbar": {
             "outlinewidth": 0,
             "ticks": ""
            },
            "colorscale": [
             [
              0,
              "#0d0887"
             ],
             [
              0.1111111111111111,
              "#46039f"
             ],
             [
              0.2222222222222222,
              "#7201a8"
             ],
             [
              0.3333333333333333,
              "#9c179e"
             ],
             [
              0.4444444444444444,
              "#bd3786"
             ],
             [
              0.5555555555555556,
              "#d8576b"
             ],
             [
              0.6666666666666666,
              "#ed7953"
             ],
             [
              0.7777777777777778,
              "#fb9f3a"
             ],
             [
              0.8888888888888888,
              "#fdca26"
             ],
             [
              1,
              "#f0f921"
             ]
            ],
            "type": "heatmapgl"
           }
          ],
          "histogram": [
           {
            "marker": {
             "pattern": {
              "fillmode": "overlay",
              "size": 10,
              "solidity": 0.2
             }
            },
            "type": "histogram"
           }
          ],
          "histogram2d": [
           {
            "colorbar": {
             "outlinewidth": 0,
             "ticks": ""
            },
            "colorscale": [
             [
              0,
              "#0d0887"
             ],
             [
              0.1111111111111111,
              "#46039f"
             ],
             [
              0.2222222222222222,
              "#7201a8"
             ],
             [
              0.3333333333333333,
              "#9c179e"
             ],
             [
              0.4444444444444444,
              "#bd3786"
             ],
             [
              0.5555555555555556,
              "#d8576b"
             ],
             [
              0.6666666666666666,
              "#ed7953"
             ],
             [
              0.7777777777777778,
              "#fb9f3a"
             ],
             [
              0.8888888888888888,
              "#fdca26"
             ],
             [
              1,
              "#f0f921"
             ]
            ],
            "type": "histogram2d"
           }
          ],
          "histogram2dcontour": [
           {
            "colorbar": {
             "outlinewidth": 0,
             "ticks": ""
            },
            "colorscale": [
             [
              0,
              "#0d0887"
             ],
             [
              0.1111111111111111,
              "#46039f"
             ],
             [
              0.2222222222222222,
              "#7201a8"
             ],
             [
              0.3333333333333333,
              "#9c179e"
             ],
             [
              0.4444444444444444,
              "#bd3786"
             ],
             [
              0.5555555555555556,
              "#d8576b"
             ],
             [
              0.6666666666666666,
              "#ed7953"
             ],
             [
              0.7777777777777778,
              "#fb9f3a"
             ],
             [
              0.8888888888888888,
              "#fdca26"
             ],
             [
              1,
              "#f0f921"
             ]
            ],
            "type": "histogram2dcontour"
           }
          ],
          "mesh3d": [
           {
            "colorbar": {
             "outlinewidth": 0,
             "ticks": ""
            },
            "type": "mesh3d"
           }
          ],
          "parcoords": [
           {
            "line": {
             "colorbar": {
              "outlinewidth": 0,
              "ticks": ""
             }
            },
            "type": "parcoords"
           }
          ],
          "pie": [
           {
            "automargin": true,
            "type": "pie"
           }
          ],
          "scatter": [
           {
            "marker": {
             "colorbar": {
              "outlinewidth": 0,
              "ticks": ""
             }
            },
            "type": "scatter"
           }
          ],
          "scatter3d": [
           {
            "line": {
             "colorbar": {
              "outlinewidth": 0,
              "ticks": ""
             }
            },
            "marker": {
             "colorbar": {
              "outlinewidth": 0,
              "ticks": ""
             }
            },
            "type": "scatter3d"
           }
          ],
          "scattercarpet": [
           {
            "marker": {
             "colorbar": {
              "outlinewidth": 0,
              "ticks": ""
             }
            },
            "type": "scattercarpet"
           }
          ],
          "scattergeo": [
           {
            "marker": {
             "colorbar": {
              "outlinewidth": 0,
              "ticks": ""
             }
            },
            "type": "scattergeo"
           }
          ],
          "scattergl": [
           {
            "marker": {
             "colorbar": {
              "outlinewidth": 0,
              "ticks": ""
             }
            },
            "type": "scattergl"
           }
          ],
          "scattermapbox": [
           {
            "marker": {
             "colorbar": {
              "outlinewidth": 0,
              "ticks": ""
             }
            },
            "type": "scattermapbox"
           }
          ],
          "scatterpolar": [
           {
            "marker": {
             "colorbar": {
              "outlinewidth": 0,
              "ticks": ""
             }
            },
            "type": "scatterpolar"
           }
          ],
          "scatterpolargl": [
           {
            "marker": {
             "colorbar": {
              "outlinewidth": 0,
              "ticks": ""
             }
            },
            "type": "scatterpolargl"
           }
          ],
          "scatterternary": [
           {
            "marker": {
             "colorbar": {
              "outlinewidth": 0,
              "ticks": ""
             }
            },
            "type": "scatterternary"
           }
          ],
          "surface": [
           {
            "colorbar": {
             "outlinewidth": 0,
             "ticks": ""
            },
            "colorscale": [
             [
              0,
              "#0d0887"
             ],
             [
              0.1111111111111111,
              "#46039f"
             ],
             [
              0.2222222222222222,
              "#7201a8"
             ],
             [
              0.3333333333333333,
              "#9c179e"
             ],
             [
              0.4444444444444444,
              "#bd3786"
             ],
             [
              0.5555555555555556,
              "#d8576b"
             ],
             [
              0.6666666666666666,
              "#ed7953"
             ],
             [
              0.7777777777777778,
              "#fb9f3a"
             ],
             [
              0.8888888888888888,
              "#fdca26"
             ],
             [
              1,
              "#f0f921"
             ]
            ],
            "type": "surface"
           }
          ],
          "table": [
           {
            "cells": {
             "fill": {
              "color": "#EBF0F8"
             },
             "line": {
              "color": "white"
             }
            },
            "header": {
             "fill": {
              "color": "#C8D4E3"
             },
             "line": {
              "color": "white"
             }
            },
            "type": "table"
           }
          ]
         },
         "layout": {
          "annotationdefaults": {
           "arrowcolor": "#2a3f5f",
           "arrowhead": 0,
           "arrowwidth": 1
          },
          "autotypenumbers": "strict",
          "coloraxis": {
           "colorbar": {
            "outlinewidth": 0,
            "ticks": ""
           }
          },
          "colorscale": {
           "diverging": [
            [
             0,
             "#8e0152"
            ],
            [
             0.1,
             "#c51b7d"
            ],
            [
             0.2,
             "#de77ae"
            ],
            [
             0.3,
             "#f1b6da"
            ],
            [
             0.4,
             "#fde0ef"
            ],
            [
             0.5,
             "#f7f7f7"
            ],
            [
             0.6,
             "#e6f5d0"
            ],
            [
             0.7,
             "#b8e186"
            ],
            [
             0.8,
             "#7fbc41"
            ],
            [
             0.9,
             "#4d9221"
            ],
            [
             1,
             "#276419"
            ]
           ],
           "sequential": [
            [
             0,
             "#0d0887"
            ],
            [
             0.1111111111111111,
             "#46039f"
            ],
            [
             0.2222222222222222,
             "#7201a8"
            ],
            [
             0.3333333333333333,
             "#9c179e"
            ],
            [
             0.4444444444444444,
             "#bd3786"
            ],
            [
             0.5555555555555556,
             "#d8576b"
            ],
            [
             0.6666666666666666,
             "#ed7953"
            ],
            [
             0.7777777777777778,
             "#fb9f3a"
            ],
            [
             0.8888888888888888,
             "#fdca26"
            ],
            [
             1,
             "#f0f921"
            ]
           ],
           "sequentialminus": [
            [
             0,
             "#0d0887"
            ],
            [
             0.1111111111111111,
             "#46039f"
            ],
            [
             0.2222222222222222,
             "#7201a8"
            ],
            [
             0.3333333333333333,
             "#9c179e"
            ],
            [
             0.4444444444444444,
             "#bd3786"
            ],
            [
             0.5555555555555556,
             "#d8576b"
            ],
            [
             0.6666666666666666,
             "#ed7953"
            ],
            [
             0.7777777777777778,
             "#fb9f3a"
            ],
            [
             0.8888888888888888,
             "#fdca26"
            ],
            [
             1,
             "#f0f921"
            ]
           ]
          },
          "colorway": [
           "#636efa",
           "#EF553B",
           "#00cc96",
           "#ab63fa",
           "#FFA15A",
           "#19d3f3",
           "#FF6692",
           "#B6E880",
           "#FF97FF",
           "#FECB52"
          ],
          "font": {
           "color": "#2a3f5f"
          },
          "geo": {
           "bgcolor": "white",
           "lakecolor": "white",
           "landcolor": "#E5ECF6",
           "showlakes": true,
           "showland": true,
           "subunitcolor": "white"
          },
          "hoverlabel": {
           "align": "left"
          },
          "hovermode": "closest",
          "mapbox": {
           "style": "light"
          },
          "paper_bgcolor": "white",
          "plot_bgcolor": "#E5ECF6",
          "polar": {
           "angularaxis": {
            "gridcolor": "white",
            "linecolor": "white",
            "ticks": ""
           },
           "bgcolor": "#E5ECF6",
           "radialaxis": {
            "gridcolor": "white",
            "linecolor": "white",
            "ticks": ""
           }
          },
          "scene": {
           "xaxis": {
            "backgroundcolor": "#E5ECF6",
            "gridcolor": "white",
            "gridwidth": 2,
            "linecolor": "white",
            "showbackground": true,
            "ticks": "",
            "zerolinecolor": "white"
           },
           "yaxis": {
            "backgroundcolor": "#E5ECF6",
            "gridcolor": "white",
            "gridwidth": 2,
            "linecolor": "white",
            "showbackground": true,
            "ticks": "",
            "zerolinecolor": "white"
           },
           "zaxis": {
            "backgroundcolor": "#E5ECF6",
            "gridcolor": "white",
            "gridwidth": 2,
            "linecolor": "white",
            "showbackground": true,
            "ticks": "",
            "zerolinecolor": "white"
           }
          },
          "shapedefaults": {
           "line": {
            "color": "#2a3f5f"
           }
          },
          "ternary": {
           "aaxis": {
            "gridcolor": "white",
            "linecolor": "white",
            "ticks": ""
           },
           "baxis": {
            "gridcolor": "white",
            "linecolor": "white",
            "ticks": ""
           },
           "bgcolor": "#E5ECF6",
           "caxis": {
            "gridcolor": "white",
            "linecolor": "white",
            "ticks": ""
           }
          },
          "title": {
           "x": 0.05
          },
          "xaxis": {
           "automargin": true,
           "gridcolor": "white",
           "linecolor": "white",
           "ticks": "",
           "title": {
            "standoff": 15
           },
           "zerolinecolor": "white",
           "zerolinewidth": 2
          },
          "yaxis": {
           "automargin": true,
           "gridcolor": "white",
           "linecolor": "white",
           "ticks": "",
           "title": {
            "standoff": 15
           },
           "zerolinecolor": "white",
           "zerolinewidth": 2
          }
         }
        },
        "title": {
         "text": "Comaprison of 20 S.M. models @ 10 kpc in KamLAND"
        },
        "width": 740,
        "xaxis": {
         "anchor": "y",
         "domain": [
          0,
          1
         ],
         "title": {
          "text": "sn_name"
         }
        },
        "yaxis": {
         "anchor": "x",
         "domain": [
          0,
          1
         ],
         "title": {
          "text": "ratio"
         }
        }
       }
      }
     },
     "metadata": {},
     "output_type": "display_data"
    }
   ],
   "source": [
    "scat = px.scatter(events[events['channel']!='ibd'][events['xform']=='NT'], x='sn_name', y='ratio', \n",
    "              color='channel',\n",
    "              symbol='xform',\n",
    "              )\n",
    "scat.layout.bargroupgap = 0.2\n",
    "scat.layout.font = dict(size=18, family=\"Times New Roman\")\n",
    "scat.layout.width = 740\n",
    "scat.layout.height = 700\n",
    "scat.layout.title = f'Comaprison of 20 S.M. models @ 10 kpc in KamLAND'\n",
    "scat.update_traces(marker_size=16)\n",
    "scat"
   ]
  },
  {
   "cell_type": "code",
   "execution_count": 53,
   "metadata": {},
   "outputs": [],
   "source": [
    "scat.write_image('../out/plots/m20_msw_scat.png', scale=3)\n",
    "scat.write_html('../out/plots/m20_msw_scat.html')"
   ]
  },
  {
   "cell_type": "code",
   "execution_count": 9,
   "metadata": {},
   "outputs": [
    {
     "data": {
      "application/vnd.plotly.v1+json": {
       "config": {
        "plotlyServerURL": "https://plot.ly"
       },
       "data": [
        {
         "hovertemplate": "channel=ibd<br>xform=NT<br>sn_name=%{x}<br>counts=%{y}<extra></extra>",
         "legendgroup": "ibd, NT",
         "marker": {
          "color": "#636efa",
          "size": 16,
          "symbol": "circle"
         },
         "mode": "markers",
         "name": "ibd, NT",
         "orientation": "v",
         "showlegend": true,
         "type": "scatter",
         "x": [
          "K20-00-00",
          "K20-10-12",
          "K20-10-13",
          "N13-20-20-100",
          "N13-20-20-200",
          "N13-20-20-300",
          "T14-20.0",
          "W20-20.0-1.23",
          "W20-20.0-1.25",
          "W20-20.0-1.27"
         ],
         "xaxis": "x",
         "y": [
          72.44974663941,
          44.383254898974,
          42.11311176912,
          70.370666990176,
          81.93045187049199,
          90.4005108441,
          74.223063431534,
          136.13997916868,
          129.63686844441398,
          125.402635237246
         ],
         "yaxis": "y"
        },
        {
         "hovertemplate": "channel=ibd<br>xform=I<br>sn_name=%{x}<br>counts=%{y}<extra></extra>",
         "legendgroup": "ibd, I",
         "marker": {
          "color": "#636efa",
          "size": 16,
          "symbol": "diamond"
         },
         "mode": "markers",
         "name": "ibd, I",
         "orientation": "v",
         "showlegend": true,
         "type": "scatter",
         "x": [
          "K20-00-00",
          "K20-10-12",
          "K20-10-13",
          "N13-20-20-100",
          "N13-20-20-200",
          "N13-20-20-300",
          "T14-20.0",
          "W20-20.0-1.23",
          "W20-20.0-1.25",
          "W20-20.0-1.27"
         ],
         "xaxis": "x",
         "y": [
          73.600937803,
          43.8941868399,
          41.1170951668,
          100.159871508,
          108.413110308,
          112.32755833000002,
          55.03499215556,
          130.491056026,
          127.035625935,
          124.609441114
         ],
         "yaxis": "y"
        },
        {
         "hovertemplate": "channel=ibd<br>xform=N<br>sn_name=%{x}<br>counts=%{y}<extra></extra>",
         "legendgroup": "ibd, N",
         "marker": {
          "color": "#636efa",
          "size": 16,
          "symbol": "square"
         },
         "mode": "markers",
         "name": "ibd, N",
         "orientation": "v",
         "showlegend": true,
         "type": "scatter",
         "x": [
          "K20-00-00",
          "K20-10-12",
          "K20-10-13",
          "N13-20-20-100",
          "N13-20-20-200",
          "N13-20-20-300",
          "T14-20.0",
          "W20-20.0-1.23",
          "W20-20.0-1.25",
          "W20-20.0-1.27"
         ],
         "xaxis": "x",
         "y": [
          72.8254887136,
          44.22361473424,
          41.78798400545999,
          80.09485231000001,
          90.575257503,
          97.558242893,
          67.95943971838,
          134.295968156,
          128.7877631866,
          125.1437363844
         ],
         "yaxis": "y"
        },
        {
         "hovertemplate": "channel=nue_C12<br>xform=NT<br>sn_name=%{x}<br>counts=%{y}<extra></extra>",
         "legendgroup": "nue_C12, NT",
         "marker": {
          "color": "#EF553B",
          "size": 16,
          "symbol": "circle"
         },
         "mode": "markers",
         "name": "nue_C12, NT",
         "orientation": "v",
         "showlegend": true,
         "type": "scatter",
         "x": [
          "K20-00-00",
          "K20-10-12",
          "K20-10-13",
          "N13-20-20-100",
          "N13-20-20-200",
          "N13-20-20-300",
          "T14-20.0",
          "W20-20.0-1.23",
          "W20-20.0-1.25",
          "W20-20.0-1.27"
         ],
         "xaxis": "x",
         "y": [
          1.592617349766686,
          1.0322205496161334,
          0.73107559408659,
          0.5311133362183033,
          0.8770543790268658,
          1.279816353394892,
          1.1612218441554278,
          1.3837404131941011,
          1.2398087669123257,
          1.15123980955613
         ],
         "yaxis": "y"
        },
        {
         "hovertemplate": "channel=nue_C12<br>xform=I<br>sn_name=%{x}<br>counts=%{y}<extra></extra>",
         "legendgroup": "nue_C12, I",
         "marker": {
          "color": "#EF553B",
          "size": 16,
          "symbol": "diamond"
         },
         "mode": "markers",
         "name": "nue_C12, I",
         "orientation": "v",
         "showlegend": true,
         "type": "scatter",
         "x": [
          "K20-00-00",
          "K20-10-12",
          "K20-10-13",
          "N13-20-20-100",
          "N13-20-20-200",
          "N13-20-20-300",
          "T14-20.0",
          "W20-20.0-1.23",
          "W20-20.0-1.25",
          "W20-20.0-1.27"
         ],
         "xaxis": "x",
         "y": [
          3.3064191677330363,
          1.8285487617164424,
          1.659444829506376,
          3.5798956450701445,
          4.120908244361159,
          4.48328967412175,
          1.8945513297596803,
          6.196200471189496,
          5.959143226096576,
          5.797789424148142
         ],
         "yaxis": "y"
        },
        {
         "hovertemplate": "channel=nue_C12<br>xform=N<br>sn_name=%{x}<br>counts=%{y}<extra></extra>",
         "legendgroup": "nue_C12, N",
         "marker": {
          "color": "#EF553B",
          "size": 16,
          "symbol": "square"
         },
         "mode": "markers",
         "name": "nue_C12, N",
         "orientation": "v",
         "showlegend": true,
         "type": "scatter",
         "x": [
          "K20-00-00",
          "K20-10-12",
          "K20-10-13",
          "N13-20-20-100",
          "N13-20-20-200",
          "N13-20-20-300",
          "T14-20.0",
          "W20-20.0-1.23",
          "W20-20.0-1.25",
          "W20-20.0-1.27"
         ],
         "xaxis": "x",
         "y": [
          3.976449079506362,
          2.139882461635118,
          2.0224014408316977,
          4.77185241034682,
          5.3891302388086295,
          5.735724832370068,
          2.181255000126134,
          8.07768689047964,
          7.804222170626306,
          7.614414513795884
         ],
         "yaxis": "y"
        },
        {
         "hovertemplate": "channel=nue_C13<br>xform=NT<br>sn_name=%{x}<br>counts=%{y}<extra></extra>",
         "legendgroup": "nue_C13, NT",
         "marker": {
          "color": "#00cc96",
          "size": 16,
          "symbol": "circle"
         },
         "mode": "markers",
         "name": "nue_C13, NT",
         "orientation": "v",
         "showlegend": true,
         "type": "scatter",
         "x": [
          "K20-00-00",
          "K20-10-12",
          "K20-10-13",
          "N13-20-20-100",
          "N13-20-20-200",
          "N13-20-20-300",
          "T14-20.0",
          "W20-20.0-1.23",
          "W20-20.0-1.25",
          "W20-20.0-1.27"
         ],
         "xaxis": "x",
         "y": [
          0.150856788320503,
          0.1021355088131205,
          0.0922767204744869,
          0.1236031959559713,
          0.1457955956435102,
          0.1635392654948288,
          0.1429170165038367,
          0.2162665526631006,
          0.2053538145753818,
          0.1983093553312374
         ],
         "yaxis": "y"
        },
        {
         "hovertemplate": "channel=nue_C13<br>xform=I<br>sn_name=%{x}<br>counts=%{y}<extra></extra>",
         "legendgroup": "nue_C13, I",
         "marker": {
          "color": "#00cc96",
          "size": 16,
          "symbol": "diamond"
         },
         "mode": "markers",
         "name": "nue_C13, I",
         "orientation": "v",
         "showlegend": true,
         "type": "scatter",
         "x": [
          "K20-00-00",
          "K20-10-12",
          "K20-10-13",
          "N13-20-20-100",
          "N13-20-20-200",
          "N13-20-20-300",
          "T14-20.0",
          "W20-20.0-1.23",
          "W20-20.0-1.25",
          "W20-20.0-1.27"
         ],
         "xaxis": "x",
         "y": [
          0.1518853636013258,
          0.0937483049807787,
          0.0868313301795617,
          0.1766099101423974,
          0.1950249479046379,
          0.2059184636095977,
          0.1207903054826035,
          0.2545847446805576,
          0.2463303912607967,
          0.2407098428862384
         ],
         "yaxis": "y"
        },
        {
         "hovertemplate": "channel=nue_C13<br>xform=N<br>sn_name=%{x}<br>counts=%{y}<extra></extra>",
         "legendgroup": "nue_C13, N",
         "marker": {
          "color": "#00cc96",
          "size": 16,
          "symbol": "square"
         },
         "mode": "markers",
         "name": "nue_C13, N",
         "orientation": "v",
         "showlegend": true,
         "type": "scatter",
         "x": [
          "K20-00-00",
          "K20-10-12",
          "K20-10-13",
          "N13-20-20-100",
          "N13-20-20-200",
          "N13-20-20-300",
          "T14-20.0",
          "W20-20.0-1.23",
          "W20-20.0-1.25",
          "W20-20.0-1.27"
         ],
         "xaxis": "x",
         "y": [
          0.1522874777958223,
          0.0904692339421898,
          0.0847023936032383,
          0.197333479408797,
          0.2142717140356776,
          0.2224871089358372,
          0.1121396480782122,
          0.2695657058113581,
          0.2623506263335982,
          0.2572868003288777
         ],
         "yaxis": "y"
        },
        {
         "hovertemplate": "channel=nuebar_C12<br>xform=NT<br>sn_name=%{x}<br>counts=%{y}<extra></extra>",
         "legendgroup": "nuebar_C12, NT",
         "marker": {
          "color": "#ab63fa",
          "size": 16,
          "symbol": "circle"
         },
         "mode": "markers",
         "name": "nuebar_C12, NT",
         "orientation": "v",
         "showlegend": true,
         "type": "scatter",
         "x": [
          "K20-00-00",
          "K20-10-12",
          "K20-10-13",
          "N13-20-20-100",
          "N13-20-20-200",
          "N13-20-20-300",
          "T14-20.0",
          "W20-20.0-1.23",
          "W20-20.0-1.25",
          "W20-20.0-1.27"
         ],
         "xaxis": "x",
         "y": [
          2.2911741825787377,
          1.2339270153780526,
          1.2301397946578922,
          1.138842723908425,
          1.6525828494146566,
          2.118525304051743,
          2.106962519953152,
          3.5756953969161347,
          3.3244750054947843,
          3.166607716101535
         ],
         "yaxis": "y"
        },
        {
         "hovertemplate": "channel=nuebar_C12<br>xform=I<br>sn_name=%{x}<br>counts=%{y}<extra></extra>",
         "legendgroup": "nuebar_C12, I",
         "marker": {
          "color": "#ab63fa",
          "size": 16,
          "symbol": "diamond"
         },
         "mode": "markers",
         "name": "nuebar_C12, I",
         "orientation": "v",
         "showlegend": true,
         "type": "scatter",
         "x": [
          "K20-00-00",
          "K20-10-12",
          "K20-10-13",
          "N13-20-20-100",
          "N13-20-20-200",
          "N13-20-20-300",
          "T14-20.0",
          "W20-20.0-1.23",
          "W20-20.0-1.25",
          "W20-20.0-1.27"
         ],
         "xaxis": "x",
         "y": [
          3.4797292752600963,
          1.91601077483543,
          1.8117325317156423,
          3.813092030059434,
          4.290164560066877,
          4.555365190640797,
          2.087180319538446,
          6.756940244794247,
          6.541011252584536,
          6.390867312443223
         ],
         "yaxis": "y"
        },
        {
         "hovertemplate": "channel=nuebar_C12<br>xform=N<br>sn_name=%{x}<br>counts=%{y}<extra></extra>",
         "legendgroup": "nuebar_C12, N",
         "marker": {
          "color": "#ab63fa",
          "size": 16,
          "symbol": "square"
         },
         "mode": "markers",
         "name": "nuebar_C12, N",
         "orientation": "v",
         "showlegend": true,
         "type": "scatter",
         "x": [
          "K20-00-00",
          "K20-10-12",
          "K20-10-13",
          "N13-20-20-100",
          "N13-20-20-200",
          "N13-20-20-300",
          "T14-20.0",
          "W20-20.0-1.23",
          "W20-20.0-1.25",
          "W20-20.0-1.27"
         ],
         "xaxis": "x",
         "y": [
          2.6791578667116025,
          1.4565818423149064,
          1.4199906473188333,
          2.0118063423382124,
          2.5135768550312685,
          2.9139911744718416,
          2.100505239456995,
          4.614158607146075,
          4.3744578612523615,
          4.2191117110716565
         ],
         "yaxis": "y"
        },
        {
         "hovertemplate": "channel=nc<br>xform=NT<br>sn_name=%{x}<br>counts=%{y}<extra></extra>",
         "legendgroup": "nc, NT",
         "marker": {
          "color": "#FFA15A",
          "size": 16,
          "symbol": "circle"
         },
         "mode": "markers",
         "name": "nc, NT",
         "orientation": "v",
         "showlegend": true,
         "type": "scatter",
         "x": [
          "K20-00-00",
          "K20-10-12",
          "K20-10-13",
          "N13-20-20-100",
          "N13-20-20-200",
          "N13-20-20-300",
          "T14-20.0",
          "W20-20.0-1.23",
          "W20-20.0-1.25",
          "W20-20.0-1.27"
         ],
         "xaxis": "x",
         "y": [
          9.230551410120873,
          5.204798059521567,
          4.848755894352916,
          8.57693598758863,
          9.943433032333656,
          10.867213216502584,
          6.245388929733779,
          16.42974683404364,
          15.80027344999811,
          15.376020069499727
         ],
         "yaxis": "y"
        },
        {
         "hovertemplate": "channel=nc<br>xform=I<br>sn_name=%{x}<br>counts=%{y}<extra></extra>",
         "legendgroup": "nc, I",
         "marker": {
          "color": "#FFA15A",
          "size": 16,
          "symbol": "diamond"
         },
         "mode": "markers",
         "name": "nc, I",
         "orientation": "v",
         "showlegend": true,
         "type": "scatter",
         "x": [
          "K20-00-00",
          "K20-10-12",
          "K20-10-13",
          "N13-20-20-100",
          "N13-20-20-200",
          "N13-20-20-300",
          "T14-20.0",
          "W20-20.0-1.23",
          "W20-20.0-1.25",
          "W20-20.0-1.27"
         ],
         "xaxis": "x",
         "y": [
          9.23055541244535,
          5.204798360103589,
          4.848752161160894,
          8.576948313133553,
          9.943430964237525,
          10.86721608092373,
          6.24539241277338,
          16.42974553445636,
          15.800295163647514,
          15.376005775041698
         ],
         "yaxis": "y"
        },
        {
         "hovertemplate": "channel=nc<br>xform=N<br>sn_name=%{x}<br>counts=%{y}<extra></extra>",
         "legendgroup": "nc, N",
         "marker": {
          "color": "#FFA15A",
          "size": 16,
          "symbol": "square"
         },
         "mode": "markers",
         "name": "nc, N",
         "orientation": "v",
         "showlegend": true,
         "type": "scatter",
         "x": [
          "K20-00-00",
          "K20-10-12",
          "K20-10-13",
          "N13-20-20-100",
          "N13-20-20-200",
          "N13-20-20-300",
          "T14-20.0",
          "W20-20.0-1.23",
          "W20-20.0-1.25",
          "W20-20.0-1.27"
         ],
         "xaxis": "x",
         "y": [
          9.23054932123615,
          5.204804433085612,
          4.848751601800292,
          8.57694516937433,
          9.94343134763498,
          10.86721658655175,
          6.245401505937703,
          16.42975659585932,
          15.80029575674456,
          15.376026998939627
         ],
         "yaxis": "y"
        },
        {
         "hovertemplate": "channel=e<br>xform=NT<br>sn_name=%{x}<br>counts=%{y}<extra></extra>",
         "legendgroup": "e, NT",
         "marker": {
          "color": "#19d3f3",
          "size": 16,
          "symbol": "circle"
         },
         "mode": "markers",
         "name": "e, NT",
         "orientation": "v",
         "showlegend": true,
         "type": "scatter",
         "x": [
          "K20-00-00",
          "K20-10-12",
          "K20-10-13",
          "N13-20-20-100",
          "N13-20-20-200",
          "N13-20-20-300",
          "T14-20.0",
          "W20-20.0-1.23",
          "W20-20.0-1.25",
          "W20-20.0-1.27"
         ],
         "xaxis": "x",
         "y": [
          5.202849190203998,
          3.511511892600616,
          3.29113224342823,
          6.807878422377366,
          7.39675494572151,
          7.759577081951442,
          4.7515462699084345,
          8.612499525683857,
          8.32005369287042,
          8.12473496676364
         ],
         "yaxis": "y"
        },
        {
         "hovertemplate": "channel=e<br>xform=I<br>sn_name=%{x}<br>counts=%{y}<extra></extra>",
         "legendgroup": "e, I",
         "marker": {
          "color": "#19d3f3",
          "size": 16,
          "symbol": "diamond"
         },
         "mode": "markers",
         "name": "e, I",
         "orientation": "v",
         "showlegend": true,
         "type": "scatter",
         "x": [
          "K20-00-00",
          "K20-10-12",
          "K20-10-13",
          "N13-20-20-100",
          "N13-20-20-200",
          "N13-20-20-300",
          "T14-20.0",
          "W20-20.0-1.23",
          "W20-20.0-1.25",
          "W20-20.0-1.27"
         ],
         "xaxis": "x",
         "y": [
          4.546099156991303,
          2.9279576626011683,
          2.738485839210296,
          7.003149387239644,
          7.526338069114937,
          7.792856659896033,
          3.838262543593369,
          7.708242059969759,
          7.488728676340815,
          7.338062631456987
         ],
         "yaxis": "y"
        },
        {
         "hovertemplate": "channel=e<br>xform=N<br>sn_name=%{x}<br>counts=%{y}<extra></extra>",
         "legendgroup": "e, N",
         "marker": {
          "color": "#19d3f3",
          "size": 16,
          "symbol": "square"
         },
         "mode": "markers",
         "name": "e, N",
         "orientation": "v",
         "showlegend": true,
         "type": "scatter",
         "x": [
          "K20-00-00",
          "K20-10-12",
          "K20-10-13",
          "N13-20-20-100",
          "N13-20-20-200",
          "N13-20-20-300",
          "T14-20.0",
          "W20-20.0-1.23",
          "W20-20.0-1.25",
          "W20-20.0-1.27"
         ],
         "xaxis": "x",
         "y": [
          4.382422507923076,
          2.775253836662404,
          2.5919012077885264,
          6.917823377127522,
          7.43547652199755,
          7.693261705381291,
          3.68688974176796,
          7.604314679279779,
          7.387310151510843,
          7.238038148501849
         ],
         "yaxis": "y"
        },
        {
         "hovertemplate": "channel=nc_p<br>xform=NT<br>sn_name=%{x}<br>counts=%{y}<extra></extra>",
         "legendgroup": "nc_p, NT",
         "marker": {
          "color": "#FF6692",
          "size": 16,
          "symbol": "circle"
         },
         "mode": "markers",
         "name": "nc_p, NT",
         "orientation": "v",
         "showlegend": true,
         "type": "scatter",
         "x": [
          "K20-00-00",
          "K20-10-12",
          "K20-10-13",
          "N13-20-20-100",
          "N13-20-20-200",
          "N13-20-20-300",
          "T14-20.0",
          "W20-20.0-1.23",
          "W20-20.0-1.25",
          "W20-20.0-1.27"
         ],
         "xaxis": "x",
         "y": [
          1.1738055015565658,
          0.5749529505136253,
          0.5273949154706457,
          1.7689160200391023,
          2.0563646108404274,
          2.276565994371639,
          0.4439274425483467,
          2.509338251487825,
          2.393239025231974,
          2.315109630611973
         ],
         "yaxis": "y"
        },
        {
         "hovertemplate": "channel=nc_p<br>xform=I<br>sn_name=%{x}<br>counts=%{y}<extra></extra>",
         "legendgroup": "nc_p, I",
         "marker": {
          "color": "#FF6692",
          "size": 16,
          "symbol": "diamond"
         },
         "mode": "markers",
         "name": "nc_p, I",
         "orientation": "v",
         "showlegend": true,
         "type": "scatter",
         "x": [
          "K20-00-00",
          "K20-10-12",
          "K20-10-13",
          "N13-20-20-100",
          "N13-20-20-200",
          "N13-20-20-300",
          "T14-20.0",
          "W20-20.0-1.23",
          "W20-20.0-1.25",
          "W20-20.0-1.27"
         ],
         "xaxis": "x",
         "y": [
          1.4654792549478677,
          0.7130948268454518,
          0.6677837512603024,
          2.481618688481752,
          2.845286123477992,
          3.0818313337288497,
          0.5374578228199114,
          3.434896758596402,
          3.2864407467003787,
          3.185155593728482
         ],
         "yaxis": "y"
        },
        {
         "hovertemplate": "channel=nc_p<br>xform=N<br>sn_name=%{x}<br>counts=%{y}<extra></extra>",
         "legendgroup": "nc_p, N",
         "marker": {
          "color": "#FF6692",
          "size": 16,
          "symbol": "square"
         },
         "mode": "markers",
         "name": "nc_p, N",
         "orientation": "v",
         "showlegend": true,
         "type": "scatter",
         "x": [
          "K20-00-00",
          "K20-10-12",
          "K20-10-13",
          "N13-20-20-100",
          "N13-20-20-200",
          "N13-20-20-300",
          "T14-20.0",
          "W20-20.0-1.23",
          "W20-20.0-1.25",
          "W20-20.0-1.27"
         ],
         "xaxis": "x",
         "y": [
          1.4159886142852125,
          0.6837562297289208,
          0.6471453883958027,
          2.3233331404153894,
          2.6742984825629823,
          2.911815138272676,
          0.5273927706920332,
          3.2462328442009154,
          3.103047669904192,
          3.005758747247794
         ],
         "yaxis": "y"
        }
       ],
       "layout": {
        "bargroupgap": 0.2,
        "font": {
         "family": "Times New Roman",
         "size": 18
        },
        "height": 700,
        "legend": {
         "title": {
          "text": "channel, xform"
         },
         "tracegroupgap": 0
        },
        "margin": {
         "t": 60
        },
        "template": {
         "data": {
          "bar": [
           {
            "error_x": {
             "color": "#2a3f5f"
            },
            "error_y": {
             "color": "#2a3f5f"
            },
            "marker": {
             "line": {
              "color": "#E5ECF6",
              "width": 0.5
             },
             "pattern": {
              "fillmode": "overlay",
              "size": 10,
              "solidity": 0.2
             }
            },
            "type": "bar"
           }
          ],
          "barpolar": [
           {
            "marker": {
             "line": {
              "color": "#E5ECF6",
              "width": 0.5
             },
             "pattern": {
              "fillmode": "overlay",
              "size": 10,
              "solidity": 0.2
             }
            },
            "type": "barpolar"
           }
          ],
          "carpet": [
           {
            "aaxis": {
             "endlinecolor": "#2a3f5f",
             "gridcolor": "white",
             "linecolor": "white",
             "minorgridcolor": "white",
             "startlinecolor": "#2a3f5f"
            },
            "baxis": {
             "endlinecolor": "#2a3f5f",
             "gridcolor": "white",
             "linecolor": "white",
             "minorgridcolor": "white",
             "startlinecolor": "#2a3f5f"
            },
            "type": "carpet"
           }
          ],
          "choropleth": [
           {
            "colorbar": {
             "outlinewidth": 0,
             "ticks": ""
            },
            "type": "choropleth"
           }
          ],
          "contour": [
           {
            "colorbar": {
             "outlinewidth": 0,
             "ticks": ""
            },
            "colorscale": [
             [
              0,
              "#0d0887"
             ],
             [
              0.1111111111111111,
              "#46039f"
             ],
             [
              0.2222222222222222,
              "#7201a8"
             ],
             [
              0.3333333333333333,
              "#9c179e"
             ],
             [
              0.4444444444444444,
              "#bd3786"
             ],
             [
              0.5555555555555556,
              "#d8576b"
             ],
             [
              0.6666666666666666,
              "#ed7953"
             ],
             [
              0.7777777777777778,
              "#fb9f3a"
             ],
             [
              0.8888888888888888,
              "#fdca26"
             ],
             [
              1,
              "#f0f921"
             ]
            ],
            "type": "contour"
           }
          ],
          "contourcarpet": [
           {
            "colorbar": {
             "outlinewidth": 0,
             "ticks": ""
            },
            "type": "contourcarpet"
           }
          ],
          "heatmap": [
           {
            "colorbar": {
             "outlinewidth": 0,
             "ticks": ""
            },
            "colorscale": [
             [
              0,
              "#0d0887"
             ],
             [
              0.1111111111111111,
              "#46039f"
             ],
             [
              0.2222222222222222,
              "#7201a8"
             ],
             [
              0.3333333333333333,
              "#9c179e"
             ],
             [
              0.4444444444444444,
              "#bd3786"
             ],
             [
              0.5555555555555556,
              "#d8576b"
             ],
             [
              0.6666666666666666,
              "#ed7953"
             ],
             [
              0.7777777777777778,
              "#fb9f3a"
             ],
             [
              0.8888888888888888,
              "#fdca26"
             ],
             [
              1,
              "#f0f921"
             ]
            ],
            "type": "heatmap"
           }
          ],
          "heatmapgl": [
           {
            "colorbar": {
             "outlinewidth": 0,
             "ticks": ""
            },
            "colorscale": [
             [
              0,
              "#0d0887"
             ],
             [
              0.1111111111111111,
              "#46039f"
             ],
             [
              0.2222222222222222,
              "#7201a8"
             ],
             [
              0.3333333333333333,
              "#9c179e"
             ],
             [
              0.4444444444444444,
              "#bd3786"
             ],
             [
              0.5555555555555556,
              "#d8576b"
             ],
             [
              0.6666666666666666,
              "#ed7953"
             ],
             [
              0.7777777777777778,
              "#fb9f3a"
             ],
             [
              0.8888888888888888,
              "#fdca26"
             ],
             [
              1,
              "#f0f921"
             ]
            ],
            "type": "heatmapgl"
           }
          ],
          "histogram": [
           {
            "marker": {
             "pattern": {
              "fillmode": "overlay",
              "size": 10,
              "solidity": 0.2
             }
            },
            "type": "histogram"
           }
          ],
          "histogram2d": [
           {
            "colorbar": {
             "outlinewidth": 0,
             "ticks": ""
            },
            "colorscale": [
             [
              0,
              "#0d0887"
             ],
             [
              0.1111111111111111,
              "#46039f"
             ],
             [
              0.2222222222222222,
              "#7201a8"
             ],
             [
              0.3333333333333333,
              "#9c179e"
             ],
             [
              0.4444444444444444,
              "#bd3786"
             ],
             [
              0.5555555555555556,
              "#d8576b"
             ],
             [
              0.6666666666666666,
              "#ed7953"
             ],
             [
              0.7777777777777778,
              "#fb9f3a"
             ],
             [
              0.8888888888888888,
              "#fdca26"
             ],
             [
              1,
              "#f0f921"
             ]
            ],
            "type": "histogram2d"
           }
          ],
          "histogram2dcontour": [
           {
            "colorbar": {
             "outlinewidth": 0,
             "ticks": ""
            },
            "colorscale": [
             [
              0,
              "#0d0887"
             ],
             [
              0.1111111111111111,
              "#46039f"
             ],
             [
              0.2222222222222222,
              "#7201a8"
             ],
             [
              0.3333333333333333,
              "#9c179e"
             ],
             [
              0.4444444444444444,
              "#bd3786"
             ],
             [
              0.5555555555555556,
              "#d8576b"
             ],
             [
              0.6666666666666666,
              "#ed7953"
             ],
             [
              0.7777777777777778,
              "#fb9f3a"
             ],
             [
              0.8888888888888888,
              "#fdca26"
             ],
             [
              1,
              "#f0f921"
             ]
            ],
            "type": "histogram2dcontour"
           }
          ],
          "mesh3d": [
           {
            "colorbar": {
             "outlinewidth": 0,
             "ticks": ""
            },
            "type": "mesh3d"
           }
          ],
          "parcoords": [
           {
            "line": {
             "colorbar": {
              "outlinewidth": 0,
              "ticks": ""
             }
            },
            "type": "parcoords"
           }
          ],
          "pie": [
           {
            "automargin": true,
            "type": "pie"
           }
          ],
          "scatter": [
           {
            "marker": {
             "colorbar": {
              "outlinewidth": 0,
              "ticks": ""
             }
            },
            "type": "scatter"
           }
          ],
          "scatter3d": [
           {
            "line": {
             "colorbar": {
              "outlinewidth": 0,
              "ticks": ""
             }
            },
            "marker": {
             "colorbar": {
              "outlinewidth": 0,
              "ticks": ""
             }
            },
            "type": "scatter3d"
           }
          ],
          "scattercarpet": [
           {
            "marker": {
             "colorbar": {
              "outlinewidth": 0,
              "ticks": ""
             }
            },
            "type": "scattercarpet"
           }
          ],
          "scattergeo": [
           {
            "marker": {
             "colorbar": {
              "outlinewidth": 0,
              "ticks": ""
             }
            },
            "type": "scattergeo"
           }
          ],
          "scattergl": [
           {
            "marker": {
             "colorbar": {
              "outlinewidth": 0,
              "ticks": ""
             }
            },
            "type": "scattergl"
           }
          ],
          "scattermapbox": [
           {
            "marker": {
             "colorbar": {
              "outlinewidth": 0,
              "ticks": ""
             }
            },
            "type": "scattermapbox"
           }
          ],
          "scatterpolar": [
           {
            "marker": {
             "colorbar": {
              "outlinewidth": 0,
              "ticks": ""
             }
            },
            "type": "scatterpolar"
           }
          ],
          "scatterpolargl": [
           {
            "marker": {
             "colorbar": {
              "outlinewidth": 0,
              "ticks": ""
             }
            },
            "type": "scatterpolargl"
           }
          ],
          "scatterternary": [
           {
            "marker": {
             "colorbar": {
              "outlinewidth": 0,
              "ticks": ""
             }
            },
            "type": "scatterternary"
           }
          ],
          "surface": [
           {
            "colorbar": {
             "outlinewidth": 0,
             "ticks": ""
            },
            "colorscale": [
             [
              0,
              "#0d0887"
             ],
             [
              0.1111111111111111,
              "#46039f"
             ],
             [
              0.2222222222222222,
              "#7201a8"
             ],
             [
              0.3333333333333333,
              "#9c179e"
             ],
             [
              0.4444444444444444,
              "#bd3786"
             ],
             [
              0.5555555555555556,
              "#d8576b"
             ],
             [
              0.6666666666666666,
              "#ed7953"
             ],
             [
              0.7777777777777778,
              "#fb9f3a"
             ],
             [
              0.8888888888888888,
              "#fdca26"
             ],
             [
              1,
              "#f0f921"
             ]
            ],
            "type": "surface"
           }
          ],
          "table": [
           {
            "cells": {
             "fill": {
              "color": "#EBF0F8"
             },
             "line": {
              "color": "white"
             }
            },
            "header": {
             "fill": {
              "color": "#C8D4E3"
             },
             "line": {
              "color": "white"
             }
            },
            "type": "table"
           }
          ]
         },
         "layout": {
          "annotationdefaults": {
           "arrowcolor": "#2a3f5f",
           "arrowhead": 0,
           "arrowwidth": 1
          },
          "autotypenumbers": "strict",
          "coloraxis": {
           "colorbar": {
            "outlinewidth": 0,
            "ticks": ""
           }
          },
          "colorscale": {
           "diverging": [
            [
             0,
             "#8e0152"
            ],
            [
             0.1,
             "#c51b7d"
            ],
            [
             0.2,
             "#de77ae"
            ],
            [
             0.3,
             "#f1b6da"
            ],
            [
             0.4,
             "#fde0ef"
            ],
            [
             0.5,
             "#f7f7f7"
            ],
            [
             0.6,
             "#e6f5d0"
            ],
            [
             0.7,
             "#b8e186"
            ],
            [
             0.8,
             "#7fbc41"
            ],
            [
             0.9,
             "#4d9221"
            ],
            [
             1,
             "#276419"
            ]
           ],
           "sequential": [
            [
             0,
             "#0d0887"
            ],
            [
             0.1111111111111111,
             "#46039f"
            ],
            [
             0.2222222222222222,
             "#7201a8"
            ],
            [
             0.3333333333333333,
             "#9c179e"
            ],
            [
             0.4444444444444444,
             "#bd3786"
            ],
            [
             0.5555555555555556,
             "#d8576b"
            ],
            [
             0.6666666666666666,
             "#ed7953"
            ],
            [
             0.7777777777777778,
             "#fb9f3a"
            ],
            [
             0.8888888888888888,
             "#fdca26"
            ],
            [
             1,
             "#f0f921"
            ]
           ],
           "sequentialminus": [
            [
             0,
             "#0d0887"
            ],
            [
             0.1111111111111111,
             "#46039f"
            ],
            [
             0.2222222222222222,
             "#7201a8"
            ],
            [
             0.3333333333333333,
             "#9c179e"
            ],
            [
             0.4444444444444444,
             "#bd3786"
            ],
            [
             0.5555555555555556,
             "#d8576b"
            ],
            [
             0.6666666666666666,
             "#ed7953"
            ],
            [
             0.7777777777777778,
             "#fb9f3a"
            ],
            [
             0.8888888888888888,
             "#fdca26"
            ],
            [
             1,
             "#f0f921"
            ]
           ]
          },
          "colorway": [
           "#636efa",
           "#EF553B",
           "#00cc96",
           "#ab63fa",
           "#FFA15A",
           "#19d3f3",
           "#FF6692",
           "#B6E880",
           "#FF97FF",
           "#FECB52"
          ],
          "font": {
           "color": "#2a3f5f"
          },
          "geo": {
           "bgcolor": "white",
           "lakecolor": "white",
           "landcolor": "#E5ECF6",
           "showlakes": true,
           "showland": true,
           "subunitcolor": "white"
          },
          "hoverlabel": {
           "align": "left"
          },
          "hovermode": "closest",
          "mapbox": {
           "style": "light"
          },
          "paper_bgcolor": "white",
          "plot_bgcolor": "#E5ECF6",
          "polar": {
           "angularaxis": {
            "gridcolor": "white",
            "linecolor": "white",
            "ticks": ""
           },
           "bgcolor": "#E5ECF6",
           "radialaxis": {
            "gridcolor": "white",
            "linecolor": "white",
            "ticks": ""
           }
          },
          "scene": {
           "xaxis": {
            "backgroundcolor": "#E5ECF6",
            "gridcolor": "white",
            "gridwidth": 2,
            "linecolor": "white",
            "showbackground": true,
            "ticks": "",
            "zerolinecolor": "white"
           },
           "yaxis": {
            "backgroundcolor": "#E5ECF6",
            "gridcolor": "white",
            "gridwidth": 2,
            "linecolor": "white",
            "showbackground": true,
            "ticks": "",
            "zerolinecolor": "white"
           },
           "zaxis": {
            "backgroundcolor": "#E5ECF6",
            "gridcolor": "white",
            "gridwidth": 2,
            "linecolor": "white",
            "showbackground": true,
            "ticks": "",
            "zerolinecolor": "white"
           }
          },
          "shapedefaults": {
           "line": {
            "color": "#2a3f5f"
           }
          },
          "ternary": {
           "aaxis": {
            "gridcolor": "white",
            "linecolor": "white",
            "ticks": ""
           },
           "baxis": {
            "gridcolor": "white",
            "linecolor": "white",
            "ticks": ""
           },
           "bgcolor": "#E5ECF6",
           "caxis": {
            "gridcolor": "white",
            "linecolor": "white",
            "ticks": ""
           }
          },
          "title": {
           "x": 0.05
          },
          "xaxis": {
           "automargin": true,
           "gridcolor": "white",
           "linecolor": "white",
           "ticks": "",
           "title": {
            "standoff": 15
           },
           "zerolinecolor": "white",
           "zerolinewidth": 2
          },
          "yaxis": {
           "automargin": true,
           "gridcolor": "white",
           "linecolor": "white",
           "ticks": "",
           "title": {
            "standoff": 15
           },
           "zerolinecolor": "white",
           "zerolinewidth": 2
          }
         }
        },
        "title": {
         "text": "Comaprison of 20 S.M. models @ 10 kpc in KamLAND"
        },
        "width": 740,
        "xaxis": {
         "anchor": "y",
         "domain": [
          0,
          1
         ],
         "title": {
          "text": "sn_name"
         }
        },
        "yaxis": {
         "anchor": "x",
         "domain": [
          0,
          1
         ],
         "title": {
          "text": "counts"
         },
         "type": "log"
        }
       }
      }
     },
     "metadata": {},
     "output_type": "display_data"
    }
   ],
   "source": [
    "scat = px.scatter(events, x='sn_name', y='counts', \n",
    "              color='channel',\n",
    "              symbol='xform',\n",
    "              log_y=True\n",
    "              )\n",
    "scat.layout.bargroupgap = 0.2\n",
    "scat.layout.font = dict(size=18, family=\"Times New Roman\")\n",
    "scat.layout.width = 740\n",
    "scat.layout.height = 700\n",
    "scat.layout.title = f'Comaprison of 20 S.M. models @ 10 kpc in KamLAND'\n",
    "scat.update_traces(marker_size=16)"
   ]
  },
  {
   "cell_type": "code",
   "execution_count": 10,
   "metadata": {},
   "outputs": [
    {
     "data": {
      "application/vnd.plotly.v1+json": {
       "config": {
        "plotlyServerURL": "https://plot.ly"
       },
       "data": [
        {
         "hovertemplate": "channel=nue_C12<br>xform=NT<br>sn_name=%{x}<br>counts=%{y}<extra></extra>",
         "legendgroup": "nue_C12, NT",
         "marker": {
          "color": "#636efa",
          "size": 16,
          "symbol": "circle"
         },
         "mode": "markers",
         "name": "nue_C12, NT",
         "orientation": "v",
         "showlegend": true,
         "type": "scatter",
         "x": [
          "K20-00-00",
          "K20-10-12",
          "K20-10-13",
          "N13-20-20-100",
          "N13-20-20-200",
          "N13-20-20-300",
          "T14-20.0",
          "W20-20.0-1.23",
          "W20-20.0-1.25",
          "W20-20.0-1.27"
         ],
         "xaxis": "x",
         "y": [
          1.592617349766686,
          1.0322205496161334,
          0.73107559408659,
          0.5311133362183033,
          0.8770543790268658,
          1.279816353394892,
          1.1612218441554278,
          1.3837404131941011,
          1.2398087669123257,
          1.15123980955613
         ],
         "yaxis": "y"
        },
        {
         "hovertemplate": "channel=nue_C12<br>xform=I<br>sn_name=%{x}<br>counts=%{y}<extra></extra>",
         "legendgroup": "nue_C12, I",
         "marker": {
          "color": "#636efa",
          "size": 16,
          "symbol": "diamond"
         },
         "mode": "markers",
         "name": "nue_C12, I",
         "orientation": "v",
         "showlegend": true,
         "type": "scatter",
         "x": [
          "K20-00-00",
          "K20-10-12",
          "K20-10-13",
          "N13-20-20-100",
          "N13-20-20-200",
          "N13-20-20-300",
          "T14-20.0",
          "W20-20.0-1.23",
          "W20-20.0-1.25",
          "W20-20.0-1.27"
         ],
         "xaxis": "x",
         "y": [
          3.3064191677330363,
          1.8285487617164424,
          1.659444829506376,
          3.5798956450701445,
          4.120908244361159,
          4.48328967412175,
          1.8945513297596803,
          6.196200471189496,
          5.959143226096576,
          5.797789424148142
         ],
         "yaxis": "y"
        },
        {
         "hovertemplate": "channel=nue_C12<br>xform=N<br>sn_name=%{x}<br>counts=%{y}<extra></extra>",
         "legendgroup": "nue_C12, N",
         "marker": {
          "color": "#636efa",
          "size": 16,
          "symbol": "square"
         },
         "mode": "markers",
         "name": "nue_C12, N",
         "orientation": "v",
         "showlegend": true,
         "type": "scatter",
         "x": [
          "K20-00-00",
          "K20-10-12",
          "K20-10-13",
          "N13-20-20-100",
          "N13-20-20-200",
          "N13-20-20-300",
          "T14-20.0",
          "W20-20.0-1.23",
          "W20-20.0-1.25",
          "W20-20.0-1.27"
         ],
         "xaxis": "x",
         "y": [
          3.976449079506362,
          2.139882461635118,
          2.0224014408316977,
          4.77185241034682,
          5.3891302388086295,
          5.735724832370068,
          2.181255000126134,
          8.07768689047964,
          7.804222170626306,
          7.614414513795884
         ],
         "yaxis": "y"
        },
        {
         "hovertemplate": "channel=nue_C13<br>xform=NT<br>sn_name=%{x}<br>counts=%{y}<extra></extra>",
         "legendgroup": "nue_C13, NT",
         "marker": {
          "color": "#EF553B",
          "size": 16,
          "symbol": "circle"
         },
         "mode": "markers",
         "name": "nue_C13, NT",
         "orientation": "v",
         "showlegend": true,
         "type": "scatter",
         "x": [
          "K20-00-00",
          "K20-10-12",
          "K20-10-13",
          "N13-20-20-100",
          "N13-20-20-200",
          "N13-20-20-300",
          "T14-20.0",
          "W20-20.0-1.23",
          "W20-20.0-1.25",
          "W20-20.0-1.27"
         ],
         "xaxis": "x",
         "y": [
          0.150856788320503,
          0.1021355088131205,
          0.0922767204744869,
          0.1236031959559713,
          0.1457955956435102,
          0.1635392654948288,
          0.1429170165038367,
          0.2162665526631006,
          0.2053538145753818,
          0.1983093553312374
         ],
         "yaxis": "y"
        },
        {
         "hovertemplate": "channel=nue_C13<br>xform=I<br>sn_name=%{x}<br>counts=%{y}<extra></extra>",
         "legendgroup": "nue_C13, I",
         "marker": {
          "color": "#EF553B",
          "size": 16,
          "symbol": "diamond"
         },
         "mode": "markers",
         "name": "nue_C13, I",
         "orientation": "v",
         "showlegend": true,
         "type": "scatter",
         "x": [
          "K20-00-00",
          "K20-10-12",
          "K20-10-13",
          "N13-20-20-100",
          "N13-20-20-200",
          "N13-20-20-300",
          "T14-20.0",
          "W20-20.0-1.23",
          "W20-20.0-1.25",
          "W20-20.0-1.27"
         ],
         "xaxis": "x",
         "y": [
          0.1518853636013258,
          0.0937483049807787,
          0.0868313301795617,
          0.1766099101423974,
          0.1950249479046379,
          0.2059184636095977,
          0.1207903054826035,
          0.2545847446805576,
          0.2463303912607967,
          0.2407098428862384
         ],
         "yaxis": "y"
        },
        {
         "hovertemplate": "channel=nue_C13<br>xform=N<br>sn_name=%{x}<br>counts=%{y}<extra></extra>",
         "legendgroup": "nue_C13, N",
         "marker": {
          "color": "#EF553B",
          "size": 16,
          "symbol": "square"
         },
         "mode": "markers",
         "name": "nue_C13, N",
         "orientation": "v",
         "showlegend": true,
         "type": "scatter",
         "x": [
          "K20-00-00",
          "K20-10-12",
          "K20-10-13",
          "N13-20-20-100",
          "N13-20-20-200",
          "N13-20-20-300",
          "T14-20.0",
          "W20-20.0-1.23",
          "W20-20.0-1.25",
          "W20-20.0-1.27"
         ],
         "xaxis": "x",
         "y": [
          0.1522874777958223,
          0.0904692339421898,
          0.0847023936032383,
          0.197333479408797,
          0.2142717140356776,
          0.2224871089358372,
          0.1121396480782122,
          0.2695657058113581,
          0.2623506263335982,
          0.2572868003288777
         ],
         "yaxis": "y"
        },
        {
         "hovertemplate": "channel=nuebar_C12<br>xform=NT<br>sn_name=%{x}<br>counts=%{y}<extra></extra>",
         "legendgroup": "nuebar_C12, NT",
         "marker": {
          "color": "#00cc96",
          "size": 16,
          "symbol": "circle"
         },
         "mode": "markers",
         "name": "nuebar_C12, NT",
         "orientation": "v",
         "showlegend": true,
         "type": "scatter",
         "x": [
          "K20-00-00",
          "K20-10-12",
          "K20-10-13",
          "N13-20-20-100",
          "N13-20-20-200",
          "N13-20-20-300",
          "T14-20.0",
          "W20-20.0-1.23",
          "W20-20.0-1.25",
          "W20-20.0-1.27"
         ],
         "xaxis": "x",
         "y": [
          2.2911741825787377,
          1.2339270153780526,
          1.2301397946578922,
          1.138842723908425,
          1.6525828494146566,
          2.118525304051743,
          2.106962519953152,
          3.5756953969161347,
          3.3244750054947843,
          3.166607716101535
         ],
         "yaxis": "y"
        },
        {
         "hovertemplate": "channel=nuebar_C12<br>xform=I<br>sn_name=%{x}<br>counts=%{y}<extra></extra>",
         "legendgroup": "nuebar_C12, I",
         "marker": {
          "color": "#00cc96",
          "size": 16,
          "symbol": "diamond"
         },
         "mode": "markers",
         "name": "nuebar_C12, I",
         "orientation": "v",
         "showlegend": true,
         "type": "scatter",
         "x": [
          "K20-00-00",
          "K20-10-12",
          "K20-10-13",
          "N13-20-20-100",
          "N13-20-20-200",
          "N13-20-20-300",
          "T14-20.0",
          "W20-20.0-1.23",
          "W20-20.0-1.25",
          "W20-20.0-1.27"
         ],
         "xaxis": "x",
         "y": [
          3.4797292752600963,
          1.91601077483543,
          1.8117325317156423,
          3.813092030059434,
          4.290164560066877,
          4.555365190640797,
          2.087180319538446,
          6.756940244794247,
          6.541011252584536,
          6.390867312443223
         ],
         "yaxis": "y"
        },
        {
         "hovertemplate": "channel=nuebar_C12<br>xform=N<br>sn_name=%{x}<br>counts=%{y}<extra></extra>",
         "legendgroup": "nuebar_C12, N",
         "marker": {
          "color": "#00cc96",
          "size": 16,
          "symbol": "square"
         },
         "mode": "markers",
         "name": "nuebar_C12, N",
         "orientation": "v",
         "showlegend": true,
         "type": "scatter",
         "x": [
          "K20-00-00",
          "K20-10-12",
          "K20-10-13",
          "N13-20-20-100",
          "N13-20-20-200",
          "N13-20-20-300",
          "T14-20.0",
          "W20-20.0-1.23",
          "W20-20.0-1.25",
          "W20-20.0-1.27"
         ],
         "xaxis": "x",
         "y": [
          2.6791578667116025,
          1.4565818423149064,
          1.4199906473188333,
          2.0118063423382124,
          2.5135768550312685,
          2.9139911744718416,
          2.100505239456995,
          4.614158607146075,
          4.3744578612523615,
          4.2191117110716565
         ],
         "yaxis": "y"
        },
        {
         "hovertemplate": "channel=nc<br>xform=NT<br>sn_name=%{x}<br>counts=%{y}<extra></extra>",
         "legendgroup": "nc, NT",
         "marker": {
          "color": "#ab63fa",
          "size": 16,
          "symbol": "circle"
         },
         "mode": "markers",
         "name": "nc, NT",
         "orientation": "v",
         "showlegend": true,
         "type": "scatter",
         "x": [
          "K20-00-00",
          "K20-10-12",
          "K20-10-13",
          "N13-20-20-100",
          "N13-20-20-200",
          "N13-20-20-300",
          "T14-20.0",
          "W20-20.0-1.23",
          "W20-20.0-1.25",
          "W20-20.0-1.27"
         ],
         "xaxis": "x",
         "y": [
          9.230551410120873,
          5.204798059521567,
          4.848755894352916,
          8.57693598758863,
          9.943433032333656,
          10.867213216502584,
          6.245388929733779,
          16.42974683404364,
          15.80027344999811,
          15.376020069499727
         ],
         "yaxis": "y"
        },
        {
         "hovertemplate": "channel=nc<br>xform=I<br>sn_name=%{x}<br>counts=%{y}<extra></extra>",
         "legendgroup": "nc, I",
         "marker": {
          "color": "#ab63fa",
          "size": 16,
          "symbol": "diamond"
         },
         "mode": "markers",
         "name": "nc, I",
         "orientation": "v",
         "showlegend": true,
         "type": "scatter",
         "x": [
          "K20-00-00",
          "K20-10-12",
          "K20-10-13",
          "N13-20-20-100",
          "N13-20-20-200",
          "N13-20-20-300",
          "T14-20.0",
          "W20-20.0-1.23",
          "W20-20.0-1.25",
          "W20-20.0-1.27"
         ],
         "xaxis": "x",
         "y": [
          9.23055541244535,
          5.204798360103589,
          4.848752161160894,
          8.576948313133553,
          9.943430964237525,
          10.86721608092373,
          6.24539241277338,
          16.42974553445636,
          15.800295163647514,
          15.376005775041698
         ],
         "yaxis": "y"
        },
        {
         "hovertemplate": "channel=nc<br>xform=N<br>sn_name=%{x}<br>counts=%{y}<extra></extra>",
         "legendgroup": "nc, N",
         "marker": {
          "color": "#ab63fa",
          "size": 16,
          "symbol": "square"
         },
         "mode": "markers",
         "name": "nc, N",
         "orientation": "v",
         "showlegend": true,
         "type": "scatter",
         "x": [
          "K20-00-00",
          "K20-10-12",
          "K20-10-13",
          "N13-20-20-100",
          "N13-20-20-200",
          "N13-20-20-300",
          "T14-20.0",
          "W20-20.0-1.23",
          "W20-20.0-1.25",
          "W20-20.0-1.27"
         ],
         "xaxis": "x",
         "y": [
          9.23054932123615,
          5.204804433085612,
          4.848751601800292,
          8.57694516937433,
          9.94343134763498,
          10.86721658655175,
          6.245401505937703,
          16.42975659585932,
          15.80029575674456,
          15.376026998939627
         ],
         "yaxis": "y"
        },
        {
         "hovertemplate": "channel=e<br>xform=NT<br>sn_name=%{x}<br>counts=%{y}<extra></extra>",
         "legendgroup": "e, NT",
         "marker": {
          "color": "#FFA15A",
          "size": 16,
          "symbol": "circle"
         },
         "mode": "markers",
         "name": "e, NT",
         "orientation": "v",
         "showlegend": true,
         "type": "scatter",
         "x": [
          "K20-00-00",
          "K20-10-12",
          "K20-10-13",
          "N13-20-20-100",
          "N13-20-20-200",
          "N13-20-20-300",
          "T14-20.0",
          "W20-20.0-1.23",
          "W20-20.0-1.25",
          "W20-20.0-1.27"
         ],
         "xaxis": "x",
         "y": [
          5.202849190203998,
          3.511511892600616,
          3.29113224342823,
          6.807878422377366,
          7.39675494572151,
          7.759577081951442,
          4.7515462699084345,
          8.612499525683857,
          8.32005369287042,
          8.12473496676364
         ],
         "yaxis": "y"
        },
        {
         "hovertemplate": "channel=e<br>xform=I<br>sn_name=%{x}<br>counts=%{y}<extra></extra>",
         "legendgroup": "e, I",
         "marker": {
          "color": "#FFA15A",
          "size": 16,
          "symbol": "diamond"
         },
         "mode": "markers",
         "name": "e, I",
         "orientation": "v",
         "showlegend": true,
         "type": "scatter",
         "x": [
          "K20-00-00",
          "K20-10-12",
          "K20-10-13",
          "N13-20-20-100",
          "N13-20-20-200",
          "N13-20-20-300",
          "T14-20.0",
          "W20-20.0-1.23",
          "W20-20.0-1.25",
          "W20-20.0-1.27"
         ],
         "xaxis": "x",
         "y": [
          4.546099156991303,
          2.9279576626011683,
          2.738485839210296,
          7.003149387239644,
          7.526338069114937,
          7.792856659896033,
          3.838262543593369,
          7.708242059969759,
          7.488728676340815,
          7.338062631456987
         ],
         "yaxis": "y"
        },
        {
         "hovertemplate": "channel=e<br>xform=N<br>sn_name=%{x}<br>counts=%{y}<extra></extra>",
         "legendgroup": "e, N",
         "marker": {
          "color": "#FFA15A",
          "size": 16,
          "symbol": "square"
         },
         "mode": "markers",
         "name": "e, N",
         "orientation": "v",
         "showlegend": true,
         "type": "scatter",
         "x": [
          "K20-00-00",
          "K20-10-12",
          "K20-10-13",
          "N13-20-20-100",
          "N13-20-20-200",
          "N13-20-20-300",
          "T14-20.0",
          "W20-20.0-1.23",
          "W20-20.0-1.25",
          "W20-20.0-1.27"
         ],
         "xaxis": "x",
         "y": [
          4.382422507923076,
          2.775253836662404,
          2.5919012077885264,
          6.917823377127522,
          7.43547652199755,
          7.693261705381291,
          3.68688974176796,
          7.604314679279779,
          7.387310151510843,
          7.238038148501849
         ],
         "yaxis": "y"
        },
        {
         "hovertemplate": "channel=nc_p<br>xform=NT<br>sn_name=%{x}<br>counts=%{y}<extra></extra>",
         "legendgroup": "nc_p, NT",
         "marker": {
          "color": "#19d3f3",
          "size": 16,
          "symbol": "circle"
         },
         "mode": "markers",
         "name": "nc_p, NT",
         "orientation": "v",
         "showlegend": true,
         "type": "scatter",
         "x": [
          "K20-00-00",
          "K20-10-12",
          "K20-10-13",
          "N13-20-20-100",
          "N13-20-20-200",
          "N13-20-20-300",
          "T14-20.0",
          "W20-20.0-1.23",
          "W20-20.0-1.25",
          "W20-20.0-1.27"
         ],
         "xaxis": "x",
         "y": [
          1.1738055015565658,
          0.5749529505136253,
          0.5273949154706457,
          1.7689160200391023,
          2.0563646108404274,
          2.276565994371639,
          0.4439274425483467,
          2.509338251487825,
          2.393239025231974,
          2.315109630611973
         ],
         "yaxis": "y"
        },
        {
         "hovertemplate": "channel=nc_p<br>xform=I<br>sn_name=%{x}<br>counts=%{y}<extra></extra>",
         "legendgroup": "nc_p, I",
         "marker": {
          "color": "#19d3f3",
          "size": 16,
          "symbol": "diamond"
         },
         "mode": "markers",
         "name": "nc_p, I",
         "orientation": "v",
         "showlegend": true,
         "type": "scatter",
         "x": [
          "K20-00-00",
          "K20-10-12",
          "K20-10-13",
          "N13-20-20-100",
          "N13-20-20-200",
          "N13-20-20-300",
          "T14-20.0",
          "W20-20.0-1.23",
          "W20-20.0-1.25",
          "W20-20.0-1.27"
         ],
         "xaxis": "x",
         "y": [
          1.4654792549478677,
          0.7130948268454518,
          0.6677837512603024,
          2.481618688481752,
          2.845286123477992,
          3.0818313337288497,
          0.5374578228199114,
          3.434896758596402,
          3.2864407467003787,
          3.185155593728482
         ],
         "yaxis": "y"
        },
        {
         "hovertemplate": "channel=nc_p<br>xform=N<br>sn_name=%{x}<br>counts=%{y}<extra></extra>",
         "legendgroup": "nc_p, N",
         "marker": {
          "color": "#19d3f3",
          "size": 16,
          "symbol": "square"
         },
         "mode": "markers",
         "name": "nc_p, N",
         "orientation": "v",
         "showlegend": true,
         "type": "scatter",
         "x": [
          "K20-00-00",
          "K20-10-12",
          "K20-10-13",
          "N13-20-20-100",
          "N13-20-20-200",
          "N13-20-20-300",
          "T14-20.0",
          "W20-20.0-1.23",
          "W20-20.0-1.25",
          "W20-20.0-1.27"
         ],
         "xaxis": "x",
         "y": [
          1.4159886142852125,
          0.6837562297289208,
          0.6471453883958027,
          2.3233331404153894,
          2.6742984825629823,
          2.911815138272676,
          0.5273927706920332,
          3.2462328442009154,
          3.103047669904192,
          3.005758747247794
         ],
         "yaxis": "y"
        }
       ],
       "layout": {
        "bargroupgap": 0.2,
        "font": {
         "family": "Times New Roman",
         "size": 18
        },
        "height": 700,
        "legend": {
         "title": {
          "text": "channel, xform"
         },
         "tracegroupgap": 0
        },
        "margin": {
         "t": 60
        },
        "template": {
         "data": {
          "bar": [
           {
            "error_x": {
             "color": "#2a3f5f"
            },
            "error_y": {
             "color": "#2a3f5f"
            },
            "marker": {
             "line": {
              "color": "#E5ECF6",
              "width": 0.5
             },
             "pattern": {
              "fillmode": "overlay",
              "size": 10,
              "solidity": 0.2
             }
            },
            "type": "bar"
           }
          ],
          "barpolar": [
           {
            "marker": {
             "line": {
              "color": "#E5ECF6",
              "width": 0.5
             },
             "pattern": {
              "fillmode": "overlay",
              "size": 10,
              "solidity": 0.2
             }
            },
            "type": "barpolar"
           }
          ],
          "carpet": [
           {
            "aaxis": {
             "endlinecolor": "#2a3f5f",
             "gridcolor": "white",
             "linecolor": "white",
             "minorgridcolor": "white",
             "startlinecolor": "#2a3f5f"
            },
            "baxis": {
             "endlinecolor": "#2a3f5f",
             "gridcolor": "white",
             "linecolor": "white",
             "minorgridcolor": "white",
             "startlinecolor": "#2a3f5f"
            },
            "type": "carpet"
           }
          ],
          "choropleth": [
           {
            "colorbar": {
             "outlinewidth": 0,
             "ticks": ""
            },
            "type": "choropleth"
           }
          ],
          "contour": [
           {
            "colorbar": {
             "outlinewidth": 0,
             "ticks": ""
            },
            "colorscale": [
             [
              0,
              "#0d0887"
             ],
             [
              0.1111111111111111,
              "#46039f"
             ],
             [
              0.2222222222222222,
              "#7201a8"
             ],
             [
              0.3333333333333333,
              "#9c179e"
             ],
             [
              0.4444444444444444,
              "#bd3786"
             ],
             [
              0.5555555555555556,
              "#d8576b"
             ],
             [
              0.6666666666666666,
              "#ed7953"
             ],
             [
              0.7777777777777778,
              "#fb9f3a"
             ],
             [
              0.8888888888888888,
              "#fdca26"
             ],
             [
              1,
              "#f0f921"
             ]
            ],
            "type": "contour"
           }
          ],
          "contourcarpet": [
           {
            "colorbar": {
             "outlinewidth": 0,
             "ticks": ""
            },
            "type": "contourcarpet"
           }
          ],
          "heatmap": [
           {
            "colorbar": {
             "outlinewidth": 0,
             "ticks": ""
            },
            "colorscale": [
             [
              0,
              "#0d0887"
             ],
             [
              0.1111111111111111,
              "#46039f"
             ],
             [
              0.2222222222222222,
              "#7201a8"
             ],
             [
              0.3333333333333333,
              "#9c179e"
             ],
             [
              0.4444444444444444,
              "#bd3786"
             ],
             [
              0.5555555555555556,
              "#d8576b"
             ],
             [
              0.6666666666666666,
              "#ed7953"
             ],
             [
              0.7777777777777778,
              "#fb9f3a"
             ],
             [
              0.8888888888888888,
              "#fdca26"
             ],
             [
              1,
              "#f0f921"
             ]
            ],
            "type": "heatmap"
           }
          ],
          "heatmapgl": [
           {
            "colorbar": {
             "outlinewidth": 0,
             "ticks": ""
            },
            "colorscale": [
             [
              0,
              "#0d0887"
             ],
             [
              0.1111111111111111,
              "#46039f"
             ],
             [
              0.2222222222222222,
              "#7201a8"
             ],
             [
              0.3333333333333333,
              "#9c179e"
             ],
             [
              0.4444444444444444,
              "#bd3786"
             ],
             [
              0.5555555555555556,
              "#d8576b"
             ],
             [
              0.6666666666666666,
              "#ed7953"
             ],
             [
              0.7777777777777778,
              "#fb9f3a"
             ],
             [
              0.8888888888888888,
              "#fdca26"
             ],
             [
              1,
              "#f0f921"
             ]
            ],
            "type": "heatmapgl"
           }
          ],
          "histogram": [
           {
            "marker": {
             "pattern": {
              "fillmode": "overlay",
              "size": 10,
              "solidity": 0.2
             }
            },
            "type": "histogram"
           }
          ],
          "histogram2d": [
           {
            "colorbar": {
             "outlinewidth": 0,
             "ticks": ""
            },
            "colorscale": [
             [
              0,
              "#0d0887"
             ],
             [
              0.1111111111111111,
              "#46039f"
             ],
             [
              0.2222222222222222,
              "#7201a8"
             ],
             [
              0.3333333333333333,
              "#9c179e"
             ],
             [
              0.4444444444444444,
              "#bd3786"
             ],
             [
              0.5555555555555556,
              "#d8576b"
             ],
             [
              0.6666666666666666,
              "#ed7953"
             ],
             [
              0.7777777777777778,
              "#fb9f3a"
             ],
             [
              0.8888888888888888,
              "#fdca26"
             ],
             [
              1,
              "#f0f921"
             ]
            ],
            "type": "histogram2d"
           }
          ],
          "histogram2dcontour": [
           {
            "colorbar": {
             "outlinewidth": 0,
             "ticks": ""
            },
            "colorscale": [
             [
              0,
              "#0d0887"
             ],
             [
              0.1111111111111111,
              "#46039f"
             ],
             [
              0.2222222222222222,
              "#7201a8"
             ],
             [
              0.3333333333333333,
              "#9c179e"
             ],
             [
              0.4444444444444444,
              "#bd3786"
             ],
             [
              0.5555555555555556,
              "#d8576b"
             ],
             [
              0.6666666666666666,
              "#ed7953"
             ],
             [
              0.7777777777777778,
              "#fb9f3a"
             ],
             [
              0.8888888888888888,
              "#fdca26"
             ],
             [
              1,
              "#f0f921"
             ]
            ],
            "type": "histogram2dcontour"
           }
          ],
          "mesh3d": [
           {
            "colorbar": {
             "outlinewidth": 0,
             "ticks": ""
            },
            "type": "mesh3d"
           }
          ],
          "parcoords": [
           {
            "line": {
             "colorbar": {
              "outlinewidth": 0,
              "ticks": ""
             }
            },
            "type": "parcoords"
           }
          ],
          "pie": [
           {
            "automargin": true,
            "type": "pie"
           }
          ],
          "scatter": [
           {
            "marker": {
             "colorbar": {
              "outlinewidth": 0,
              "ticks": ""
             }
            },
            "type": "scatter"
           }
          ],
          "scatter3d": [
           {
            "line": {
             "colorbar": {
              "outlinewidth": 0,
              "ticks": ""
             }
            },
            "marker": {
             "colorbar": {
              "outlinewidth": 0,
              "ticks": ""
             }
            },
            "type": "scatter3d"
           }
          ],
          "scattercarpet": [
           {
            "marker": {
             "colorbar": {
              "outlinewidth": 0,
              "ticks": ""
             }
            },
            "type": "scattercarpet"
           }
          ],
          "scattergeo": [
           {
            "marker": {
             "colorbar": {
              "outlinewidth": 0,
              "ticks": ""
             }
            },
            "type": "scattergeo"
           }
          ],
          "scattergl": [
           {
            "marker": {
             "colorbar": {
              "outlinewidth": 0,
              "ticks": ""
             }
            },
            "type": "scattergl"
           }
          ],
          "scattermapbox": [
           {
            "marker": {
             "colorbar": {
              "outlinewidth": 0,
              "ticks": ""
             }
            },
            "type": "scattermapbox"
           }
          ],
          "scatterpolar": [
           {
            "marker": {
             "colorbar": {
              "outlinewidth": 0,
              "ticks": ""
             }
            },
            "type": "scatterpolar"
           }
          ],
          "scatterpolargl": [
           {
            "marker": {
             "colorbar": {
              "outlinewidth": 0,
              "ticks": ""
             }
            },
            "type": "scatterpolargl"
           }
          ],
          "scatterternary": [
           {
            "marker": {
             "colorbar": {
              "outlinewidth": 0,
              "ticks": ""
             }
            },
            "type": "scatterternary"
           }
          ],
          "surface": [
           {
            "colorbar": {
             "outlinewidth": 0,
             "ticks": ""
            },
            "colorscale": [
             [
              0,
              "#0d0887"
             ],
             [
              0.1111111111111111,
              "#46039f"
             ],
             [
              0.2222222222222222,
              "#7201a8"
             ],
             [
              0.3333333333333333,
              "#9c179e"
             ],
             [
              0.4444444444444444,
              "#bd3786"
             ],
             [
              0.5555555555555556,
              "#d8576b"
             ],
             [
              0.6666666666666666,
              "#ed7953"
             ],
             [
              0.7777777777777778,
              "#fb9f3a"
             ],
             [
              0.8888888888888888,
              "#fdca26"
             ],
             [
              1,
              "#f0f921"
             ]
            ],
            "type": "surface"
           }
          ],
          "table": [
           {
            "cells": {
             "fill": {
              "color": "#EBF0F8"
             },
             "line": {
              "color": "white"
             }
            },
            "header": {
             "fill": {
              "color": "#C8D4E3"
             },
             "line": {
              "color": "white"
             }
            },
            "type": "table"
           }
          ]
         },
         "layout": {
          "annotationdefaults": {
           "arrowcolor": "#2a3f5f",
           "arrowhead": 0,
           "arrowwidth": 1
          },
          "autotypenumbers": "strict",
          "coloraxis": {
           "colorbar": {
            "outlinewidth": 0,
            "ticks": ""
           }
          },
          "colorscale": {
           "diverging": [
            [
             0,
             "#8e0152"
            ],
            [
             0.1,
             "#c51b7d"
            ],
            [
             0.2,
             "#de77ae"
            ],
            [
             0.3,
             "#f1b6da"
            ],
            [
             0.4,
             "#fde0ef"
            ],
            [
             0.5,
             "#f7f7f7"
            ],
            [
             0.6,
             "#e6f5d0"
            ],
            [
             0.7,
             "#b8e186"
            ],
            [
             0.8,
             "#7fbc41"
            ],
            [
             0.9,
             "#4d9221"
            ],
            [
             1,
             "#276419"
            ]
           ],
           "sequential": [
            [
             0,
             "#0d0887"
            ],
            [
             0.1111111111111111,
             "#46039f"
            ],
            [
             0.2222222222222222,
             "#7201a8"
            ],
            [
             0.3333333333333333,
             "#9c179e"
            ],
            [
             0.4444444444444444,
             "#bd3786"
            ],
            [
             0.5555555555555556,
             "#d8576b"
            ],
            [
             0.6666666666666666,
             "#ed7953"
            ],
            [
             0.7777777777777778,
             "#fb9f3a"
            ],
            [
             0.8888888888888888,
             "#fdca26"
            ],
            [
             1,
             "#f0f921"
            ]
           ],
           "sequentialminus": [
            [
             0,
             "#0d0887"
            ],
            [
             0.1111111111111111,
             "#46039f"
            ],
            [
             0.2222222222222222,
             "#7201a8"
            ],
            [
             0.3333333333333333,
             "#9c179e"
            ],
            [
             0.4444444444444444,
             "#bd3786"
            ],
            [
             0.5555555555555556,
             "#d8576b"
            ],
            [
             0.6666666666666666,
             "#ed7953"
            ],
            [
             0.7777777777777778,
             "#fb9f3a"
            ],
            [
             0.8888888888888888,
             "#fdca26"
            ],
            [
             1,
             "#f0f921"
            ]
           ]
          },
          "colorway": [
           "#636efa",
           "#EF553B",
           "#00cc96",
           "#ab63fa",
           "#FFA15A",
           "#19d3f3",
           "#FF6692",
           "#B6E880",
           "#FF97FF",
           "#FECB52"
          ],
          "font": {
           "color": "#2a3f5f"
          },
          "geo": {
           "bgcolor": "white",
           "lakecolor": "white",
           "landcolor": "#E5ECF6",
           "showlakes": true,
           "showland": true,
           "subunitcolor": "white"
          },
          "hoverlabel": {
           "align": "left"
          },
          "hovermode": "closest",
          "mapbox": {
           "style": "light"
          },
          "paper_bgcolor": "white",
          "plot_bgcolor": "#E5ECF6",
          "polar": {
           "angularaxis": {
            "gridcolor": "white",
            "linecolor": "white",
            "ticks": ""
           },
           "bgcolor": "#E5ECF6",
           "radialaxis": {
            "gridcolor": "white",
            "linecolor": "white",
            "ticks": ""
           }
          },
          "scene": {
           "xaxis": {
            "backgroundcolor": "#E5ECF6",
            "gridcolor": "white",
            "gridwidth": 2,
            "linecolor": "white",
            "showbackground": true,
            "ticks": "",
            "zerolinecolor": "white"
           },
           "yaxis": {
            "backgroundcolor": "#E5ECF6",
            "gridcolor": "white",
            "gridwidth": 2,
            "linecolor": "white",
            "showbackground": true,
            "ticks": "",
            "zerolinecolor": "white"
           },
           "zaxis": {
            "backgroundcolor": "#E5ECF6",
            "gridcolor": "white",
            "gridwidth": 2,
            "linecolor": "white",
            "showbackground": true,
            "ticks": "",
            "zerolinecolor": "white"
           }
          },
          "shapedefaults": {
           "line": {
            "color": "#2a3f5f"
           }
          },
          "ternary": {
           "aaxis": {
            "gridcolor": "white",
            "linecolor": "white",
            "ticks": ""
           },
           "baxis": {
            "gridcolor": "white",
            "linecolor": "white",
            "ticks": ""
           },
           "bgcolor": "#E5ECF6",
           "caxis": {
            "gridcolor": "white",
            "linecolor": "white",
            "ticks": ""
           }
          },
          "title": {
           "x": 0.05
          },
          "xaxis": {
           "automargin": true,
           "gridcolor": "white",
           "linecolor": "white",
           "ticks": "",
           "title": {
            "standoff": 15
           },
           "zerolinecolor": "white",
           "zerolinewidth": 2
          },
          "yaxis": {
           "automargin": true,
           "gridcolor": "white",
           "linecolor": "white",
           "ticks": "",
           "title": {
            "standoff": 15
           },
           "zerolinecolor": "white",
           "zerolinewidth": 2
          }
         }
        },
        "title": {
         "text": "Comaprison of 20 S.M. models @ 10 kpc in KamLAND"
        },
        "width": 740,
        "xaxis": {
         "anchor": "y",
         "domain": [
          0,
          1
         ],
         "title": {
          "text": "sn_name"
         }
        },
        "yaxis": {
         "anchor": "x",
         "domain": [
          0,
          1
         ],
         "title": {
          "text": "counts"
         }
        }
       }
      }
     },
     "metadata": {},
     "output_type": "display_data"
    }
   ],
   "source": [
    "scat = px.scatter(events[events['channel']!='ibd'], x='sn_name', y='counts', \n",
    "              color='channel',\n",
    "              symbol='xform',\n",
    "              log_y=False\n",
    "              )\n",
    "scat.layout.bargroupgap = 0.2\n",
    "scat.layout.font = dict(size=18, family=\"Times New Roman\")\n",
    "scat.layout.width = 740\n",
    "scat.layout.height = 700\n",
    "scat.layout.title = f'Comaprison of 20 S.M. models @ 10 kpc in KamLAND'\n",
    "scat.update_traces(marker_size=16)"
   ]
  },
  {
   "cell_type": "code",
   "execution_count": null,
   "metadata": {},
   "outputs": [],
   "source": []
  }
 ],
 "metadata": {
  "interpreter": {
   "hash": "55e99dcf35939e854eab4749770e8fc8e199e03bd8c38f7a338e657ceb93f2cb"
  },
  "kernelspec": {
   "display_name": "Python 3.8.11 ('KLSN')",
   "language": "python",
   "name": "python3"
  },
  "language_info": {
   "codemirror_mode": {
    "name": "ipython",
    "version": 3
   },
   "file_extension": ".py",
   "mimetype": "text/x-python",
   "name": "python",
   "nbconvert_exporter": "python",
   "pygments_lexer": "ipython3",
   "version": "3.8.11"
  },
  "orig_nbformat": 4
 },
 "nbformat": 4,
 "nbformat_minor": 2
}
