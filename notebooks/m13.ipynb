{
 "cells": [
  {
   "cell_type": "markdown",
   "metadata": {},
   "source": [
    "# Combine results of simulations and make bar plots\n",
    "\n",
    "Use plotly to display results from a list of supernovae model simulations processed with sspike.\n",
    "\n",
    "## Create event totals data frame from list of models\n",
    "\n",
    "Each processed model should have a `totals.txt` file with tabulated event rates by channel."
   ]
  },
  {
   "cell_type": "code",
   "execution_count": 1,
   "metadata": {},
   "outputs": [],
   "source": [
    "from os import listdir\n",
    "from os.path import isfile\n",
    "\n",
    "import pandas as pd\n",
    "import plotly.express as px\n",
    "\n",
    "from sspike.detectors import Detector\n",
    "from sspike.beer import sort_channels"
   ]
  },
  {
   "cell_type": "markdown",
   "metadata": {},
   "source": [
    "### Get file paths to tabulated results"
   ]
  },
  {
   "cell_type": "code",
   "execution_count": 2,
   "metadata": {},
   "outputs": [],
   "source": [
    "# Path to sspike snowball directory.\n",
    "snowball_dir = '/Users/joe/src/gitjoe/sspike/snowballs/'\n",
    "\n",
    "# Simulation list and plot labels.\n",
    "labels = {'F21-13': 'Fornax', \n",
    "          'N13-20-20-100': 'Nakazato-t1',\n",
    "          'N13-20-20-200': 'Nakazato-t2',\n",
    "          'N13-20-20-300': 'Nakazato-t3',\n",
    "          'W20-13.0-1.23': 'Warren-a1',\n",
    "          'W20-13.0-1.25': 'Warren-a2',\n",
    "          'W20-13.0-1.27': 'Warren-a3'}\n",
    "\n",
    "sn_names = list(labels.keys())\n",
    "\n",
    "distance = 10.\n",
    "\n",
    "# List for filepaths to totals files tabulated using sspike.beer.tab()\n",
    "beer_tabs = []\n",
    "\n",
    "# Folder containing simulation results for each model.\n",
    "for name in sn_names:\n",
    "    sn_dir = f\"{snowball_dir}{name}/\"\n",
    "    # Results for distance of interest.\n",
    "    for d in listdir(sn_dir):\n",
    "        if f\"{distance}kpc\" in d:\n",
    "            file_name = f\"{sn_dir}{d}/totals.txt\"\n",
    "            if isfile(file_name):\n",
    "                beer_tabs.append(file_name)\n",
    "            else:\n",
    "                print(f'File not found!\\n{file_name}')"
   ]
  },
  {
   "cell_type": "markdown",
   "metadata": {},
   "source": [
    "### Set detector for channel lists."
   ]
  },
  {
   "cell_type": "code",
   "execution_count": 3,
   "metadata": {},
   "outputs": [],
   "source": [
    "detector = Detector('kamland')\n",
    "combos = {**sort_channels(detector.snow_channels),\n",
    "          **sort_channels(detector.nc_channels)}"
   ]
  },
  {
   "cell_type": "markdown",
   "metadata": {},
   "source": [
    "### Read each file into a data frame"
   ]
  },
  {
   "cell_type": "code",
   "execution_count": 4,
   "metadata": {},
   "outputs": [
    {
     "name": "stdout",
     "output_type": "stream",
     "text": [
      "ERROR: 500 kev energy cut\n",
      "\n",
      "ERROR: ------------------\n",
      "\n"
     ]
    }
   ],
   "source": [
    "# Columns for simulation type and events per channel.\n",
    "# TODO: add other simulation properties for sorting.\n",
    "column_names = ['model', 'sn_name', 'Channel', 'Counts', 'Progenitor']\n",
    "\n",
    "events = pd.DataFrame(columns=column_names)\n",
    "for i, sn in enumerate(sn_names):\n",
    "    # One row for each simulation file.\n",
    "    row = {'sn_name': sn, 'model': sn[:3], 'Progenitor': labels[sn]}\n",
    "\n",
    "    \n",
    "    # Counters for combining flavors by target.\n",
    "    counts = {}\n",
    "    for channel in combos:\n",
    "        counts[channel] = 0.\n",
    "\n",
    "    # Get results from sspike.beer.tab() for each file.\n",
    "    with open(beer_tabs[i], 'r') as f:\n",
    "        lines = f.readlines()\n",
    "\n",
    "    # Sort by data type/processing method.\n",
    "    skip = 0\n",
    "    data_type = None\n",
    "    nc_flav_count = 0\n",
    "\n",
    "    # Check each line in file.\n",
    "    for line in lines:\n",
    "        # Skip blank line separators.\n",
    "        if not line.strip():\n",
    "            continue\n",
    "\n",
    "        # Skip lines that are for checking, but not really of interest here.\n",
    "        if skip:\n",
    "            skip -= 1\n",
    "            continue\n",
    "\n",
    "        # Data types of interest: snow-smeared, sspike-nc.\n",
    "        if len(line.split('-')) == 2:\n",
    "            data_type = line.strip()\n",
    "\n",
    "            # TODO: make this check target channel lengths.\n",
    "            if data_type == 'snow-smeared':\n",
    "                skip = 1\n",
    "            if data_type == 'snow-unsmeared':\n",
    "                skip = 23\n",
    "            if data_type == 'sspike-basic':\n",
    "                skip = 5\n",
    "            if data_type == 'sspike-nc':\n",
    "                skip = 33\n",
    "            continue\n",
    "        \n",
    "        # Get channel name and number of events.\n",
    "        try:\n",
    "            channel, count = line.split(':')\n",
    "        except:\n",
    "            print(f\"ERROR: {line}\")\n",
    "            continue\n",
    "\n",
    "        # Add into counts dictionary for this file.\n",
    "        for column in combos.keys():\n",
    "            if channel in combos[column]:\n",
    "                counts[column] += float(count)\n",
    "                if column == 'p-nc':\n",
    "                    nc_flav_count += 1\n",
    "                break\n",
    "        \n",
    "        # Only looking at 200 keV energy cut for now (skipping 300 keV cut).\n",
    "        if nc_flav_count == 4:\n",
    "            break\n",
    "\n",
    "    for channel in counts:\n",
    "        row['Channel'] = channel\n",
    "        row['Counts'] = counts[channel]\n",
    "        events = events.append(row, ignore_index=True)"
   ]
  },
  {
   "cell_type": "code",
   "execution_count": 22,
   "metadata": {},
   "outputs": [
    {
     "data": {
      "application/vnd.plotly.v1+json": {
       "config": {
        "plotlyServerURL": "https://plot.ly"
       },
       "data": [
        {
         "alignmentgroup": "True",
         "hovertemplate": "Progenitor=Fornax<br>Channel=%{x}<br>Counts=%{y}<extra></extra>",
         "legendgroup": "Fornax",
         "marker": {
          "color": "#636efa",
          "pattern": {
           "shape": ""
          }
         },
         "name": "Fornax",
         "offsetgroup": "Fornax",
         "orientation": "v",
         "showlegend": true,
         "textposition": "auto",
         "type": "bar",
         "x": [
          "ibd",
          "e",
          "C12-nue",
          "C12-nuebar",
          "C12-nc",
          "C13-nue",
          "C13-nc",
          "p-nc"
         ],
         "xaxis": "x",
         "y": [
          337.2347717,
          16.367068920001326,
          25.443802963127496,
          23.416327449874977,
          44.17613594997245,
          0.622173447011198,
          1.2371911921599998,
          5.871805614270064
         ],
         "yaxis": "y"
        },
        {
         "alignmentgroup": "True",
         "hovertemplate": "Progenitor=Nakazato-t1<br>Channel=%{x}<br>Counts=%{y}<extra></extra>",
         "legendgroup": "Nakazato-t1",
         "marker": {
          "color": "#EF553B",
          "pattern": {
           "shape": ""
          }
         },
         "name": "Nakazato-t1",
         "offsetgroup": "Nakazato-t1",
         "orientation": "v",
         "showlegend": true,
         "textposition": "auto",
         "type": "bar",
         "x": [
          "ibd",
          "e",
          "C12-nue",
          "C12-nuebar",
          "C12-nc",
          "C13-nue",
          "C13-nc",
          "p-nc"
         ],
         "xaxis": "x",
         "y": [
          70.370666990176,
          6.807878422377347,
          0.5311133362183033,
          1.1388427239084247,
          8.19185931630863,
          0.12360319595597134,
          0.38507667127999906,
          0.3825197585638477
         ],
         "yaxis": "y"
        },
        {
         "alignmentgroup": "True",
         "hovertemplate": "Progenitor=Nakazato-t2<br>Channel=%{x}<br>Counts=%{y}<extra></extra>",
         "legendgroup": "Nakazato-t2",
         "marker": {
          "color": "#00cc96",
          "pattern": {
           "shape": ""
          }
         },
         "name": "Nakazato-t2",
         "offsetgroup": "Nakazato-t2",
         "orientation": "v",
         "showlegend": true,
         "textposition": "auto",
         "type": "bar",
         "x": [
          "ibd",
          "e",
          "C12-nue",
          "C12-nuebar",
          "C12-nc",
          "C13-nue",
          "C13-nc",
          "p-nc"
         ],
         "xaxis": "x",
         "y": [
          204826.12081831004,
          18491.889522061127,
          2192.635115063468,
          4131.457192620337,
          23785.410905481163,
          364.4889508480976,
          1073.16925016,
          0.337178473949003
         ],
         "yaxis": "y"
        },
        {
         "alignmentgroup": "True",
         "hovertemplate": "Progenitor=Nakazato-t3<br>Channel=%{x}<br>Counts=%{y}<extra></extra>",
         "legendgroup": "Nakazato-t3",
         "marker": {
          "color": "#ab63fa",
          "pattern": {
           "shape": ""
          }
         },
         "name": "Nakazato-t3",
         "offsetgroup": "Nakazato-t3",
         "orientation": "v",
         "showlegend": true,
         "textposition": "auto",
         "type": "bar",
         "x": [
          "ibd",
          "e",
          "C12-nue",
          "C12-nuebar",
          "C12-nc",
          "C13-nue",
          "C13-nc",
          "p-nc"
         ],
         "xaxis": "x",
         "y": [
          361.60202957712,
          31.0383209329163,
          5.119265440503917,
          8.474103231656043,
          41.64399808427787,
          0.6541570181047196,
          1.8247748987999997,
          0.35329009596516375
         ],
         "yaxis": "y"
        },
        {
         "alignmentgroup": "True",
         "hovertemplate": "Progenitor=Warren-a1<br>Channel=%{x}<br>Counts=%{y}<extra></extra>",
         "legendgroup": "Warren-a1",
         "marker": {
          "color": "#FFA15A",
          "pattern": {
           "shape": ""
          }
         },
         "name": "Warren-a1",
         "offsetgroup": "Warren-a1",
         "orientation": "v",
         "showlegend": true,
         "textposition": "auto",
         "type": "bar",
         "x": [
          "ibd",
          "e",
          "C12-nue",
          "C12-nuebar",
          "C12-nc",
          "C13-nue",
          "C13-nc",
          "p-nc"
         ],
         "xaxis": "x",
         "y": [
          508.29932546559996,
          22.223379122111844,
          18.188813454386,
          24.950555806501278,
          46.211299796235906,
          0.8912748981564941,
          1.5664401619999997,
          0.5021314377798403
         ],
         "yaxis": "y"
        },
        {
         "alignmentgroup": "True",
         "hovertemplate": "Progenitor=Warren-a2<br>Channel=%{x}<br>Counts=%{y}<extra></extra>",
         "legendgroup": "Warren-a2",
         "marker": {
          "color": "#19d3f3",
          "pattern": {
           "shape": ""
          }
         },
         "name": "Warren-a2",
         "offsetgroup": "Warren-a2",
         "orientation": "v",
         "showlegend": true,
         "textposition": "auto",
         "type": "bar",
         "x": [
          "ibd",
          "e",
          "C12-nue",
          "C12-nuebar",
          "C12-nc",
          "C13-nue",
          "C13-nc",
          "p-nc"
         ],
         "xaxis": "x",
         "y": [
          509.8725895404,
          22.28284400095022,
          18.259489234382876,
          25.070154142473978,
          46.34271419612949,
          0.8937696151677422,
          1.5691172587999995,
          0.5133363215845037
         ],
         "yaxis": "y"
        },
        {
         "alignmentgroup": "True",
         "hovertemplate": "Progenitor=Warren-a3<br>Channel=%{x}<br>Counts=%{y}<extra></extra>",
         "legendgroup": "Warren-a3",
         "marker": {
          "color": "#FF6692",
          "pattern": {
           "shape": ""
          }
         },
         "name": "Warren-a3",
         "offsetgroup": "Warren-a3",
         "orientation": "v",
         "showlegend": true,
         "textposition": "auto",
         "type": "bar",
         "x": [
          "ibd",
          "e",
          "C12-nue",
          "C12-nuebar",
          "C12-nc",
          "C13-nue",
          "C13-nc",
          "p-nc"
         ],
         "xaxis": "x",
         "y": [
          146.75560231809803,
          8.73946137992454,
          1.8936520239304633,
          4.20488123766073,
          15.130022768967976,
          0.23833056735233935,
          0.5821856185599996,
          0.16102629320976802
         ],
         "yaxis": "y"
        }
       ],
       "layout": {
        "bargap": 0.15,
        "bargroupgap": 0.3,
        "barmode": "group",
        "font": {
         "family": "Times New Roman",
         "size": 18
        },
        "legend": {
         "title": {
          "text": "Progenitor"
         },
         "tracegroupgap": 0
        },
        "margin": {
         "t": 60
        },
        "template": {
         "data": {
          "bar": [
           {
            "error_x": {
             "color": "#2a3f5f"
            },
            "error_y": {
             "color": "#2a3f5f"
            },
            "marker": {
             "line": {
              "color": "#E5ECF6",
              "width": 0.5
             },
             "pattern": {
              "fillmode": "overlay",
              "size": 10,
              "solidity": 0.2
             }
            },
            "type": "bar"
           }
          ],
          "barpolar": [
           {
            "marker": {
             "line": {
              "color": "#E5ECF6",
              "width": 0.5
             },
             "pattern": {
              "fillmode": "overlay",
              "size": 10,
              "solidity": 0.2
             }
            },
            "type": "barpolar"
           }
          ],
          "carpet": [
           {
            "aaxis": {
             "endlinecolor": "#2a3f5f",
             "gridcolor": "white",
             "linecolor": "white",
             "minorgridcolor": "white",
             "startlinecolor": "#2a3f5f"
            },
            "baxis": {
             "endlinecolor": "#2a3f5f",
             "gridcolor": "white",
             "linecolor": "white",
             "minorgridcolor": "white",
             "startlinecolor": "#2a3f5f"
            },
            "type": "carpet"
           }
          ],
          "choropleth": [
           {
            "colorbar": {
             "outlinewidth": 0,
             "ticks": ""
            },
            "type": "choropleth"
           }
          ],
          "contour": [
           {
            "colorbar": {
             "outlinewidth": 0,
             "ticks": ""
            },
            "colorscale": [
             [
              0,
              "#0d0887"
             ],
             [
              0.1111111111111111,
              "#46039f"
             ],
             [
              0.2222222222222222,
              "#7201a8"
             ],
             [
              0.3333333333333333,
              "#9c179e"
             ],
             [
              0.4444444444444444,
              "#bd3786"
             ],
             [
              0.5555555555555556,
              "#d8576b"
             ],
             [
              0.6666666666666666,
              "#ed7953"
             ],
             [
              0.7777777777777778,
              "#fb9f3a"
             ],
             [
              0.8888888888888888,
              "#fdca26"
             ],
             [
              1,
              "#f0f921"
             ]
            ],
            "type": "contour"
           }
          ],
          "contourcarpet": [
           {
            "colorbar": {
             "outlinewidth": 0,
             "ticks": ""
            },
            "type": "contourcarpet"
           }
          ],
          "heatmap": [
           {
            "colorbar": {
             "outlinewidth": 0,
             "ticks": ""
            },
            "colorscale": [
             [
              0,
              "#0d0887"
             ],
             [
              0.1111111111111111,
              "#46039f"
             ],
             [
              0.2222222222222222,
              "#7201a8"
             ],
             [
              0.3333333333333333,
              "#9c179e"
             ],
             [
              0.4444444444444444,
              "#bd3786"
             ],
             [
              0.5555555555555556,
              "#d8576b"
             ],
             [
              0.6666666666666666,
              "#ed7953"
             ],
             [
              0.7777777777777778,
              "#fb9f3a"
             ],
             [
              0.8888888888888888,
              "#fdca26"
             ],
             [
              1,
              "#f0f921"
             ]
            ],
            "type": "heatmap"
           }
          ],
          "heatmapgl": [
           {
            "colorbar": {
             "outlinewidth": 0,
             "ticks": ""
            },
            "colorscale": [
             [
              0,
              "#0d0887"
             ],
             [
              0.1111111111111111,
              "#46039f"
             ],
             [
              0.2222222222222222,
              "#7201a8"
             ],
             [
              0.3333333333333333,
              "#9c179e"
             ],
             [
              0.4444444444444444,
              "#bd3786"
             ],
             [
              0.5555555555555556,
              "#d8576b"
             ],
             [
              0.6666666666666666,
              "#ed7953"
             ],
             [
              0.7777777777777778,
              "#fb9f3a"
             ],
             [
              0.8888888888888888,
              "#fdca26"
             ],
             [
              1,
              "#f0f921"
             ]
            ],
            "type": "heatmapgl"
           }
          ],
          "histogram": [
           {
            "marker": {
             "pattern": {
              "fillmode": "overlay",
              "size": 10,
              "solidity": 0.2
             }
            },
            "type": "histogram"
           }
          ],
          "histogram2d": [
           {
            "colorbar": {
             "outlinewidth": 0,
             "ticks": ""
            },
            "colorscale": [
             [
              0,
              "#0d0887"
             ],
             [
              0.1111111111111111,
              "#46039f"
             ],
             [
              0.2222222222222222,
              "#7201a8"
             ],
             [
              0.3333333333333333,
              "#9c179e"
             ],
             [
              0.4444444444444444,
              "#bd3786"
             ],
             [
              0.5555555555555556,
              "#d8576b"
             ],
             [
              0.6666666666666666,
              "#ed7953"
             ],
             [
              0.7777777777777778,
              "#fb9f3a"
             ],
             [
              0.8888888888888888,
              "#fdca26"
             ],
             [
              1,
              "#f0f921"
             ]
            ],
            "type": "histogram2d"
           }
          ],
          "histogram2dcontour": [
           {
            "colorbar": {
             "outlinewidth": 0,
             "ticks": ""
            },
            "colorscale": [
             [
              0,
              "#0d0887"
             ],
             [
              0.1111111111111111,
              "#46039f"
             ],
             [
              0.2222222222222222,
              "#7201a8"
             ],
             [
              0.3333333333333333,
              "#9c179e"
             ],
             [
              0.4444444444444444,
              "#bd3786"
             ],
             [
              0.5555555555555556,
              "#d8576b"
             ],
             [
              0.6666666666666666,
              "#ed7953"
             ],
             [
              0.7777777777777778,
              "#fb9f3a"
             ],
             [
              0.8888888888888888,
              "#fdca26"
             ],
             [
              1,
              "#f0f921"
             ]
            ],
            "type": "histogram2dcontour"
           }
          ],
          "mesh3d": [
           {
            "colorbar": {
             "outlinewidth": 0,
             "ticks": ""
            },
            "type": "mesh3d"
           }
          ],
          "parcoords": [
           {
            "line": {
             "colorbar": {
              "outlinewidth": 0,
              "ticks": ""
             }
            },
            "type": "parcoords"
           }
          ],
          "pie": [
           {
            "automargin": true,
            "type": "pie"
           }
          ],
          "scatter": [
           {
            "marker": {
             "colorbar": {
              "outlinewidth": 0,
              "ticks": ""
             }
            },
            "type": "scatter"
           }
          ],
          "scatter3d": [
           {
            "line": {
             "colorbar": {
              "outlinewidth": 0,
              "ticks": ""
             }
            },
            "marker": {
             "colorbar": {
              "outlinewidth": 0,
              "ticks": ""
             }
            },
            "type": "scatter3d"
           }
          ],
          "scattercarpet": [
           {
            "marker": {
             "colorbar": {
              "outlinewidth": 0,
              "ticks": ""
             }
            },
            "type": "scattercarpet"
           }
          ],
          "scattergeo": [
           {
            "marker": {
             "colorbar": {
              "outlinewidth": 0,
              "ticks": ""
             }
            },
            "type": "scattergeo"
           }
          ],
          "scattergl": [
           {
            "marker": {
             "colorbar": {
              "outlinewidth": 0,
              "ticks": ""
             }
            },
            "type": "scattergl"
           }
          ],
          "scattermapbox": [
           {
            "marker": {
             "colorbar": {
              "outlinewidth": 0,
              "ticks": ""
             }
            },
            "type": "scattermapbox"
           }
          ],
          "scatterpolar": [
           {
            "marker": {
             "colorbar": {
              "outlinewidth": 0,
              "ticks": ""
             }
            },
            "type": "scatterpolar"
           }
          ],
          "scatterpolargl": [
           {
            "marker": {
             "colorbar": {
              "outlinewidth": 0,
              "ticks": ""
             }
            },
            "type": "scatterpolargl"
           }
          ],
          "scatterternary": [
           {
            "marker": {
             "colorbar": {
              "outlinewidth": 0,
              "ticks": ""
             }
            },
            "type": "scatterternary"
           }
          ],
          "surface": [
           {
            "colorbar": {
             "outlinewidth": 0,
             "ticks": ""
            },
            "colorscale": [
             [
              0,
              "#0d0887"
             ],
             [
              0.1111111111111111,
              "#46039f"
             ],
             [
              0.2222222222222222,
              "#7201a8"
             ],
             [
              0.3333333333333333,
              "#9c179e"
             ],
             [
              0.4444444444444444,
              "#bd3786"
             ],
             [
              0.5555555555555556,
              "#d8576b"
             ],
             [
              0.6666666666666666,
              "#ed7953"
             ],
             [
              0.7777777777777778,
              "#fb9f3a"
             ],
             [
              0.8888888888888888,
              "#fdca26"
             ],
             [
              1,
              "#f0f921"
             ]
            ],
            "type": "surface"
           }
          ],
          "table": [
           {
            "cells": {
             "fill": {
              "color": "#EBF0F8"
             },
             "line": {
              "color": "white"
             }
            },
            "header": {
             "fill": {
              "color": "#C8D4E3"
             },
             "line": {
              "color": "white"
             }
            },
            "type": "table"
           }
          ]
         },
         "layout": {
          "annotationdefaults": {
           "arrowcolor": "#2a3f5f",
           "arrowhead": 0,
           "arrowwidth": 1
          },
          "autotypenumbers": "strict",
          "coloraxis": {
           "colorbar": {
            "outlinewidth": 0,
            "ticks": ""
           }
          },
          "colorscale": {
           "diverging": [
            [
             0,
             "#8e0152"
            ],
            [
             0.1,
             "#c51b7d"
            ],
            [
             0.2,
             "#de77ae"
            ],
            [
             0.3,
             "#f1b6da"
            ],
            [
             0.4,
             "#fde0ef"
            ],
            [
             0.5,
             "#f7f7f7"
            ],
            [
             0.6,
             "#e6f5d0"
            ],
            [
             0.7,
             "#b8e186"
            ],
            [
             0.8,
             "#7fbc41"
            ],
            [
             0.9,
             "#4d9221"
            ],
            [
             1,
             "#276419"
            ]
           ],
           "sequential": [
            [
             0,
             "#0d0887"
            ],
            [
             0.1111111111111111,
             "#46039f"
            ],
            [
             0.2222222222222222,
             "#7201a8"
            ],
            [
             0.3333333333333333,
             "#9c179e"
            ],
            [
             0.4444444444444444,
             "#bd3786"
            ],
            [
             0.5555555555555556,
             "#d8576b"
            ],
            [
             0.6666666666666666,
             "#ed7953"
            ],
            [
             0.7777777777777778,
             "#fb9f3a"
            ],
            [
             0.8888888888888888,
             "#fdca26"
            ],
            [
             1,
             "#f0f921"
            ]
           ],
           "sequentialminus": [
            [
             0,
             "#0d0887"
            ],
            [
             0.1111111111111111,
             "#46039f"
            ],
            [
             0.2222222222222222,
             "#7201a8"
            ],
            [
             0.3333333333333333,
             "#9c179e"
            ],
            [
             0.4444444444444444,
             "#bd3786"
            ],
            [
             0.5555555555555556,
             "#d8576b"
            ],
            [
             0.6666666666666666,
             "#ed7953"
            ],
            [
             0.7777777777777778,
             "#fb9f3a"
            ],
            [
             0.8888888888888888,
             "#fdca26"
            ],
            [
             1,
             "#f0f921"
            ]
           ]
          },
          "colorway": [
           "#636efa",
           "#EF553B",
           "#00cc96",
           "#ab63fa",
           "#FFA15A",
           "#19d3f3",
           "#FF6692",
           "#B6E880",
           "#FF97FF",
           "#FECB52"
          ],
          "font": {
           "color": "#2a3f5f"
          },
          "geo": {
           "bgcolor": "white",
           "lakecolor": "white",
           "landcolor": "#E5ECF6",
           "showlakes": true,
           "showland": true,
           "subunitcolor": "white"
          },
          "hoverlabel": {
           "align": "left"
          },
          "hovermode": "closest",
          "mapbox": {
           "style": "light"
          },
          "paper_bgcolor": "white",
          "plot_bgcolor": "#E5ECF6",
          "polar": {
           "angularaxis": {
            "gridcolor": "white",
            "linecolor": "white",
            "ticks": ""
           },
           "bgcolor": "#E5ECF6",
           "radialaxis": {
            "gridcolor": "white",
            "linecolor": "white",
            "ticks": ""
           }
          },
          "scene": {
           "xaxis": {
            "backgroundcolor": "#E5ECF6",
            "gridcolor": "white",
            "gridwidth": 2,
            "linecolor": "white",
            "showbackground": true,
            "ticks": "",
            "zerolinecolor": "white"
           },
           "yaxis": {
            "backgroundcolor": "#E5ECF6",
            "gridcolor": "white",
            "gridwidth": 2,
            "linecolor": "white",
            "showbackground": true,
            "ticks": "",
            "zerolinecolor": "white"
           },
           "zaxis": {
            "backgroundcolor": "#E5ECF6",
            "gridcolor": "white",
            "gridwidth": 2,
            "linecolor": "white",
            "showbackground": true,
            "ticks": "",
            "zerolinecolor": "white"
           }
          },
          "shapedefaults": {
           "line": {
            "color": "#2a3f5f"
           }
          },
          "ternary": {
           "aaxis": {
            "gridcolor": "white",
            "linecolor": "white",
            "ticks": ""
           },
           "baxis": {
            "gridcolor": "white",
            "linecolor": "white",
            "ticks": ""
           },
           "bgcolor": "#E5ECF6",
           "caxis": {
            "gridcolor": "white",
            "linecolor": "white",
            "ticks": ""
           }
          },
          "title": {
           "x": 0.05
          },
          "xaxis": {
           "automargin": true,
           "gridcolor": "white",
           "linecolor": "white",
           "ticks": "",
           "title": {
            "standoff": 15
           },
           "zerolinecolor": "white",
           "zerolinewidth": 2
          },
          "yaxis": {
           "automargin": true,
           "gridcolor": "white",
           "linecolor": "white",
           "ticks": "",
           "title": {
            "standoff": 15
           },
           "zerolinecolor": "white",
           "zerolinewidth": 2
          }
         }
        },
        "title": {
         "text": "KamLAND events for 13 solar mass star at 10.0 kpc"
        },
        "xaxis": {
         "anchor": "y",
         "domain": [
          0,
          1
         ],
         "title": {
          "text": "Channel"
         }
        },
        "yaxis": {
         "anchor": "x",
         "domain": [
          0,
          1
         ],
         "title": {
          "text": "Counts"
         },
         "type": "log"
        }
       }
      }
     },
     "metadata": {},
     "output_type": "display_data"
    }
   ],
   "source": [
    "bars = px.bar(events, x='Channel', y='Counts', \n",
    "              color='Progenitor', barmode='group', log_y=True)\n",
    "bars.layout.bargap = 0.15\n",
    "bars.layout.bargroupgap = 0.3\n",
    "bars.layout.title = f'KamLAND events for 13 solar mass star at {distance} kpc'\n",
    "bars.layout.font = dict(size=18, family=\"Times New Roman\")\n",
    "bars.write_image('../plots/m13.png', width=1100, height=500, scale=3)\n",
    "bars"
   ]
  },
  {
   "cell_type": "code",
   "execution_count": null,
   "metadata": {},
   "outputs": [],
   "source": []
  }
 ],
 "metadata": {
  "interpreter": {
   "hash": "55e99dcf35939e854eab4749770e8fc8e199e03bd8c38f7a338e657ceb93f2cb"
  },
  "kernelspec": {
   "display_name": "Python 3.8.11 ('KLSN')",
   "language": "python",
   "name": "python3"
  },
  "language_info": {
   "codemirror_mode": {
    "name": "ipython",
    "version": 3
   },
   "file_extension": ".py",
   "mimetype": "text/x-python",
   "name": "python",
   "nbconvert_exporter": "python",
   "pygments_lexer": "ipython3",
   "version": "3.8.11"
  },
  "orig_nbformat": 4
 },
 "nbformat": 4,
 "nbformat_minor": 2
}
